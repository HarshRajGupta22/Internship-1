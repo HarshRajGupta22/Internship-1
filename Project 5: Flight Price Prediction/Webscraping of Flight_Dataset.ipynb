{
 "cells": [
  {
   "cell_type": "markdown",
   "id": "d6aeffdb-498a-453e-bfae-0bd2afe5a182",
   "metadata": {},
   "source": [
    "## **Flight Price Prediction Project - Part 1 Web Scraping Data of Flight prices**\n",
    "***Author : Ms. Yashshree Baviskar***\n",
    "***\n",
    "### **Objective** :\n",
    " **To Scrape data of Flight price from different platform**\n",
    " \n",
    " **Details - You have to scrape at least 1500 rows of data. You can scrape more data as well, it’s up to you, \n",
    "More the data better the model\n",
    "In this section you have to scrape the data of flights from different websites (yatra.com, \n",
    "skyscanner.com, official websites of airlines, etc). The number of columns for data doesn’t have \n",
    "limit, it’s up to you and your creativity. Generally, these columns areairline name, date of journey, \n",
    "source, destination, route, departure time, arrival time, duration, total stops and the target variable \n",
    "price. You can make changes to it, you can add or you can remove some columns, it completely\n",
    "depends on the website from which you are fetching the data.**\n"
   ]
  },
  {
   "cell_type": "code",
   "execution_count": 1,
   "id": "b7387acd-e3e0-4e4f-8016-37057b824b8a",
   "metadata": {},
   "outputs": [],
   "source": [
    "import pandas as pd\n",
    "import numpy as np\n",
    "import time\n",
    "import selenium\n",
    "from selenium import webdriver\n",
    "from selenium.common.exceptions import StaleElementReferenceException, NoSuchElementException\n",
    "from selenium.webdriver.support.ui import WebDriverWait\n",
    "from selenium.webdriver.common.by import By\n",
    "from selenium.webdriver.support import expected_conditions as EC"
   ]
  },
  {
   "cell_type": "code",
   "execution_count": 2,
   "id": "4baba580-bda3-472d-ac3a-89d95848bdc4",
   "metadata": {},
   "outputs": [],
   "source": [
    "import warnings\n",
    "warnings.filterwarnings('ignore')"
   ]
  },
  {
   "cell_type": "code",
   "execution_count": 3,
   "id": "f009e694-e9fc-4f82-9512-464774b0393c",
   "metadata": {},
   "outputs": [],
   "source": [
    "## Importing Web Driver\n",
    "driver=webdriver.Chrome(r'C:\\chromedriver.exe')"
   ]
  },
  {
   "cell_type": "code",
   "execution_count": 8,
   "id": "41a66b78-0f41-4af6-8eba-0d1766fea102",
   "metadata": {},
   "outputs": [],
   "source": [
    "url = \"https://www.yatra.com/\"\n",
    "driver.get(url)\n",
    "time.sleep(2)"
   ]
  },
  {
   "cell_type": "markdown",
   "id": "7b28f562-fb88-47d0-ab36-4325d756d237",
   "metadata": {},
   "source": [
    "## Extracting Economy flights from New Dehli to Bombay"
   ]
  },
  {
   "cell_type": "markdown",
   "id": "05040945-5239-426b-880d-e0326627be60",
   "metadata": {},
   "source": [
    "> - **Opening Economy Flights from New Delhi to Bombay on 21st June 2022**"
   ]
  },
  {
   "cell_type": "code",
   "execution_count": 5,
   "id": "5b463b9d-b8e7-4a5b-b28c-a32f36c7553d",
   "metadata": {},
   "outputs": [],
   "source": [
    "url = \"https://flight.yatra.com/air-search-ui/dom2/trigger?ADT=1&CHD=0&INF=0&class=Economy&destination=BOM&destinationCountry=IN&flexi=0&flight_depart_date=21%2F06%2F2022&hb=0&noOfSegments=1&origin=DEL&originCountry=IN&type=O&unique=1244505699220&version=1.2&viewName=normal\"\n",
    "driver.get(url)\n",
    "time.sleep(2)"
   ]
  },
  {
   "cell_type": "code",
   "execution_count": 6,
   "id": "65eede2f-7736-447a-b38a-df8d26906061",
   "metadata": {},
   "outputs": [],
   "source": [
    "Airlines = []\n",
    "Aeroplane = []\n",
    "Dept_time = []\n",
    "Arrival_time = []\n",
    "Source = []\n",
    "Destination = []\n",
    "Duration = []\n",
    "Stops = []\n",
    "Date = []\n",
    "Price = []"
   ]
  },
  {
   "cell_type": "code",
   "execution_count": 7,
   "id": "29605d72-6c24-40b4-b611-8fe8f67fd894",
   "metadata": {},
   "outputs": [
    {
     "name": "stderr",
     "output_type": "stream",
     "text": [
      "100%|██████████| 50/50 [01:05<00:00,  1.31s/it]\n"
     ]
    }
   ],
   "source": [
    "from tqdm import tqdm\n",
    "for _ in tqdm (range(0,50)):\n",
    "    time.sleep(0.1)\n",
    "    driver.execute_script(\"window.scrollBy(0,2000)\",\"\")\n",
    "    time.sleep(0.2)\n",
    "    driver.execute_script(\"window.scrollBy(0,-500)\",\"\")"
   ]
  },
  {
   "cell_type": "code",
   "execution_count": 8,
   "id": "566635d5-13f3-4b62-9165-9826e9a63e4a",
   "metadata": {},
   "outputs": [
    {
     "data": {
      "text/plain": [
       "166"
      ]
     },
     "execution_count": 8,
     "metadata": {},
     "output_type": "execute_result"
    }
   ],
   "source": [
    "flights=driver.find_elements_by_xpath('//div[@class=\"flight-det table full-width clearfix\"]')\n",
    "len(flights)"
   ]
  },
  {
   "cell_type": "code",
   "execution_count": 9,
   "id": "6549fa45-32f4-4d27-9c1b-f955c2b1372a",
   "metadata": {},
   "outputs": [
    {
     "name": "stderr",
     "output_type": "stream",
     "text": [
      "100%|██████████| 166/166 [00:03<00:00, 48.00it/s]\n",
      "100%|██████████| 166/166 [00:03<00:00, 50.59it/s]\n",
      "100%|██████████| 166/166 [00:03<00:00, 48.19it/s]\n",
      "100%|██████████| 166/166 [00:03<00:00, 50.77it/s]\n",
      "100%|██████████| 166/166 [00:03<00:00, 48.95it/s]\n",
      "100%|██████████| 166/166 [00:03<00:00, 52.06it/s]\n",
      "100%|██████████| 166/166 [00:03<00:00, 48.23it/s]\n",
      "100%|██████████| 166/166 [00:03<00:00, 43.97it/s]\n"
     ]
    }
   ],
   "source": [
    "\n",
    "# Extracting Aeroplane model  via xpath\n",
    "aeroplanes = driver.find_elements_by_xpath('//p[@class=\"normal fs-11 font-lightestgrey no-wrap fl-no\"]/span')\n",
    "for i in tqdm(aeroplanes):\n",
    "    Aeroplane.append(i.text) \n",
    "else:\n",
    "    pass\n",
    "\n",
    "# Extracting Departure Time of Filght via Xpath\n",
    "dept_times = driver.find_elements_by_xpath('//div[@class=\"i-b pr\"]')\n",
    "for i in tqdm(dept_times):\n",
    "    Dept_time.append(i.text)\n",
    "else :\n",
    "    pass\n",
    "\n",
    "# Extracting Arrival Time via xpath\n",
    "arrival = driver.find_elements_by_xpath('//p[@class=\"bold fs-15 mb-2 pr time\"]')\n",
    "for i in tqdm(arrival):\n",
    "    Arrival_time.append(i.text)\n",
    "else :\n",
    "    pass\n",
    "\n",
    "# Extracting Source of flight via Xpath\n",
    "source = driver.find_elements_by_xpath(\"//div[@class='i-b col-4 no-wrap text-right dtime col-3']/p\")\n",
    "for i in tqdm(source):\n",
    "    Source.append(i.text)\n",
    "else :\n",
    "    pass\n",
    "\n",
    "# Extracting Destination of Flights via Xpath\n",
    "destination = driver.find_elements_by_xpath('//div[@class=\"i-b pdd-0 text-left atime col-5\"]/p[2]')\n",
    "for i in tqdm(destination):\n",
    "    Destination.append(i.text)\n",
    "else:\n",
    "    pass\n",
    "\n",
    "# Extracting Duration of Flights via Xpath\n",
    "duration = driver.find_elements_by_xpath('//div[@class=\"stop-cont pl-13\"]/p')\n",
    "for i in tqdm(duration):\n",
    "    Duration.append(i.text)\n",
    "else:\n",
    "    pass\n",
    "\n",
    "# Extracting stop details via Xpath\n",
    "stop = driver.find_elements_by_xpath(\"//div[@class='stop-cont pl-13']/div/span\")\n",
    "for i in tqdm(stop):\n",
    "    Stops.append(i.text)\n",
    "else:\n",
    "    pass\n",
    "\n",
    "# Extracting Price of Flights via Xpath\n",
    "count = 0\n",
    "price = driver.find_elements_by_xpath('//div[@class=\"i-b tipsy fare-summary-tooltip fs-18\"]')\n",
    "for i in tqdm(price):\n",
    "    Price.append(i.text.replace(',',''))\n",
    "    count = count +1\n",
    "else:\n",
    "    count = count +1\n",
    "    pass"
   ]
  },
  {
   "cell_type": "code",
   "execution_count": 12,
   "id": "a58aa9fa-2d7f-400b-acfe-e6274f16c3cb",
   "metadata": {},
   "outputs": [
    {
     "name": "stderr",
     "output_type": "stream",
     "text": [
      "100%|██████████| 166/166 [00:00<?, ?it/s]\n"
     ]
    }
   ],
   "source": [
    "# Clicking on Flights details element\n",
    "Button = driver.find_elements_by_xpath('//div[@class=\"link-color fs-12 cursor-pointer\"]/span')\n",
    "driver.execute_script(\"arguments[0].click();\", WebDriverWait(driver, 20).until(EC.element_to_be_clickable((By.XPATH,'//div[@class=\"link-color fs-12 cursor-pointer\"]/span'))))\n",
    "time.sleep(1)\n",
    "\n",
    "\n",
    "# Extracting Date of Flights via Xpath\n",
    "date = driver.find_element_by_xpath('//div[@class=\"bold fs-12 mb-5\"]')\n",
    "a = date.text\n",
    "for i in tqdm(range(count-1)):\n",
    "    Date.append(a)\n",
    "else:\n",
    "    pass# Extracting Airlines Name Via Xpath\n",
    "airlines = driver.find_elements_by_xpath(\"//div[@class='fs-13 airline-name no-pad col-8']/span\")\n",
    "for i in airlines:\n",
    "    Airlines.append(i.text.replace(\"\\n\",\" \"))\n",
    "else :\n",
    "    pass"
   ]
  },
  {
   "cell_type": "code",
   "execution_count": 13,
   "id": "9836f9e9-5bee-4f63-a4aa-5ec23b6794bb",
   "metadata": {},
   "outputs": [
    {
     "data": {
      "text/plain": [
       "(166, 166, 166, 166, 166, 166, 166, 166, 166, 166)"
      ]
     },
     "execution_count": 13,
     "metadata": {},
     "output_type": "execute_result"
    }
   ],
   "source": [
    "len(Aeroplane), len(Airlines), len(Dept_time), len(Arrival_time), len(Source), len(Destination), len(Duration), len(Stops),len(Price), len(Date)"
   ]
  },
  {
   "cell_type": "code",
   "execution_count": 14,
   "id": "70cb95ac-f590-48da-8be1-08df7f7de5e7",
   "metadata": {},
   "outputs": [
    {
     "data": {
      "text/html": [
       "<div>\n",
       "<style scoped>\n",
       "    .dataframe tbody tr th:only-of-type {\n",
       "        vertical-align: middle;\n",
       "    }\n",
       "\n",
       "    .dataframe tbody tr th {\n",
       "        vertical-align: top;\n",
       "    }\n",
       "\n",
       "    .dataframe thead th {\n",
       "        text-align: right;\n",
       "    }\n",
       "</style>\n",
       "<table border=\"1\" class=\"dataframe\">\n",
       "  <thead>\n",
       "    <tr style=\"text-align: right;\">\n",
       "      <th></th>\n",
       "      <th>Airline</th>\n",
       "      <th>Aeroplane</th>\n",
       "      <th>Date</th>\n",
       "      <th>Departure_Time</th>\n",
       "      <th>Arrival_Time</th>\n",
       "      <th>Source</th>\n",
       "      <th>Destination</th>\n",
       "      <th>Stops</th>\n",
       "      <th>Duration</th>\n",
       "      <th>Price</th>\n",
       "    </tr>\n",
       "  </thead>\n",
       "  <tbody>\n",
       "    <tr>\n",
       "      <th>0</th>\n",
       "      <td>Vistara</td>\n",
       "      <td>UK-981</td>\n",
       "      <td>Tue, 21 Jun 2022</td>\n",
       "      <td>21:30</td>\n",
       "      <td>23:30</td>\n",
       "      <td>New Delhi</td>\n",
       "      <td>Mumbai</td>\n",
       "      <td>Non Stop</td>\n",
       "      <td>2h 00m</td>\n",
       "      <td>8578</td>\n",
       "    </tr>\n",
       "    <tr>\n",
       "      <th>1</th>\n",
       "      <td>Vistara</td>\n",
       "      <td>UK-993</td>\n",
       "      <td>Tue, 21 Jun 2022</td>\n",
       "      <td>12:50</td>\n",
       "      <td>15:00</td>\n",
       "      <td>New Delhi</td>\n",
       "      <td>Mumbai</td>\n",
       "      <td>Non Stop</td>\n",
       "      <td>2h 10m</td>\n",
       "      <td>8578</td>\n",
       "    </tr>\n",
       "    <tr>\n",
       "      <th>2</th>\n",
       "      <td>Vistara</td>\n",
       "      <td>UK-951</td>\n",
       "      <td>Tue, 21 Jun 2022</td>\n",
       "      <td>14:20</td>\n",
       "      <td>16:30</td>\n",
       "      <td>New Delhi</td>\n",
       "      <td>Mumbai</td>\n",
       "      <td>Non Stop</td>\n",
       "      <td>2h 10m</td>\n",
       "      <td>8578</td>\n",
       "    </tr>\n",
       "    <tr>\n",
       "      <th>3</th>\n",
       "      <td>Vistara</td>\n",
       "      <td>UK-933</td>\n",
       "      <td>Tue, 21 Jun 2022</td>\n",
       "      <td>15:30</td>\n",
       "      <td>17:40</td>\n",
       "      <td>New Delhi</td>\n",
       "      <td>Mumbai</td>\n",
       "      <td>Non Stop</td>\n",
       "      <td>2h 10m</td>\n",
       "      <td>8578</td>\n",
       "    </tr>\n",
       "    <tr>\n",
       "      <th>4</th>\n",
       "      <td>Vistara</td>\n",
       "      <td>UK-985</td>\n",
       "      <td>Tue, 21 Jun 2022</td>\n",
       "      <td>19:45</td>\n",
       "      <td>21:55</td>\n",
       "      <td>New Delhi</td>\n",
       "      <td>Mumbai</td>\n",
       "      <td>Non Stop</td>\n",
       "      <td>2h 10m</td>\n",
       "      <td>8578</td>\n",
       "    </tr>\n",
       "  </tbody>\n",
       "</table>\n",
       "</div>"
      ],
      "text/plain": [
       "   Airline Aeroplane              Date Departure_Time Arrival_Time     Source  \\\n",
       "0  Vistara    UK-981  Tue, 21 Jun 2022          21:30        23:30  New Delhi   \n",
       "1  Vistara    UK-993  Tue, 21 Jun 2022          12:50        15:00  New Delhi   \n",
       "2  Vistara    UK-951  Tue, 21 Jun 2022          14:20        16:30  New Delhi   \n",
       "3  Vistara    UK-933  Tue, 21 Jun 2022          15:30        17:40  New Delhi   \n",
       "4  Vistara    UK-985  Tue, 21 Jun 2022          19:45        21:55  New Delhi   \n",
       "\n",
       "  Destination     Stops Duration Price  \n",
       "0      Mumbai  Non Stop   2h 00m  8578  \n",
       "1      Mumbai  Non Stop   2h 10m  8578  \n",
       "2      Mumbai  Non Stop   2h 10m  8578  \n",
       "3      Mumbai  Non Stop   2h 10m  8578  \n",
       "4      Mumbai  Non Stop   2h 10m  8578  "
      ]
     },
     "execution_count": 14,
     "metadata": {},
     "output_type": "execute_result"
    }
   ],
   "source": [
    "Flight=pd.DataFrame()\n",
    "Flight[\"Airline\"]=Airlines\n",
    "Flight['Aeroplane'] = Aeroplane\n",
    "Flight[\"Date\"]=Date\n",
    "Flight[\"Departure_Time\"]=Dept_time\n",
    "Flight[\"Arrival_Time\"]=Arrival_time\n",
    "Flight[\"Source\"]=Source\n",
    "Flight[\"Destination\"]=Destination\n",
    "Flight[\"Stops\"]=Stops\n",
    "Flight[\"Duration\"]=Duration\n",
    "Flight[\"Price\"]=Price\n",
    "Flight.head()"
   ]
  },
  {
   "cell_type": "markdown",
   "id": "61d88af6-cb6f-49e1-aa78-d87962e6be7b",
   "metadata": {},
   "source": [
    "> - **Opening Ecomnomy flights from New Dehli to Bombay on 22nd June 2022**"
   ]
  },
  {
   "cell_type": "code",
   "execution_count": 32,
   "id": "beb3ba7d-c498-40c2-a331-9421151732c6",
   "metadata": {},
   "outputs": [],
   "source": [
    "driver=webdriver.Chrome(r'C:\\chromedriver.exe')\n",
    "url= 'https://flight.yatra.com/air-search-ui/dom2/trigger?ADT=1&CHD=0&INF=0&class=Economy&destination=BOM&destinationCountry=IN&flexi=0&flight_depart_date=22%2F06%2F2022&hb=0&noOfSegments=1&origin=DEL&originCountry=IN&type=O&unique=1569880632041&version=1.1&viewName=normal'\n",
    "driver.get(url)\n",
    "time.sleep(2)"
   ]
  },
  {
   "cell_type": "code",
   "execution_count": 33,
   "id": "aa25ddd0-dbd5-4ed1-98a7-c020f95c14c6",
   "metadata": {},
   "outputs": [],
   "source": [
    "Airlines = []\n",
    "Aeroplane = []\n",
    "Dept_time = []\n",
    "Arrival_time = []\n",
    "Source = []\n",
    "Destination = []\n",
    "Duration = []\n",
    "Stops = []\n",
    "Date = []\n",
    "Price = []"
   ]
  },
  {
   "cell_type": "code",
   "execution_count": 34,
   "id": "8d22d4b2-434a-42d6-8d7f-08a6501c02a5",
   "metadata": {},
   "outputs": [
    {
     "name": "stderr",
     "output_type": "stream",
     "text": [
      "100%|██████████| 75/75 [00:27<00:00,  2.69it/s]\n"
     ]
    }
   ],
   "source": [
    "from tqdm import tqdm\n",
    "for _ in tqdm (range(0,75)):\n",
    "    time.sleep(0.1)\n",
    "    driver.execute_script(\"window.scrollBy(0,1500)\",\"\")\n",
    "    time.sleep(0.2)\n",
    "    driver.execute_script(\"window.scrollBy(0,-500)\",\"\")"
   ]
  },
  {
   "cell_type": "code",
   "execution_count": 35,
   "id": "1c4fd11f-834c-4347-96a7-6d0650af271e",
   "metadata": {},
   "outputs": [
    {
     "data": {
      "text/plain": [
       "173"
      ]
     },
     "execution_count": 35,
     "metadata": {},
     "output_type": "execute_result"
    }
   ],
   "source": [
    "flights=driver.find_elements_by_xpath('//div[@class=\"flight-det table full-width clearfix\"]')\n",
    "len(flights)"
   ]
  },
  {
   "cell_type": "code",
   "execution_count": 36,
   "id": "c807de72-d3bf-4346-89de-a702bbee3e99",
   "metadata": {},
   "outputs": [
    {
     "name": "stderr",
     "output_type": "stream",
     "text": [
      "100%|██████████| 173/173 [00:03<00:00, 54.09it/s]\n",
      "100%|██████████| 173/173 [00:03<00:00, 55.79it/s]\n",
      "100%|██████████| 173/173 [00:03<00:00, 53.66it/s]\n",
      "100%|██████████| 173/173 [00:03<00:00, 57.37it/s]\n",
      "100%|██████████| 173/173 [00:03<00:00, 56.80it/s]\n",
      "100%|██████████| 173/173 [00:03<00:00, 52.13it/s]\n",
      "100%|██████████| 173/173 [00:03<00:00, 56.29it/s]\n",
      "100%|██████████| 173/173 [00:03<00:00, 53.64it/s]\n"
     ]
    }
   ],
   "source": [
    "# Extracting Airlines Name Via Xpath\n",
    "airlines = driver.find_elements_by_xpath(\"//div[@class='fs-13 airline-name no-pad col-8']/span\")\n",
    "for i in airlines:\n",
    "    Airlines.append(i.text.replace(\"\\n\",\" \"))\n",
    "else :\n",
    "    pass\n",
    "\n",
    "# Extracting Aeroplane model  via xpath\n",
    "aeroplanes = driver.find_elements_by_xpath('//p[@class=\"normal fs-11 font-lightestgrey no-wrap fl-no\"]/span')\n",
    "for i in tqdm(aeroplanes):\n",
    "    Aeroplane.append(i.text) \n",
    "else:\n",
    "    pass\n",
    "\n",
    "# Extracting Departure Time of Filght via Xpath\n",
    "dept_times = driver.find_elements_by_xpath('//div[@class=\"i-b pr\"]')\n",
    "for i in tqdm(dept_times):\n",
    "    Dept_time.append(i.text)\n",
    "else :\n",
    "    pass\n",
    "\n",
    "# Extracting Arrival Time via xpath\n",
    "arrival = driver.find_elements_by_xpath('//p[@class=\"bold fs-15 mb-2 pr time\"]')\n",
    "for i in tqdm(arrival):\n",
    "    Arrival_time.append(i.text)\n",
    "else :\n",
    "    pass\n",
    "\n",
    "# Extracting Source of flight via Xpath\n",
    "source = driver.find_elements_by_xpath(\"//div[@class='i-b col-4 no-wrap text-right dtime col-3']/p\")\n",
    "for i in tqdm(source):\n",
    "    Source.append(i.text)\n",
    "else :\n",
    "    pass\n",
    "\n",
    "# Extracting Destination of Flights via Xpath\n",
    "destination = driver.find_elements_by_xpath('//div[@class=\"i-b pdd-0 text-left atime col-5\"]/p[2]')\n",
    "for i in tqdm(destination):\n",
    "    Destination.append(i.text)\n",
    "else:\n",
    "    pass\n",
    "\n",
    "# Extracting Duration of Flights via Xpath\n",
    "duration = driver.find_elements_by_xpath('//div[@class=\"stop-cont pl-13\"]/p')\n",
    "for i in tqdm(duration):\n",
    "    Duration.append(i.text)\n",
    "else:\n",
    "    pass\n",
    "\n",
    "# Extracting stop details via Xpath\n",
    "stop = driver.find_elements_by_xpath(\"//div[@class='stop-cont pl-13']/div/span\")\n",
    "for i in tqdm(stop):\n",
    "    Stops.append(i.text)\n",
    "else:\n",
    "    pass\n",
    "\n",
    "# Extracting Price of Flights via Xpath\n",
    "count = 0\n",
    "price = driver.find_elements_by_xpath('//div[@class=\"i-b tipsy fare-summary-tooltip fs-18\"]')\n",
    "for i in tqdm(price):\n",
    "    Price.append(i.text.replace(',',''))\n",
    "    count = count +1\n",
    "else:\n",
    "    count = count +1\n",
    "    pass"
   ]
  },
  {
   "cell_type": "code",
   "execution_count": 41,
   "id": "13acf6b7-5f47-48c1-b234-d92b20952d8a",
   "metadata": {},
   "outputs": [
    {
     "name": "stderr",
     "output_type": "stream",
     "text": [
      "100%|██████████| 173/173 [00:00<?, ?it/s]\n"
     ]
    }
   ],
   "source": [
    "# Clicking on Flights details element\n",
    "Button = driver.find_elements_by_xpath('//div[@class=\"link-color fs-12 cursor-pointer\"]/span')\n",
    "driver.execute_script(\"arguments[0].click();\", WebDriverWait(driver, 20).until(EC.element_to_be_clickable((By.XPATH,'//div[@class=\"link-color fs-12 cursor-pointer\"]/span'))))\n",
    "time.sleep(0.25)\n",
    "\n",
    "# Extracting Date of Flights via Xpath\n",
    "date = driver.find_element_by_xpath('//div[@class=\"bold fs-12 mb-5\"]')\n",
    "a = date.text\n",
    "for i in tqdm(range(count-1)):\n",
    "    Date.append(a)\n",
    "else:\n",
    "    pass"
   ]
  },
  {
   "cell_type": "code",
   "execution_count": 45,
   "id": "ad83bc23-5ba4-4276-9646-897b18c9de22",
   "metadata": {},
   "outputs": [
    {
     "data": {
      "text/plain": [
       "(173, 173, 173, 173, 173, 173, 173, 173, 173, 173)"
      ]
     },
     "execution_count": 45,
     "metadata": {},
     "output_type": "execute_result"
    }
   ],
   "source": [
    "len(Aeroplane), len(Airlines), len(Dept_time), len(Arrival_time), len(Source), len(Destination), len(Duration), len(Stops),len(Price), len(Date)"
   ]
  },
  {
   "cell_type": "code",
   "execution_count": 48,
   "id": "f2c51255-388c-47f6-98da-ab386766ed86",
   "metadata": {},
   "outputs": [
    {
     "data": {
      "text/html": [
       "<div>\n",
       "<style scoped>\n",
       "    .dataframe tbody tr th:only-of-type {\n",
       "        vertical-align: middle;\n",
       "    }\n",
       "\n",
       "    .dataframe tbody tr th {\n",
       "        vertical-align: top;\n",
       "    }\n",
       "\n",
       "    .dataframe thead th {\n",
       "        text-align: right;\n",
       "    }\n",
       "</style>\n",
       "<table border=\"1\" class=\"dataframe\">\n",
       "  <thead>\n",
       "    <tr style=\"text-align: right;\">\n",
       "      <th></th>\n",
       "      <th>Airline</th>\n",
       "      <th>Aeroplane</th>\n",
       "      <th>Date</th>\n",
       "      <th>Departure_Time</th>\n",
       "      <th>Arrival_Time</th>\n",
       "      <th>Source</th>\n",
       "      <th>Destination</th>\n",
       "      <th>Stops</th>\n",
       "      <th>Duration</th>\n",
       "      <th>Price</th>\n",
       "    </tr>\n",
       "  </thead>\n",
       "  <tbody>\n",
       "    <tr>\n",
       "      <th>0</th>\n",
       "      <td>Vistara</td>\n",
       "      <td>UK-975</td>\n",
       "      <td>Wed, 22 Jun 2022</td>\n",
       "      <td>05:55</td>\n",
       "      <td>07:55</td>\n",
       "      <td>New Delhi</td>\n",
       "      <td>Mumbai</td>\n",
       "      <td>Non Stop</td>\n",
       "      <td>2h 00m</td>\n",
       "      <td>8578</td>\n",
       "    </tr>\n",
       "    <tr>\n",
       "      <th>1</th>\n",
       "      <td>Vistara</td>\n",
       "      <td>UK-927</td>\n",
       "      <td>Wed, 22 Jun 2022</td>\n",
       "      <td>09:30</td>\n",
       "      <td>11:35</td>\n",
       "      <td>New Delhi</td>\n",
       "      <td>Mumbai</td>\n",
       "      <td>Non Stop</td>\n",
       "      <td>2h 05m</td>\n",
       "      <td>8578</td>\n",
       "    </tr>\n",
       "    <tr>\n",
       "      <th>2</th>\n",
       "      <td>Vistara</td>\n",
       "      <td>UK-993</td>\n",
       "      <td>Wed, 22 Jun 2022</td>\n",
       "      <td>12:50</td>\n",
       "      <td>15:00</td>\n",
       "      <td>New Delhi</td>\n",
       "      <td>Mumbai</td>\n",
       "      <td>Non Stop</td>\n",
       "      <td>2h 10m</td>\n",
       "      <td>8578</td>\n",
       "    </tr>\n",
       "    <tr>\n",
       "      <th>3</th>\n",
       "      <td>Vistara</td>\n",
       "      <td>UK-951</td>\n",
       "      <td>Wed, 22 Jun 2022</td>\n",
       "      <td>14:20</td>\n",
       "      <td>16:30</td>\n",
       "      <td>New Delhi</td>\n",
       "      <td>Mumbai</td>\n",
       "      <td>Non Stop</td>\n",
       "      <td>2h 10m</td>\n",
       "      <td>8578</td>\n",
       "    </tr>\n",
       "    <tr>\n",
       "      <th>4</th>\n",
       "      <td>Vistara</td>\n",
       "      <td>UK-933</td>\n",
       "      <td>Wed, 22 Jun 2022</td>\n",
       "      <td>15:30</td>\n",
       "      <td>17:40</td>\n",
       "      <td>New Delhi</td>\n",
       "      <td>Mumbai</td>\n",
       "      <td>Non Stop</td>\n",
       "      <td>2h 10m</td>\n",
       "      <td>8578</td>\n",
       "    </tr>\n",
       "  </tbody>\n",
       "</table>\n",
       "</div>"
      ],
      "text/plain": [
       "   Airline Aeroplane              Date Departure_Time Arrival_Time     Source  \\\n",
       "0  Vistara    UK-975  Wed, 22 Jun 2022          05:55        07:55  New Delhi   \n",
       "1  Vistara    UK-927  Wed, 22 Jun 2022          09:30        11:35  New Delhi   \n",
       "2  Vistara    UK-993  Wed, 22 Jun 2022          12:50        15:00  New Delhi   \n",
       "3  Vistara    UK-951  Wed, 22 Jun 2022          14:20        16:30  New Delhi   \n",
       "4  Vistara    UK-933  Wed, 22 Jun 2022          15:30        17:40  New Delhi   \n",
       "\n",
       "  Destination     Stops Duration Price  \n",
       "0      Mumbai  Non Stop   2h 00m  8578  \n",
       "1      Mumbai  Non Stop   2h 05m  8578  \n",
       "2      Mumbai  Non Stop   2h 10m  8578  \n",
       "3      Mumbai  Non Stop   2h 10m  8578  \n",
       "4      Mumbai  Non Stop   2h 10m  8578  "
      ]
     },
     "execution_count": 48,
     "metadata": {},
     "output_type": "execute_result"
    }
   ],
   "source": [
    "Flight1=pd.DataFrame()\n",
    "Flight1[\"Airline\"]=Airlines\n",
    "Flight1['Aeroplane'] = Aeroplane\n",
    "Flight1[\"Date\"]=Date\n",
    "Flight1[\"Departure_Time\"]=Dept_time\n",
    "Flight1[\"Arrival_Time\"]=Arrival_time\n",
    "Flight1[\"Source\"]=Source\n",
    "Flight1[\"Destination\"]=Destination\n",
    "Flight1[\"Stops\"]=Stops\n",
    "Flight1[\"Duration\"]=Duration\n",
    "Flight1[\"Price\"]=Price\n",
    "Flight1.head()"
   ]
  },
  {
   "cell_type": "markdown",
   "id": "43d25033-d192-4dda-9965-e8de185b6152",
   "metadata": {},
   "source": [
    "- **Opening Ecomnomy flights from New Dehli to Bombay on 24th June 2022**"
   ]
  },
  {
   "cell_type": "code",
   "execution_count": 48,
   "id": "4fc4291e-aa18-4ab6-a8e6-cf71cd49e020",
   "metadata": {},
   "outputs": [],
   "source": [
    "driver=webdriver.Chrome(r'C:\\chromedriver.exe')\n",
    "url =\"https://flight.yatra.com/air-search-ui/dom2/trigger?ADT=1&CHD=0&INF=0&class=Economy&destination=BOM&destinationCountry=IN&flexi=0&flight_depart_date=24%2F06%2F2022&hb=0&noOfSegments=1&origin=DEL&originCountry=IN&type=O&unique=1489945844418&version=1.1&viewName=normal\"\n",
    "time.sleep(2)"
   ]
  },
  {
   "cell_type": "code",
   "execution_count": 59,
   "id": "35678d84-42c0-42b7-a27a-c86eef022462",
   "metadata": {},
   "outputs": [],
   "source": [
    "Airlines = []\n",
    "Aeroplane = []\n",
    "Dept_time = []\n",
    "Arrival_time = []\n",
    "Source = []\n",
    "Destination = []\n",
    "Duration = []\n",
    "Stops = []\n",
    "Date = []\n",
    "Price = []"
   ]
  },
  {
   "cell_type": "code",
   "execution_count": 60,
   "id": "7512397f-475c-4230-ab20-48f5b77158d7",
   "metadata": {},
   "outputs": [
    {
     "name": "stderr",
     "output_type": "stream",
     "text": [
      "100%|██████████| 50/50 [00:17<00:00,  2.90it/s]\n"
     ]
    }
   ],
   "source": [
    "from tqdm import tqdm\n",
    "for _ in tqdm (range(0,50)):\n",
    "    time.sleep(0.1)\n",
    "    driver.execute_script(\"window.scrollBy(0,2000)\",\"\")\n",
    "    time.sleep(0.2)\n",
    "    driver.execute_script(\"window.scrollBy(0,-500)\",\"\")"
   ]
  },
  {
   "cell_type": "code",
   "execution_count": 61,
   "id": "896ae11d-2cd7-44c0-8d8c-254916c97922",
   "metadata": {},
   "outputs": [
    {
     "data": {
      "text/plain": [
       "81"
      ]
     },
     "execution_count": 61,
     "metadata": {},
     "output_type": "execute_result"
    }
   ],
   "source": [
    "flights=driver.find_elements_by_xpath('//div[@class=\"flight-det table full-width clearfix\"]')\n",
    "len(flights)"
   ]
  },
  {
   "cell_type": "code",
   "execution_count": 62,
   "id": "11ab239b-31d9-4b61-9def-9903dff02f64",
   "metadata": {},
   "outputs": [
    {
     "name": "stderr",
     "output_type": "stream",
     "text": [
      "100%|██████████| 81/81 [00:01<00:00, 52.10it/s]\n",
      "100%|██████████| 81/81 [00:01<00:00, 57.87it/s]\n",
      "100%|██████████| 81/81 [00:01<00:00, 53.43it/s]\n",
      "100%|██████████| 81/81 [00:01<00:00, 51.69it/s]\n",
      "100%|██████████| 81/81 [00:01<00:00, 56.03it/s]\n",
      "100%|██████████| 81/81 [00:01<00:00, 57.66it/s]\n",
      "100%|██████████| 81/81 [00:01<00:00, 53.54it/s]\n",
      "100%|██████████| 81/81 [00:01<00:00, 50.35it/s]\n"
     ]
    }
   ],
   "source": [
    "# Extracting Aeroplane model  via xpath\n",
    "aeroplanes = driver.find_elements_by_xpath('//p[@class=\"normal fs-11 font-lightestgrey no-wrap fl-no\"]/span')\n",
    "for i in tqdm(aeroplanes):\n",
    "    Aeroplane.append(i.text) \n",
    "else:\n",
    "    pass\n",
    "\n",
    "# Extracting Departure Time of Filght via Xpath\n",
    "dept_times = driver.find_elements_by_xpath('//div[@class=\"i-b pr\"]')\n",
    "for i in tqdm(dept_times):\n",
    "    Dept_time.append(i.text)\n",
    "else :\n",
    "    pass\n",
    "\n",
    "# Extracting Arrival Time via xpath\n",
    "arrival = driver.find_elements_by_xpath('//p[@class=\"bold fs-15 mb-2 pr time\"]')\n",
    "for i in tqdm(arrival):\n",
    "    Arrival_time.append(i.text)\n",
    "else :\n",
    "    pass\n",
    "\n",
    "# Extracting Source of flight via Xpath\n",
    "source = driver.find_elements_by_xpath(\"//div[@class='i-b col-4 no-wrap text-right dtime col-3']/p\")\n",
    "for i in tqdm(source):\n",
    "    Source.append(i.text)\n",
    "else :\n",
    "    pass\n",
    "\n",
    "# Extracting Destination of Flights via Xpath\n",
    "destination = driver.find_elements_by_xpath('//div[@class=\"i-b pdd-0 text-left atime col-5\"]/p[2]')\n",
    "for i in tqdm(destination):\n",
    "    Destination.append(i.text)\n",
    "else:\n",
    "    pass\n",
    "\n",
    "# Extracting Duration of Flights via Xpath\n",
    "duration = driver.find_elements_by_xpath('//div[@class=\"stop-cont pl-13\"]/p')\n",
    "for i in tqdm(duration):\n",
    "    Duration.append(i.text)\n",
    "else:\n",
    "    pass\n",
    "\n",
    "# Extracting stop details via Xpath\n",
    "stop = driver.find_elements_by_xpath(\"//div[@class='stop-cont pl-13']/div/span\")\n",
    "for i in tqdm(stop):\n",
    "    Stops.append(i.text)\n",
    "else:\n",
    "    pass\n",
    "\n",
    "# Extracting Price of Flights via Xpath\n",
    "count = 0\n",
    "price = driver.find_elements_by_xpath('//div[@class=\"i-b tipsy fare-summary-tooltip fs-18\"]')\n",
    "for i in tqdm(price):\n",
    "    Price.append(i.text.replace(',',''))\n",
    "    count = count +1\n",
    "else:\n",
    "    count = count +1\n",
    "    pass\n"
   ]
  },
  {
   "cell_type": "code",
   "execution_count": 64,
   "id": "46fa1e0a-b1a7-44df-b3f0-47cf11ef35ac",
   "metadata": {},
   "outputs": [
    {
     "name": "stderr",
     "output_type": "stream",
     "text": [
      "100%|██████████| 81/81 [00:00<?, ?it/s]\n"
     ]
    }
   ],
   "source": [
    "# Clicking on Flights details element\n",
    "Button = driver.find_elements_by_xpath('//div[@class=\"link-color fs-12 cursor-pointer\"]/span')\n",
    "driver.execute_script(\"arguments[0].click();\", WebDriverWait(driver, 20).until(EC.element_to_be_clickable((By.XPATH,'//div[@class=\"link-color fs-12 cursor-pointer\"]/span'))))\n",
    "time.sleep(1)\n",
    "\n",
    "# Extracting Date of Flights via Xpath\n",
    "date = driver.find_element_by_xpath('//div[@class=\"bold fs-12 mb-5\"]')\n",
    "a = date.text\n",
    "for i in tqdm(range(count-1)):\n",
    "    Date.append(a)\n",
    "else:\n",
    "    pass"
   ]
  },
  {
   "cell_type": "code",
   "execution_count": 65,
   "id": "62d06f8a-4a16-4aa2-81f3-48aab5afe0ed",
   "metadata": {},
   "outputs": [
    {
     "data": {
      "text/plain": [
       "(81, 0, 81, 81, 81, 81, 81, 81, 81, 81)"
      ]
     },
     "execution_count": 65,
     "metadata": {},
     "output_type": "execute_result"
    }
   ],
   "source": [
    "len(Aeroplane), len(Airlines), len(Dept_time), len(Arrival_time), len(Source), len(Destination), len(Duration), len(Stops),len(Price), len(Date)"
   ]
  },
  {
   "cell_type": "code",
   "execution_count": 66,
   "id": "482b4d6c-4ade-490e-89b5-38928be0cc92",
   "metadata": {},
   "outputs": [
    {
     "data": {
      "text/plain": [
       "0"
      ]
     },
     "execution_count": 66,
     "metadata": {},
     "output_type": "execute_result"
    }
   ],
   "source": [
    "len(Airlines)"
   ]
  },
  {
   "cell_type": "code",
   "execution_count": 67,
   "id": "95216188-0d58-4af2-acea-28b4128280ac",
   "metadata": {},
   "outputs": [
    {
     "data": {
      "text/plain": [
       "81"
      ]
     },
     "execution_count": 67,
     "metadata": {},
     "output_type": "execute_result"
    }
   ],
   "source": [
    "len(Aeroplane)"
   ]
  },
  {
   "cell_type": "code",
   "execution_count": 111,
   "id": "635663d3-d052-462b-a21b-b4c92151632f",
   "metadata": {},
   "outputs": [
    {
     "data": {
      "text/html": [
       "<div>\n",
       "<style scoped>\n",
       "    .dataframe tbody tr th:only-of-type {\n",
       "        vertical-align: middle;\n",
       "    }\n",
       "\n",
       "    .dataframe tbody tr th {\n",
       "        vertical-align: top;\n",
       "    }\n",
       "\n",
       "    .dataframe thead th {\n",
       "        text-align: right;\n",
       "    }\n",
       "</style>\n",
       "<table border=\"1\" class=\"dataframe\">\n",
       "  <thead>\n",
       "    <tr style=\"text-align: right;\">\n",
       "      <th></th>\n",
       "      <th>Airline</th>\n",
       "      <th>Aeroplane</th>\n",
       "      <th>Date</th>\n",
       "      <th>Departure_Time</th>\n",
       "      <th>Arrival_Time</th>\n",
       "      <th>Source</th>\n",
       "      <th>Destination</th>\n",
       "      <th>Stops</th>\n",
       "      <th>Duration</th>\n",
       "      <th>Price</th>\n",
       "    </tr>\n",
       "  </thead>\n",
       "  <tbody>\n",
       "    <tr>\n",
       "      <th>0</th>\n",
       "      <td>NaN</td>\n",
       "      <td>UK-975</td>\n",
       "      <td>Fri, 24 Jun 2022</td>\n",
       "      <td>05:55</td>\n",
       "      <td>07:55</td>\n",
       "      <td>New Delhi</td>\n",
       "      <td>Mumbai</td>\n",
       "      <td>Non Stop</td>\n",
       "      <td>2h 00m</td>\n",
       "      <td>8578</td>\n",
       "    </tr>\n",
       "    <tr>\n",
       "      <th>1</th>\n",
       "      <td>NaN</td>\n",
       "      <td>UK-981</td>\n",
       "      <td>Fri, 24 Jun 2022</td>\n",
       "      <td>21:30</td>\n",
       "      <td>23:30</td>\n",
       "      <td>New Delhi</td>\n",
       "      <td>Mumbai</td>\n",
       "      <td>Non Stop</td>\n",
       "      <td>2h 00m</td>\n",
       "      <td>8578</td>\n",
       "    </tr>\n",
       "    <tr>\n",
       "      <th>2</th>\n",
       "      <td>NaN</td>\n",
       "      <td>UK-927</td>\n",
       "      <td>Fri, 24 Jun 2022</td>\n",
       "      <td>09:30</td>\n",
       "      <td>11:35</td>\n",
       "      <td>New Delhi</td>\n",
       "      <td>Mumbai</td>\n",
       "      <td>Non Stop</td>\n",
       "      <td>2h 05m</td>\n",
       "      <td>8578</td>\n",
       "    </tr>\n",
       "    <tr>\n",
       "      <th>3</th>\n",
       "      <td>NaN</td>\n",
       "      <td>UK-993</td>\n",
       "      <td>Fri, 24 Jun 2022</td>\n",
       "      <td>12:50</td>\n",
       "      <td>15:00</td>\n",
       "      <td>New Delhi</td>\n",
       "      <td>Mumbai</td>\n",
       "      <td>Non Stop</td>\n",
       "      <td>2h 10m</td>\n",
       "      <td>8578</td>\n",
       "    </tr>\n",
       "    <tr>\n",
       "      <th>4</th>\n",
       "      <td>NaN</td>\n",
       "      <td>UK-951</td>\n",
       "      <td>Fri, 24 Jun 2022</td>\n",
       "      <td>14:20</td>\n",
       "      <td>16:30</td>\n",
       "      <td>New Delhi</td>\n",
       "      <td>Mumbai</td>\n",
       "      <td>Non Stop</td>\n",
       "      <td>2h 10m</td>\n",
       "      <td>8578</td>\n",
       "    </tr>\n",
       "  </tbody>\n",
       "</table>\n",
       "</div>"
      ],
      "text/plain": [
       "  Airline Aeroplane              Date Departure_Time Arrival_Time     Source  \\\n",
       "0     NaN    UK-975  Fri, 24 Jun 2022          05:55        07:55  New Delhi   \n",
       "1     NaN    UK-981  Fri, 24 Jun 2022          21:30        23:30  New Delhi   \n",
       "2     NaN    UK-927  Fri, 24 Jun 2022          09:30        11:35  New Delhi   \n",
       "3     NaN    UK-993  Fri, 24 Jun 2022          12:50        15:00  New Delhi   \n",
       "4     NaN    UK-951  Fri, 24 Jun 2022          14:20        16:30  New Delhi   \n",
       "\n",
       "  Destination     Stops Duration Price  \n",
       "0      Mumbai  Non Stop   2h 00m  8578  \n",
       "1      Mumbai  Non Stop   2h 00m  8578  \n",
       "2      Mumbai  Non Stop   2h 05m  8578  \n",
       "3      Mumbai  Non Stop   2h 10m  8578  \n",
       "4      Mumbai  Non Stop   2h 10m  8578  "
      ]
     },
     "execution_count": 111,
     "metadata": {},
     "output_type": "execute_result"
    }
   ],
   "source": [
    "Flight2=pd.DataFrame()\n",
    "Flight2[\"Airline\"]=Airlines\n",
    "Flight2[\"Aeroplane\"] = Aeroplane\n",
    "Flight2[\"Date\"]=Date\n",
    "Flight2[\"Departure_Time\"]=Dept_time\n",
    "Flight2[\"Arrival_Time\"]=Arrival_time\n",
    "Flight2[\"Source\"]=Source\n",
    "Flight2[\"Destination\"]=Destination\n",
    "Flight2[\"Stops\"]=Stops\n",
    "Flight2[\"Duration\"]=Duration\n",
    "Flight2[\"Price\"]=Price\n",
    "Flight2.head()"
   ]
  },
  {
   "cell_type": "markdown",
   "id": "9bb6aca7-030e-4b82-ad4e-08de57544ba6",
   "metadata": {},
   "source": [
    "- **Opening Business flights from New Dehli to Bombay on 25th June 2022**"
   ]
  },
  {
   "cell_type": "code",
   "execution_count": 24,
   "id": "b97d19da-abde-4029-80ba-ae2d269c80ed",
   "metadata": {},
   "outputs": [],
   "source": [
    "driver=webdriver.Chrome(r'C:\\chromedriver.exe')\n",
    "url = \"https://flight.yatra.com/air-search-ui/dom2/trigger?ADT=1&CHD=0&INF=0&class=Economy&destination=BOM&destinationCountry=IN&flexi=0&flight_depart_date=25%2F06%2F2022&hb=0&noOfSegments=1&origin=DEL&originCountry=IN&type=O&unique=101215575924&version=1.1&viewName=normal\"\n",
    "time.sleep(2)"
   ]
  },
  {
   "cell_type": "code",
   "execution_count": 25,
   "id": "a7095dfc-79b1-48d5-a4dc-814131c5ef27",
   "metadata": {},
   "outputs": [],
   "source": [
    "Airlines = []\n",
    "Aeroplane = []\n",
    "Dept_time = []\n",
    "Arrival_time = []\n",
    "Source = []\n",
    "Destination = []\n",
    "Duration = []\n",
    "Stops = []\n",
    "Date = []\n",
    "Price = []"
   ]
  },
  {
   "cell_type": "code",
   "execution_count": 26,
   "id": "6f585ed0-1fb1-4a6f-b2ad-791f6d199fec",
   "metadata": {},
   "outputs": [
    {
     "name": "stderr",
     "output_type": "stream",
     "text": [
      "100%|██████████| 50/50 [00:32<00:00,  1.54it/s]\n"
     ]
    }
   ],
   "source": [
    "from tqdm import tqdm\n",
    "for _ in tqdm (range(0,50)):\n",
    "    time.sleep(0.1)\n",
    "    driver.execute_script(\"window.scrollBy(0,2000)\",\"\")\n",
    "    time.sleep(0.2)\n",
    "    driver.execute_script(\"window.scrollBy(0,-500)\",\"\")"
   ]
  },
  {
   "cell_type": "code",
   "execution_count": 27,
   "id": "19d9f039-c369-42ac-860c-7e7c1793a219",
   "metadata": {},
   "outputs": [
    {
     "data": {
      "text/plain": [
       "162"
      ]
     },
     "execution_count": 27,
     "metadata": {},
     "output_type": "execute_result"
    }
   ],
   "source": [
    "flights=driver.find_elements_by_xpath('//div[@class=\"flight-det table full-width clearfix\"]')\n",
    "len(flights)"
   ]
  },
  {
   "cell_type": "code",
   "execution_count": 28,
   "id": "095c3655-d90c-46ac-9974-933c8fd93519",
   "metadata": {},
   "outputs": [
    {
     "name": "stderr",
     "output_type": "stream",
     "text": [
      "100%|██████████| 162/162 [00:02<00:00, 54.73it/s]\n",
      "100%|██████████| 162/162 [00:03<00:00, 49.10it/s]\n",
      "100%|██████████| 162/162 [00:03<00:00, 48.53it/s]\n",
      "100%|██████████| 162/162 [00:02<00:00, 56.36it/s]\n",
      "100%|██████████| 162/162 [00:03<00:00, 48.10it/s]\n",
      "100%|██████████| 162/162 [00:03<00:00, 48.53it/s]\n",
      "100%|██████████| 162/162 [00:03<00:00, 50.65it/s]\n",
      "100%|██████████| 162/162 [00:03<00:00, 50.41it/s]\n"
     ]
    }
   ],
   "source": [
    "# Extracting Airlines Name Via Xpath\n",
    "airlines = driver.find_elements_by_xpath(\"//div[@class='fs-13 airline-name no-pad col-8']/span\")\n",
    "for i in airlines:\n",
    "    Airlines.append(i.text.replace(\"\\n\",\" \"))\n",
    "else :\n",
    "    pass\n",
    "\n",
    "# Extracting Aeroplane model  via xpath\n",
    "aeroplanes = driver.find_elements_by_xpath('//p[@class=\"normal fs-11 font-lightestgrey no-wrap fl-no\"]/span')\n",
    "for i in tqdm(aeroplanes):\n",
    "    Aeroplane.append(i.text) \n",
    "else:\n",
    "    pass\n",
    "\n",
    "# Extracting Departure Time of Filght via Xpath\n",
    "dept_times = driver.find_elements_by_xpath('//div[@class=\"i-b pr\"]')\n",
    "for i in tqdm(dept_times):\n",
    "    Dept_time.append(i.text)\n",
    "else :\n",
    "    pass\n",
    "\n",
    "# Extracting Arrival Time via xpath\n",
    "arrival = driver.find_elements_by_xpath('//p[@class=\"bold fs-15 mb-2 pr time\"]')\n",
    "for i in tqdm(arrival):\n",
    "    Arrival_time.append(i.text)\n",
    "else :\n",
    "    pass\n",
    "\n",
    "# Extracting Source of flight via Xpath\n",
    "source = driver.find_elements_by_xpath(\"//div[@class='i-b col-4 no-wrap text-right dtime col-3']/p\")\n",
    "for i in tqdm(source):\n",
    "    Source.append(i.text)\n",
    "else :\n",
    "    pass\n",
    "\n",
    "# Extracting Destination of Flights via Xpath\n",
    "destination = driver.find_elements_by_xpath('//div[@class=\"i-b pdd-0 text-left atime col-5\"]/p[2]')\n",
    "for i in tqdm(destination):\n",
    "    Destination.append(i.text)\n",
    "else:\n",
    "    pass\n",
    "\n",
    "# Extracting Duration of Flights via Xpath\n",
    "duration = driver.find_elements_by_xpath('//div[@class=\"stop-cont pl-13\"]/p')\n",
    "for i in tqdm(duration):\n",
    "    Duration.append(i.text)\n",
    "else:\n",
    "    pass\n",
    "\n",
    "# Extracting stop details via Xpath\n",
    "stop = driver.find_elements_by_xpath(\"//div[@class='stop-cont pl-13']/div/span\")\n",
    "for i in tqdm(stop):\n",
    "    Stops.append(i.text)\n",
    "else:\n",
    "    pass\n",
    "\n",
    "# Extracting Price of Flights via Xpath\n",
    "count = 0\n",
    "price = driver.find_elements_by_xpath('//div[@class=\"i-b tipsy fare-summary-tooltip fs-18\"]')\n",
    "for i in tqdm(price):\n",
    "    Price.append(i.text.replace(',',''))\n",
    "    count = count +1\n",
    "else:\n",
    "    count = count +1\n",
    "    pass"
   ]
  },
  {
   "cell_type": "code",
   "execution_count": 32,
   "id": "65356aaa-d8c7-44a8-828b-906f99982bad",
   "metadata": {},
   "outputs": [
    {
     "name": "stderr",
     "output_type": "stream",
     "text": [
      "100%|██████████| 162/162 [00:00<00:00, 162710.07it/s]\n"
     ]
    }
   ],
   "source": [
    "# Clicking on Flights details element\n",
    "Button = driver.find_elements_by_xpath('//div[@class=\"link-color fs-12 cursor-pointer\"]/span')\n",
    "driver.execute_script(\"arguments[0].click();\", WebDriverWait(driver, 20).until(EC.element_to_be_clickable((By.XPATH,'//div[@class=\"link-color fs-12 cursor-pointer\"]/span'))))\n",
    "time.sleep(0.25)\n",
    "\n",
    "# Extracting Date of Flights via Xpath\n",
    "date = driver.find_element_by_xpath('//div[@class=\"bold fs-12 mb-5\"]')\n",
    "a = date.text\n",
    "for i in tqdm(range(count-1)):\n",
    "    Date.append(a)\n",
    "else:\n",
    "    pass"
   ]
  },
  {
   "cell_type": "code",
   "execution_count": 33,
   "id": "2c4c0c8a-9351-4b54-8b82-f2a735ce77bb",
   "metadata": {},
   "outputs": [
    {
     "data": {
      "text/plain": [
       "(162, 162, 162, 162, 162, 162, 162, 162, 162, 162)"
      ]
     },
     "execution_count": 33,
     "metadata": {},
     "output_type": "execute_result"
    }
   ],
   "source": [
    "len(Aeroplane), len(Airlines), len(Dept_time), len(Arrival_time), len(Source), len(Destination), len(Duration), len(Stops),len(Price), len(Date)"
   ]
  },
  {
   "cell_type": "code",
   "execution_count": 34,
   "id": "d4299a63-cb47-4b2a-a809-84244ac324ec",
   "metadata": {},
   "outputs": [
    {
     "data": {
      "text/html": [
       "<div>\n",
       "<style scoped>\n",
       "    .dataframe tbody tr th:only-of-type {\n",
       "        vertical-align: middle;\n",
       "    }\n",
       "\n",
       "    .dataframe tbody tr th {\n",
       "        vertical-align: top;\n",
       "    }\n",
       "\n",
       "    .dataframe thead th {\n",
       "        text-align: right;\n",
       "    }\n",
       "</style>\n",
       "<table border=\"1\" class=\"dataframe\">\n",
       "  <thead>\n",
       "    <tr style=\"text-align: right;\">\n",
       "      <th></th>\n",
       "      <th>Airline</th>\n",
       "      <th>Aeroplane</th>\n",
       "      <th>Date</th>\n",
       "      <th>Departure_Time</th>\n",
       "      <th>Arrival_Time</th>\n",
       "      <th>Source</th>\n",
       "      <th>Destination</th>\n",
       "      <th>Stops</th>\n",
       "      <th>Duration</th>\n",
       "      <th>Price</th>\n",
       "    </tr>\n",
       "  </thead>\n",
       "  <tbody>\n",
       "    <tr>\n",
       "      <th>0</th>\n",
       "      <td>Vistara</td>\n",
       "      <td>UK-975</td>\n",
       "      <td>Sat, 25 Jun 2022</td>\n",
       "      <td>05:55</td>\n",
       "      <td>07:55</td>\n",
       "      <td>New Delhi</td>\n",
       "      <td>Mumbai</td>\n",
       "      <td>Non Stop</td>\n",
       "      <td>2h 00m</td>\n",
       "      <td>8578</td>\n",
       "    </tr>\n",
       "    <tr>\n",
       "      <th>1</th>\n",
       "      <td>Vistara</td>\n",
       "      <td>UK-981</td>\n",
       "      <td>Sat, 25 Jun 2022</td>\n",
       "      <td>21:30</td>\n",
       "      <td>23:30</td>\n",
       "      <td>New Delhi</td>\n",
       "      <td>Mumbai</td>\n",
       "      <td>Non Stop</td>\n",
       "      <td>2h 00m</td>\n",
       "      <td>8578</td>\n",
       "    </tr>\n",
       "    <tr>\n",
       "      <th>2</th>\n",
       "      <td>Vistara</td>\n",
       "      <td>UK-927</td>\n",
       "      <td>Sat, 25 Jun 2022</td>\n",
       "      <td>09:30</td>\n",
       "      <td>11:35</td>\n",
       "      <td>New Delhi</td>\n",
       "      <td>Mumbai</td>\n",
       "      <td>Non Stop</td>\n",
       "      <td>2h 05m</td>\n",
       "      <td>8578</td>\n",
       "    </tr>\n",
       "    <tr>\n",
       "      <th>3</th>\n",
       "      <td>Vistara</td>\n",
       "      <td>UK-933</td>\n",
       "      <td>Sat, 25 Jun 2022</td>\n",
       "      <td>15:30</td>\n",
       "      <td>17:40</td>\n",
       "      <td>New Delhi</td>\n",
       "      <td>Mumbai</td>\n",
       "      <td>Non Stop</td>\n",
       "      <td>2h 10m</td>\n",
       "      <td>8578</td>\n",
       "    </tr>\n",
       "    <tr>\n",
       "      <th>4</th>\n",
       "      <td>Vistara</td>\n",
       "      <td>UK-953</td>\n",
       "      <td>Sat, 25 Jun 2022</td>\n",
       "      <td>20:40</td>\n",
       "      <td>22:50</td>\n",
       "      <td>New Delhi</td>\n",
       "      <td>Mumbai</td>\n",
       "      <td>Non Stop</td>\n",
       "      <td>2h 10m</td>\n",
       "      <td>8578</td>\n",
       "    </tr>\n",
       "  </tbody>\n",
       "</table>\n",
       "</div>"
      ],
      "text/plain": [
       "   Airline Aeroplane              Date Departure_Time Arrival_Time     Source  \\\n",
       "0  Vistara    UK-975  Sat, 25 Jun 2022          05:55        07:55  New Delhi   \n",
       "1  Vistara    UK-981  Sat, 25 Jun 2022          21:30        23:30  New Delhi   \n",
       "2  Vistara    UK-927  Sat, 25 Jun 2022          09:30        11:35  New Delhi   \n",
       "3  Vistara    UK-933  Sat, 25 Jun 2022          15:30        17:40  New Delhi   \n",
       "4  Vistara    UK-953  Sat, 25 Jun 2022          20:40        22:50  New Delhi   \n",
       "\n",
       "  Destination     Stops Duration Price  \n",
       "0      Mumbai  Non Stop   2h 00m  8578  \n",
       "1      Mumbai  Non Stop   2h 00m  8578  \n",
       "2      Mumbai  Non Stop   2h 05m  8578  \n",
       "3      Mumbai  Non Stop   2h 10m  8578  \n",
       "4      Mumbai  Non Stop   2h 10m  8578  "
      ]
     },
     "execution_count": 34,
     "metadata": {},
     "output_type": "execute_result"
    }
   ],
   "source": [
    "Flight3=pd.DataFrame()\n",
    "Flight3[\"Airline\"]=Airlines\n",
    "Flight3[\"Aeroplane\"] = Aeroplane\n",
    "Flight3[\"Date\"]=Date\n",
    "Flight3[\"Departure_Time\"]=Dept_time\n",
    "Flight3[\"Arrival_Time\"]=Arrival_time\n",
    "Flight3[\"Source\"]=Source\n",
    "Flight3[\"Destination\"]=Destination\n",
    "Flight3[\"Stops\"]=Stops\n",
    "Flight3[\"Duration\"]=Duration\n",
    "Flight3[\"Price\"]=Price\n",
    "Flight3.head()"
   ]
  },
  {
   "cell_type": "code",
   "execution_count": 117,
   "id": "7798d4b9-1998-412d-986e-77541ea0d5f8",
   "metadata": {},
   "outputs": [],
   "source": [
    "Flight.to_csv('Flight_Price_dataset_0.csv')"
   ]
  },
  {
   "cell_type": "code",
   "execution_count": 118,
   "id": "dc4db868-518f-42c1-9947-b4804f9d5372",
   "metadata": {},
   "outputs": [],
   "source": [
    "Flight1.to_csv('Flight_Price_dataset_1.csv')"
   ]
  },
  {
   "cell_type": "code",
   "execution_count": 119,
   "id": "ebe9f751-7de4-4f7e-b765-446c8a0397c0",
   "metadata": {},
   "outputs": [],
   "source": [
    "Flight2.to_csv('Flight_Price_dataset_2.csv')"
   ]
  },
  {
   "cell_type": "code",
   "execution_count": 35,
   "id": "364c064b-2f66-4a27-bd02-65a229795b15",
   "metadata": {},
   "outputs": [],
   "source": [
    "Flight3.to_csv('Flight_Price_dataset_3.csv')"
   ]
  },
  {
   "cell_type": "markdown",
   "id": "c24d37b7-8cb0-470a-9e12-8661eac63cc5",
   "metadata": {},
   "source": [
    "- **Opening Ecomnomy flights from New Dehli to Bombay on 26th June 2022**"
   ]
  },
  {
   "cell_type": "code",
   "execution_count": 36,
   "id": "92e5a758-8fc0-44b3-a5e9-1ffc287a6f71",
   "metadata": {},
   "outputs": [],
   "source": [
    "driver=webdriver.Chrome(r'C:\\chromedriver.exe')\n",
    "url = \"https://flight.yatra.com/air-search-ui/dom2/trigger?ADT=1&CHD=0&INF=0&class=Economy&destination=BOM&destinationCountry=IN&flexi=0&flight_depart_date=26%2F06%2F2022&hb=0&noOfSegments=1&origin=DEL&originCountry=IN&type=O&unique=180836675501&version=1.1&viewName=normal\"\n",
    "time.sleep(2)"
   ]
  },
  {
   "cell_type": "code",
   "execution_count": 37,
   "id": "40bb0ace-90bd-4867-94b3-0e7149adb86a",
   "metadata": {},
   "outputs": [],
   "source": [
    "Airlines = []\n",
    "Aeroplane = []\n",
    "Dept_time = []\n",
    "Arrival_time = []\n",
    "Source = []\n",
    "Destination = []\n",
    "Duration = []\n",
    "Stops = []\n",
    "Date = []\n",
    "Price = []"
   ]
  },
  {
   "cell_type": "code",
   "execution_count": 38,
   "id": "1394671f-f1ed-465f-88f5-eb196c58e42b",
   "metadata": {},
   "outputs": [
    {
     "name": "stderr",
     "output_type": "stream",
     "text": [
      "100%|██████████| 50/50 [00:19<00:00,  2.59it/s]\n"
     ]
    }
   ],
   "source": [
    "from tqdm import tqdm\n",
    "for _ in tqdm (range(0,50)):\n",
    "    time.sleep(0.1)\n",
    "    driver.execute_script(\"window.scrollBy(0,2000)\",\"\")\n",
    "    time.sleep(0.2)\n",
    "    driver.execute_script(\"window.scrollBy(0,-500)\",\"\")"
   ]
  },
  {
   "cell_type": "code",
   "execution_count": 39,
   "id": "b9bf94c9-ea9a-47e3-b663-ab70f0655a90",
   "metadata": {},
   "outputs": [
    {
     "data": {
      "text/plain": [
       "177"
      ]
     },
     "execution_count": 39,
     "metadata": {},
     "output_type": "execute_result"
    }
   ],
   "source": [
    "flights=driver.find_elements_by_xpath('//div[@class=\"flight-det table full-width clearfix\"]')\n",
    "len(flights)"
   ]
  },
  {
   "cell_type": "code",
   "execution_count": 40,
   "id": "6a24b87d-6c2a-4f9d-8fff-416c2708420f",
   "metadata": {},
   "outputs": [
    {
     "name": "stderr",
     "output_type": "stream",
     "text": [
      "100%|██████████| 177/177 [00:03<00:00, 55.46it/s]\n",
      "100%|██████████| 177/177 [00:03<00:00, 54.62it/s]\n",
      "100%|██████████| 177/177 [00:03<00:00, 49.92it/s]\n",
      "100%|██████████| 177/177 [00:03<00:00, 53.92it/s]\n",
      "100%|██████████| 177/177 [00:03<00:00, 58.07it/s]\n",
      "100%|██████████| 177/177 [00:03<00:00, 56.24it/s]\n",
      "100%|██████████| 177/177 [00:03<00:00, 56.63it/s]\n",
      "100%|██████████| 177/177 [00:03<00:00, 50.88it/s]\n"
     ]
    }
   ],
   "source": [
    "# Extracting Airlines Name Via Xpath\n",
    "airlines = driver.find_elements_by_xpath(\"//div[@class='fs-13 airline-name no-pad col-8']/span\")\n",
    "for i in airlines:\n",
    "    Airlines.append(i.text.replace(\"\\n\",\" \"))\n",
    "else :\n",
    "    pass\n",
    "\n",
    "# Extracting Aeroplane model  via xpath\n",
    "aeroplanes = driver.find_elements_by_xpath('//p[@class=\"normal fs-11 font-lightestgrey no-wrap fl-no\"]/span')\n",
    "for i in tqdm(aeroplanes):\n",
    "    Aeroplane.append(i.text) \n",
    "else:\n",
    "    pass\n",
    "\n",
    "# Extracting Departure Time of Filght via Xpath\n",
    "dept_times = driver.find_elements_by_xpath('//div[@class=\"i-b pr\"]')\n",
    "for i in tqdm(dept_times):\n",
    "    Dept_time.append(i.text)\n",
    "else :\n",
    "    pass\n",
    "\n",
    "# Extracting Arrival Time via xpath\n",
    "arrival = driver.find_elements_by_xpath('//p[@class=\"bold fs-15 mb-2 pr time\"]')\n",
    "for i in tqdm(arrival):\n",
    "    Arrival_time.append(i.text)\n",
    "else :\n",
    "    pass\n",
    "\n",
    "# Extracting Source of flight via Xpath\n",
    "source = driver.find_elements_by_xpath(\"//div[@class='i-b col-4 no-wrap text-right dtime col-3']/p\")\n",
    "for i in tqdm(source):\n",
    "    Source.append(i.text)\n",
    "else :\n",
    "    pass\n",
    "\n",
    "# Extracting Destination of Flights via Xpath\n",
    "destination = driver.find_elements_by_xpath('//div[@class=\"i-b pdd-0 text-left atime col-5\"]/p[2]')\n",
    "for i in tqdm(destination):\n",
    "    Destination.append(i.text)\n",
    "else:\n",
    "    pass\n",
    "\n",
    "# Extracting Duration of Flights via Xpath\n",
    "duration = driver.find_elements_by_xpath('//div[@class=\"stop-cont pl-13\"]/p')\n",
    "for i in tqdm(duration):\n",
    "    Duration.append(i.text)\n",
    "else:\n",
    "    pass\n",
    "\n",
    "# Extracting stop details via Xpath\n",
    "stop = driver.find_elements_by_xpath(\"//div[@class='stop-cont pl-13']/div/span\")\n",
    "for i in tqdm(stop):\n",
    "    Stops.append(i.text)\n",
    "else:\n",
    "    pass\n",
    "\n",
    "# Extracting Price of Flights via Xpath\n",
    "count = 0\n",
    "price = driver.find_elements_by_xpath('//div[@class=\"i-b tipsy fare-summary-tooltip fs-18\"]')\n",
    "for i in tqdm(price):\n",
    "    Price.append(i.text.replace(',',''))\n",
    "    count = count +1\n",
    "else:\n",
    "    count = count +1\n",
    "    pass"
   ]
  },
  {
   "cell_type": "code",
   "execution_count": 44,
   "id": "949e62d0-46e1-4e87-b9ff-dffc09b2d035",
   "metadata": {},
   "outputs": [
    {
     "name": "stderr",
     "output_type": "stream",
     "text": [
      "100%|██████████| 177/177 [00:00<00:00, 177903.62it/s]\n"
     ]
    }
   ],
   "source": [
    "# Clicking on Flights details element\n",
    "Button = driver.find_elements_by_xpath('//div[@class=\"link-color fs-12 cursor-pointer\"]/span')\n",
    "driver.execute_script(\"arguments[0].click();\", WebDriverWait(driver, 20).until(EC.element_to_be_clickable((By.XPATH,'//div[@class=\"link-color fs-12 cursor-pointer\"]/span'))))\n",
    "time.sleep(0.25)\n",
    "\n",
    "# Extracting Date of Flights via Xpath\n",
    "date = driver.find_element_by_xpath('//div[@class=\"bold fs-12 mb-5\"]')\n",
    "a = date.text\n",
    "for i in tqdm(range(count-1)):\n",
    "    Date.append(a)\n",
    "else:\n",
    "    pass"
   ]
  },
  {
   "cell_type": "code",
   "execution_count": 45,
   "id": "72eac82e-e586-41d0-bdcd-027ec4a78e99",
   "metadata": {},
   "outputs": [
    {
     "data": {
      "text/plain": [
       "(177, 177, 177, 177, 177, 177, 177, 177, 177, 177)"
      ]
     },
     "execution_count": 45,
     "metadata": {},
     "output_type": "execute_result"
    }
   ],
   "source": [
    "len(Aeroplane), len(Airlines), len(Dept_time), len(Arrival_time), len(Source), len(Destination), len(Duration), len(Stops),len(Price), len(Date)"
   ]
  },
  {
   "cell_type": "code",
   "execution_count": 46,
   "id": "d0944cd0-0798-4a22-925c-4fc0650e61c5",
   "metadata": {},
   "outputs": [
    {
     "data": {
      "text/html": [
       "<div>\n",
       "<style scoped>\n",
       "    .dataframe tbody tr th:only-of-type {\n",
       "        vertical-align: middle;\n",
       "    }\n",
       "\n",
       "    .dataframe tbody tr th {\n",
       "        vertical-align: top;\n",
       "    }\n",
       "\n",
       "    .dataframe thead th {\n",
       "        text-align: right;\n",
       "    }\n",
       "</style>\n",
       "<table border=\"1\" class=\"dataframe\">\n",
       "  <thead>\n",
       "    <tr style=\"text-align: right;\">\n",
       "      <th></th>\n",
       "      <th>Airline</th>\n",
       "      <th>Aeroplane</th>\n",
       "      <th>Date</th>\n",
       "      <th>Departure_Time</th>\n",
       "      <th>Arrival_Time</th>\n",
       "      <th>Source</th>\n",
       "      <th>Destination</th>\n",
       "      <th>Stops</th>\n",
       "      <th>Duration</th>\n",
       "      <th>Price</th>\n",
       "    </tr>\n",
       "  </thead>\n",
       "  <tbody>\n",
       "    <tr>\n",
       "      <th>0</th>\n",
       "      <td>Vistara</td>\n",
       "      <td>UK-927</td>\n",
       "      <td>Sun, 26 Jun 2022</td>\n",
       "      <td>09:30</td>\n",
       "      <td>11:35</td>\n",
       "      <td>New Delhi</td>\n",
       "      <td>Mumbai</td>\n",
       "      <td>Non Stop</td>\n",
       "      <td>2h 05m</td>\n",
       "      <td>8578</td>\n",
       "    </tr>\n",
       "    <tr>\n",
       "      <th>1</th>\n",
       "      <td>Vistara</td>\n",
       "      <td>UK-953</td>\n",
       "      <td>Sun, 26 Jun 2022</td>\n",
       "      <td>20:40</td>\n",
       "      <td>22:50</td>\n",
       "      <td>New Delhi</td>\n",
       "      <td>Mumbai</td>\n",
       "      <td>Non Stop</td>\n",
       "      <td>2h 10m</td>\n",
       "      <td>8578</td>\n",
       "    </tr>\n",
       "    <tr>\n",
       "      <th>2</th>\n",
       "      <td>Vistara</td>\n",
       "      <td>UK-943</td>\n",
       "      <td>Sun, 26 Jun 2022</td>\n",
       "      <td>07:30</td>\n",
       "      <td>09:45</td>\n",
       "      <td>New Delhi</td>\n",
       "      <td>Mumbai</td>\n",
       "      <td>Non Stop</td>\n",
       "      <td>2h 15m</td>\n",
       "      <td>8578</td>\n",
       "    </tr>\n",
       "    <tr>\n",
       "      <th>3</th>\n",
       "      <td>Vistara</td>\n",
       "      <td>UK-963</td>\n",
       "      <td>Sun, 26 Jun 2022</td>\n",
       "      <td>08:50</td>\n",
       "      <td>11:10</td>\n",
       "      <td>New Delhi</td>\n",
       "      <td>Mumbai</td>\n",
       "      <td>Non Stop</td>\n",
       "      <td>2h 20m</td>\n",
       "      <td>8578</td>\n",
       "    </tr>\n",
       "    <tr>\n",
       "      <th>4</th>\n",
       "      <td>IndiGo</td>\n",
       "      <td>6E-2138</td>\n",
       "      <td>Sun, 26 Jun 2022</td>\n",
       "      <td>11:55</td>\n",
       "      <td>13:55</td>\n",
       "      <td>New Delhi</td>\n",
       "      <td>Mumbai</td>\n",
       "      <td>Non Stop</td>\n",
       "      <td>2h 00m</td>\n",
       "      <td>8579</td>\n",
       "    </tr>\n",
       "  </tbody>\n",
       "</table>\n",
       "</div>"
      ],
      "text/plain": [
       "   Airline Aeroplane              Date Departure_Time Arrival_Time     Source  \\\n",
       "0  Vistara    UK-927  Sun, 26 Jun 2022          09:30        11:35  New Delhi   \n",
       "1  Vistara    UK-953  Sun, 26 Jun 2022          20:40        22:50  New Delhi   \n",
       "2  Vistara    UK-943  Sun, 26 Jun 2022          07:30        09:45  New Delhi   \n",
       "3  Vistara    UK-963  Sun, 26 Jun 2022          08:50        11:10  New Delhi   \n",
       "4   IndiGo   6E-2138  Sun, 26 Jun 2022          11:55        13:55  New Delhi   \n",
       "\n",
       "  Destination     Stops Duration Price  \n",
       "0      Mumbai  Non Stop   2h 05m  8578  \n",
       "1      Mumbai  Non Stop   2h 10m  8578  \n",
       "2      Mumbai  Non Stop   2h 15m  8578  \n",
       "3      Mumbai  Non Stop   2h 20m  8578  \n",
       "4      Mumbai  Non Stop   2h 00m  8579  "
      ]
     },
     "execution_count": 46,
     "metadata": {},
     "output_type": "execute_result"
    }
   ],
   "source": [
    "Flight4=pd.DataFrame()\n",
    "Flight4[\"Airline\"]=Airlines\n",
    "Flight4[\"Aeroplane\"] = Aeroplane\n",
    "Flight4[\"Date\"]=Date\n",
    "Flight4[\"Departure_Time\"]=Dept_time\n",
    "Flight4[\"Arrival_Time\"]=Arrival_time\n",
    "Flight4[\"Source\"]=Source\n",
    "Flight4[\"Destination\"]=Destination\n",
    "Flight4[\"Stops\"]=Stops\n",
    "Flight4[\"Duration\"]=Duration\n",
    "Flight4[\"Price\"]=Price\n",
    "Flight4.head()"
   ]
  },
  {
   "cell_type": "code",
   "execution_count": 47,
   "id": "ce62e036-bd54-4770-bc56-eb336971b863",
   "metadata": {},
   "outputs": [],
   "source": [
    "Flight4.to_csv('Flight_Price_dataset_4.csv')"
   ]
  },
  {
   "cell_type": "markdown",
   "id": "b91f80b4-21d3-40b4-922d-b810fafdce39",
   "metadata": {},
   "source": [
    "- **Opening Ecomnomy flights from New Dehli to Bombay on 27th June 2022**"
   ]
  },
  {
   "cell_type": "code",
   "execution_count": 71,
   "id": "8df6d304-d630-44cc-9cba-0fb1863fccc5",
   "metadata": {},
   "outputs": [],
   "source": [
    "driver=webdriver.Chrome(r'C:\\chromedriver.exe')\n",
    "url = \"https://flight.yatra.com/air-search-ui/dom2/trigger?ADT=1&CHD=0&INF=0&class=Economy&destination=BOM&destinationCountry=IN&flexi=0&flight_depart_date=27%2F06%2F2022&hb=0&noOfSegments=1&origin=DEL&originCountry=IN&type=O&unique=12464032774&viewName=normal\"\n",
    "time.sleep(2)"
   ]
  },
  {
   "cell_type": "code",
   "execution_count": 72,
   "id": "26d8fbd7-764f-4b29-95d4-1a8265d6d7e3",
   "metadata": {},
   "outputs": [],
   "source": [
    "Airlines = []\n",
    "Aeroplane = []\n",
    "Dept_time = []\n",
    "Arrival_time = []\n",
    "Source = []\n",
    "Destination = []\n",
    "Duration = []\n",
    "Stops = []\n",
    "Date = []\n",
    "Price = []"
   ]
  },
  {
   "cell_type": "code",
   "execution_count": 75,
   "id": "6914d9b2-1564-4d6e-8f07-93651e8afbb2",
   "metadata": {},
   "outputs": [
    {
     "name": "stderr",
     "output_type": "stream",
     "text": [
      "100%|██████████| 50/50 [00:17<00:00,  2.88it/s]\n"
     ]
    }
   ],
   "source": [
    "from tqdm import tqdm\n",
    "for _ in tqdm (range(0,50)):\n",
    "    time.sleep(0.1)\n",
    "    driver.execute_script(\"window.scrollBy(0,2000)\",\"\")\n",
    "    time.sleep(0.2)\n",
    "    driver.execute_script(\"window.scrollBy(0,-500)\",\"\")"
   ]
  },
  {
   "cell_type": "code",
   "execution_count": 76,
   "id": "66b7b484-1b86-4db6-bed0-e753f65a5017",
   "metadata": {},
   "outputs": [
    {
     "data": {
      "text/plain": [
       "116"
      ]
     },
     "execution_count": 76,
     "metadata": {},
     "output_type": "execute_result"
    }
   ],
   "source": [
    "flights=driver.find_elements_by_xpath('//div[@class=\"flight-det table full-width clearfix\"]')\n",
    "len(flights)"
   ]
  },
  {
   "cell_type": "code",
   "execution_count": 77,
   "id": "4f098d1c-3042-42a4-bb0c-1bc63016e030",
   "metadata": {},
   "outputs": [
    {
     "name": "stderr",
     "output_type": "stream",
     "text": [
      "100%|██████████| 116/116 [00:01<00:00, 60.86it/s]\n",
      "100%|██████████| 116/116 [00:01<00:00, 61.38it/s]\n",
      "100%|██████████| 116/116 [00:01<00:00, 60.53it/s]\n",
      "100%|██████████| 116/116 [00:02<00:00, 56.57it/s]\n",
      "100%|██████████| 116/116 [00:02<00:00, 51.31it/s]\n",
      "100%|██████████| 116/116 [00:02<00:00, 54.88it/s]\n",
      "100%|██████████| 116/116 [00:02<00:00, 50.56it/s]\n",
      "100%|██████████| 116/116 [00:02<00:00, 43.90it/s]\n"
     ]
    }
   ],
   "source": [
    "# Extracting Airlines Name Via Xpath\n",
    "airlines = driver.find_elements_by_xpath(\"//div[@class='fs-13 airline-name no-pad col-8']/span\")\n",
    "for i in airlines:\n",
    "    Airlines.append(i.text.replace(\"\\n\",\" \"))\n",
    "else :\n",
    "    pass\n",
    "\n",
    "# Extracting Aeroplane model  via xpath\n",
    "aeroplanes = driver.find_elements_by_xpath('//p[@class=\"normal fs-11 font-lightestgrey no-wrap fl-no\"]/span')\n",
    "for i in tqdm(aeroplanes):\n",
    "    Aeroplane.append(i.text) \n",
    "else:\n",
    "    pass\n",
    "\n",
    "# Extracting Departure Time of Filght via Xpath\n",
    "dept_times = driver.find_elements_by_xpath('//div[@class=\"i-b pr\"]')\n",
    "for i in tqdm(dept_times):\n",
    "    Dept_time.append(i.text)\n",
    "else :\n",
    "    pass\n",
    "\n",
    "# Extracting Arrival Time via xpath\n",
    "arrival = driver.find_elements_by_xpath('//p[@class=\"bold fs-15 mb-2 pr time\"]')\n",
    "for i in tqdm(arrival):\n",
    "    Arrival_time.append(i.text)\n",
    "else :\n",
    "    pass\n",
    "\n",
    "# Extracting Source of flight via Xpath\n",
    "source = driver.find_elements_by_xpath(\"//div[@class='i-b col-4 no-wrap text-right dtime col-3']/p\")\n",
    "for i in tqdm(source):\n",
    "    Source.append(i.text)\n",
    "else :\n",
    "    pass\n",
    "\n",
    "# Extracting Destination of Flights via Xpath\n",
    "destination = driver.find_elements_by_xpath('//div[@class=\"i-b pdd-0 text-left atime col-5\"]/p[2]')\n",
    "for i in tqdm(destination):\n",
    "    Destination.append(i.text)\n",
    "else:\n",
    "    pass\n",
    "\n",
    "# Extracting Duration of Flights via Xpath\n",
    "duration = driver.find_elements_by_xpath('//div[@class=\"stop-cont pl-13\"]/p')\n",
    "for i in tqdm(duration):\n",
    "    Duration.append(i.text)\n",
    "else:\n",
    "    pass\n",
    "\n",
    "# Extracting stop details via Xpath\n",
    "stop = driver.find_elements_by_xpath(\"//div[@class='stop-cont pl-13']/div/span\")\n",
    "for i in tqdm(stop):\n",
    "    Stops.append(i.text)\n",
    "else:\n",
    "    pass\n",
    "\n",
    "# Extracting Price of Flights via Xpath\n",
    "count = 0\n",
    "price = driver.find_elements_by_xpath('//div[@class=\"i-b tipsy fare-summary-tooltip fs-18\"]')\n",
    "for i in tqdm(price):\n",
    "    Price.append(i.text.replace(',',''))\n",
    "    count = count +1\n",
    "else:\n",
    "    count = count +1\n",
    "    pass"
   ]
  },
  {
   "cell_type": "code",
   "execution_count": 78,
   "id": "d46c0743-4bec-4e56-afbe-e7546b6d5b44",
   "metadata": {},
   "outputs": [
    {
     "name": "stderr",
     "output_type": "stream",
     "text": [
      "100%|██████████| 116/116 [00:00<?, ?it/s]\n"
     ]
    }
   ],
   "source": [
    "# Clicking on Flights details element\n",
    "Button = driver.find_elements_by_xpath('//div[@class=\"link-color fs-12 cursor-pointer\"]/span')\n",
    "driver.execute_script(\"arguments[0].click();\", WebDriverWait(driver, 20).until(EC.element_to_be_clickable((By.XPATH,'//div[@class=\"link-color fs-12 cursor-pointer\"]/span'))))\n",
    "time.sleep(0.25)\n",
    "\n",
    "# Extracting Date of Flights via Xpath\n",
    "date = driver.find_element_by_xpath('//div[@class=\"bold fs-12 mb-5\"]')\n",
    "a = date.text\n",
    "for i in tqdm(range(count-1)):\n",
    "    Date.append(a)\n",
    "else:\n",
    "    pass"
   ]
  },
  {
   "cell_type": "code",
   "execution_count": 79,
   "id": "4d88132f-68f1-441a-afb8-7d8595fc2dbf",
   "metadata": {},
   "outputs": [
    {
     "data": {
      "text/plain": [
       "(116, 116, 116, 116, 116, 116, 116, 116, 116, 116)"
      ]
     },
     "execution_count": 79,
     "metadata": {},
     "output_type": "execute_result"
    }
   ],
   "source": [
    "len(Aeroplane), len(Airlines), len(Dept_time), len(Arrival_time), len(Source), len(Destination), len(Duration), len(Stops),len(Price), len(Date)"
   ]
  },
  {
   "cell_type": "code",
   "execution_count": 80,
   "id": "b6e7252b-7b9a-4d7f-8761-41342fead4f2",
   "metadata": {},
   "outputs": [
    {
     "data": {
      "text/html": [
       "<div>\n",
       "<style scoped>\n",
       "    .dataframe tbody tr th:only-of-type {\n",
       "        vertical-align: middle;\n",
       "    }\n",
       "\n",
       "    .dataframe tbody tr th {\n",
       "        vertical-align: top;\n",
       "    }\n",
       "\n",
       "    .dataframe thead th {\n",
       "        text-align: right;\n",
       "    }\n",
       "</style>\n",
       "<table border=\"1\" class=\"dataframe\">\n",
       "  <thead>\n",
       "    <tr style=\"text-align: right;\">\n",
       "      <th></th>\n",
       "      <th>Airline</th>\n",
       "      <th>Aeroplane</th>\n",
       "      <th>Date</th>\n",
       "      <th>Departure_Time</th>\n",
       "      <th>Arrival_Time</th>\n",
       "      <th>Source</th>\n",
       "      <th>Destination</th>\n",
       "      <th>Stops</th>\n",
       "      <th>Duration</th>\n",
       "      <th>Price</th>\n",
       "    </tr>\n",
       "  </thead>\n",
       "  <tbody>\n",
       "    <tr>\n",
       "      <th>0</th>\n",
       "      <td>Vistara</td>\n",
       "      <td>UK-981</td>\n",
       "      <td>Mon, 27 Jun 2022</td>\n",
       "      <td>21:30</td>\n",
       "      <td>23:30</td>\n",
       "      <td>New Delhi</td>\n",
       "      <td>Mumbai</td>\n",
       "      <td>Non Stop</td>\n",
       "      <td>2h 00m</td>\n",
       "      <td>8578</td>\n",
       "    </tr>\n",
       "    <tr>\n",
       "      <th>1</th>\n",
       "      <td>Vistara</td>\n",
       "      <td>UK-927</td>\n",
       "      <td>Mon, 27 Jun 2022</td>\n",
       "      <td>09:30</td>\n",
       "      <td>11:35</td>\n",
       "      <td>New Delhi</td>\n",
       "      <td>Mumbai</td>\n",
       "      <td>Non Stop</td>\n",
       "      <td>2h 05m</td>\n",
       "      <td>8578</td>\n",
       "    </tr>\n",
       "    <tr>\n",
       "      <th>2</th>\n",
       "      <td>Vistara</td>\n",
       "      <td>UK-993</td>\n",
       "      <td>Mon, 27 Jun 2022</td>\n",
       "      <td>12:50</td>\n",
       "      <td>15:00</td>\n",
       "      <td>New Delhi</td>\n",
       "      <td>Mumbai</td>\n",
       "      <td>Non Stop</td>\n",
       "      <td>2h 10m</td>\n",
       "      <td>8578</td>\n",
       "    </tr>\n",
       "    <tr>\n",
       "      <th>3</th>\n",
       "      <td>Vistara</td>\n",
       "      <td>UK-951</td>\n",
       "      <td>Mon, 27 Jun 2022</td>\n",
       "      <td>14:20</td>\n",
       "      <td>16:30</td>\n",
       "      <td>New Delhi</td>\n",
       "      <td>Mumbai</td>\n",
       "      <td>Non Stop</td>\n",
       "      <td>2h 10m</td>\n",
       "      <td>8578</td>\n",
       "    </tr>\n",
       "    <tr>\n",
       "      <th>4</th>\n",
       "      <td>Vistara</td>\n",
       "      <td>UK-933</td>\n",
       "      <td>Mon, 27 Jun 2022</td>\n",
       "      <td>15:30</td>\n",
       "      <td>17:40</td>\n",
       "      <td>New Delhi</td>\n",
       "      <td>Mumbai</td>\n",
       "      <td>Non Stop</td>\n",
       "      <td>2h 10m</td>\n",
       "      <td>8578</td>\n",
       "    </tr>\n",
       "  </tbody>\n",
       "</table>\n",
       "</div>"
      ],
      "text/plain": [
       "   Airline Aeroplane              Date Departure_Time Arrival_Time     Source  \\\n",
       "0  Vistara    UK-981  Mon, 27 Jun 2022          21:30        23:30  New Delhi   \n",
       "1  Vistara    UK-927  Mon, 27 Jun 2022          09:30        11:35  New Delhi   \n",
       "2  Vistara    UK-993  Mon, 27 Jun 2022          12:50        15:00  New Delhi   \n",
       "3  Vistara    UK-951  Mon, 27 Jun 2022          14:20        16:30  New Delhi   \n",
       "4  Vistara    UK-933  Mon, 27 Jun 2022          15:30        17:40  New Delhi   \n",
       "\n",
       "  Destination     Stops Duration Price  \n",
       "0      Mumbai  Non Stop   2h 00m  8578  \n",
       "1      Mumbai  Non Stop   2h 05m  8578  \n",
       "2      Mumbai  Non Stop   2h 10m  8578  \n",
       "3      Mumbai  Non Stop   2h 10m  8578  \n",
       "4      Mumbai  Non Stop   2h 10m  8578  "
      ]
     },
     "execution_count": 80,
     "metadata": {},
     "output_type": "execute_result"
    }
   ],
   "source": [
    "Flight5=pd.DataFrame()\n",
    "Flight5[\"Airline\"]=Airlines\n",
    "Flight5[\"Aeroplane\"] =Aeroplane\n",
    "Flight5[\"Date\"]=Date\n",
    "Flight5[\"Departure_Time\"]=Dept_time\n",
    "Flight5[\"Arrival_Time\"]=Arrival_time\n",
    "Flight5[\"Source\"]=Source\n",
    "Flight5[\"Destination\"]=Destination\n",
    "Flight5[\"Stops\"]=Stops\n",
    "Flight5[\"Duration\"]=Duration\n",
    "Flight5[\"Price\"]=Price\n",
    "Flight5.head()"
   ]
  },
  {
   "cell_type": "code",
   "execution_count": 114,
   "id": "ba0c152f-8945-422a-bf65-aff86a1b8c8f",
   "metadata": {},
   "outputs": [],
   "source": [
    "Flight5.to_csv('Flight_Price_dataset_5.csv')"
   ]
  },
  {
   "cell_type": "markdown",
   "id": "8b18ce49-3061-452f-948e-52f7a3cc58cb",
   "metadata": {},
   "source": [
    "- **Opening Ecomnomy flights from New Dehli to Bombay on 28th June 2022**"
   ]
  },
  {
   "cell_type": "code",
   "execution_count": 81,
   "id": "c495010f-4fdf-4176-8657-82bffbf707b4",
   "metadata": {},
   "outputs": [],
   "source": [
    "driver=webdriver.Chrome(r'C:\\chromedriver.exe')\n",
    "url = \"https://flight.yatra.com/air-search-ui/dom2/trigger?ADT=1&CHD=0&INF=0&class=Economy&destination=BOM&destinationCountry=IN&flexi=0&flight_depart_date=28%2F06%2F2022&hb=0&noOfSegments=1&origin=DEL&originCountry=IN&type=O&unique=461220601422&version=1.1&viewName=normal\""
   ]
  },
  {
   "cell_type": "code",
   "execution_count": 82,
   "id": "89291c01-6195-4825-88cd-c0350123266f",
   "metadata": {},
   "outputs": [],
   "source": [
    "Airlines = []\n",
    "Aeroplane = []\n",
    "Dept_time = []\n",
    "Arrival_time = []\n",
    "Source = []\n",
    "Destination = []\n",
    "Duration = []\n",
    "Stops = []\n",
    "Date = []\n",
    "Price = []"
   ]
  },
  {
   "cell_type": "code",
   "execution_count": 85,
   "id": "3b47442b-693f-4795-ba05-30810e451ffd",
   "metadata": {},
   "outputs": [
    {
     "name": "stderr",
     "output_type": "stream",
     "text": [
      "100%|██████████| 50/50 [00:52<00:00,  1.05s/it]\n"
     ]
    }
   ],
   "source": [
    "from tqdm import tqdm\n",
    "for _ in tqdm (range(0,50)):\n",
    "    time.sleep(0.1)\n",
    "    driver.execute_script(\"window.scrollBy(0,2000)\",\"\")\n",
    "    time.sleep(0.2)\n",
    "    driver.execute_script(\"window.scrollBy(0,-500)\",\"\")"
   ]
  },
  {
   "cell_type": "code",
   "execution_count": 86,
   "id": "ed3e3c29-1bb7-4367-b656-a7f8511b6196",
   "metadata": {},
   "outputs": [
    {
     "data": {
      "text/plain": [
       "164"
      ]
     },
     "execution_count": 86,
     "metadata": {},
     "output_type": "execute_result"
    }
   ],
   "source": [
    "flights=driver.find_elements_by_xpath('//div[@class=\"flight-det table full-width clearfix\"]')\n",
    "len(flights)"
   ]
  },
  {
   "cell_type": "code",
   "execution_count": 87,
   "id": "3435766e-f639-4a2b-9c24-f040ea0e96fe",
   "metadata": {},
   "outputs": [
    {
     "name": "stderr",
     "output_type": "stream",
     "text": [
      "100%|██████████| 164/164 [00:03<00:00, 53.53it/s]\n",
      "100%|██████████| 164/164 [00:03<00:00, 52.88it/s]\n",
      "100%|██████████| 164/164 [00:03<00:00, 52.84it/s]\n",
      "100%|██████████| 164/164 [00:02<00:00, 56.01it/s]\n",
      "100%|██████████| 164/164 [00:02<00:00, 55.07it/s]\n",
      "100%|██████████| 164/164 [00:02<00:00, 56.87it/s]\n",
      "100%|██████████| 164/164 [00:02<00:00, 55.49it/s]\n",
      "100%|██████████| 164/164 [00:02<00:00, 54.76it/s]\n"
     ]
    }
   ],
   "source": [
    "# Extracting Airlines Name Via Xpath\n",
    "airlines = driver.find_elements_by_xpath(\"//div[@class='fs-13 airline-name no-pad col-8']/span\")\n",
    "for i in airlines:\n",
    "    Airlines.append(i.text.replace(\"\\n\",\" \"))\n",
    "else :\n",
    "    pass\n",
    "\n",
    "# Extracting Aeroplane model  via xpath\n",
    "aeroplanes = driver.find_elements_by_xpath('//p[@class=\"normal fs-11 font-lightestgrey no-wrap fl-no\"]/span')\n",
    "for i in tqdm(aeroplanes):\n",
    "    Aeroplane.append(i.text) \n",
    "else:\n",
    "    pass\n",
    "\n",
    "# Extracting Departure Time of Filght via Xpath\n",
    "dept_times = driver.find_elements_by_xpath('//div[@class=\"i-b pr\"]')\n",
    "for i in tqdm(dept_times):\n",
    "    Dept_time.append(i.text)\n",
    "else :\n",
    "    pass\n",
    "\n",
    "# Extracting Arrival Time via xpath\n",
    "arrival = driver.find_elements_by_xpath('//p[@class=\"bold fs-15 mb-2 pr time\"]')\n",
    "for i in tqdm(arrival):\n",
    "    Arrival_time.append(i.text)\n",
    "else :\n",
    "    pass\n",
    "\n",
    "# Extracting Source of flight via Xpath\n",
    "source = driver.find_elements_by_xpath(\"//div[@class='i-b col-4 no-wrap text-right dtime col-3']/p\")\n",
    "for i in tqdm(source):\n",
    "    Source.append(i.text)\n",
    "else :\n",
    "    pass\n",
    "\n",
    "# Extracting Destination of Flights via Xpath\n",
    "destination = driver.find_elements_by_xpath('//div[@class=\"i-b pdd-0 text-left atime col-5\"]/p[2]')\n",
    "for i in tqdm(destination):\n",
    "    Destination.append(i.text)\n",
    "else:\n",
    "    pass\n",
    "\n",
    "# Extracting Duration of Flights via Xpath\n",
    "duration = driver.find_elements_by_xpath('//div[@class=\"stop-cont pl-13\"]/p')\n",
    "for i in tqdm(duration):\n",
    "    Duration.append(i.text)\n",
    "else:\n",
    "    pass\n",
    "\n",
    "# Extracting stop details via Xpath\n",
    "stop = driver.find_elements_by_xpath(\"//div[@class='stop-cont pl-13']/div/span\")\n",
    "for i in tqdm(stop):\n",
    "    Stops.append(i.text)\n",
    "else:\n",
    "    pass\n",
    "\n",
    "# Extracting Price of Flights via Xpath\n",
    "count = 0\n",
    "price = driver.find_elements_by_xpath('//div[@class=\"i-b tipsy fare-summary-tooltip fs-18\"]')\n",
    "for i in tqdm(price):\n",
    "    Price.append(i.text.replace(',',''))\n",
    "    count = count +1\n",
    "else:\n",
    "    count = count +1\n",
    "    pass"
   ]
  },
  {
   "cell_type": "code",
   "execution_count": 112,
   "id": "f4c5c5b5-8102-4382-b2a8-c3cf0d8d9274",
   "metadata": {},
   "outputs": [
    {
     "name": "stderr",
     "output_type": "stream",
     "text": [
      "100%|██████████| 164/164 [00:00<?, ?it/s]\n"
     ]
    }
   ],
   "source": [
    "# Clicking on Flights details element\n",
    "Button = driver.find_elements_by_xpath('//div[@class=\"link-color fs-12 cursor-pointer\"]/span')\n",
    "driver.execute_script(\"arguments[0].click();\", WebDriverWait(driver, 20).until(EC.element_to_be_clickable((By.XPATH,'//div[@class=\"link-color fs-12 cursor-pointer\"]/span'))))\n",
    "time.sleep(0.25)\n",
    "\n",
    "# Extracting Date of Flights via Xpath\n",
    "date = driver.find_element_by_xpath('//div[@class=\"bold fs-12 mb-5\"]')\n",
    "a = date.text\n",
    "for i in tqdm(range(count-1)):\n",
    "    Date.append(a)\n",
    "else:\n",
    "    pass"
   ]
  },
  {
   "cell_type": "code",
   "execution_count": 113,
   "id": "deb5662e-e30f-4c56-b9f9-189d5917f927",
   "metadata": {},
   "outputs": [
    {
     "data": {
      "text/plain": [
       "(164, 164, 164, 164, 164, 164, 164, 164, 164, 164)"
      ]
     },
     "execution_count": 113,
     "metadata": {},
     "output_type": "execute_result"
    }
   ],
   "source": [
    "len(Aeroplane), len(Airlines), len(Dept_time), len(Arrival_time), len(Source), len(Destination), len(Duration), len(Stops),len(Price), len(Date)"
   ]
  },
  {
   "cell_type": "code",
   "execution_count": 117,
   "id": "8859af49-7e77-4cdf-b156-3f92d64dcce3",
   "metadata": {},
   "outputs": [
    {
     "data": {
      "text/html": [
       "<div>\n",
       "<style scoped>\n",
       "    .dataframe tbody tr th:only-of-type {\n",
       "        vertical-align: middle;\n",
       "    }\n",
       "\n",
       "    .dataframe tbody tr th {\n",
       "        vertical-align: top;\n",
       "    }\n",
       "\n",
       "    .dataframe thead th {\n",
       "        text-align: right;\n",
       "    }\n",
       "</style>\n",
       "<table border=\"1\" class=\"dataframe\">\n",
       "  <thead>\n",
       "    <tr style=\"text-align: right;\">\n",
       "      <th></th>\n",
       "      <th>Airline</th>\n",
       "      <th>Aeroplane</th>\n",
       "      <th>Date</th>\n",
       "      <th>Departure_Time</th>\n",
       "      <th>Arrival_Time</th>\n",
       "      <th>Source</th>\n",
       "      <th>Destination</th>\n",
       "      <th>Stops</th>\n",
       "      <th>Duration</th>\n",
       "      <th>Price</th>\n",
       "    </tr>\n",
       "  </thead>\n",
       "  <tbody>\n",
       "    <tr>\n",
       "      <th>0</th>\n",
       "      <td>Air Asia</td>\n",
       "      <td>I5-798/330</td>\n",
       "      <td>Tue, 28 Jun 2022</td>\n",
       "      <td>12:50</td>\n",
       "      <td>19:15</td>\n",
       "      <td>New Delhi</td>\n",
       "      <td>Mumbai</td>\n",
       "      <td>1 Stop</td>\n",
       "      <td>6h 25m</td>\n",
       "      <td>8052</td>\n",
       "    </tr>\n",
       "    <tr>\n",
       "      <th>1</th>\n",
       "      <td>Air Asia</td>\n",
       "      <td>I5-744/632</td>\n",
       "      <td>Tue, 28 Jun 2022</td>\n",
       "      <td>07:25</td>\n",
       "      <td>14:05</td>\n",
       "      <td>New Delhi</td>\n",
       "      <td>Mumbai</td>\n",
       "      <td>1 Stop</td>\n",
       "      <td>6h 40m</td>\n",
       "      <td>8052</td>\n",
       "    </tr>\n",
       "    <tr>\n",
       "      <th>2</th>\n",
       "      <td>Air Asia</td>\n",
       "      <td>I5-552/330</td>\n",
       "      <td>Tue, 28 Jun 2022</td>\n",
       "      <td>10:40</td>\n",
       "      <td>19:15</td>\n",
       "      <td>New Delhi</td>\n",
       "      <td>Mumbai</td>\n",
       "      <td>1 Stop</td>\n",
       "      <td>8h 35m</td>\n",
       "      <td>8052</td>\n",
       "    </tr>\n",
       "    <tr>\n",
       "      <th>3</th>\n",
       "      <td>Air Asia</td>\n",
       "      <td>I5-1732/941</td>\n",
       "      <td>Tue, 28 Jun 2022</td>\n",
       "      <td>21:40</td>\n",
       "      <td>07:15\\n+ 1 day</td>\n",
       "      <td>New Delhi</td>\n",
       "      <td>Mumbai</td>\n",
       "      <td>1 Stop</td>\n",
       "      <td>9h 35m</td>\n",
       "      <td>8052</td>\n",
       "    </tr>\n",
       "    <tr>\n",
       "      <th>4</th>\n",
       "      <td>Air Asia</td>\n",
       "      <td>I5-721/941</td>\n",
       "      <td>Tue, 28 Jun 2022</td>\n",
       "      <td>21:00</td>\n",
       "      <td>07:15\\n+ 1 day</td>\n",
       "      <td>New Delhi</td>\n",
       "      <td>Mumbai</td>\n",
       "      <td>1 Stop</td>\n",
       "      <td>10h 15m</td>\n",
       "      <td>8052</td>\n",
       "    </tr>\n",
       "  </tbody>\n",
       "</table>\n",
       "</div>"
      ],
      "text/plain": [
       "    Airline    Aeroplane              Date Departure_Time    Arrival_Time  \\\n",
       "0  Air Asia   I5-798/330  Tue, 28 Jun 2022          12:50           19:15   \n",
       "1  Air Asia   I5-744/632  Tue, 28 Jun 2022          07:25           14:05   \n",
       "2  Air Asia   I5-552/330  Tue, 28 Jun 2022          10:40           19:15   \n",
       "3  Air Asia  I5-1732/941  Tue, 28 Jun 2022          21:40  07:15\\n+ 1 day   \n",
       "4  Air Asia   I5-721/941  Tue, 28 Jun 2022          21:00  07:15\\n+ 1 day   \n",
       "\n",
       "      Source Destination   Stops Duration Price  \n",
       "0  New Delhi      Mumbai  1 Stop   6h 25m  8052  \n",
       "1  New Delhi      Mumbai  1 Stop   6h 40m  8052  \n",
       "2  New Delhi      Mumbai  1 Stop   8h 35m  8052  \n",
       "3  New Delhi      Mumbai  1 Stop   9h 35m  8052  \n",
       "4  New Delhi      Mumbai  1 Stop  10h 15m  8052  "
      ]
     },
     "execution_count": 117,
     "metadata": {},
     "output_type": "execute_result"
    }
   ],
   "source": [
    "Flight6=pd.DataFrame()\n",
    "Flight6[\"Airline\"]=Airlines\n",
    "Flight6[\"Aeroplane\"] =Aeroplane\n",
    "Flight6[\"Date\"]=Date\n",
    "Flight6[\"Departure_Time\"]=Dept_time\n",
    "Flight6[\"Arrival_Time\"]=Arrival_time\n",
    "Flight6[\"Source\"]=Source\n",
    "Flight6[\"Destination\"]=Destination\n",
    "Flight6[\"Stops\"]=Stops\n",
    "Flight6[\"Duration\"]=Duration\n",
    "Flight6[\"Price\"]=Price\n",
    "Flight6.head()"
   ]
  },
  {
   "cell_type": "code",
   "execution_count": 118,
   "id": "05c26f27-0350-4a30-b413-3404ec89e4d1",
   "metadata": {},
   "outputs": [],
   "source": [
    "Flight6.to_csv('Flight_Price_dataset_6.csv')"
   ]
  },
  {
   "cell_type": "markdown",
   "id": "24f60d9a-7ca6-47c2-add8-95e0ac10896e",
   "metadata": {},
   "source": [
    "- **Opening Ecomnomy flights from New Dehli to Bombay on 29th June 2022**"
   ]
  },
  {
   "cell_type": "code",
   "execution_count": 219,
   "id": "34276b27-bfb9-41a2-9f07-6d497144d593",
   "metadata": {},
   "outputs": [],
   "source": [
    "driver=webdriver.Chrome(r'C:\\chromedriver.exe')\n",
    "url =\"https://flight.yatra.com/air-search-ui/dom2/trigger?ADT=1&CHD=0&INF=0&class=Economy&destination=BOM&destinationCountry=IN&flexi=0&flight_depart_date=29/06/2022&hb=0&noOfSegments=1&origin=DEL&originCountry=IN&type=O&unique=496931500665&viewName=normal\""
   ]
  },
  {
   "cell_type": "code",
   "execution_count": 220,
   "id": "e78d569b-6600-4442-a436-bf34f9bafaae",
   "metadata": {
    "tags": []
   },
   "outputs": [],
   "source": [
    "Airlines = []\n",
    "Aeroplane = []\n",
    "Dept_time = []\n",
    "Arrival_time = []\n",
    "Source = []\n",
    "Destination = []\n",
    "Duration = []\n",
    "Stops = []\n",
    "Date = []\n",
    "Price = []"
   ]
  },
  {
   "cell_type": "code",
   "execution_count": 221,
   "id": "2aaae959-b0cf-4019-b537-7d123c65b7cc",
   "metadata": {},
   "outputs": [
    {
     "name": "stderr",
     "output_type": "stream",
     "text": [
      "100%|██████████| 50/50 [00:29<00:00,  1.68it/s]\n"
     ]
    }
   ],
   "source": [
    "from tqdm import tqdm\n",
    "for _ in tqdm (range(0,50)):\n",
    "    time.sleep(0.1)\n",
    "    driver.execute_script(\"window.scrollBy(0,2000)\",\"\")\n",
    "    time.sleep(0.2)\n",
    "    driver.execute_script(\"window.scrollBy(0,-500)\",\"\")"
   ]
  },
  {
   "cell_type": "code",
   "execution_count": 222,
   "id": "c3211f77-aee0-4bd6-93e5-01b9fafbea34",
   "metadata": {},
   "outputs": [
    {
     "data": {
      "text/plain": [
       "155"
      ]
     },
     "execution_count": 222,
     "metadata": {},
     "output_type": "execute_result"
    }
   ],
   "source": [
    "flights=driver.find_elements_by_xpath('//div[@class=\"flight-det table full-width clearfix\"]')\n",
    "len(flights)"
   ]
  },
  {
   "cell_type": "code",
   "execution_count": 223,
   "id": "d0acd536-ca41-48aa-bf04-cbf2edfd1637",
   "metadata": {},
   "outputs": [
    {
     "name": "stderr",
     "output_type": "stream",
     "text": [
      "100%|██████████| 155/155 [00:02<00:00, 53.62it/s]\n",
      "100%|██████████| 155/155 [00:03<00:00, 49.05it/s]\n",
      "100%|██████████| 155/155 [00:02<00:00, 56.56it/s]\n",
      "100%|██████████| 155/155 [00:02<00:00, 56.04it/s]\n",
      "100%|██████████| 155/155 [00:02<00:00, 57.25it/s]\n",
      "100%|██████████| 155/155 [00:02<00:00, 57.30it/s]\n",
      "100%|██████████| 155/155 [00:02<00:00, 55.39it/s]\n",
      "100%|██████████| 155/155 [00:02<00:00, 53.02it/s]\n"
     ]
    }
   ],
   "source": [
    "# Extracting Airlines Name Via Xpath\n",
    "airlines = driver.find_elements_by_xpath(\"//div[@class='fs-13 airline-name no-pad col-8']/span\")\n",
    "for i in airlines:\n",
    "    Airlines.append(i.text.replace(\"\\n\",\" \"))\n",
    "else :\n",
    "    pass\n",
    "\n",
    "# Extracting Aeroplane model  via xpath\n",
    "aeroplanes = driver.find_elements_by_xpath('//p[@class=\"normal fs-11 font-lightestgrey no-wrap fl-no\"]/span')\n",
    "for i in tqdm(aeroplanes):\n",
    "    Aeroplane.append(i.text) \n",
    "else:\n",
    "    pass\n",
    "\n",
    "# Extracting Departure Time of Filght via Xpath\n",
    "dept_times = driver.find_elements_by_xpath('//div[@class=\"i-b pr\"]')\n",
    "for i in tqdm(dept_times):\n",
    "    Dept_time.append(i.text)\n",
    "else :\n",
    "    pass\n",
    "\n",
    "# Extracting Arrival Time via xpath\n",
    "arrival = driver.find_elements_by_xpath('//p[@class=\"bold fs-15 mb-2 pr time\"]')\n",
    "for i in tqdm(arrival):\n",
    "    Arrival_time.append(i.text)\n",
    "else :\n",
    "    pass\n",
    "\n",
    "# Extracting Source of flight via Xpath\n",
    "source = driver.find_elements_by_xpath(\"//div[@class='i-b col-4 no-wrap text-right dtime col-3']/p\")\n",
    "for i in tqdm(source):\n",
    "    Source.append(i.text)\n",
    "else :\n",
    "    pass\n",
    "\n",
    "# Extracting Destination of Flights via Xpath\n",
    "destination = driver.find_elements_by_xpath('//div[@class=\"i-b pdd-0 text-left atime col-5\"]/p[2]')\n",
    "for i in tqdm(destination):\n",
    "    Destination.append(i.text)\n",
    "else:\n",
    "    pass\n",
    "\n",
    "# Extracting Duration of Flights via Xpath\n",
    "duration = driver.find_elements_by_xpath('//div[@class=\"stop-cont pl-13\"]/p')\n",
    "for i in tqdm(duration):\n",
    "    Duration.append(i.text)\n",
    "else:\n",
    "    pass\n",
    "\n",
    "# Extracting stop details via Xpath\n",
    "stop = driver.find_elements_by_xpath(\"//div[@class='stop-cont pl-13']/div/span\")\n",
    "for i in tqdm(stop):\n",
    "    Stops.append(i.text)\n",
    "else:\n",
    "    pass\n",
    "\n",
    "# Extracting Price of Flights via Xpath\n",
    "count = 0\n",
    "price = driver.find_elements_by_xpath('//div[@class=\"i-b tipsy fare-summary-tooltip fs-18\"]')\n",
    "for i in tqdm(price):\n",
    "    Price.append(i.text.replace(',',''))\n",
    "    count = count +1\n",
    "else:\n",
    "    count = count +1\n",
    "    pass"
   ]
  },
  {
   "cell_type": "code",
   "execution_count": 227,
   "id": "13700c1a-0f58-47ad-9561-c857af533883",
   "metadata": {},
   "outputs": [
    {
     "name": "stderr",
     "output_type": "stream",
     "text": [
      "100%|██████████| 155/155 [00:00<00:00, 155048.20it/s]\n"
     ]
    }
   ],
   "source": [
    "# Clicking on Flights details element\n",
    "Button = driver.find_elements_by_xpath('//div[@class=\"link-color fs-12 cursor-pointer\"]/span')\n",
    "driver.execute_script(\"arguments[0].click();\", WebDriverWait(driver, 20).until(EC.element_to_be_clickable((By.XPATH,'//div[@class=\"link-color fs-12 cursor-pointer\"]/span'))))\n",
    "time.sleep(0.25)\n",
    "\n",
    "# Extracting Date of Flights via Xpath\n",
    "date = driver.find_element_by_xpath('//div[@class=\"bold fs-12 mb-5\"]')\n",
    "a = date.text\n",
    "for i in tqdm(range(count-1)):\n",
    "    Date.append(a)\n",
    "else:\n",
    "    pass"
   ]
  },
  {
   "cell_type": "code",
   "execution_count": 228,
   "id": "336a9ba5-fed5-4f3d-8d6c-6bc676b6234f",
   "metadata": {},
   "outputs": [
    {
     "data": {
      "text/plain": [
       "(155, 155, 155, 155, 155, 155, 155, 155, 155, 155)"
      ]
     },
     "execution_count": 228,
     "metadata": {},
     "output_type": "execute_result"
    }
   ],
   "source": [
    "len(Aeroplane), len(Airlines), len(Dept_time), len(Arrival_time), len(Source), len(Destination), len(Duration), len(Stops),len(Price), len(Date)"
   ]
  },
  {
   "cell_type": "code",
   "execution_count": 229,
   "id": "1ce10c52-282e-4784-9ff9-5d68d1eeb7db",
   "metadata": {},
   "outputs": [
    {
     "data": {
      "text/html": [
       "<div>\n",
       "<style scoped>\n",
       "    .dataframe tbody tr th:only-of-type {\n",
       "        vertical-align: middle;\n",
       "    }\n",
       "\n",
       "    .dataframe tbody tr th {\n",
       "        vertical-align: top;\n",
       "    }\n",
       "\n",
       "    .dataframe thead th {\n",
       "        text-align: right;\n",
       "    }\n",
       "</style>\n",
       "<table border=\"1\" class=\"dataframe\">\n",
       "  <thead>\n",
       "    <tr style=\"text-align: right;\">\n",
       "      <th></th>\n",
       "      <th>Airline</th>\n",
       "      <th>Aeroplane</th>\n",
       "      <th>Date</th>\n",
       "      <th>Departure_Time</th>\n",
       "      <th>Arrival_Time</th>\n",
       "      <th>Source</th>\n",
       "      <th>Destination</th>\n",
       "      <th>Stops</th>\n",
       "      <th>Duration</th>\n",
       "      <th>Price</th>\n",
       "    </tr>\n",
       "  </thead>\n",
       "  <tbody>\n",
       "    <tr>\n",
       "      <th>0</th>\n",
       "      <td>Air Asia</td>\n",
       "      <td>I5-798/330</td>\n",
       "      <td>Wed, 29 Jun 2022</td>\n",
       "      <td>12:50</td>\n",
       "      <td>19:15</td>\n",
       "      <td>New Delhi</td>\n",
       "      <td>Mumbai</td>\n",
       "      <td>1 Stop</td>\n",
       "      <td>6h 25m</td>\n",
       "      <td>8052</td>\n",
       "    </tr>\n",
       "    <tr>\n",
       "      <th>1</th>\n",
       "      <td>Air Asia</td>\n",
       "      <td>I5-744/632</td>\n",
       "      <td>Wed, 29 Jun 2022</td>\n",
       "      <td>07:25</td>\n",
       "      <td>14:05</td>\n",
       "      <td>New Delhi</td>\n",
       "      <td>Mumbai</td>\n",
       "      <td>1 Stop</td>\n",
       "      <td>6h 40m</td>\n",
       "      <td>8052</td>\n",
       "    </tr>\n",
       "    <tr>\n",
       "      <th>2</th>\n",
       "      <td>Air Asia</td>\n",
       "      <td>I5-552/330</td>\n",
       "      <td>Wed, 29 Jun 2022</td>\n",
       "      <td>10:40</td>\n",
       "      <td>19:15</td>\n",
       "      <td>New Delhi</td>\n",
       "      <td>Mumbai</td>\n",
       "      <td>1 Stop</td>\n",
       "      <td>8h 35m</td>\n",
       "      <td>8052</td>\n",
       "    </tr>\n",
       "    <tr>\n",
       "      <th>3</th>\n",
       "      <td>Air Asia</td>\n",
       "      <td>I5-1732/941</td>\n",
       "      <td>Wed, 29 Jun 2022</td>\n",
       "      <td>21:40</td>\n",
       "      <td>07:15\\n+ 1 day</td>\n",
       "      <td>New Delhi</td>\n",
       "      <td>Mumbai</td>\n",
       "      <td>1 Stop</td>\n",
       "      <td>9h 35m</td>\n",
       "      <td>8052</td>\n",
       "    </tr>\n",
       "    <tr>\n",
       "      <th>4</th>\n",
       "      <td>Air Asia</td>\n",
       "      <td>I5-721/941</td>\n",
       "      <td>Wed, 29 Jun 2022</td>\n",
       "      <td>21:00</td>\n",
       "      <td>07:15\\n+ 1 day</td>\n",
       "      <td>New Delhi</td>\n",
       "      <td>Mumbai</td>\n",
       "      <td>1 Stop</td>\n",
       "      <td>10h 15m</td>\n",
       "      <td>8052</td>\n",
       "    </tr>\n",
       "  </tbody>\n",
       "</table>\n",
       "</div>"
      ],
      "text/plain": [
       "    Airline    Aeroplane              Date Departure_Time    Arrival_Time  \\\n",
       "0  Air Asia   I5-798/330  Wed, 29 Jun 2022          12:50           19:15   \n",
       "1  Air Asia   I5-744/632  Wed, 29 Jun 2022          07:25           14:05   \n",
       "2  Air Asia   I5-552/330  Wed, 29 Jun 2022          10:40           19:15   \n",
       "3  Air Asia  I5-1732/941  Wed, 29 Jun 2022          21:40  07:15\\n+ 1 day   \n",
       "4  Air Asia   I5-721/941  Wed, 29 Jun 2022          21:00  07:15\\n+ 1 day   \n",
       "\n",
       "      Source Destination   Stops Duration Price  \n",
       "0  New Delhi      Mumbai  1 Stop   6h 25m  8052  \n",
       "1  New Delhi      Mumbai  1 Stop   6h 40m  8052  \n",
       "2  New Delhi      Mumbai  1 Stop   8h 35m  8052  \n",
       "3  New Delhi      Mumbai  1 Stop   9h 35m  8052  \n",
       "4  New Delhi      Mumbai  1 Stop  10h 15m  8052  "
      ]
     },
     "execution_count": 229,
     "metadata": {},
     "output_type": "execute_result"
    }
   ],
   "source": [
    "Flight7=pd.DataFrame()\n",
    "Flight7[\"Airline\"]=Airlines\n",
    "Flight7[\"Aeroplane\"] =Aeroplane\n",
    "Flight7[\"Date\"]=Date\n",
    "Flight7[\"Departure_Time\"]=Dept_time\n",
    "Flight7[\"Arrival_Time\"]=Arrival_time\n",
    "Flight7[\"Source\"]=Source\n",
    "Flight7[\"Destination\"]=Destination\n",
    "Flight7[\"Stops\"]=Stops\n",
    "Flight7[\"Duration\"]=Duration\n",
    "Flight7[\"Price\"]=Price\n",
    "Flight7.head()"
   ]
  },
  {
   "cell_type": "code",
   "execution_count": 239,
   "id": "9b474e9e-4d7a-4a51-b004-ca3c16386609",
   "metadata": {},
   "outputs": [],
   "source": [
    "Flight7.to_csv('Flight_Price_dataset_7.csv')"
   ]
  },
  {
   "cell_type": "code",
   "execution_count": 230,
   "id": "75bdfde4-374b-4d4a-903f-74d842ce6329",
   "metadata": {},
   "outputs": [],
   "source": [
    "url=\"https://flight.yatra.com/air-search-ui/dom2/trigger?ADT=1&CHD=0&INF=0&class=Economy&destination=BOM&destinationCountry=IN&flexi=0&flight_depart_date=29%2F06%2F2022&hb=0&noOfSegments=1&origin=DEL&originCountry=IN&type=O&unique=497098436603&viewName=normal\""
   ]
  },
  {
   "cell_type": "code",
   "execution_count": 231,
   "id": "065967ea-f762-4678-9521-9fa02e25367d",
   "metadata": {},
   "outputs": [],
   "source": [
    "Airlines = []\n",
    "Aeroplane = []\n",
    "Dept_time = []\n",
    "Arrival_time = []\n",
    "Source = []\n",
    "Destination = []\n",
    "Duration = []\n",
    "Stops = []\n",
    "Date = []\n",
    "Price = []"
   ]
  },
  {
   "cell_type": "code",
   "execution_count": 232,
   "id": "cebbdd98-dfbb-4ee3-b9b7-b7e1f073a547",
   "metadata": {},
   "outputs": [
    {
     "name": "stderr",
     "output_type": "stream",
     "text": [
      "100%|██████████| 50/50 [00:16<00:00,  2.95it/s]\n"
     ]
    }
   ],
   "source": [
    "from tqdm import tqdm\n",
    "for _ in tqdm (range(0,50)):\n",
    "    time.sleep(0.1)\n",
    "    driver.execute_script(\"window.scrollBy(0,2000)\",\"\")\n",
    "    time.sleep(0.2)\n",
    "    driver.execute_script(\"window.scrollBy(0,-500)\",\"\")"
   ]
  },
  {
   "cell_type": "code",
   "execution_count": 234,
   "id": "ee28ff73-1c25-421c-887d-e7642c7ed057",
   "metadata": {},
   "outputs": [
    {
     "data": {
      "text/plain": [
       "60"
      ]
     },
     "execution_count": 234,
     "metadata": {},
     "output_type": "execute_result"
    }
   ],
   "source": [
    "flights=driver.find_elements_by_xpath('//div[@class=\"flight-det table full-width clearfix\"]')\n",
    "len(flights)"
   ]
  },
  {
   "cell_type": "code",
   "execution_count": 235,
   "id": "8f7b1359-f5f4-4699-b2df-bd4aec2de5d3",
   "metadata": {},
   "outputs": [
    {
     "name": "stderr",
     "output_type": "stream",
     "text": [
      "100%|██████████| 60/60 [00:01<00:00, 57.92it/s]\n",
      "100%|██████████| 60/60 [00:01<00:00, 46.69it/s]\n",
      "100%|██████████| 60/60 [00:01<00:00, 52.82it/s]\n",
      "100%|██████████| 60/60 [00:01<00:00, 55.13it/s]\n",
      "100%|██████████| 60/60 [00:01<00:00, 58.24it/s]\n",
      "100%|██████████| 60/60 [00:01<00:00, 53.53it/s]\n",
      "100%|██████████| 60/60 [00:01<00:00, 52.44it/s]\n",
      "100%|██████████| 60/60 [00:01<00:00, 53.67it/s]\n"
     ]
    }
   ],
   "source": [
    "# Extracting Airlines Name Via Xpath\n",
    "airlines = driver.find_elements_by_xpath(\"//div[@class='fs-13 airline-name no-pad col-8']/span\")\n",
    "for i in airlines:\n",
    "    Airlines.append(i.text.replace(\"\\n\",\" \"))\n",
    "else :\n",
    "    pass\n",
    "\n",
    "# Extracting Aeroplane model  via xpath\n",
    "aeroplanes = driver.find_elements_by_xpath('//p[@class=\"normal fs-11 font-lightestgrey no-wrap fl-no\"]/span')\n",
    "for i in tqdm(aeroplanes):\n",
    "    Aeroplane.append(i.text) \n",
    "else:\n",
    "    pass\n",
    "\n",
    "# Extracting Departure Time of Filght via Xpath\n",
    "dept_times = driver.find_elements_by_xpath('//div[@class=\"i-b pr\"]')\n",
    "for i in tqdm(dept_times):\n",
    "    Dept_time.append(i.text)\n",
    "else :\n",
    "    pass\n",
    "\n",
    "# Extracting Arrival Time via xpath\n",
    "arrival = driver.find_elements_by_xpath('//p[@class=\"bold fs-15 mb-2 pr time\"]')\n",
    "for i in tqdm(arrival):\n",
    "    Arrival_time.append(i.text)\n",
    "else :\n",
    "    pass\n",
    "\n",
    "# Extracting Source of flight via Xpath\n",
    "source = driver.find_elements_by_xpath(\"//div[@class='i-b col-4 no-wrap text-right dtime col-3']/p\")\n",
    "for i in tqdm(source):\n",
    "    Source.append(i.text)\n",
    "else :\n",
    "    pass\n",
    "\n",
    "# Extracting Destination of Flights via Xpath\n",
    "destination = driver.find_elements_by_xpath('//div[@class=\"i-b pdd-0 text-left atime col-5\"]/p[2]')\n",
    "for i in tqdm(destination):\n",
    "    Destination.append(i.text)\n",
    "else:\n",
    "    pass\n",
    "\n",
    "# Extracting Duration of Flights via Xpath\n",
    "duration = driver.find_elements_by_xpath('//div[@class=\"stop-cont pl-13\"]/p')\n",
    "for i in tqdm(duration):\n",
    "    Duration.append(i.text)\n",
    "else:\n",
    "    pass\n",
    "\n",
    "# Extracting stop details via Xpath\n",
    "stop = driver.find_elements_by_xpath(\"//div[@class='stop-cont pl-13']/div/span\")\n",
    "for i in tqdm(stop):\n",
    "    Stops.append(i.text)\n",
    "else:\n",
    "    pass\n",
    "\n",
    "# Extracting Price of Flights via Xpath\n",
    "count = 0\n",
    "price = driver.find_elements_by_xpath('//div[@class=\"i-b tipsy fare-summary-tooltip fs-18\"]')\n",
    "for i in tqdm(price):\n",
    "    Price.append(i.text.replace(',',''))\n",
    "    count = count +1\n",
    "else:\n",
    "    count = count +1\n",
    "    pass"
   ]
  },
  {
   "cell_type": "code",
   "execution_count": 236,
   "id": "dcff8189-6f44-4cb4-bec0-c8d0af06c9f8",
   "metadata": {},
   "outputs": [
    {
     "name": "stderr",
     "output_type": "stream",
     "text": [
      "100%|██████████| 60/60 [00:00<?, ?it/s]\n"
     ]
    }
   ],
   "source": [
    "# Clicking on Flights details element\n",
    "Button = driver.find_elements_by_xpath('//div[@class=\"link-color fs-12 cursor-pointer\"]/span')\n",
    "driver.execute_script(\"arguments[0].click();\", WebDriverWait(driver, 20).until(EC.element_to_be_clickable((By.XPATH,'//div[@class=\"link-color fs-12 cursor-pointer\"]/span'))))\n",
    "time.sleep(0.25)\n",
    "\n",
    "# Extracting Date of Flights via Xpath\n",
    "date = driver.find_element_by_xpath('//div[@class=\"bold fs-12 mb-5\"]')\n",
    "a = date.text\n",
    "for i in tqdm(range(count-1)):\n",
    "    Date.append(a)\n",
    "else:\n",
    "    pass"
   ]
  },
  {
   "cell_type": "code",
   "execution_count": 237,
   "id": "f0ce98af-ed09-4c84-a928-be406839394d",
   "metadata": {},
   "outputs": [
    {
     "data": {
      "text/plain": [
       "(60, 60, 60, 60, 60, 60, 60, 60, 60, 60)"
      ]
     },
     "execution_count": 237,
     "metadata": {},
     "output_type": "execute_result"
    }
   ],
   "source": [
    "len(Aeroplane), len(Airlines), len(Dept_time), len(Arrival_time), len(Source), len(Destination), len(Duration), len(Stops),len(Price), len(Date)"
   ]
  },
  {
   "cell_type": "code",
   "execution_count": 238,
   "id": "e21ad75c-3882-4c6e-9ccc-a173bf746cda",
   "metadata": {},
   "outputs": [
    {
     "data": {
      "text/html": [
       "<div>\n",
       "<style scoped>\n",
       "    .dataframe tbody tr th:only-of-type {\n",
       "        vertical-align: middle;\n",
       "    }\n",
       "\n",
       "    .dataframe tbody tr th {\n",
       "        vertical-align: top;\n",
       "    }\n",
       "\n",
       "    .dataframe thead th {\n",
       "        text-align: right;\n",
       "    }\n",
       "</style>\n",
       "<table border=\"1\" class=\"dataframe\">\n",
       "  <thead>\n",
       "    <tr style=\"text-align: right;\">\n",
       "      <th></th>\n",
       "      <th>Airline</th>\n",
       "      <th>Aeroplane</th>\n",
       "      <th>Date</th>\n",
       "      <th>Departure_Time</th>\n",
       "      <th>Arrival_Time</th>\n",
       "      <th>Source</th>\n",
       "      <th>Destination</th>\n",
       "      <th>Stops</th>\n",
       "      <th>Duration</th>\n",
       "      <th>Price</th>\n",
       "    </tr>\n",
       "  </thead>\n",
       "  <tbody>\n",
       "    <tr>\n",
       "      <th>0</th>\n",
       "      <td>Vistara Premium Economy</td>\n",
       "      <td>UK-975</td>\n",
       "      <td>Fri, 24 Jun 2022</td>\n",
       "      <td>05:55</td>\n",
       "      <td>07:55</td>\n",
       "      <td>New Delhi</td>\n",
       "      <td>Mumbai</td>\n",
       "      <td>Non Stop</td>\n",
       "      <td>2h 00m</td>\n",
       "      <td>10190</td>\n",
       "    </tr>\n",
       "    <tr>\n",
       "      <th>1</th>\n",
       "      <td>Vistara Premium Economy</td>\n",
       "      <td>UK-929/918</td>\n",
       "      <td>Fri, 24 Jun 2022</td>\n",
       "      <td>21:20</td>\n",
       "      <td>06:15\\n+ 1 day</td>\n",
       "      <td>New Delhi</td>\n",
       "      <td>Mumbai</td>\n",
       "      <td>1 Stop</td>\n",
       "      <td>8h 55m</td>\n",
       "      <td>10336</td>\n",
       "    </tr>\n",
       "    <tr>\n",
       "      <th>2</th>\n",
       "      <td>Vistara Premium Economy</td>\n",
       "      <td>UK-929/936</td>\n",
       "      <td>Fri, 24 Jun 2022</td>\n",
       "      <td>21:20</td>\n",
       "      <td>09:40\\n+ 1 day</td>\n",
       "      <td>New Delhi</td>\n",
       "      <td>Mumbai</td>\n",
       "      <td>1 Stop</td>\n",
       "      <td>12h 20m</td>\n",
       "      <td>10336</td>\n",
       "    </tr>\n",
       "    <tr>\n",
       "      <th>3</th>\n",
       "      <td>Vistara Premium Economy</td>\n",
       "      <td>UK-959/918</td>\n",
       "      <td>Fri, 24 Jun 2022</td>\n",
       "      <td>06:30</td>\n",
       "      <td>06:15\\n+ 1 day</td>\n",
       "      <td>New Delhi</td>\n",
       "      <td>Mumbai</td>\n",
       "      <td>1 Stop</td>\n",
       "      <td>23h 45m</td>\n",
       "      <td>10336</td>\n",
       "    </tr>\n",
       "    <tr>\n",
       "      <th>4</th>\n",
       "      <td>Vistara Premium Economy</td>\n",
       "      <td>UK-929/956</td>\n",
       "      <td>Fri, 24 Jun 2022</td>\n",
       "      <td>21:20</td>\n",
       "      <td>23:05\\n+ 1 day</td>\n",
       "      <td>New Delhi</td>\n",
       "      <td>Mumbai</td>\n",
       "      <td>1 Stop</td>\n",
       "      <td>25h 45m</td>\n",
       "      <td>10336</td>\n",
       "    </tr>\n",
       "  </tbody>\n",
       "</table>\n",
       "</div>"
      ],
      "text/plain": [
       "                   Airline   Aeroplane              Date Departure_Time  \\\n",
       "0  Vistara Premium Economy      UK-975  Fri, 24 Jun 2022          05:55   \n",
       "1  Vistara Premium Economy  UK-929/918  Fri, 24 Jun 2022          21:20   \n",
       "2  Vistara Premium Economy  UK-929/936  Fri, 24 Jun 2022          21:20   \n",
       "3  Vistara Premium Economy  UK-959/918  Fri, 24 Jun 2022          06:30   \n",
       "4  Vistara Premium Economy  UK-929/956  Fri, 24 Jun 2022          21:20   \n",
       "\n",
       "     Arrival_Time     Source Destination     Stops Duration  Price  \n",
       "0           07:55  New Delhi      Mumbai  Non Stop   2h 00m  10190  \n",
       "1  06:15\\n+ 1 day  New Delhi      Mumbai    1 Stop   8h 55m  10336  \n",
       "2  09:40\\n+ 1 day  New Delhi      Mumbai    1 Stop  12h 20m  10336  \n",
       "3  06:15\\n+ 1 day  New Delhi      Mumbai    1 Stop  23h 45m  10336  \n",
       "4  23:05\\n+ 1 day  New Delhi      Mumbai    1 Stop  25h 45m  10336  "
      ]
     },
     "execution_count": 238,
     "metadata": {},
     "output_type": "execute_result"
    }
   ],
   "source": [
    "Flight8=pd.DataFrame()\n",
    "Flight8[\"Airline\"]=Airlines\n",
    "Flight8[\"Aeroplane\"] =Aeroplane\n",
    "Flight8[\"Date\"]=Date\n",
    "Flight8[\"Departure_Time\"]=Dept_time\n",
    "Flight8[\"Arrival_Time\"]=Arrival_time\n",
    "Flight8[\"Source\"]=Source\n",
    "Flight8[\"Destination\"]=Destination\n",
    "Flight8[\"Stops\"]=Stops\n",
    "Flight8[\"Duration\"]=Duration\n",
    "Flight8[\"Price\"]=Price\n",
    "Flight8.head()"
   ]
  },
  {
   "cell_type": "code",
   "execution_count": 240,
   "id": "4568d805-e815-456c-9d09-a976fb3daf12",
   "metadata": {},
   "outputs": [],
   "source": [
    "Flight8.to_csv('Flight_Price_dataset_8.csv')"
   ]
  },
  {
   "cell_type": "code",
   "execution_count": null,
   "id": "a23734e5-be69-4571-b7ce-6a7e00d5bbb5",
   "metadata": {},
   "outputs": [],
   "source": []
  },
  {
   "cell_type": "code",
   "execution_count": 260,
   "id": "41721be3-bf99-4b50-b761-52b80db02fc5",
   "metadata": {},
   "outputs": [],
   "source": [
    "driver=webdriver.Chrome(r'C:\\chromedriver.exe')\n",
    "url=\"https://flight.yatra.com/air-search-ui/dom2/trigger?ADT=1&CHD=0&INF=0&class=Special&destination=BOM&destinationCountry=IN&flexi=0&flight_depart_date=29%2F06%2F2022&hb=0&noOfSegments=1&origin=DEL&originCountry=IN&type=O&unique=1042630162076&version=1.1&viewName=normal\""
   ]
  },
  {
   "cell_type": "code",
   "execution_count": 261,
   "id": "d797595f-72af-4c93-a4b8-5cee0aee2bbd",
   "metadata": {},
   "outputs": [],
   "source": [
    "Airlines = []\n",
    "Aeroplane = []\n",
    "Dept_time = []\n",
    "Arrival_time = []\n",
    "Source = []\n",
    "Destination = []\n",
    "Duration = []\n",
    "Stops = []\n",
    "Date = []\n",
    "Price = []"
   ]
  },
  {
   "cell_type": "code",
   "execution_count": 262,
   "id": "48778b1e-b87d-46e4-a51b-9f9cac8b6706",
   "metadata": {},
   "outputs": [
    {
     "name": "stderr",
     "output_type": "stream",
     "text": [
      "100%|██████████| 50/50 [00:38<00:00,  1.31it/s]\n"
     ]
    }
   ],
   "source": [
    "from tqdm import tqdm\n",
    "for _ in tqdm (range(0,50)):\n",
    "    time.sleep(0.1)\n",
    "    driver.execute_script(\"window.scrollBy(0,2000)\",\"\")\n",
    "    time.sleep(0.2)\n",
    "    driver.execute_script(\"window.scrollBy(0,-500)\",\"\")"
   ]
  },
  {
   "cell_type": "code",
   "execution_count": 263,
   "id": "f50b224d-e226-4090-ac58-c76cffe842a6",
   "metadata": {},
   "outputs": [
    {
     "name": "stderr",
     "output_type": "stream",
     "text": [
      "100%|██████████| 60/60 [00:01<00:00, 45.09it/s]\n",
      "100%|██████████| 60/60 [00:01<00:00, 50.19it/s]\n",
      "100%|██████████| 60/60 [00:01<00:00, 54.55it/s]\n",
      "100%|██████████| 60/60 [00:01<00:00, 47.26it/s]\n",
      "100%|██████████| 60/60 [00:01<00:00, 46.92it/s]\n",
      "100%|██████████| 60/60 [00:01<00:00, 52.94it/s]\n",
      "100%|██████████| 60/60 [00:01<00:00, 52.93it/s]\n",
      "100%|██████████| 60/60 [00:01<00:00, 50.99it/s]\n"
     ]
    }
   ],
   "source": [
    "# Extracting Airlines Name Via Xpath\n",
    "airlines = driver.find_elements_by_xpath(\"//div[@class='fs-13 airline-name no-pad col-8']/span\")\n",
    "for i in airlines:\n",
    "    Airlines.append(i.text.replace(\"\\n\",\" \"))\n",
    "else :\n",
    "    pass\n",
    "\n",
    "# Extracting Aeroplane model  via xpath\n",
    "aeroplanes = driver.find_elements_by_xpath('//p[@class=\"normal fs-11 font-lightestgrey no-wrap fl-no\"]/span')\n",
    "for i in tqdm(aeroplanes):\n",
    "    Aeroplane.append(i.text) \n",
    "else:\n",
    "    pass\n",
    "\n",
    "# Extracting Departure Time of Filght via Xpath\n",
    "dept_times = driver.find_elements_by_xpath('//div[@class=\"i-b pr\"]')\n",
    "for i in tqdm(dept_times):\n",
    "    Dept_time.append(i.text)\n",
    "else :\n",
    "    pass\n",
    "\n",
    "# Extracting Arrival Time via xpath\n",
    "arrival = driver.find_elements_by_xpath('//p[@class=\"bold fs-15 mb-2 pr time\"]')\n",
    "for i in tqdm(arrival):\n",
    "    Arrival_time.append(i.text)\n",
    "else :\n",
    "    pass\n",
    "\n",
    "# Extracting Source of flight via Xpath\n",
    "source = driver.find_elements_by_xpath(\"//div[@class='i-b col-4 no-wrap text-right dtime col-3']/p\")\n",
    "for i in tqdm(source):\n",
    "    Source.append(i.text)\n",
    "else :\n",
    "    pass\n",
    "\n",
    "# Extracting Destination of Flights via Xpath\n",
    "destination = driver.find_elements_by_xpath('//div[@class=\"i-b pdd-0 text-left atime col-5\"]/p[2]')\n",
    "for i in tqdm(destination):\n",
    "    Destination.append(i.text)\n",
    "else:\n",
    "    pass\n",
    "\n",
    "# Extracting Duration of Flights via Xpath\n",
    "duration = driver.find_elements_by_xpath('//div[@class=\"stop-cont pl-13\"]/p')\n",
    "for i in tqdm(duration):\n",
    "    Duration.append(i.text)\n",
    "else:\n",
    "    pass\n",
    "\n",
    "# Extracting stop details via Xpath\n",
    "stop = driver.find_elements_by_xpath(\"//div[@class='stop-cont pl-13']/div/span\")\n",
    "for i in tqdm(stop):\n",
    "    Stops.append(i.text)\n",
    "else:\n",
    "    pass\n",
    "\n",
    "# Extracting Price of Flights via Xpath\n",
    "count = 0\n",
    "price = driver.find_elements_by_xpath('//div[@class=\"i-b tipsy fare-summary-tooltip fs-18\"]')\n",
    "for i in tqdm(price):\n",
    "    Price.append(i.text.replace(',',''))\n",
    "    count = count +1\n",
    "else:\n",
    "    count = count +1\n",
    "    pass"
   ]
  },
  {
   "cell_type": "code",
   "execution_count": 267,
   "id": "b13ea1c5-463e-4812-952d-0a284a492e9e",
   "metadata": {},
   "outputs": [
    {
     "name": "stderr",
     "output_type": "stream",
     "text": [
      "100%|██████████| 60/60 [00:00<?, ?it/s]\n"
     ]
    }
   ],
   "source": [
    "# Clicking on Flights details element\n",
    "Button = driver.find_elements_by_xpath('//div[@class=\"link-color fs-12 cursor-pointer\"]/span')\n",
    "driver.execute_script(\"arguments[0].click();\", WebDriverWait(driver, 20).until(EC.element_to_be_clickable((By.XPATH,'//div[@class=\"link-color fs-12 cursor-pointer\"]/span'))))\n",
    "time.sleep(0.25)\n",
    "\n",
    "# Extracting Date of Flights via Xpath\n",
    "date = driver.find_element_by_xpath('//div[@class=\"bold fs-12 mb-5\"]')\n",
    "a = date.text\n",
    "for i in tqdm(range(count-1)):\n",
    "    Date.append(a)\n",
    "else:\n",
    "    pass"
   ]
  },
  {
   "cell_type": "code",
   "execution_count": 268,
   "id": "c4a03ef3-4aeb-4c9e-875d-73f8e2fdcfe8",
   "metadata": {},
   "outputs": [
    {
     "data": {
      "text/plain": [
       "(60, 60, 60, 60, 60, 60, 60, 60, 60, 60)"
      ]
     },
     "execution_count": 268,
     "metadata": {},
     "output_type": "execute_result"
    }
   ],
   "source": [
    "len(Aeroplane), len(Airlines), len(Dept_time), len(Arrival_time), len(Source), len(Destination), len(Duration), len(Stops),len(Price), len(Date)"
   ]
  },
  {
   "cell_type": "code",
   "execution_count": 269,
   "id": "ae21b32f-f91a-4a07-a809-b4e263749451",
   "metadata": {},
   "outputs": [
    {
     "data": {
      "text/html": [
       "<div>\n",
       "<style scoped>\n",
       "    .dataframe tbody tr th:only-of-type {\n",
       "        vertical-align: middle;\n",
       "    }\n",
       "\n",
       "    .dataframe tbody tr th {\n",
       "        vertical-align: top;\n",
       "    }\n",
       "\n",
       "    .dataframe thead th {\n",
       "        text-align: right;\n",
       "    }\n",
       "</style>\n",
       "<table border=\"1\" class=\"dataframe\">\n",
       "  <thead>\n",
       "    <tr style=\"text-align: right;\">\n",
       "      <th></th>\n",
       "      <th>Airline</th>\n",
       "      <th>Aeroplane</th>\n",
       "      <th>Date</th>\n",
       "      <th>Departure_Time</th>\n",
       "      <th>Arrival_Time</th>\n",
       "      <th>Source</th>\n",
       "      <th>Destination</th>\n",
       "      <th>Stops</th>\n",
       "      <th>Duration</th>\n",
       "      <th>Price</th>\n",
       "    </tr>\n",
       "  </thead>\n",
       "  <tbody>\n",
       "    <tr>\n",
       "      <th>0</th>\n",
       "      <td>Vistara Premium Economy</td>\n",
       "      <td>UK-975</td>\n",
       "      <td>Wed, 29 Jun 2022</td>\n",
       "      <td>05:55</td>\n",
       "      <td>07:55</td>\n",
       "      <td>New Delhi</td>\n",
       "      <td>Mumbai</td>\n",
       "      <td>Non Stop</td>\n",
       "      <td>2h 00m</td>\n",
       "      <td>10190</td>\n",
       "    </tr>\n",
       "    <tr>\n",
       "      <th>1</th>\n",
       "      <td>Vistara Premium Economy</td>\n",
       "      <td>UK-981</td>\n",
       "      <td>Wed, 29 Jun 2022</td>\n",
       "      <td>21:30</td>\n",
       "      <td>23:30</td>\n",
       "      <td>New Delhi</td>\n",
       "      <td>Mumbai</td>\n",
       "      <td>Non Stop</td>\n",
       "      <td>2h 00m</td>\n",
       "      <td>10190</td>\n",
       "    </tr>\n",
       "    <tr>\n",
       "      <th>2</th>\n",
       "      <td>Vistara Premium Economy</td>\n",
       "      <td>UK-969/956</td>\n",
       "      <td>Wed, 29 Jun 2022</td>\n",
       "      <td>18:10</td>\n",
       "      <td>23:05</td>\n",
       "      <td>New Delhi</td>\n",
       "      <td>Mumbai</td>\n",
       "      <td>1 Stop</td>\n",
       "      <td>4h 55m</td>\n",
       "      <td>10336</td>\n",
       "    </tr>\n",
       "    <tr>\n",
       "      <th>3</th>\n",
       "      <td>Vistara Premium Economy</td>\n",
       "      <td>UK-929/918</td>\n",
       "      <td>Wed, 29 Jun 2022</td>\n",
       "      <td>21:20</td>\n",
       "      <td>06:15\\n+ 1 day</td>\n",
       "      <td>New Delhi</td>\n",
       "      <td>Mumbai</td>\n",
       "      <td>1 Stop</td>\n",
       "      <td>8h 55m</td>\n",
       "      <td>10336</td>\n",
       "    </tr>\n",
       "    <tr>\n",
       "      <th>4</th>\n",
       "      <td>Vistara Premium Economy</td>\n",
       "      <td>UK-969/918</td>\n",
       "      <td>Wed, 29 Jun 2022</td>\n",
       "      <td>18:10</td>\n",
       "      <td>06:15\\n+ 1 day</td>\n",
       "      <td>New Delhi</td>\n",
       "      <td>Mumbai</td>\n",
       "      <td>1 Stop</td>\n",
       "      <td>12h 05m</td>\n",
       "      <td>10336</td>\n",
       "    </tr>\n",
       "  </tbody>\n",
       "</table>\n",
       "</div>"
      ],
      "text/plain": [
       "                   Airline   Aeroplane              Date Departure_Time  \\\n",
       "0  Vistara Premium Economy      UK-975  Wed, 29 Jun 2022          05:55   \n",
       "1  Vistara Premium Economy      UK-981  Wed, 29 Jun 2022          21:30   \n",
       "2  Vistara Premium Economy  UK-969/956  Wed, 29 Jun 2022          18:10   \n",
       "3  Vistara Premium Economy  UK-929/918  Wed, 29 Jun 2022          21:20   \n",
       "4  Vistara Premium Economy  UK-969/918  Wed, 29 Jun 2022          18:10   \n",
       "\n",
       "     Arrival_Time     Source Destination     Stops Duration  Price  \n",
       "0           07:55  New Delhi      Mumbai  Non Stop   2h 00m  10190  \n",
       "1           23:30  New Delhi      Mumbai  Non Stop   2h 00m  10190  \n",
       "2           23:05  New Delhi      Mumbai    1 Stop   4h 55m  10336  \n",
       "3  06:15\\n+ 1 day  New Delhi      Mumbai    1 Stop   8h 55m  10336  \n",
       "4  06:15\\n+ 1 day  New Delhi      Mumbai    1 Stop  12h 05m  10336  "
      ]
     },
     "execution_count": 269,
     "metadata": {},
     "output_type": "execute_result"
    }
   ],
   "source": [
    "Flight9=pd.DataFrame()\n",
    "Flight9[\"Airline\"]=Airlines\n",
    "Flight9[\"Aeroplane\"] =Aeroplane\n",
    "Flight9[\"Date\"]=Date\n",
    "Flight9[\"Departure_Time\"]=Dept_time\n",
    "Flight9[\"Arrival_Time\"]=Arrival_time\n",
    "Flight9[\"Source\"]=Source\n",
    "Flight9[\"Destination\"]=Destination\n",
    "Flight9[\"Stops\"]=Stops\n",
    "Flight9[\"Duration\"]=Duration\n",
    "Flight9[\"Price\"]=Price\n",
    "Flight9.head()"
   ]
  },
  {
   "cell_type": "code",
   "execution_count": 270,
   "id": "aaecb09a-0b8b-4981-b22f-b823a5d1a7d2",
   "metadata": {},
   "outputs": [],
   "source": [
    "Flight9.to_csv('Flight_Price_dataset_9.csv')"
   ]
  },
  {
   "cell_type": "code",
   "execution_count": null,
   "id": "99dd894a-3de3-43cd-97d0-7b4a39eb7a94",
   "metadata": {},
   "outputs": [],
   "source": []
  },
  {
   "cell_type": "code",
   "execution_count": 272,
   "id": "2ad434a2-0c63-41f0-8c0a-54256d04f8ac",
   "metadata": {},
   "outputs": [],
   "source": [
    "url=\"https://flight.yatra.com/air-search-ui/dom2/trigger?type=O&viewName=normal&flexi=0&noOfSegments=1&origin=DEL&originCountry=IN&destination=BOM&destinationCountry=IN&flight_depart_date=23%2F06%2F2022&ADT=1&CHD=0&INF=0&non_stop=1&class=Business&source=fresco-home&unqvaldesktop=1460443138985\""
   ]
  },
  {
   "cell_type": "code",
   "execution_count": 273,
   "id": "dabe3747-87cd-4094-915a-967bfc8ff8e6",
   "metadata": {},
   "outputs": [],
   "source": [
    "Airlines = []\n",
    "Aeroplane = []\n",
    "Dept_time = []\n",
    "Arrival_time = []\n",
    "Source = []\n",
    "Destination = []\n",
    "Duration = []\n",
    "Stops = []\n",
    "Date = []\n",
    "Price = []"
   ]
  },
  {
   "cell_type": "code",
   "execution_count": 274,
   "id": "97b4a4a7-9368-4454-b7b8-ba1f4ccf5fba",
   "metadata": {},
   "outputs": [
    {
     "name": "stderr",
     "output_type": "stream",
     "text": [
      "100%|██████████| 50/50 [00:17<00:00,  2.83it/s]\n"
     ]
    }
   ],
   "source": [
    "from tqdm import tqdm\n",
    "for _ in tqdm (range(0,50)):\n",
    "    time.sleep(0.1)\n",
    "    driver.execute_script(\"window.scrollBy(0,2000)\",\"\")\n",
    "    time.sleep(0.2)\n",
    "    driver.execute_script(\"window.scrollBy(0,-500)\",\"\")"
   ]
  },
  {
   "cell_type": "code",
   "execution_count": 275,
   "id": "32507caf-b48a-45d6-a03c-caafad0176b0",
   "metadata": {},
   "outputs": [
    {
     "data": {
      "text/plain": [
       "12"
      ]
     },
     "execution_count": 275,
     "metadata": {},
     "output_type": "execute_result"
    }
   ],
   "source": [
    "flights=driver.find_elements_by_xpath('//div[@class=\"flight-det table full-width clearfix\"]')\n",
    "len(flights)"
   ]
  },
  {
   "cell_type": "code",
   "execution_count": 276,
   "id": "4c3792d3-ad9a-4d7e-a36d-e53db9615f42",
   "metadata": {},
   "outputs": [
    {
     "name": "stderr",
     "output_type": "stream",
     "text": [
      "100%|██████████| 12/12 [00:00<00:00, 44.64it/s]\n",
      "100%|██████████| 12/12 [00:00<00:00, 35.21it/s]\n",
      "100%|██████████| 12/12 [00:00<00:00, 49.01it/s]\n",
      "100%|██████████| 12/12 [00:00<00:00, 54.00it/s]\n",
      "100%|██████████| 12/12 [00:00<00:00, 52.16it/s]\n",
      "100%|██████████| 12/12 [00:00<00:00, 49.22it/s]\n",
      "100%|██████████| 12/12 [00:00<00:00, 53.85it/s]\n",
      "100%|██████████| 12/12 [00:00<00:00, 46.90it/s]\n"
     ]
    }
   ],
   "source": [
    "\n",
    "# Extracting Aeroplane model  via xpath\n",
    "aeroplanes = driver.find_elements_by_xpath('//p[@class=\"normal fs-11 font-lightestgrey no-wrap fl-no\"]/span')\n",
    "for i in tqdm(aeroplanes):\n",
    "    Aeroplane.append(i.text) \n",
    "else:\n",
    "    pass\n",
    "\n",
    "# Extracting Departure Time of Filght via Xpath\n",
    "dept_times = driver.find_elements_by_xpath('//div[@class=\"i-b pr\"]')\n",
    "for i in tqdm(dept_times):\n",
    "    Dept_time.append(i.text)\n",
    "else :\n",
    "    pass\n",
    "\n",
    "# Extracting Arrival Time via xpath\n",
    "arrival = driver.find_elements_by_xpath('//p[@class=\"bold fs-15 mb-2 pr time\"]')\n",
    "for i in tqdm(arrival):\n",
    "    Arrival_time.append(i.text)\n",
    "else :\n",
    "    pass\n",
    "\n",
    "# Extracting Source of flight via Xpath\n",
    "source = driver.find_elements_by_xpath(\"//div[@class='i-b col-4 no-wrap text-right dtime col-3']/p\")\n",
    "for i in tqdm(source):\n",
    "    Source.append(i.text)\n",
    "else :\n",
    "    pass\n",
    "\n",
    "# Extracting Destination of Flights via Xpath\n",
    "destination = driver.find_elements_by_xpath('//div[@class=\"i-b pdd-0 text-left atime col-5\"]/p[2]')\n",
    "for i in tqdm(destination):\n",
    "    Destination.append(i.text)\n",
    "else:\n",
    "    pass\n",
    "\n",
    "# Extracting Duration of Flights via Xpath\n",
    "duration = driver.find_elements_by_xpath('//div[@class=\"stop-cont pl-13\"]/p')\n",
    "for i in tqdm(duration):\n",
    "    Duration.append(i.text)\n",
    "else:\n",
    "    pass\n",
    "\n",
    "# Extracting stop details via Xpath\n",
    "stop = driver.find_elements_by_xpath(\"//div[@class='stop-cont pl-13']/div/span\")\n",
    "for i in tqdm(stop):\n",
    "    Stops.append(i.text)\n",
    "else:\n",
    "    pass\n",
    "\n",
    "# Extracting Price of Flights via Xpath\n",
    "count = 0\n",
    "price = driver.find_elements_by_xpath('//div[@class=\"i-b tipsy fare-summary-tooltip fs-18\"]')\n",
    "for i in tqdm(price):\n",
    "    Price.append(i.text.replace(',',''))\n",
    "    count = count +1\n",
    "else:\n",
    "    count = count +1\n",
    "    pass"
   ]
  },
  {
   "cell_type": "code",
   "execution_count": 277,
   "id": "b4c20b92-31d6-4777-9305-602265cd6063",
   "metadata": {},
   "outputs": [
    {
     "name": "stderr",
     "output_type": "stream",
     "text": [
      "100%|██████████| 12/12 [00:00<?, ?it/s]\n"
     ]
    }
   ],
   "source": [
    "# Clicking on Flights details element\n",
    "Button = driver.find_elements_by_xpath('//div[@class=\"link-color fs-12 cursor-pointer\"]/span')\n",
    "driver.execute_script(\"arguments[0].click();\", WebDriverWait(driver, 20).until(EC.element_to_be_clickable((By.XPATH,'//div[@class=\"link-color fs-12 cursor-pointer\"]/span'))))\n",
    "time.sleep(1)\n",
    "\n",
    "\n",
    "# Extracting Date of Flights via Xpath\n",
    "date = driver.find_element_by_xpath('//div[@class=\"bold fs-12 mb-5\"]')\n",
    "a = date.text\n",
    "for i in tqdm(range(count-1)):\n",
    "    Date.append(a)\n",
    "else:\n",
    "    pass# Extracting Airlines Name Via Xpath\n",
    "airlines = driver.find_elements_by_xpath(\"//div[@class='fs-13 airline-name no-pad col-8']/span\")\n",
    "for i in airlines:\n",
    "    Airlines.append(i.text.replace(\"\\n\",\" \"))\n",
    "else :\n",
    "    pass"
   ]
  },
  {
   "cell_type": "code",
   "execution_count": 278,
   "id": "ec475c8a-6e68-4d87-80c6-b5fb30803684",
   "metadata": {},
   "outputs": [
    {
     "data": {
      "text/plain": [
       "(12, 12, 12, 12, 12, 12, 12, 12, 12, 12)"
      ]
     },
     "execution_count": 278,
     "metadata": {},
     "output_type": "execute_result"
    }
   ],
   "source": [
    "len(Aeroplane), len(Airlines), len(Dept_time), len(Arrival_time), len(Source), len(Destination), len(Duration), len(Stops),len(Price), len(Date)"
   ]
  },
  {
   "cell_type": "code",
   "execution_count": 279,
   "id": "22091292-c6bf-4ccf-a740-9d96d9de4bbe",
   "metadata": {},
   "outputs": [
    {
     "data": {
      "text/html": [
       "<div>\n",
       "<style scoped>\n",
       "    .dataframe tbody tr th:only-of-type {\n",
       "        vertical-align: middle;\n",
       "    }\n",
       "\n",
       "    .dataframe tbody tr th {\n",
       "        vertical-align: top;\n",
       "    }\n",
       "\n",
       "    .dataframe thead th {\n",
       "        text-align: right;\n",
       "    }\n",
       "</style>\n",
       "<table border=\"1\" class=\"dataframe\">\n",
       "  <thead>\n",
       "    <tr style=\"text-align: right;\">\n",
       "      <th></th>\n",
       "      <th>Airline</th>\n",
       "      <th>Aeroplane</th>\n",
       "      <th>Date</th>\n",
       "      <th>Departure_Time</th>\n",
       "      <th>Arrival_Time</th>\n",
       "      <th>Source</th>\n",
       "      <th>Destination</th>\n",
       "      <th>Stops</th>\n",
       "      <th>Duration</th>\n",
       "      <th>Price</th>\n",
       "    </tr>\n",
       "  </thead>\n",
       "  <tbody>\n",
       "    <tr>\n",
       "      <th>0</th>\n",
       "      <td>Air India Business</td>\n",
       "      <td>AI-887</td>\n",
       "      <td>Thu, 23 Jun 2022</td>\n",
       "      <td>07:00</td>\n",
       "      <td>09:05</td>\n",
       "      <td>New Delhi</td>\n",
       "      <td>Mumbai</td>\n",
       "      <td>Non Stop</td>\n",
       "      <td>2h 05m</td>\n",
       "      <td>25612</td>\n",
       "    </tr>\n",
       "    <tr>\n",
       "      <th>1</th>\n",
       "      <td>Air India Business</td>\n",
       "      <td>AI-665</td>\n",
       "      <td>Thu, 23 Jun 2022</td>\n",
       "      <td>08:00</td>\n",
       "      <td>10:10</td>\n",
       "      <td>New Delhi</td>\n",
       "      <td>Mumbai</td>\n",
       "      <td>Non Stop</td>\n",
       "      <td>2h 10m</td>\n",
       "      <td>25612</td>\n",
       "    </tr>\n",
       "    <tr>\n",
       "      <th>2</th>\n",
       "      <td>Air India Business</td>\n",
       "      <td>AI-805</td>\n",
       "      <td>Thu, 23 Jun 2022</td>\n",
       "      <td>20:00</td>\n",
       "      <td>22:10</td>\n",
       "      <td>New Delhi</td>\n",
       "      <td>Mumbai</td>\n",
       "      <td>Non Stop</td>\n",
       "      <td>2h 10m</td>\n",
       "      <td>25612</td>\n",
       "    </tr>\n",
       "    <tr>\n",
       "      <th>3</th>\n",
       "      <td>Air India Business</td>\n",
       "      <td>AI-605</td>\n",
       "      <td>Thu, 23 Jun 2022</td>\n",
       "      <td>21:15</td>\n",
       "      <td>23:35</td>\n",
       "      <td>New Delhi</td>\n",
       "      <td>Mumbai</td>\n",
       "      <td>Non Stop</td>\n",
       "      <td>2h 20m</td>\n",
       "      <td>25612</td>\n",
       "    </tr>\n",
       "    <tr>\n",
       "      <th>4</th>\n",
       "      <td>Vistara Business</td>\n",
       "      <td>UK-993</td>\n",
       "      <td>Thu, 23 Jun 2022</td>\n",
       "      <td>12:50</td>\n",
       "      <td>15:00</td>\n",
       "      <td>New Delhi</td>\n",
       "      <td>Mumbai</td>\n",
       "      <td>Non Stop</td>\n",
       "      <td>2h 10m</td>\n",
       "      <td>25736</td>\n",
       "    </tr>\n",
       "  </tbody>\n",
       "</table>\n",
       "</div>"
      ],
      "text/plain": [
       "              Airline Aeroplane              Date Departure_Time Arrival_Time  \\\n",
       "0  Air India Business    AI-887  Thu, 23 Jun 2022          07:00        09:05   \n",
       "1  Air India Business    AI-665  Thu, 23 Jun 2022          08:00        10:10   \n",
       "2  Air India Business    AI-805  Thu, 23 Jun 2022          20:00        22:10   \n",
       "3  Air India Business    AI-605  Thu, 23 Jun 2022          21:15        23:35   \n",
       "4    Vistara Business    UK-993  Thu, 23 Jun 2022          12:50        15:00   \n",
       "\n",
       "      Source Destination     Stops Duration  Price  \n",
       "0  New Delhi      Mumbai  Non Stop   2h 05m  25612  \n",
       "1  New Delhi      Mumbai  Non Stop   2h 10m  25612  \n",
       "2  New Delhi      Mumbai  Non Stop   2h 10m  25612  \n",
       "3  New Delhi      Mumbai  Non Stop   2h 20m  25612  \n",
       "4  New Delhi      Mumbai  Non Stop   2h 10m  25736  "
      ]
     },
     "execution_count": 279,
     "metadata": {},
     "output_type": "execute_result"
    }
   ],
   "source": [
    "Flight10=pd.DataFrame()\n",
    "Flight10[\"Airline\"]=Airlines\n",
    "Flight10['Aeroplane'] = Aeroplane\n",
    "Flight10[\"Date\"]=Date\n",
    "Flight10[\"Departure_Time\"]=Dept_time\n",
    "Flight10[\"Arrival_Time\"]=Arrival_time\n",
    "Flight10[\"Source\"]=Source\n",
    "Flight10[\"Destination\"]=Destination\n",
    "Flight10[\"Stops\"]=Stops\n",
    "Flight10[\"Duration\"]=Duration\n",
    "Flight10[\"Price\"]=Price\n",
    "Flight10.head()"
   ]
  },
  {
   "cell_type": "code",
   "execution_count": 280,
   "id": "c52d1c30-e945-4dd1-b052-e9adfc2fa8fb",
   "metadata": {},
   "outputs": [],
   "source": [
    "Flight10.to_csv('Flight_Price_dataset_10.csv')"
   ]
  },
  {
   "cell_type": "markdown",
   "id": "ae6d27e0-366f-4e4c-9c65-b736956f2865",
   "metadata": {},
   "source": [
    "- **Opening Business flights from New Dehli to Bombay on 24th June 2022**"
   ]
  },
  {
   "cell_type": "code",
   "execution_count": 281,
   "id": "250bcc45-dc18-44e2-8996-abdf3b7e3498",
   "metadata": {},
   "outputs": [],
   "source": [
    "url='https://flight.yatra.com/air-search-ui/dom2/trigger?ADT=1&CHD=0&INF=0&class=Business&destination=BOM&destinationCountry=IN&flexi=0&flight_depart_date=24%2F06%2F2022&hb=0&noOfSegments=1&non_stop=1&origin=DEL&originCountry=IN&type=O&unique=832291091889&version=1.1&viewName=normal'"
   ]
  },
  {
   "cell_type": "code",
   "execution_count": 282,
   "id": "52397ebd-cf01-4a38-8f45-d610cc231dfa",
   "metadata": {},
   "outputs": [],
   "source": [
    "Airlines = []\n",
    "Aeroplane = []\n",
    "Dept_time = []\n",
    "Arrival_time = []\n",
    "Source = []\n",
    "Destination = []\n",
    "Duration = []\n",
    "Stops = []\n",
    "Date = []\n",
    "Price = []"
   ]
  },
  {
   "cell_type": "code",
   "execution_count": 283,
   "id": "e8fe0825-e0ee-48c0-874b-b7f3850abc61",
   "metadata": {},
   "outputs": [
    {
     "name": "stderr",
     "output_type": "stream",
     "text": [
      "100%|██████████| 50/50 [00:16<00:00,  2.95it/s]\n"
     ]
    }
   ],
   "source": [
    "from tqdm import tqdm\n",
    "for _ in tqdm (range(0,50)):\n",
    "    time.sleep(0.1)\n",
    "    driver.execute_script(\"window.scrollBy(0,2000)\",\"\")\n",
    "    time.sleep(0.2)\n",
    "    driver.execute_script(\"window.scrollBy(0,-500)\",\"\")"
   ]
  },
  {
   "cell_type": "code",
   "execution_count": 284,
   "id": "7cc7ae2f-383e-45ad-864c-b4b0f1da620a",
   "metadata": {},
   "outputs": [
    {
     "data": {
      "text/plain": [
       "17"
      ]
     },
     "execution_count": 284,
     "metadata": {},
     "output_type": "execute_result"
    }
   ],
   "source": [
    "flights=driver.find_elements_by_xpath('//div[@class=\"flight-det table full-width clearfix\"]')\n",
    "len(flights)"
   ]
  },
  {
   "cell_type": "code",
   "execution_count": 285,
   "id": "fb4a8336-73ba-4f56-aaf4-d11eee808cd8",
   "metadata": {},
   "outputs": [
    {
     "name": "stderr",
     "output_type": "stream",
     "text": [
      "100%|██████████| 17/17 [00:00<00:00, 50.48it/s]\n",
      "100%|██████████| 17/17 [00:00<00:00, 57.27it/s]\n",
      "100%|██████████| 17/17 [00:00<00:00, 57.27it/s]\n",
      "100%|██████████| 17/17 [00:00<00:00, 63.24it/s]\n",
      "100%|██████████| 17/17 [00:00<00:00, 49.74it/s]\n",
      "100%|██████████| 17/17 [00:00<00:00, 49.42it/s]\n",
      "100%|██████████| 17/17 [00:00<00:00, 53.38it/s]\n",
      "100%|██████████| 17/17 [00:00<00:00, 47.80it/s]\n"
     ]
    }
   ],
   "source": [
    "# Extracting Airlines Name Via Xpath\n",
    "airlines = driver.find_elements_by_xpath(\"//div[@class='fs-13 airline-name no-pad col-8']/span\")\n",
    "for i in airlines:\n",
    "    Airlines.append(i.text.replace(\"\\n\",\" \"))\n",
    "else :\n",
    "    pass\n",
    "\n",
    "# Extracting Aeroplane model  via xpath\n",
    "aeroplanes = driver.find_elements_by_xpath('//p[@class=\"normal fs-11 font-lightestgrey no-wrap fl-no\"]/span')\n",
    "for i in tqdm(aeroplanes):\n",
    "    Aeroplane.append(i.text) \n",
    "else:\n",
    "    pass\n",
    "\n",
    "# Extracting Departure Time of Filght via Xpath\n",
    "dept_times = driver.find_elements_by_xpath('//div[@class=\"i-b pr\"]')\n",
    "for i in tqdm(dept_times):\n",
    "    Dept_time.append(i.text)\n",
    "else :\n",
    "    pass\n",
    "\n",
    "# Extracting Arrival Time via xpath\n",
    "arrival = driver.find_elements_by_xpath('//p[@class=\"bold fs-15 mb-2 pr time\"]')\n",
    "for i in tqdm(arrival):\n",
    "    Arrival_time.append(i.text)\n",
    "else :\n",
    "    pass\n",
    "\n",
    "# Extracting Source of flight via Xpath\n",
    "source = driver.find_elements_by_xpath(\"//div[@class='i-b col-4 no-wrap text-right dtime col-3']/p\")\n",
    "for i in tqdm(source):\n",
    "    Source.append(i.text)\n",
    "else :\n",
    "    pass\n",
    "\n",
    "# Extracting Destination of Flights via Xpath\n",
    "destination = driver.find_elements_by_xpath('//div[@class=\"i-b pdd-0 text-left atime col-5\"]/p[2]')\n",
    "for i in tqdm(destination):\n",
    "    Destination.append(i.text)\n",
    "else:\n",
    "    pass\n",
    "\n",
    "# Extracting Duration of Flights via Xpath\n",
    "duration = driver.find_elements_by_xpath('//div[@class=\"stop-cont pl-13\"]/p')\n",
    "for i in tqdm(duration):\n",
    "    Duration.append(i.text)\n",
    "else:\n",
    "    pass\n",
    "\n",
    "# Extracting stop details via Xpath\n",
    "stop = driver.find_elements_by_xpath(\"//div[@class='stop-cont pl-13']/div/span\")\n",
    "for i in tqdm(stop):\n",
    "    Stops.append(i.text)\n",
    "else:\n",
    "    pass\n",
    "\n",
    "# Extracting Price of Flights via Xpath\n",
    "count = 0\n",
    "price = driver.find_elements_by_xpath('//div[@class=\"i-b tipsy fare-summary-tooltip fs-18\"]')\n",
    "for i in tqdm(price):\n",
    "    Price.append(i.text.replace(',',''))\n",
    "    count = count +1\n",
    "else:\n",
    "    count = count +1\n",
    "    pass"
   ]
  },
  {
   "cell_type": "code",
   "execution_count": 286,
   "id": "17b60c83-76ca-4d4b-af84-76996decf5da",
   "metadata": {},
   "outputs": [
    {
     "name": "stderr",
     "output_type": "stream",
     "text": [
      "100%|██████████| 17/17 [00:00<?, ?it/s]\n"
     ]
    }
   ],
   "source": [
    "# Clicking on Flights details element\n",
    "Button = driver.find_elements_by_xpath('//div[@class=\"link-color fs-12 cursor-pointer\"]/span')\n",
    "driver.execute_script(\"arguments[0].click();\", WebDriverWait(driver, 20).until(EC.element_to_be_clickable((By.XPATH,'//div[@class=\"link-color fs-12 cursor-pointer\"]/span'))))\n",
    "time.sleep(0.25)\n",
    "\n",
    "# Extracting Date of Flights via Xpath\n",
    "date = driver.find_element_by_xpath('//div[@class=\"bold fs-12 mb-5\"]')\n",
    "a = date.text\n",
    "for i in tqdm(range(count-1)):\n",
    "    Date.append(a)\n",
    "else:\n",
    "    pass"
   ]
  },
  {
   "cell_type": "code",
   "execution_count": 287,
   "id": "88f1d9a3-668b-45f7-9367-b4800c0a42d6",
   "metadata": {},
   "outputs": [
    {
     "data": {
      "text/plain": [
       "(17, 17, 17, 17, 17, 17, 17, 17, 17, 17)"
      ]
     },
     "execution_count": 287,
     "metadata": {},
     "output_type": "execute_result"
    }
   ],
   "source": [
    "len(Aeroplane), len(Airlines), len(Dept_time), len(Arrival_time), len(Source), len(Destination), len(Duration), len(Stops),len(Price), len(Date)"
   ]
  },
  {
   "cell_type": "code",
   "execution_count": 288,
   "id": "16364e22-f990-4a10-aab5-70978058cccf",
   "metadata": {},
   "outputs": [
    {
     "data": {
      "text/html": [
       "<div>\n",
       "<style scoped>\n",
       "    .dataframe tbody tr th:only-of-type {\n",
       "        vertical-align: middle;\n",
       "    }\n",
       "\n",
       "    .dataframe tbody tr th {\n",
       "        vertical-align: top;\n",
       "    }\n",
       "\n",
       "    .dataframe thead th {\n",
       "        text-align: right;\n",
       "    }\n",
       "</style>\n",
       "<table border=\"1\" class=\"dataframe\">\n",
       "  <thead>\n",
       "    <tr style=\"text-align: right;\">\n",
       "      <th></th>\n",
       "      <th>Airline</th>\n",
       "      <th>Aeroplane</th>\n",
       "      <th>Date</th>\n",
       "      <th>Departure_Time</th>\n",
       "      <th>Arrival_Time</th>\n",
       "      <th>Source</th>\n",
       "      <th>Destination</th>\n",
       "      <th>Stops</th>\n",
       "      <th>Duration</th>\n",
       "      <th>Price</th>\n",
       "    </tr>\n",
       "  </thead>\n",
       "  <tbody>\n",
       "    <tr>\n",
       "      <th>0</th>\n",
       "      <td>Air India Business</td>\n",
       "      <td>AI-887</td>\n",
       "      <td>Fri, 24 Jun 2022</td>\n",
       "      <td>07:00</td>\n",
       "      <td>09:05</td>\n",
       "      <td>New Delhi</td>\n",
       "      <td>Mumbai</td>\n",
       "      <td>Non Stop</td>\n",
       "      <td>2h 05m</td>\n",
       "      <td>25612</td>\n",
       "    </tr>\n",
       "    <tr>\n",
       "      <th>1</th>\n",
       "      <td>Air India Business</td>\n",
       "      <td>AI-665</td>\n",
       "      <td>Fri, 24 Jun 2022</td>\n",
       "      <td>08:00</td>\n",
       "      <td>10:10</td>\n",
       "      <td>New Delhi</td>\n",
       "      <td>Mumbai</td>\n",
       "      <td>Non Stop</td>\n",
       "      <td>2h 10m</td>\n",
       "      <td>25612</td>\n",
       "    </tr>\n",
       "    <tr>\n",
       "      <th>2</th>\n",
       "      <td>Air India Business</td>\n",
       "      <td>AI-863</td>\n",
       "      <td>Fri, 24 Jun 2022</td>\n",
       "      <td>14:00</td>\n",
       "      <td>16:15</td>\n",
       "      <td>New Delhi</td>\n",
       "      <td>Mumbai</td>\n",
       "      <td>Non Stop</td>\n",
       "      <td>2h 15m</td>\n",
       "      <td>25612</td>\n",
       "    </tr>\n",
       "    <tr>\n",
       "      <th>3</th>\n",
       "      <td>Air India Business</td>\n",
       "      <td>AI-605</td>\n",
       "      <td>Fri, 24 Jun 2022</td>\n",
       "      <td>21:15</td>\n",
       "      <td>23:35</td>\n",
       "      <td>New Delhi</td>\n",
       "      <td>Mumbai</td>\n",
       "      <td>Non Stop</td>\n",
       "      <td>2h 20m</td>\n",
       "      <td>25612</td>\n",
       "    </tr>\n",
       "    <tr>\n",
       "      <th>4</th>\n",
       "      <td>Air India Business</td>\n",
       "      <td>AI-865</td>\n",
       "      <td>Fri, 24 Jun 2022</td>\n",
       "      <td>10:00</td>\n",
       "      <td>12:35</td>\n",
       "      <td>New Delhi</td>\n",
       "      <td>Mumbai</td>\n",
       "      <td>Non Stop</td>\n",
       "      <td>2h 35m</td>\n",
       "      <td>25612</td>\n",
       "    </tr>\n",
       "  </tbody>\n",
       "</table>\n",
       "</div>"
      ],
      "text/plain": [
       "              Airline Aeroplane              Date Departure_Time Arrival_Time  \\\n",
       "0  Air India Business    AI-887  Fri, 24 Jun 2022          07:00        09:05   \n",
       "1  Air India Business    AI-665  Fri, 24 Jun 2022          08:00        10:10   \n",
       "2  Air India Business    AI-863  Fri, 24 Jun 2022          14:00        16:15   \n",
       "3  Air India Business    AI-605  Fri, 24 Jun 2022          21:15        23:35   \n",
       "4  Air India Business    AI-865  Fri, 24 Jun 2022          10:00        12:35   \n",
       "\n",
       "      Source Destination     Stops Duration  Price  \n",
       "0  New Delhi      Mumbai  Non Stop   2h 05m  25612  \n",
       "1  New Delhi      Mumbai  Non Stop   2h 10m  25612  \n",
       "2  New Delhi      Mumbai  Non Stop   2h 15m  25612  \n",
       "3  New Delhi      Mumbai  Non Stop   2h 20m  25612  \n",
       "4  New Delhi      Mumbai  Non Stop   2h 35m  25612  "
      ]
     },
     "execution_count": 288,
     "metadata": {},
     "output_type": "execute_result"
    }
   ],
   "source": [
    "Flight11=pd.DataFrame()\n",
    "Flight11[\"Airline\"]=Airlines\n",
    "Flight11[\"Aeroplane\"] = Aeroplane\n",
    "Flight11[\"Date\"]=Date\n",
    "Flight11[\"Departure_Time\"]=Dept_time\n",
    "Flight11[\"Arrival_Time\"]=Arrival_time\n",
    "Flight11[\"Source\"]=Source\n",
    "Flight11[\"Destination\"]=Destination\n",
    "Flight11[\"Stops\"]=Stops\n",
    "Flight11[\"Duration\"]=Duration\n",
    "Flight11[\"Price\"]=Price\n",
    "Flight11.head()"
   ]
  },
  {
   "cell_type": "code",
   "execution_count": 289,
   "id": "8efba88d-d97e-4647-9e55-a64be783b604",
   "metadata": {},
   "outputs": [],
   "source": [
    "Flight11.to_csv('Flight_Price_dataset_11.csv')"
   ]
  },
  {
   "cell_type": "markdown",
   "id": "06b9234a-134b-4abf-8dae-2a4ad5f36e2c",
   "metadata": {},
   "source": [
    "- **Opening business flights from New Dehli to Bombay on 25th June 2022**"
   ]
  },
  {
   "cell_type": "code",
   "execution_count": 290,
   "id": "e76a73ce-eacf-494a-bc29-1957cc4c49fd",
   "metadata": {},
   "outputs": [],
   "source": [
    "url='https://flight.yatra.com/air-search-ui/dom2/trigger?ADT=1&CHD=0&INF=0&class=Business&destination=BOM&destinationCountry=IN&flexi=0&flight_depart_date=25%2F06%2F2022&hb=0&noOfSegments=1&non_stop=1&origin=DEL&originCountry=IN&type=O&unique=1649069079612&version=1.1&viewName=normal'"
   ]
  },
  {
   "cell_type": "code",
   "execution_count": 291,
   "id": "4c97419c-5b3f-41ee-8817-68cf8b6372f0",
   "metadata": {},
   "outputs": [],
   "source": [
    "Airlines = []\n",
    "Aeroplane = []\n",
    "Dept_time = []\n",
    "Arrival_time = []\n",
    "Source = []\n",
    "Destination = []\n",
    "Duration = []\n",
    "Stops = []\n",
    "Date = []\n",
    "Price = []"
   ]
  },
  {
   "cell_type": "code",
   "execution_count": 292,
   "id": "66097dc4-cf18-42ef-9805-8833e8e65776",
   "metadata": {},
   "outputs": [
    {
     "name": "stderr",
     "output_type": "stream",
     "text": [
      "100%|██████████| 50/50 [00:18<00:00,  2.73it/s]\n"
     ]
    }
   ],
   "source": [
    "from tqdm import tqdm\n",
    "for _ in tqdm (range(0,50)):\n",
    "    time.sleep(0.1)\n",
    "    driver.execute_script(\"window.scrollBy(0,2000)\",\"\")\n",
    "    time.sleep(0.2)\n",
    "    driver.execute_script(\"window.scrollBy(0,-500)\",\"\")"
   ]
  },
  {
   "cell_type": "code",
   "execution_count": 293,
   "id": "3527f557-e160-42b4-8408-e03da6b024d4",
   "metadata": {},
   "outputs": [
    {
     "data": {
      "text/plain": [
       "19"
      ]
     },
     "execution_count": 293,
     "metadata": {},
     "output_type": "execute_result"
    }
   ],
   "source": [
    "flights=driver.find_elements_by_xpath('//div[@class=\"flight-det table full-width clearfix\"]')\n",
    "len(flights)"
   ]
  },
  {
   "cell_type": "code",
   "execution_count": 294,
   "id": "8b8323d7-a364-44d5-83ee-8ad744b26972",
   "metadata": {},
   "outputs": [
    {
     "name": "stderr",
     "output_type": "stream",
     "text": [
      "100%|██████████| 19/19 [00:00<00:00, 57.61it/s]\n",
      "100%|██████████| 19/19 [00:00<00:00, 50.60it/s]\n",
      "100%|██████████| 19/19 [00:00<00:00, 56.75it/s]\n",
      "100%|██████████| 19/19 [00:00<00:00, 55.91it/s]\n",
      "100%|██████████| 19/19 [00:00<00:00, 59.58it/s]\n",
      "100%|██████████| 19/19 [00:00<00:00, 55.77it/s]\n",
      "100%|██████████| 19/19 [00:00<00:00, 60.01it/s]\n",
      "100%|██████████| 19/19 [00:00<00:00, 50.16it/s]\n"
     ]
    }
   ],
   "source": [
    "# Extracting Airlines Name Via Xpath\n",
    "airlines = driver.find_elements_by_xpath(\"//div[@class='fs-13 airline-name no-pad col-8']/span\")\n",
    "for i in airlines:\n",
    "    Airlines.append(i.text.replace(\"\\n\",\" \"))\n",
    "else :\n",
    "    pass\n",
    "\n",
    "# Extracting Aeroplane model  via xpath\n",
    "aeroplanes = driver.find_elements_by_xpath('//p[@class=\"normal fs-11 font-lightestgrey no-wrap fl-no\"]/span')\n",
    "for i in tqdm(aeroplanes):\n",
    "    Aeroplane.append(i.text) \n",
    "else:\n",
    "    pass\n",
    "\n",
    "# Extracting Departure Time of Filght via Xpath\n",
    "dept_times = driver.find_elements_by_xpath('//div[@class=\"i-b pr\"]')\n",
    "for i in tqdm(dept_times):\n",
    "    Dept_time.append(i.text)\n",
    "else :\n",
    "    pass\n",
    "\n",
    "# Extracting Arrival Time via xpath\n",
    "arrival = driver.find_elements_by_xpath('//p[@class=\"bold fs-15 mb-2 pr time\"]')\n",
    "for i in tqdm(arrival):\n",
    "    Arrival_time.append(i.text)\n",
    "else :\n",
    "    pass\n",
    "\n",
    "# Extracting Source of flight via Xpath\n",
    "source = driver.find_elements_by_xpath(\"//div[@class='i-b col-4 no-wrap text-right dtime col-3']/p\")\n",
    "for i in tqdm(source):\n",
    "    Source.append(i.text)\n",
    "else :\n",
    "    pass\n",
    "\n",
    "# Extracting Destination of Flights via Xpath\n",
    "destination = driver.find_elements_by_xpath('//div[@class=\"i-b pdd-0 text-left atime col-5\"]/p[2]')\n",
    "for i in tqdm(destination):\n",
    "    Destination.append(i.text)\n",
    "else:\n",
    "    pass\n",
    "\n",
    "# Extracting Duration of Flights via Xpath\n",
    "duration = driver.find_elements_by_xpath('//div[@class=\"stop-cont pl-13\"]/p')\n",
    "for i in tqdm(duration):\n",
    "    Duration.append(i.text)\n",
    "else:\n",
    "    pass\n",
    "\n",
    "# Extracting stop details via Xpath\n",
    "stop = driver.find_elements_by_xpath(\"//div[@class='stop-cont pl-13']/div/span\")\n",
    "for i in tqdm(stop):\n",
    "    Stops.append(i.text)\n",
    "else:\n",
    "    pass\n",
    "\n",
    "# Extracting Price of Flights via Xpath\n",
    "count = 0\n",
    "price = driver.find_elements_by_xpath('//div[@class=\"i-b tipsy fare-summary-tooltip fs-18\"]')\n",
    "for i in tqdm(price):\n",
    "    Price.append(i.text.replace(',',''))\n",
    "    count = count +1\n",
    "else:\n",
    "    count = count +1\n",
    "    pass"
   ]
  },
  {
   "cell_type": "code",
   "execution_count": 295,
   "id": "569265aa-b558-4f9a-8f74-c60c25935bcc",
   "metadata": {},
   "outputs": [
    {
     "name": "stderr",
     "output_type": "stream",
     "text": [
      "100%|██████████| 19/19 [00:00<?, ?it/s]\n"
     ]
    }
   ],
   "source": [
    "# Clicking on Flights details element\n",
    "Button = driver.find_elements_by_xpath('//div[@class=\"link-color fs-12 cursor-pointer\"]/span')\n",
    "driver.execute_script(\"arguments[0].click();\", WebDriverWait(driver, 20).until(EC.element_to_be_clickable((By.XPATH,'//div[@class=\"link-color fs-12 cursor-pointer\"]/span'))))\n",
    "time.sleep(0.25)\n",
    "\n",
    "# Extracting Date of Flights via Xpath\n",
    "date = driver.find_element_by_xpath('//div[@class=\"bold fs-12 mb-5\"]')\n",
    "a = date.text\n",
    "for i in tqdm(range(count-1)):\n",
    "    Date.append(a)\n",
    "else:\n",
    "    pass"
   ]
  },
  {
   "cell_type": "code",
   "execution_count": 296,
   "id": "c3a39067-341b-473c-b81a-82889ee58678",
   "metadata": {},
   "outputs": [
    {
     "data": {
      "text/plain": [
       "(19, 19, 19, 19, 19, 19, 19, 19, 19, 19)"
      ]
     },
     "execution_count": 296,
     "metadata": {},
     "output_type": "execute_result"
    }
   ],
   "source": [
    "len(Aeroplane), len(Airlines), len(Dept_time), len(Arrival_time), len(Source), len(Destination), len(Duration), len(Stops),len(Price), len(Date)"
   ]
  },
  {
   "cell_type": "code",
   "execution_count": 297,
   "id": "660ad082-c06e-4b1e-ab16-e2c38e45ae01",
   "metadata": {},
   "outputs": [
    {
     "data": {
      "text/html": [
       "<div>\n",
       "<style scoped>\n",
       "    .dataframe tbody tr th:only-of-type {\n",
       "        vertical-align: middle;\n",
       "    }\n",
       "\n",
       "    .dataframe tbody tr th {\n",
       "        vertical-align: top;\n",
       "    }\n",
       "\n",
       "    .dataframe thead th {\n",
       "        text-align: right;\n",
       "    }\n",
       "</style>\n",
       "<table border=\"1\" class=\"dataframe\">\n",
       "  <thead>\n",
       "    <tr style=\"text-align: right;\">\n",
       "      <th></th>\n",
       "      <th>Airline</th>\n",
       "      <th>Aeroplane</th>\n",
       "      <th>Date</th>\n",
       "      <th>Departure_Time</th>\n",
       "      <th>Arrival_Time</th>\n",
       "      <th>Source</th>\n",
       "      <th>Destination</th>\n",
       "      <th>Stops</th>\n",
       "      <th>Duration</th>\n",
       "      <th>Price</th>\n",
       "    </tr>\n",
       "  </thead>\n",
       "  <tbody>\n",
       "    <tr>\n",
       "      <th>0</th>\n",
       "      <td>Vistara Business</td>\n",
       "      <td>UK-975</td>\n",
       "      <td>Sat, 25 Jun 2022</td>\n",
       "      <td>05:55</td>\n",
       "      <td>07:55</td>\n",
       "      <td>New Delhi</td>\n",
       "      <td>Mumbai</td>\n",
       "      <td>Non Stop</td>\n",
       "      <td>2h 00m</td>\n",
       "      <td>22152</td>\n",
       "    </tr>\n",
       "    <tr>\n",
       "      <th>1</th>\n",
       "      <td>Vistara Business</td>\n",
       "      <td>UK-981</td>\n",
       "      <td>Sat, 25 Jun 2022</td>\n",
       "      <td>21:30</td>\n",
       "      <td>23:30</td>\n",
       "      <td>New Delhi</td>\n",
       "      <td>Mumbai</td>\n",
       "      <td>Non Stop</td>\n",
       "      <td>2h 00m</td>\n",
       "      <td>22152</td>\n",
       "    </tr>\n",
       "    <tr>\n",
       "      <th>2</th>\n",
       "      <td>Vistara Business</td>\n",
       "      <td>UK-985</td>\n",
       "      <td>Sat, 25 Jun 2022</td>\n",
       "      <td>19:45</td>\n",
       "      <td>21:55</td>\n",
       "      <td>New Delhi</td>\n",
       "      <td>Mumbai</td>\n",
       "      <td>Non Stop</td>\n",
       "      <td>2h 10m</td>\n",
       "      <td>22152</td>\n",
       "    </tr>\n",
       "    <tr>\n",
       "      <th>3</th>\n",
       "      <td>Vistara Business</td>\n",
       "      <td>UK-953</td>\n",
       "      <td>Sat, 25 Jun 2022</td>\n",
       "      <td>20:40</td>\n",
       "      <td>22:50</td>\n",
       "      <td>New Delhi</td>\n",
       "      <td>Mumbai</td>\n",
       "      <td>Non Stop</td>\n",
       "      <td>2h 10m</td>\n",
       "      <td>22152</td>\n",
       "    </tr>\n",
       "    <tr>\n",
       "      <th>4</th>\n",
       "      <td>Air India Business</td>\n",
       "      <td>AI-605</td>\n",
       "      <td>Sat, 25 Jun 2022</td>\n",
       "      <td>21:15</td>\n",
       "      <td>23:35</td>\n",
       "      <td>New Delhi</td>\n",
       "      <td>Mumbai</td>\n",
       "      <td>Non Stop</td>\n",
       "      <td>2h 20m</td>\n",
       "      <td>22152</td>\n",
       "    </tr>\n",
       "  </tbody>\n",
       "</table>\n",
       "</div>"
      ],
      "text/plain": [
       "              Airline Aeroplane              Date Departure_Time Arrival_Time  \\\n",
       "0    Vistara Business    UK-975  Sat, 25 Jun 2022          05:55        07:55   \n",
       "1    Vistara Business    UK-981  Sat, 25 Jun 2022          21:30        23:30   \n",
       "2    Vistara Business    UK-985  Sat, 25 Jun 2022          19:45        21:55   \n",
       "3    Vistara Business    UK-953  Sat, 25 Jun 2022          20:40        22:50   \n",
       "4  Air India Business    AI-605  Sat, 25 Jun 2022          21:15        23:35   \n",
       "\n",
       "      Source Destination     Stops Duration  Price  \n",
       "0  New Delhi      Mumbai  Non Stop   2h 00m  22152  \n",
       "1  New Delhi      Mumbai  Non Stop   2h 00m  22152  \n",
       "2  New Delhi      Mumbai  Non Stop   2h 10m  22152  \n",
       "3  New Delhi      Mumbai  Non Stop   2h 10m  22152  \n",
       "4  New Delhi      Mumbai  Non Stop   2h 20m  22152  "
      ]
     },
     "execution_count": 297,
     "metadata": {},
     "output_type": "execute_result"
    }
   ],
   "source": [
    "Flight12=pd.DataFrame()\n",
    "Flight12[\"Airline\"]=Airlines\n",
    "Flight12[\"Aeroplane\"] =Aeroplane\n",
    "Flight12[\"Date\"]=Date\n",
    "Flight12[\"Departure_Time\"]=Dept_time\n",
    "Flight12[\"Arrival_Time\"]=Arrival_time\n",
    "Flight12[\"Source\"]=Source\n",
    "Flight12[\"Destination\"]=Destination\n",
    "Flight12[\"Stops\"]=Stops\n",
    "Flight12[\"Duration\"]=Duration\n",
    "Flight12[\"Price\"]=Price\n",
    "Flight12.head()"
   ]
  },
  {
   "cell_type": "code",
   "execution_count": 298,
   "id": "b637a4e9-36eb-440d-a373-cd463c621561",
   "metadata": {},
   "outputs": [],
   "source": [
    "Flight12.to_csv('Flight_Price_dataset_12.csv')"
   ]
  },
  {
   "cell_type": "markdown",
   "id": "ae672980-75b3-4b67-85a9-90ed9af37dcc",
   "metadata": {},
   "source": [
    "- **Opening business flights from New Dehli to Bombay on 26th June 2022**"
   ]
  },
  {
   "cell_type": "code",
   "execution_count": 299,
   "id": "29fa5a18-3ccc-4365-a860-3c10ae4706df",
   "metadata": {},
   "outputs": [],
   "source": [
    "url='https://flight.yatra.com/air-search-ui/dom2/trigger?ADT=1&CHD=0&INF=0&class=Business&destination=BOM&destinationCountry=IN&flexi=0&flight_depart_date=26%2F06%2F2022&hb=0&noOfSegments=1&non_stop=1&origin=DEL&originCountry=IN&type=O&unique=1291859192499&version=1.1&viewName=normal'"
   ]
  },
  {
   "cell_type": "code",
   "execution_count": 300,
   "id": "dda423fe-8736-443b-a23b-f744dd9cc972",
   "metadata": {},
   "outputs": [],
   "source": [
    "Airlines = []\n",
    "Aeroplane = []\n",
    "Dept_time = []\n",
    "Arrival_time = []\n",
    "Source = []\n",
    "Destination = []\n",
    "Duration = []\n",
    "Stops = []\n",
    "Date = []\n",
    "Price = []"
   ]
  },
  {
   "cell_type": "code",
   "execution_count": 301,
   "id": "9b36181a-6a23-4497-922f-b0ccabbe41e5",
   "metadata": {},
   "outputs": [
    {
     "name": "stderr",
     "output_type": "stream",
     "text": [
      "100%|██████████| 50/50 [00:17<00:00,  2.89it/s]\n"
     ]
    }
   ],
   "source": [
    "from tqdm import tqdm\n",
    "for _ in tqdm (range(0,50)):\n",
    "    time.sleep(0.1)\n",
    "    driver.execute_script(\"window.scrollBy(0,2000)\",\"\")\n",
    "    time.sleep(0.2)\n",
    "    driver.execute_script(\"window.scrollBy(0,-500)\",\"\")"
   ]
  },
  {
   "cell_type": "code",
   "execution_count": 302,
   "id": "15f6d2d6-23af-453b-af5f-620ef9f22e5b",
   "metadata": {},
   "outputs": [
    {
     "data": {
      "text/plain": [
       "18"
      ]
     },
     "execution_count": 302,
     "metadata": {},
     "output_type": "execute_result"
    }
   ],
   "source": [
    "flights=driver.find_elements_by_xpath('//div[@class=\"flight-det table full-width clearfix\"]')\n",
    "len(flights)"
   ]
  },
  {
   "cell_type": "code",
   "execution_count": 303,
   "id": "7e3643a3-b1bd-4f35-a2e1-50b5d2eed324",
   "metadata": {},
   "outputs": [
    {
     "name": "stderr",
     "output_type": "stream",
     "text": [
      "100%|██████████| 18/18 [00:00<00:00, 31.49it/s]\n",
      "100%|██████████| 18/18 [00:00<00:00, 49.35it/s]\n",
      "100%|██████████| 18/18 [00:00<00:00, 58.67it/s]\n",
      "100%|██████████| 18/18 [00:00<00:00, 57.73it/s]\n",
      "100%|██████████| 18/18 [00:00<00:00, 52.51it/s]\n",
      "100%|██████████| 18/18 [00:00<00:00, 62.66it/s]\n",
      "100%|██████████| 18/18 [00:00<00:00, 54.09it/s]\n",
      "100%|██████████| 18/18 [00:00<00:00, 34.91it/s]\n"
     ]
    }
   ],
   "source": [
    "# Extracting Airlines Name Via Xpath\n",
    "airlines = driver.find_elements_by_xpath(\"//div[@class='fs-13 airline-name no-pad col-8']/span\")\n",
    "for i in airlines:\n",
    "    Airlines.append(i.text.replace(\"\\n\",\" \"))\n",
    "else :\n",
    "    pass\n",
    "\n",
    "# Extracting Aeroplane model  via xpath\n",
    "aeroplanes = driver.find_elements_by_xpath('//p[@class=\"normal fs-11 font-lightestgrey no-wrap fl-no\"]/span')\n",
    "for i in tqdm(aeroplanes):\n",
    "    Aeroplane.append(i.text) \n",
    "else:\n",
    "    pass\n",
    "\n",
    "# Extracting Departure Time of Filght via Xpath\n",
    "dept_times = driver.find_elements_by_xpath('//div[@class=\"i-b pr\"]')\n",
    "for i in tqdm(dept_times):\n",
    "    Dept_time.append(i.text)\n",
    "else :\n",
    "    pass\n",
    "\n",
    "# Extracting Arrival Time via xpath\n",
    "arrival = driver.find_elements_by_xpath('//p[@class=\"bold fs-15 mb-2 pr time\"]')\n",
    "for i in tqdm(arrival):\n",
    "    Arrival_time.append(i.text)\n",
    "else :\n",
    "    pass\n",
    "\n",
    "# Extracting Source of flight via Xpath\n",
    "source = driver.find_elements_by_xpath(\"//div[@class='i-b col-4 no-wrap text-right dtime col-3']/p\")\n",
    "for i in tqdm(source):\n",
    "    Source.append(i.text)\n",
    "else :\n",
    "    pass\n",
    "\n",
    "# Extracting Destination of Flights via Xpath\n",
    "destination = driver.find_elements_by_xpath('//div[@class=\"i-b pdd-0 text-left atime col-5\"]/p[2]')\n",
    "for i in tqdm(destination):\n",
    "    Destination.append(i.text)\n",
    "else:\n",
    "    pass\n",
    "\n",
    "# Extracting Duration of Flights via Xpath\n",
    "duration = driver.find_elements_by_xpath('//div[@class=\"stop-cont pl-13\"]/p')\n",
    "for i in tqdm(duration):\n",
    "    Duration.append(i.text)\n",
    "else:\n",
    "    pass\n",
    "\n",
    "# Extracting stop details via Xpath\n",
    "stop = driver.find_elements_by_xpath(\"//div[@class='stop-cont pl-13']/div/span\")\n",
    "for i in tqdm(stop):\n",
    "    Stops.append(i.text)\n",
    "else:\n",
    "    pass\n",
    "\n",
    "# Extracting Price of Flights via Xpath\n",
    "count = 0\n",
    "price = driver.find_elements_by_xpath('//div[@class=\"i-b tipsy fare-summary-tooltip fs-18\"]')\n",
    "for i in tqdm(price):\n",
    "    Price.append(i.text.replace(',',''))\n",
    "    count = count +1\n",
    "else:\n",
    "    count = count +1\n",
    "    pass"
   ]
  },
  {
   "cell_type": "code",
   "execution_count": 304,
   "id": "cfa4a50a-b4f0-4bdb-9209-f806bb6d3c8c",
   "metadata": {},
   "outputs": [
    {
     "name": "stderr",
     "output_type": "stream",
     "text": [
      "100%|██████████| 18/18 [00:00<?, ?it/s]\n"
     ]
    }
   ],
   "source": [
    "# Clicking on Flights details element\n",
    "Button = driver.find_elements_by_xpath('//div[@class=\"link-color fs-12 cursor-pointer\"]/span')\n",
    "driver.execute_script(\"arguments[0].click();\", WebDriverWait(driver, 20).until(EC.element_to_be_clickable((By.XPATH,'//div[@class=\"link-color fs-12 cursor-pointer\"]/span'))))\n",
    "time.sleep(0.25)\n",
    "\n",
    "# Extracting Date of Flights via Xpath\n",
    "date = driver.find_element_by_xpath('//div[@class=\"bold fs-12 mb-5\"]')\n",
    "a = date.text\n",
    "for i in tqdm(range(count-1)):\n",
    "    Date.append(a)\n",
    "else:\n",
    "    pass"
   ]
  },
  {
   "cell_type": "code",
   "execution_count": 305,
   "id": "69995ec1-d77c-4eec-abe9-081b15dbe51d",
   "metadata": {},
   "outputs": [
    {
     "data": {
      "text/plain": [
       "(18, 18, 18, 18, 18, 18, 18, 18, 18, 18)"
      ]
     },
     "execution_count": 305,
     "metadata": {},
     "output_type": "execute_result"
    }
   ],
   "source": [
    "len(Aeroplane), len(Airlines), len(Dept_time), len(Arrival_time), len(Source), len(Destination), len(Duration), len(Stops),len(Price), len(Date)"
   ]
  },
  {
   "cell_type": "code",
   "execution_count": 306,
   "id": "e52a4b01-b4fe-4df8-b0c9-a59389ab3811",
   "metadata": {},
   "outputs": [
    {
     "data": {
      "text/html": [
       "<div>\n",
       "<style scoped>\n",
       "    .dataframe tbody tr th:only-of-type {\n",
       "        vertical-align: middle;\n",
       "    }\n",
       "\n",
       "    .dataframe tbody tr th {\n",
       "        vertical-align: top;\n",
       "    }\n",
       "\n",
       "    .dataframe thead th {\n",
       "        text-align: right;\n",
       "    }\n",
       "</style>\n",
       "<table border=\"1\" class=\"dataframe\">\n",
       "  <thead>\n",
       "    <tr style=\"text-align: right;\">\n",
       "      <th></th>\n",
       "      <th>Airline</th>\n",
       "      <th>Aeroplane</th>\n",
       "      <th>Date</th>\n",
       "      <th>Departure_Time</th>\n",
       "      <th>Arrival_Time</th>\n",
       "      <th>Source</th>\n",
       "      <th>Destination</th>\n",
       "      <th>Stops</th>\n",
       "      <th>Duration</th>\n",
       "      <th>Price</th>\n",
       "    </tr>\n",
       "  </thead>\n",
       "  <tbody>\n",
       "    <tr>\n",
       "      <th>0</th>\n",
       "      <td>Vistara Business</td>\n",
       "      <td>UK-981</td>\n",
       "      <td>Sun, 26 Jun 2022</td>\n",
       "      <td>21:30</td>\n",
       "      <td>23:30</td>\n",
       "      <td>New Delhi</td>\n",
       "      <td>Mumbai</td>\n",
       "      <td>Non Stop</td>\n",
       "      <td>2h 00m</td>\n",
       "      <td>22152</td>\n",
       "    </tr>\n",
       "    <tr>\n",
       "      <th>1</th>\n",
       "      <td>Vistara Business</td>\n",
       "      <td>UK-953</td>\n",
       "      <td>Sun, 26 Jun 2022</td>\n",
       "      <td>20:40</td>\n",
       "      <td>22:50</td>\n",
       "      <td>New Delhi</td>\n",
       "      <td>Mumbai</td>\n",
       "      <td>Non Stop</td>\n",
       "      <td>2h 10m</td>\n",
       "      <td>22152</td>\n",
       "    </tr>\n",
       "    <tr>\n",
       "      <th>2</th>\n",
       "      <td>Vistara Business</td>\n",
       "      <td>UK-995</td>\n",
       "      <td>Sun, 26 Jun 2022</td>\n",
       "      <td>10:20</td>\n",
       "      <td>12:35</td>\n",
       "      <td>New Delhi</td>\n",
       "      <td>Mumbai</td>\n",
       "      <td>Non Stop</td>\n",
       "      <td>2h 15m</td>\n",
       "      <td>22152</td>\n",
       "    </tr>\n",
       "    <tr>\n",
       "      <th>3</th>\n",
       "      <td>Air India Business</td>\n",
       "      <td>AI-605</td>\n",
       "      <td>Sun, 26 Jun 2022</td>\n",
       "      <td>21:15</td>\n",
       "      <td>23:35</td>\n",
       "      <td>New Delhi</td>\n",
       "      <td>Mumbai</td>\n",
       "      <td>Non Stop</td>\n",
       "      <td>2h 20m</td>\n",
       "      <td>22152</td>\n",
       "    </tr>\n",
       "    <tr>\n",
       "      <th>4</th>\n",
       "      <td>Air India Business</td>\n",
       "      <td>AI-805</td>\n",
       "      <td>Sun, 26 Jun 2022</td>\n",
       "      <td>20:00</td>\n",
       "      <td>22:10</td>\n",
       "      <td>New Delhi</td>\n",
       "      <td>Mumbai</td>\n",
       "      <td>Non Stop</td>\n",
       "      <td>2h 10m</td>\n",
       "      <td>22712</td>\n",
       "    </tr>\n",
       "  </tbody>\n",
       "</table>\n",
       "</div>"
      ],
      "text/plain": [
       "              Airline Aeroplane              Date Departure_Time Arrival_Time  \\\n",
       "0    Vistara Business    UK-981  Sun, 26 Jun 2022          21:30        23:30   \n",
       "1    Vistara Business    UK-953  Sun, 26 Jun 2022          20:40        22:50   \n",
       "2    Vistara Business    UK-995  Sun, 26 Jun 2022          10:20        12:35   \n",
       "3  Air India Business    AI-605  Sun, 26 Jun 2022          21:15        23:35   \n",
       "4  Air India Business    AI-805  Sun, 26 Jun 2022          20:00        22:10   \n",
       "\n",
       "      Source Destination     Stops Duration  Price  \n",
       "0  New Delhi      Mumbai  Non Stop   2h 00m  22152  \n",
       "1  New Delhi      Mumbai  Non Stop   2h 10m  22152  \n",
       "2  New Delhi      Mumbai  Non Stop   2h 15m  22152  \n",
       "3  New Delhi      Mumbai  Non Stop   2h 20m  22152  \n",
       "4  New Delhi      Mumbai  Non Stop   2h 10m  22712  "
      ]
     },
     "execution_count": 306,
     "metadata": {},
     "output_type": "execute_result"
    }
   ],
   "source": [
    "Flight13=pd.DataFrame()\n",
    "Flight13[\"Airline\"]=Airlines\n",
    "Flight13[\"Aeroplane\"] =Aeroplane\n",
    "Flight13[\"Date\"]=Date\n",
    "Flight13[\"Departure_Time\"]=Dept_time\n",
    "Flight13[\"Arrival_Time\"]=Arrival_time\n",
    "Flight13[\"Source\"]=Source\n",
    "Flight13[\"Destination\"]=Destination\n",
    "Flight13[\"Stops\"]=Stops\n",
    "Flight13[\"Duration\"]=Duration\n",
    "Flight13[\"Price\"]=Price\n",
    "Flight13.head()"
   ]
  },
  {
   "cell_type": "code",
   "execution_count": 307,
   "id": "59a9999f-9a74-4e8a-9f62-28864092a080",
   "metadata": {},
   "outputs": [],
   "source": [
    "Flight13.to_csv('Flight_Price_dataset_13.csv')"
   ]
  },
  {
   "cell_type": "markdown",
   "id": "59d2a9dd-19f2-4a45-932a-b599bddc045d",
   "metadata": {},
   "source": [
    "- **Opening Business flights from New Dehli to Bombay on 27th June 2022**"
   ]
  },
  {
   "cell_type": "code",
   "execution_count": 308,
   "id": "2314bc00-dc44-486d-b58b-d12df3d38ea8",
   "metadata": {},
   "outputs": [],
   "source": [
    "url='https://flight.yatra.com/air-search-ui/dom2/trigger?ADT=1&CHD=0&INF=0&class=Business&destination=BOM&destinationCountry=IN&flexi=0&flight_depart_date=27%2F06%2F2022&hb=0&noOfSegments=1&non_stop=1&origin=DEL&originCountry=IN&type=O&unique=1411072532708&version=1.1&viewName=normal'"
   ]
  },
  {
   "cell_type": "code",
   "execution_count": 309,
   "id": "9e516626-e848-410f-83be-84c0384f8ef0",
   "metadata": {},
   "outputs": [],
   "source": [
    "Airlines = []\n",
    "Aeroplane = []\n",
    "Dept_time = []\n",
    "Arrival_time = []\n",
    "Source = []\n",
    "Destination = []\n",
    "Duration = []\n",
    "Stops = []\n",
    "Date = []\n",
    "Price = []"
   ]
  },
  {
   "cell_type": "code",
   "execution_count": 310,
   "id": "46e3d472-d2f0-41bd-8c3c-5433e87764ea",
   "metadata": {},
   "outputs": [
    {
     "name": "stderr",
     "output_type": "stream",
     "text": [
      "100%|██████████| 50/50 [00:17<00:00,  2.91it/s]\n"
     ]
    }
   ],
   "source": [
    "from tqdm import tqdm\n",
    "for _ in tqdm (range(0,50)):\n",
    "    time.sleep(0.1)\n",
    "    driver.execute_script(\"window.scrollBy(0,2000)\",\"\")\n",
    "    time.sleep(0.2)\n",
    "    driver.execute_script(\"window.scrollBy(0,-500)\",\"\")"
   ]
  },
  {
   "cell_type": "code",
   "execution_count": 311,
   "id": "b9165d50-0675-44c9-a9e0-b304eaf2fde6",
   "metadata": {},
   "outputs": [
    {
     "data": {
      "text/plain": [
       "20"
      ]
     },
     "execution_count": 311,
     "metadata": {},
     "output_type": "execute_result"
    }
   ],
   "source": [
    "flights=driver.find_elements_by_xpath('//div[@class=\"flight-det table full-width clearfix\"]')\n",
    "len(flights)"
   ]
  },
  {
   "cell_type": "code",
   "execution_count": 312,
   "id": "c02795bc-00b6-4984-8c71-7509dda07497",
   "metadata": {},
   "outputs": [
    {
     "name": "stderr",
     "output_type": "stream",
     "text": [
      "100%|██████████| 20/20 [00:00<00:00, 51.85it/s]\n",
      "100%|██████████| 20/20 [00:00<00:00, 48.57it/s]\n",
      "100%|██████████| 20/20 [00:00<00:00, 57.84it/s]\n",
      "100%|██████████| 20/20 [00:00<00:00, 53.37it/s]\n",
      "100%|██████████| 20/20 [00:00<00:00, 65.11it/s]\n",
      "100%|██████████| 20/20 [00:00<00:00, 63.76it/s]\n",
      "100%|██████████| 20/20 [00:00<00:00, 61.19it/s]\n",
      "100%|██████████| 20/20 [00:00<00:00, 55.82it/s]\n"
     ]
    }
   ],
   "source": [
    "# Extracting Airlines Name Via Xpath\n",
    "airlines = driver.find_elements_by_xpath(\"//div[@class='fs-13 airline-name no-pad col-8']/span\")\n",
    "for i in airlines:\n",
    "    Airlines.append(i.text.replace(\"\\n\",\" \"))\n",
    "else :\n",
    "    pass\n",
    "\n",
    "# Extracting Aeroplane model  via xpath\n",
    "aeroplanes = driver.find_elements_by_xpath('//p[@class=\"normal fs-11 font-lightestgrey no-wrap fl-no\"]/span')\n",
    "for i in tqdm(aeroplanes):\n",
    "    Aeroplane.append(i.text) \n",
    "else:\n",
    "    pass\n",
    "\n",
    "# Extracting Departure Time of Filght via Xpath\n",
    "dept_times = driver.find_elements_by_xpath('//div[@class=\"i-b pr\"]')\n",
    "for i in tqdm(dept_times):\n",
    "    Dept_time.append(i.text)\n",
    "else :\n",
    "    pass\n",
    "\n",
    "# Extracting Arrival Time via xpath\n",
    "arrival = driver.find_elements_by_xpath('//p[@class=\"bold fs-15 mb-2 pr time\"]')\n",
    "for i in tqdm(arrival):\n",
    "    Arrival_time.append(i.text)\n",
    "else :\n",
    "    pass\n",
    "\n",
    "# Extracting Source of flight via Xpath\n",
    "source = driver.find_elements_by_xpath(\"//div[@class='i-b col-4 no-wrap text-right dtime col-3']/p\")\n",
    "for i in tqdm(source):\n",
    "    Source.append(i.text)\n",
    "else :\n",
    "    pass\n",
    "\n",
    "# Extracting Destination of Flights via Xpath\n",
    "destination = driver.find_elements_by_xpath('//div[@class=\"i-b pdd-0 text-left atime col-5\"]/p[2]')\n",
    "for i in tqdm(destination):\n",
    "    Destination.append(i.text)\n",
    "else:\n",
    "    pass\n",
    "\n",
    "# Extracting Duration of Flights via Xpath\n",
    "duration = driver.find_elements_by_xpath('//div[@class=\"stop-cont pl-13\"]/p')\n",
    "for i in tqdm(duration):\n",
    "    Duration.append(i.text)\n",
    "else:\n",
    "    pass\n",
    "\n",
    "# Extracting stop details via Xpath\n",
    "stop = driver.find_elements_by_xpath(\"//div[@class='stop-cont pl-13']/div/span\")\n",
    "for i in tqdm(stop):\n",
    "    Stops.append(i.text)\n",
    "else:\n",
    "    pass\n",
    "\n",
    "# Extracting Price of Flights via Xpath\n",
    "count = 0\n",
    "price = driver.find_elements_by_xpath('//div[@class=\"i-b tipsy fare-summary-tooltip fs-18\"]')\n",
    "for i in tqdm(price):\n",
    "    Price.append(i.text.replace(',',''))\n",
    "    count = count +1\n",
    "else:\n",
    "    count = count +1\n",
    "    pass"
   ]
  },
  {
   "cell_type": "code",
   "execution_count": 313,
   "id": "cb82d7c9-fa34-40a4-a4ce-abc4296a716b",
   "metadata": {},
   "outputs": [
    {
     "name": "stderr",
     "output_type": "stream",
     "text": [
      "100%|██████████| 20/20 [00:00<?, ?it/s]\n"
     ]
    }
   ],
   "source": [
    "# Clicking on Flights details element\n",
    "Button = driver.find_elements_by_xpath('//div[@class=\"link-color fs-12 cursor-pointer\"]/span')\n",
    "driver.execute_script(\"arguments[0].click();\", WebDriverWait(driver, 20).until(EC.element_to_be_clickable((By.XPATH,'//div[@class=\"link-color fs-12 cursor-pointer\"]/span'))))\n",
    "time.sleep(0.25)\n",
    "\n",
    "# Extracting Date of Flights via Xpath\n",
    "date = driver.find_element_by_xpath('//div[@class=\"bold fs-12 mb-5\"]')\n",
    "a = date.text\n",
    "for i in tqdm(range(count-1)):\n",
    "    Date.append(a)\n",
    "else:\n",
    "    pass"
   ]
  },
  {
   "cell_type": "code",
   "execution_count": 314,
   "id": "3a2ff964-81a4-4eea-a09a-8752626633f9",
   "metadata": {},
   "outputs": [
    {
     "data": {
      "text/plain": [
       "(20, 20, 20, 20, 20, 20, 20, 20, 20, 20)"
      ]
     },
     "execution_count": 314,
     "metadata": {},
     "output_type": "execute_result"
    }
   ],
   "source": [
    "len(Aeroplane), len(Airlines), len(Dept_time), len(Arrival_time), len(Source), len(Destination), len(Duration), len(Stops),len(Price), len(Date)"
   ]
  },
  {
   "cell_type": "code",
   "execution_count": 315,
   "id": "b9d3e921-aa26-4014-93c1-63002443fbff",
   "metadata": {},
   "outputs": [
    {
     "data": {
      "text/html": [
       "<div>\n",
       "<style scoped>\n",
       "    .dataframe tbody tr th:only-of-type {\n",
       "        vertical-align: middle;\n",
       "    }\n",
       "\n",
       "    .dataframe tbody tr th {\n",
       "        vertical-align: top;\n",
       "    }\n",
       "\n",
       "    .dataframe thead th {\n",
       "        text-align: right;\n",
       "    }\n",
       "</style>\n",
       "<table border=\"1\" class=\"dataframe\">\n",
       "  <thead>\n",
       "    <tr style=\"text-align: right;\">\n",
       "      <th></th>\n",
       "      <th>Airline</th>\n",
       "      <th>Aeroplane</th>\n",
       "      <th>Date</th>\n",
       "      <th>Departure_Time</th>\n",
       "      <th>Arrival_Time</th>\n",
       "      <th>Source</th>\n",
       "      <th>Destination</th>\n",
       "      <th>Stops</th>\n",
       "      <th>Duration</th>\n",
       "      <th>Price</th>\n",
       "    </tr>\n",
       "  </thead>\n",
       "  <tbody>\n",
       "    <tr>\n",
       "      <th>0</th>\n",
       "      <td>Vistara Business</td>\n",
       "      <td>UK-981</td>\n",
       "      <td>Mon, 27 Jun 2022</td>\n",
       "      <td>21:30</td>\n",
       "      <td>23:30</td>\n",
       "      <td>New Delhi</td>\n",
       "      <td>Mumbai</td>\n",
       "      <td>Non Stop</td>\n",
       "      <td>2h 00m</td>\n",
       "      <td>22152</td>\n",
       "    </tr>\n",
       "    <tr>\n",
       "      <th>1</th>\n",
       "      <td>Vistara Business</td>\n",
       "      <td>UK-993</td>\n",
       "      <td>Mon, 27 Jun 2022</td>\n",
       "      <td>12:50</td>\n",
       "      <td>15:00</td>\n",
       "      <td>New Delhi</td>\n",
       "      <td>Mumbai</td>\n",
       "      <td>Non Stop</td>\n",
       "      <td>2h 10m</td>\n",
       "      <td>22152</td>\n",
       "    </tr>\n",
       "    <tr>\n",
       "      <th>2</th>\n",
       "      <td>Vistara Business</td>\n",
       "      <td>UK-951</td>\n",
       "      <td>Mon, 27 Jun 2022</td>\n",
       "      <td>14:20</td>\n",
       "      <td>16:30</td>\n",
       "      <td>New Delhi</td>\n",
       "      <td>Mumbai</td>\n",
       "      <td>Non Stop</td>\n",
       "      <td>2h 10m</td>\n",
       "      <td>22152</td>\n",
       "    </tr>\n",
       "    <tr>\n",
       "      <th>3</th>\n",
       "      <td>Air India Business</td>\n",
       "      <td>AI-805</td>\n",
       "      <td>Mon, 27 Jun 2022</td>\n",
       "      <td>20:00</td>\n",
       "      <td>22:10</td>\n",
       "      <td>New Delhi</td>\n",
       "      <td>Mumbai</td>\n",
       "      <td>Non Stop</td>\n",
       "      <td>2h 10m</td>\n",
       "      <td>22152</td>\n",
       "    </tr>\n",
       "    <tr>\n",
       "      <th>4</th>\n",
       "      <td>Vistara Business</td>\n",
       "      <td>UK-953</td>\n",
       "      <td>Mon, 27 Jun 2022</td>\n",
       "      <td>20:40</td>\n",
       "      <td>22:50</td>\n",
       "      <td>New Delhi</td>\n",
       "      <td>Mumbai</td>\n",
       "      <td>Non Stop</td>\n",
       "      <td>2h 10m</td>\n",
       "      <td>22152</td>\n",
       "    </tr>\n",
       "  </tbody>\n",
       "</table>\n",
       "</div>"
      ],
      "text/plain": [
       "              Airline Aeroplane              Date Departure_Time Arrival_Time  \\\n",
       "0    Vistara Business    UK-981  Mon, 27 Jun 2022          21:30        23:30   \n",
       "1    Vistara Business    UK-993  Mon, 27 Jun 2022          12:50        15:00   \n",
       "2    Vistara Business    UK-951  Mon, 27 Jun 2022          14:20        16:30   \n",
       "3  Air India Business    AI-805  Mon, 27 Jun 2022          20:00        22:10   \n",
       "4    Vistara Business    UK-953  Mon, 27 Jun 2022          20:40        22:50   \n",
       "\n",
       "      Source Destination     Stops Duration  Price  \n",
       "0  New Delhi      Mumbai  Non Stop   2h 00m  22152  \n",
       "1  New Delhi      Mumbai  Non Stop   2h 10m  22152  \n",
       "2  New Delhi      Mumbai  Non Stop   2h 10m  22152  \n",
       "3  New Delhi      Mumbai  Non Stop   2h 10m  22152  \n",
       "4  New Delhi      Mumbai  Non Stop   2h 10m  22152  "
      ]
     },
     "execution_count": 315,
     "metadata": {},
     "output_type": "execute_result"
    }
   ],
   "source": [
    "Flight14=pd.DataFrame()\n",
    "Flight14[\"Airline\"]=Airlines\n",
    "Flight14[\"Aeroplane\"] =Aeroplane\n",
    "Flight14[\"Date\"]=Date\n",
    "Flight14[\"Departure_Time\"]=Dept_time\n",
    "Flight14[\"Arrival_Time\"]=Arrival_time\n",
    "Flight14[\"Source\"]=Source\n",
    "Flight14[\"Destination\"]=Destination\n",
    "Flight14[\"Stops\"]=Stops\n",
    "Flight14[\"Duration\"]=Duration\n",
    "Flight14[\"Price\"]=Price\n",
    "Flight14.head()"
   ]
  },
  {
   "cell_type": "code",
   "execution_count": 316,
   "id": "47b2b2e2-ab1d-4fa2-84e5-18d834cfd9c7",
   "metadata": {},
   "outputs": [],
   "source": [
    "Flight14.to_csv('Flight_Price_dataset_14.csv')"
   ]
  },
  {
   "cell_type": "markdown",
   "id": "eeca645b-44e5-4d4d-8c39-7597ec960fb9",
   "metadata": {},
   "source": [
    "- **Opening Business flights from New Dehli to Bombay on 30th June 2022**"
   ]
  },
  {
   "cell_type": "code",
   "execution_count": 317,
   "id": "de3d1fe4-d3b8-49b6-8fe2-d4a50387e0d8",
   "metadata": {},
   "outputs": [],
   "source": [
    "url='https://flight.yatra.com/air-search-ui/dom2/trigger?ADT=1&CHD=0&INF=0&class=Business&destination=BOM&destinationCountry=IN&flexi=0&flight_depart_date=30%2F06%2F2022&hb=0&noOfSegments=1&non_stop=1&origin=DEL&originCountry=IN&type=O&unique=984355911485&version=1.1&viewName=normal'"
   ]
  },
  {
   "cell_type": "code",
   "execution_count": 318,
   "id": "5ec07bb7-31e1-4926-9dbd-0c6e74657019",
   "metadata": {},
   "outputs": [],
   "source": [
    "Airlines = []\n",
    "Aeroplane = []\n",
    "Dept_time = []\n",
    "Arrival_time = []\n",
    "Source = []\n",
    "Destination = []\n",
    "Duration = []\n",
    "Stops = []\n",
    "Date = []\n",
    "Price = []"
   ]
  },
  {
   "cell_type": "code",
   "execution_count": 319,
   "id": "93f64bf9-fc81-4621-9796-6e2d41dd9d4d",
   "metadata": {},
   "outputs": [
    {
     "name": "stderr",
     "output_type": "stream",
     "text": [
      "100%|██████████| 50/50 [00:16<00:00,  2.98it/s]\n"
     ]
    }
   ],
   "source": [
    "from tqdm import tqdm\n",
    "for _ in tqdm (range(0,50)):\n",
    "    time.sleep(0.1)\n",
    "    driver.execute_script(\"window.scrollBy(0,2000)\",\"\")\n",
    "    time.sleep(0.2)\n",
    "    driver.execute_script(\"window.scrollBy(0,-500)\",\"\")"
   ]
  },
  {
   "cell_type": "code",
   "execution_count": 320,
   "id": "6265258d-8a24-4d07-a01e-8ef3c9cd37cd",
   "metadata": {},
   "outputs": [
    {
     "data": {
      "text/plain": [
       "21"
      ]
     },
     "execution_count": 320,
     "metadata": {},
     "output_type": "execute_result"
    }
   ],
   "source": [
    "flights=driver.find_elements_by_xpath('//div[@class=\"flight-det table full-width clearfix\"]')\n",
    "len(flights)"
   ]
  },
  {
   "cell_type": "code",
   "execution_count": 321,
   "id": "9de676c8-2cc5-451c-93d9-c8e286fff0e6",
   "metadata": {},
   "outputs": [
    {
     "name": "stderr",
     "output_type": "stream",
     "text": [
      "100%|██████████| 21/21 [00:00<00:00, 31.41it/s]\n",
      "100%|██████████| 21/21 [00:00<00:00, 49.79it/s]\n",
      "100%|██████████| 21/21 [00:00<00:00, 54.16it/s]\n",
      "100%|██████████| 21/21 [00:00<00:00, 58.53it/s]\n",
      "100%|██████████| 21/21 [00:00<00:00, 59.03it/s]\n",
      "100%|██████████| 21/21 [00:00<00:00, 43.24it/s]\n",
      "100%|██████████| 21/21 [00:00<00:00, 42.88it/s]\n",
      "100%|██████████| 21/21 [00:00<00:00, 45.98it/s]\n"
     ]
    }
   ],
   "source": [
    "# Extracting Airlines Name Via Xpath\n",
    "airlines = driver.find_elements_by_xpath(\"//div[@class='fs-13 airline-name no-pad col-8']/span\")\n",
    "for i in airlines:\n",
    "    Airlines.append(i.text.replace(\"\\n\",\" \"))\n",
    "else :\n",
    "    pass\n",
    "\n",
    "# Extracting Aeroplane model  via xpath\n",
    "aeroplanes = driver.find_elements_by_xpath('//p[@class=\"normal fs-11 font-lightestgrey no-wrap fl-no\"]/span')\n",
    "for i in tqdm(aeroplanes):\n",
    "    Aeroplane.append(i.text) \n",
    "else:\n",
    "    pass\n",
    "\n",
    "# Extracting Departure Time of Filght via Xpath\n",
    "dept_times = driver.find_elements_by_xpath('//div[@class=\"i-b pr\"]')\n",
    "for i in tqdm(dept_times):\n",
    "    Dept_time.append(i.text)\n",
    "else :\n",
    "    pass\n",
    "\n",
    "# Extracting Arrival Time via xpath\n",
    "arrival = driver.find_elements_by_xpath('//p[@class=\"bold fs-15 mb-2 pr time\"]')\n",
    "for i in tqdm(arrival):\n",
    "    Arrival_time.append(i.text)\n",
    "else :\n",
    "    pass\n",
    "\n",
    "# Extracting Source of flight via Xpath\n",
    "source = driver.find_elements_by_xpath(\"//div[@class='i-b col-4 no-wrap text-right dtime col-3']/p\")\n",
    "for i in tqdm(source):\n",
    "    Source.append(i.text)\n",
    "else :\n",
    "    pass\n",
    "\n",
    "# Extracting Destination of Flights via Xpath\n",
    "destination = driver.find_elements_by_xpath('//div[@class=\"i-b pdd-0 text-left atime col-5\"]/p[2]')\n",
    "for i in tqdm(destination):\n",
    "    Destination.append(i.text)\n",
    "else:\n",
    "    pass\n",
    "\n",
    "# Extracting Duration of Flights via Xpath\n",
    "duration = driver.find_elements_by_xpath('//div[@class=\"stop-cont pl-13\"]/p')\n",
    "for i in tqdm(duration):\n",
    "    Duration.append(i.text)\n",
    "else:\n",
    "    pass\n",
    "\n",
    "# Extracting stop details via Xpath\n",
    "stop = driver.find_elements_by_xpath(\"//div[@class='stop-cont pl-13']/div/span\")\n",
    "for i in tqdm(stop):\n",
    "    Stops.append(i.text)\n",
    "else:\n",
    "    pass\n",
    "\n",
    "# Extracting Price of Flights via Xpath\n",
    "count = 0\n",
    "price = driver.find_elements_by_xpath('//div[@class=\"i-b tipsy fare-summary-tooltip fs-18\"]')\n",
    "for i in tqdm(price):\n",
    "    Price.append(i.text.replace(',',''))\n",
    "    count = count +1\n",
    "else:\n",
    "    count = count +1\n",
    "    pass"
   ]
  },
  {
   "cell_type": "code",
   "execution_count": 322,
   "id": "a8d0312f-3295-49d6-8636-6bc4573ca405",
   "metadata": {},
   "outputs": [
    {
     "name": "stderr",
     "output_type": "stream",
     "text": [
      "100%|██████████| 21/21 [00:00<?, ?it/s]\n"
     ]
    }
   ],
   "source": [
    "# Clicking on Flights details element\n",
    "Button = driver.find_elements_by_xpath('//div[@class=\"link-color fs-12 cursor-pointer\"]/span')\n",
    "driver.execute_script(\"arguments[0].click();\", WebDriverWait(driver, 20).until(EC.element_to_be_clickable((By.XPATH,'//div[@class=\"link-color fs-12 cursor-pointer\"]/span'))))\n",
    "time.sleep(0.25)\n",
    "\n",
    "# Extracting Date of Flights via Xpath\n",
    "date = driver.find_element_by_xpath('//div[@class=\"bold fs-12 mb-5\"]')\n",
    "a = date.text\n",
    "for i in tqdm(range(count-1)):\n",
    "    Date.append(a)\n",
    "else:\n",
    "    pass"
   ]
  },
  {
   "cell_type": "code",
   "execution_count": 323,
   "id": "6e183225-00b4-4d93-826c-b87ce3eb2b2e",
   "metadata": {},
   "outputs": [
    {
     "data": {
      "text/plain": [
       "(21, 21, 21, 21, 21, 21, 21, 21, 21, 21)"
      ]
     },
     "execution_count": 323,
     "metadata": {},
     "output_type": "execute_result"
    }
   ],
   "source": [
    "len(Aeroplane), len(Airlines), len(Dept_time), len(Arrival_time), len(Source), len(Destination), len(Duration), len(Stops),len(Price), len(Date)"
   ]
  },
  {
   "cell_type": "code",
   "execution_count": 324,
   "id": "1c70a7f5-673c-4138-8e85-c1bd2e5484f4",
   "metadata": {},
   "outputs": [
    {
     "data": {
      "text/html": [
       "<div>\n",
       "<style scoped>\n",
       "    .dataframe tbody tr th:only-of-type {\n",
       "        vertical-align: middle;\n",
       "    }\n",
       "\n",
       "    .dataframe tbody tr th {\n",
       "        vertical-align: top;\n",
       "    }\n",
       "\n",
       "    .dataframe thead th {\n",
       "        text-align: right;\n",
       "    }\n",
       "</style>\n",
       "<table border=\"1\" class=\"dataframe\">\n",
       "  <thead>\n",
       "    <tr style=\"text-align: right;\">\n",
       "      <th></th>\n",
       "      <th>Airline</th>\n",
       "      <th>Aeroplane</th>\n",
       "      <th>Date</th>\n",
       "      <th>Departure_Time</th>\n",
       "      <th>Arrival_Time</th>\n",
       "      <th>Source</th>\n",
       "      <th>Destination</th>\n",
       "      <th>Stops</th>\n",
       "      <th>Duration</th>\n",
       "      <th>Price</th>\n",
       "    </tr>\n",
       "  </thead>\n",
       "  <tbody>\n",
       "    <tr>\n",
       "      <th>0</th>\n",
       "      <td>Vistara Business</td>\n",
       "      <td>UK-975</td>\n",
       "      <td>Thu, 30 Jun 2022</td>\n",
       "      <td>05:55</td>\n",
       "      <td>07:55</td>\n",
       "      <td>New Delhi</td>\n",
       "      <td>Mumbai</td>\n",
       "      <td>Non Stop</td>\n",
       "      <td>2h 00m</td>\n",
       "      <td>22152</td>\n",
       "    </tr>\n",
       "    <tr>\n",
       "      <th>1</th>\n",
       "      <td>Vistara Business</td>\n",
       "      <td>UK-981</td>\n",
       "      <td>Thu, 30 Jun 2022</td>\n",
       "      <td>21:30</td>\n",
       "      <td>23:30</td>\n",
       "      <td>New Delhi</td>\n",
       "      <td>Mumbai</td>\n",
       "      <td>Non Stop</td>\n",
       "      <td>2h 00m</td>\n",
       "      <td>22152</td>\n",
       "    </tr>\n",
       "    <tr>\n",
       "      <th>2</th>\n",
       "      <td>Air India Business</td>\n",
       "      <td>AI-887</td>\n",
       "      <td>Thu, 30 Jun 2022</td>\n",
       "      <td>07:00</td>\n",
       "      <td>09:05</td>\n",
       "      <td>New Delhi</td>\n",
       "      <td>Mumbai</td>\n",
       "      <td>Non Stop</td>\n",
       "      <td>2h 05m</td>\n",
       "      <td>22152</td>\n",
       "    </tr>\n",
       "    <tr>\n",
       "      <th>3</th>\n",
       "      <td>Vistara Business</td>\n",
       "      <td>UK-927</td>\n",
       "      <td>Thu, 30 Jun 2022</td>\n",
       "      <td>09:30</td>\n",
       "      <td>11:35</td>\n",
       "      <td>New Delhi</td>\n",
       "      <td>Mumbai</td>\n",
       "      <td>Non Stop</td>\n",
       "      <td>2h 05m</td>\n",
       "      <td>22152</td>\n",
       "    </tr>\n",
       "    <tr>\n",
       "      <th>4</th>\n",
       "      <td>Air India Business</td>\n",
       "      <td>AI-665</td>\n",
       "      <td>Thu, 30 Jun 2022</td>\n",
       "      <td>08:00</td>\n",
       "      <td>10:10</td>\n",
       "      <td>New Delhi</td>\n",
       "      <td>Mumbai</td>\n",
       "      <td>Non Stop</td>\n",
       "      <td>2h 10m</td>\n",
       "      <td>22152</td>\n",
       "    </tr>\n",
       "  </tbody>\n",
       "</table>\n",
       "</div>"
      ],
      "text/plain": [
       "              Airline Aeroplane              Date Departure_Time Arrival_Time  \\\n",
       "0    Vistara Business    UK-975  Thu, 30 Jun 2022          05:55        07:55   \n",
       "1    Vistara Business    UK-981  Thu, 30 Jun 2022          21:30        23:30   \n",
       "2  Air India Business    AI-887  Thu, 30 Jun 2022          07:00        09:05   \n",
       "3    Vistara Business    UK-927  Thu, 30 Jun 2022          09:30        11:35   \n",
       "4  Air India Business    AI-665  Thu, 30 Jun 2022          08:00        10:10   \n",
       "\n",
       "      Source Destination     Stops Duration  Price  \n",
       "0  New Delhi      Mumbai  Non Stop   2h 00m  22152  \n",
       "1  New Delhi      Mumbai  Non Stop   2h 00m  22152  \n",
       "2  New Delhi      Mumbai  Non Stop   2h 05m  22152  \n",
       "3  New Delhi      Mumbai  Non Stop   2h 05m  22152  \n",
       "4  New Delhi      Mumbai  Non Stop   2h 10m  22152  "
      ]
     },
     "execution_count": 324,
     "metadata": {},
     "output_type": "execute_result"
    }
   ],
   "source": [
    "Flight15=pd.DataFrame()\n",
    "Flight15[\"Airline\"]=Airlines\n",
    "Flight15[\"Aeroplane\"] =Aeroplane\n",
    "Flight15[\"Date\"]=Date\n",
    "Flight15[\"Departure_Time\"]=Dept_time\n",
    "Flight15[\"Arrival_Time\"]=Arrival_time\n",
    "Flight15[\"Source\"]=Source\n",
    "Flight15[\"Destination\"]=Destination\n",
    "Flight15[\"Stops\"]=Stops\n",
    "Flight15[\"Duration\"]=Duration\n",
    "Flight15[\"Price\"]=Price\n",
    "Flight15.head()"
   ]
  },
  {
   "cell_type": "code",
   "execution_count": 346,
   "id": "c88e104e-3c52-4a89-bc22-2a724db56c17",
   "metadata": {},
   "outputs": [],
   "source": [
    "Flight15.to_csv('Flight_Price_dataset_15.csv')"
   ]
  },
  {
   "cell_type": "markdown",
   "id": "bb9804d8-a99c-48be-93aa-91d76ab8f5bb",
   "metadata": {},
   "source": [
    "- **Opening Premium Ecomnomy flights from New Dehli to Bombay on 30th June 2022**"
   ]
  },
  {
   "cell_type": "code",
   "execution_count": 327,
   "id": "a9cb668e-aa21-4d2d-a635-500fbab618f0",
   "metadata": {},
   "outputs": [],
   "source": [
    "url='https://flight.yatra.com/air-search-ui/dom2/trigger?ADT=1&CHD=0&INF=0&class=Special&destination=BOM&destinationCountry=IN&flexi=0&flight_depart_date=30%2F06%2F2022&hb=0&noOfSegments=1&non_stop=1&origin=DEL&originCountry=IN&type=O&unique=1652196964520&version=1.1&viewName=normal'"
   ]
  },
  {
   "cell_type": "code",
   "execution_count": 328,
   "id": "f1ba844d-e783-4905-925d-84c38832ba68",
   "metadata": {},
   "outputs": [],
   "source": [
    "Airlines = []\n",
    "Aeroplane = []\n",
    "Dept_time = []\n",
    "Arrival_time = []\n",
    "Source = []\n",
    "Destination = []\n",
    "Duration = []\n",
    "Stops = []\n",
    "Date = []\n",
    "Price = []"
   ]
  },
  {
   "cell_type": "code",
   "execution_count": 329,
   "id": "4b7efdd0-d732-4732-9622-6f1cefacaa53",
   "metadata": {},
   "outputs": [
    {
     "name": "stderr",
     "output_type": "stream",
     "text": [
      "100%|██████████| 50/50 [00:16<00:00,  3.03it/s]\n"
     ]
    }
   ],
   "source": [
    "from tqdm import tqdm\n",
    "for _ in tqdm (range(0,50)):\n",
    "    time.sleep(0.1)\n",
    "    driver.execute_script(\"window.scrollBy(0,2000)\",\"\")\n",
    "    time.sleep(0.2)\n",
    "    driver.execute_script(\"window.scrollBy(0,-500)\",\"\")"
   ]
  },
  {
   "cell_type": "code",
   "execution_count": 330,
   "id": "7ea31702-143c-49a5-ae03-695826052350",
   "metadata": {},
   "outputs": [
    {
     "data": {
      "text/plain": [
       "13"
      ]
     },
     "execution_count": 330,
     "metadata": {},
     "output_type": "execute_result"
    }
   ],
   "source": [
    "flights=driver.find_elements_by_xpath('//div[@class=\"flight-det table full-width clearfix\"]')\n",
    "len(flights)"
   ]
  },
  {
   "cell_type": "code",
   "execution_count": 331,
   "id": "001bcb43-478f-4411-b148-e211382aa153",
   "metadata": {},
   "outputs": [
    {
     "name": "stderr",
     "output_type": "stream",
     "text": [
      "100%|██████████| 13/13 [00:00<00:00, 46.29it/s]\n",
      "100%|██████████| 13/13 [00:00<00:00, 46.96it/s]\n",
      "100%|██████████| 13/13 [00:00<00:00, 44.39it/s]\n",
      "100%|██████████| 13/13 [00:00<00:00, 54.43it/s]\n",
      "100%|██████████| 13/13 [00:00<00:00, 50.03it/s]\n",
      "100%|██████████| 13/13 [00:00<00:00, 53.75it/s]\n",
      "100%|██████████| 13/13 [00:00<00:00, 54.89it/s]\n",
      "100%|██████████| 13/13 [00:00<00:00, 52.66it/s]\n"
     ]
    }
   ],
   "source": [
    "# Extracting Airlines Name Via Xpath\n",
    "airlines = driver.find_elements_by_xpath(\"//div[@class='fs-13 airline-name no-pad col-8']/span\")\n",
    "for i in airlines:\n",
    "    Airlines.append(i.text.replace(\"\\n\",\" \"))\n",
    "else :\n",
    "    pass\n",
    "\n",
    "# Extracting Aeroplane model  via xpath\n",
    "aeroplanes = driver.find_elements_by_xpath('//p[@class=\"normal fs-11 font-lightestgrey no-wrap fl-no\"]/span')\n",
    "for i in tqdm(aeroplanes):\n",
    "    Aeroplane.append(i.text) \n",
    "else:\n",
    "    pass\n",
    "\n",
    "# Extracting Departure Time of Filght via Xpath\n",
    "dept_times = driver.find_elements_by_xpath('//div[@class=\"i-b pr\"]')\n",
    "for i in tqdm(dept_times):\n",
    "    Dept_time.append(i.text)\n",
    "else :\n",
    "    pass\n",
    "\n",
    "# Extracting Arrival Time via xpath\n",
    "arrival = driver.find_elements_by_xpath('//p[@class=\"bold fs-15 mb-2 pr time\"]')\n",
    "for i in tqdm(arrival):\n",
    "    Arrival_time.append(i.text)\n",
    "else :\n",
    "    pass\n",
    "\n",
    "# Extracting Source of flight via Xpath\n",
    "source = driver.find_elements_by_xpath(\"//div[@class='i-b col-4 no-wrap text-right dtime col-3']/p\")\n",
    "for i in tqdm(source):\n",
    "    Source.append(i.text)\n",
    "else :\n",
    "    pass\n",
    "\n",
    "# Extracting Destination of Flights via Xpath\n",
    "destination = driver.find_elements_by_xpath('//div[@class=\"i-b pdd-0 text-left atime col-5\"]/p[2]')\n",
    "for i in tqdm(destination):\n",
    "    Destination.append(i.text)\n",
    "else:\n",
    "    pass\n",
    "\n",
    "# Extracting Duration of Flights via Xpath\n",
    "duration = driver.find_elements_by_xpath('//div[@class=\"stop-cont pl-13\"]/p')\n",
    "for i in tqdm(duration):\n",
    "    Duration.append(i.text)\n",
    "else:\n",
    "    pass\n",
    "\n",
    "# Extracting stop details via Xpath\n",
    "stop = driver.find_elements_by_xpath(\"//div[@class='stop-cont pl-13']/div/span\")\n",
    "for i in tqdm(stop):\n",
    "    Stops.append(i.text)\n",
    "else:\n",
    "    pass\n",
    "\n",
    "# Extracting Price of Flights via Xpath\n",
    "count = 0\n",
    "price = driver.find_elements_by_xpath('//div[@class=\"i-b tipsy fare-summary-tooltip fs-18\"]')\n",
    "for i in tqdm(price):\n",
    "    Price.append(i.text.replace(',',''))\n",
    "    count = count +1\n",
    "else:\n",
    "    count = count +1\n",
    "    pass"
   ]
  },
  {
   "cell_type": "code",
   "execution_count": 332,
   "id": "0f5a97f6-4b37-4fee-93a8-ab2b1147182b",
   "metadata": {},
   "outputs": [
    {
     "name": "stderr",
     "output_type": "stream",
     "text": [
      "100%|██████████| 13/13 [00:00<?, ?it/s]\n"
     ]
    }
   ],
   "source": [
    "# Clicking on Flights details element\n",
    "Button = driver.find_elements_by_xpath('//div[@class=\"link-color fs-12 cursor-pointer\"]/span')\n",
    "driver.execute_script(\"arguments[0].click();\", WebDriverWait(driver, 20).until(EC.element_to_be_clickable((By.XPATH,'//div[@class=\"link-color fs-12 cursor-pointer\"]/span'))))\n",
    "time.sleep(0.25)\n",
    "\n",
    "# Extracting Date of Flights via Xpath\n",
    "date = driver.find_element_by_xpath('//div[@class=\"bold fs-12 mb-5\"]')\n",
    "a = date.text\n",
    "for i in tqdm(range(count-1)):\n",
    "    Date.append(a)\n",
    "else:\n",
    "    pass"
   ]
  },
  {
   "cell_type": "code",
   "execution_count": 333,
   "id": "3f8b010a-adf7-4e9b-9170-0fc69800f672",
   "metadata": {},
   "outputs": [
    {
     "data": {
      "text/plain": [
       "(13, 13, 13, 13, 13, 13, 13, 13, 13, 13)"
      ]
     },
     "execution_count": 333,
     "metadata": {},
     "output_type": "execute_result"
    }
   ],
   "source": [
    "len(Aeroplane), len(Airlines), len(Dept_time), len(Arrival_time), len(Source), len(Destination), len(Duration), len(Stops),len(Price), len(Date)"
   ]
  },
  {
   "cell_type": "code",
   "execution_count": 334,
   "id": "6cffa49d-dfb2-4b27-8581-103487a49357",
   "metadata": {},
   "outputs": [
    {
     "data": {
      "text/html": [
       "<div>\n",
       "<style scoped>\n",
       "    .dataframe tbody tr th:only-of-type {\n",
       "        vertical-align: middle;\n",
       "    }\n",
       "\n",
       "    .dataframe tbody tr th {\n",
       "        vertical-align: top;\n",
       "    }\n",
       "\n",
       "    .dataframe thead th {\n",
       "        text-align: right;\n",
       "    }\n",
       "</style>\n",
       "<table border=\"1\" class=\"dataframe\">\n",
       "  <thead>\n",
       "    <tr style=\"text-align: right;\">\n",
       "      <th></th>\n",
       "      <th>Airline</th>\n",
       "      <th>Aeroplane</th>\n",
       "      <th>Date</th>\n",
       "      <th>Departure_Time</th>\n",
       "      <th>Arrival_Time</th>\n",
       "      <th>Source</th>\n",
       "      <th>Destination</th>\n",
       "      <th>Stops</th>\n",
       "      <th>Duration</th>\n",
       "      <th>Price</th>\n",
       "    </tr>\n",
       "  </thead>\n",
       "  <tbody>\n",
       "    <tr>\n",
       "      <th>0</th>\n",
       "      <td>Vistara Premium Economy</td>\n",
       "      <td>UK-975</td>\n",
       "      <td>Thu, 30 Jun 2022</td>\n",
       "      <td>05:55</td>\n",
       "      <td>07:55</td>\n",
       "      <td>New Delhi</td>\n",
       "      <td>Mumbai</td>\n",
       "      <td>Non Stop</td>\n",
       "      <td>2h 00m</td>\n",
       "      <td>10190</td>\n",
       "    </tr>\n",
       "    <tr>\n",
       "      <th>1</th>\n",
       "      <td>Vistara Premium Economy</td>\n",
       "      <td>UK-981</td>\n",
       "      <td>Thu, 30 Jun 2022</td>\n",
       "      <td>21:30</td>\n",
       "      <td>23:30</td>\n",
       "      <td>New Delhi</td>\n",
       "      <td>Mumbai</td>\n",
       "      <td>Non Stop</td>\n",
       "      <td>2h 00m</td>\n",
       "      <td>10190</td>\n",
       "    </tr>\n",
       "    <tr>\n",
       "      <th>2</th>\n",
       "      <td>Vistara Premium Economy</td>\n",
       "      <td>UK-993</td>\n",
       "      <td>Thu, 30 Jun 2022</td>\n",
       "      <td>12:50</td>\n",
       "      <td>15:00</td>\n",
       "      <td>New Delhi</td>\n",
       "      <td>Mumbai</td>\n",
       "      <td>Non Stop</td>\n",
       "      <td>2h 10m</td>\n",
       "      <td>11086</td>\n",
       "    </tr>\n",
       "    <tr>\n",
       "      <th>3</th>\n",
       "      <td>Vistara Premium Economy</td>\n",
       "      <td>UK-933</td>\n",
       "      <td>Thu, 30 Jun 2022</td>\n",
       "      <td>15:30</td>\n",
       "      <td>17:40</td>\n",
       "      <td>New Delhi</td>\n",
       "      <td>Mumbai</td>\n",
       "      <td>Non Stop</td>\n",
       "      <td>2h 10m</td>\n",
       "      <td>11086</td>\n",
       "    </tr>\n",
       "    <tr>\n",
       "      <th>4</th>\n",
       "      <td>Vistara Premium Economy</td>\n",
       "      <td>UK-985</td>\n",
       "      <td>Thu, 30 Jun 2022</td>\n",
       "      <td>19:45</td>\n",
       "      <td>21:55</td>\n",
       "      <td>New Delhi</td>\n",
       "      <td>Mumbai</td>\n",
       "      <td>Non Stop</td>\n",
       "      <td>2h 10m</td>\n",
       "      <td>11086</td>\n",
       "    </tr>\n",
       "  </tbody>\n",
       "</table>\n",
       "</div>"
      ],
      "text/plain": [
       "                   Airline Aeroplane              Date Departure_Time  \\\n",
       "0  Vistara Premium Economy    UK-975  Thu, 30 Jun 2022          05:55   \n",
       "1  Vistara Premium Economy    UK-981  Thu, 30 Jun 2022          21:30   \n",
       "2  Vistara Premium Economy    UK-993  Thu, 30 Jun 2022          12:50   \n",
       "3  Vistara Premium Economy    UK-933  Thu, 30 Jun 2022          15:30   \n",
       "4  Vistara Premium Economy    UK-985  Thu, 30 Jun 2022          19:45   \n",
       "\n",
       "  Arrival_Time     Source Destination     Stops Duration  Price  \n",
       "0        07:55  New Delhi      Mumbai  Non Stop   2h 00m  10190  \n",
       "1        23:30  New Delhi      Mumbai  Non Stop   2h 00m  10190  \n",
       "2        15:00  New Delhi      Mumbai  Non Stop   2h 10m  11086  \n",
       "3        17:40  New Delhi      Mumbai  Non Stop   2h 10m  11086  \n",
       "4        21:55  New Delhi      Mumbai  Non Stop   2h 10m  11086  "
      ]
     },
     "execution_count": 334,
     "metadata": {},
     "output_type": "execute_result"
    }
   ],
   "source": [
    "Flight16=pd.DataFrame()\n",
    "Flight16[\"Airline\"]=Airlines\n",
    "Flight16[\"Aeroplane\"] =Aeroplane\n",
    "Flight16[\"Date\"]=Date\n",
    "Flight16[\"Departure_Time\"]=Dept_time\n",
    "Flight16[\"Arrival_Time\"]=Arrival_time\n",
    "Flight16[\"Source\"]=Source\n",
    "Flight16[\"Destination\"]=Destination\n",
    "Flight16[\"Stops\"]=Stops\n",
    "Flight16[\"Duration\"]=Duration\n",
    "Flight16[\"Price\"]=Price\n",
    "Flight16.head()"
   ]
  },
  {
   "cell_type": "code",
   "execution_count": 335,
   "id": "268bc68c-9ff9-4db6-b9bb-2b27a1a75087",
   "metadata": {},
   "outputs": [],
   "source": [
    "Flight16.to_csv('Flight_Price_dataset_16.csv')"
   ]
  },
  {
   "cell_type": "code",
   "execution_count": 337,
   "id": "9999d6e9-bc72-4837-9f48-672d29dda9e4",
   "metadata": {},
   "outputs": [],
   "source": [
    "url='https://flight.yatra.com/air-search-ui/dom2/trigger?ADT=1&CHD=0&INF=0&class=Economy&destination=BOM&destinationCountry=IN&flexi=0&flight_depart_date=01%2F07%2F2022&hb=0&noOfSegments=1&non_stop=1&origin=DEL&originCountry=IN&type=O&unique=1145406136056&version=1.1&viewName=normal'"
   ]
  },
  {
   "cell_type": "code",
   "execution_count": 338,
   "id": "15827f67-2dba-453e-8d89-6c80bd2fecdf",
   "metadata": {},
   "outputs": [],
   "source": [
    "Airlines = []\n",
    "Aeroplane = []\n",
    "Dept_time = []\n",
    "Arrival_time = []\n",
    "Source = []\n",
    "Destination = []\n",
    "Duration = []\n",
    "Stops = []\n",
    "Date = []\n",
    "Price = []"
   ]
  },
  {
   "cell_type": "code",
   "execution_count": 339,
   "id": "d92796b5-dd8e-4faf-bf29-6b88396b5c36",
   "metadata": {},
   "outputs": [
    {
     "name": "stderr",
     "output_type": "stream",
     "text": [
      "100%|██████████| 50/50 [00:18<00:00,  2.71it/s]\n"
     ]
    }
   ],
   "source": [
    "from tqdm import tqdm\n",
    "for _ in tqdm (range(0,50)):\n",
    "    time.sleep(0.1)\n",
    "    driver.execute_script(\"window.scrollBy(0,2000)\",\"\")\n",
    "    time.sleep(0.2)\n",
    "    driver.execute_script(\"window.scrollBy(0,-500)\",\"\")"
   ]
  },
  {
   "cell_type": "code",
   "execution_count": 340,
   "id": "600915c0-373f-4054-b53d-ce810dc80d74",
   "metadata": {},
   "outputs": [
    {
     "name": "stderr",
     "output_type": "stream",
     "text": [
      "100%|██████████| 53/53 [00:00<00:00, 61.96it/s]\n",
      "100%|██████████| 53/53 [00:00<00:00, 60.07it/s]\n",
      "100%|██████████| 53/53 [00:00<00:00, 58.17it/s]\n",
      "100%|██████████| 53/53 [00:00<00:00, 53.62it/s]\n",
      "100%|██████████| 53/53 [00:01<00:00, 52.46it/s]\n",
      "100%|██████████| 53/53 [00:01<00:00, 50.60it/s]\n",
      "100%|██████████| 53/53 [00:01<00:00, 51.01it/s]\n",
      "100%|██████████| 53/53 [00:01<00:00, 52.10it/s]\n"
     ]
    }
   ],
   "source": [
    "# Extracting Airlines Name Via Xpath\n",
    "airlines = driver.find_elements_by_xpath(\"//div[@class='fs-13 airline-name no-pad col-8']/span\")\n",
    "for i in airlines:\n",
    "    Airlines.append(i.text.replace(\"\\n\",\" \"))\n",
    "else :\n",
    "    pass\n",
    "\n",
    "# Extracting Aeroplane model  via xpath\n",
    "aeroplanes = driver.find_elements_by_xpath('//p[@class=\"normal fs-11 font-lightestgrey no-wrap fl-no\"]/span')\n",
    "for i in tqdm(aeroplanes):\n",
    "    Aeroplane.append(i.text) \n",
    "else:\n",
    "    pass\n",
    "\n",
    "# Extracting Departure Time of Filght via Xpath\n",
    "dept_times = driver.find_elements_by_xpath('//div[@class=\"i-b pr\"]')\n",
    "for i in tqdm(dept_times):\n",
    "    Dept_time.append(i.text)\n",
    "else :\n",
    "    pass\n",
    "\n",
    "# Extracting Arrival Time via xpath\n",
    "arrival = driver.find_elements_by_xpath('//p[@class=\"bold fs-15 mb-2 pr time\"]')\n",
    "for i in tqdm(arrival):\n",
    "    Arrival_time.append(i.text)\n",
    "else :\n",
    "    pass\n",
    "\n",
    "# Extracting Source of flight via Xpath\n",
    "source = driver.find_elements_by_xpath(\"//div[@class='i-b col-4 no-wrap text-right dtime col-3']/p\")\n",
    "for i in tqdm(source):\n",
    "    Source.append(i.text)\n",
    "else :\n",
    "    pass\n",
    "\n",
    "# Extracting Destination of Flights via Xpath\n",
    "destination = driver.find_elements_by_xpath('//div[@class=\"i-b pdd-0 text-left atime col-5\"]/p[2]')\n",
    "for i in tqdm(destination):\n",
    "    Destination.append(i.text)\n",
    "else:\n",
    "    pass\n",
    "\n",
    "# Extracting Duration of Flights via Xpath\n",
    "duration = driver.find_elements_by_xpath('//div[@class=\"stop-cont pl-13\"]/p')\n",
    "for i in tqdm(duration):\n",
    "    Duration.append(i.text)\n",
    "else:\n",
    "    pass\n",
    "\n",
    "# Extracting stop details via Xpath\n",
    "stop = driver.find_elements_by_xpath(\"//div[@class='stop-cont pl-13']/div/span\")\n",
    "for i in tqdm(stop):\n",
    "    Stops.append(i.text)\n",
    "else:\n",
    "    pass\n",
    "\n",
    "# Extracting Price of Flights via Xpath\n",
    "count = 0\n",
    "price = driver.find_elements_by_xpath('//div[@class=\"i-b tipsy fare-summary-tooltip fs-18\"]')\n",
    "for i in tqdm(price):\n",
    "    Price.append(i.text.replace(',',''))\n",
    "    count = count +1\n",
    "else:\n",
    "    count = count +1\n",
    "    pass"
   ]
  },
  {
   "cell_type": "code",
   "execution_count": 341,
   "id": "030dc181-a76b-4115-837d-65b24ce19181",
   "metadata": {},
   "outputs": [
    {
     "name": "stderr",
     "output_type": "stream",
     "text": [
      "100%|██████████| 53/53 [00:00<?, ?it/s]\n"
     ]
    }
   ],
   "source": [
    "# Clicking on Flights details element\n",
    "Button = driver.find_elements_by_xpath('//div[@class=\"link-color fs-12 cursor-pointer\"]/span')\n",
    "driver.execute_script(\"arguments[0].click();\", WebDriverWait(driver, 20).until(EC.element_to_be_clickable((By.XPATH,'//div[@class=\"link-color fs-12 cursor-pointer\"]/span'))))\n",
    "time.sleep(0.25)\n",
    "\n",
    "# Extracting Date of Flights via Xpath\n",
    "date = driver.find_element_by_xpath('//div[@class=\"bold fs-12 mb-5\"]')\n",
    "a = date.text\n",
    "for i in tqdm(range(count-1)):\n",
    "    Date.append(a)\n",
    "else:\n",
    "    pass"
   ]
  },
  {
   "cell_type": "code",
   "execution_count": 342,
   "id": "7098feb2-f547-4e51-9d44-38ade7b35a8f",
   "metadata": {},
   "outputs": [
    {
     "data": {
      "text/plain": [
       "(53, 53, 53, 53, 53, 53, 53, 53, 53, 53)"
      ]
     },
     "execution_count": 342,
     "metadata": {},
     "output_type": "execute_result"
    }
   ],
   "source": [
    "len(Aeroplane), len(Airlines), len(Dept_time), len(Arrival_time), len(Source), len(Destination), len(Duration), len(Stops),len(Price), len(Date)"
   ]
  },
  {
   "cell_type": "code",
   "execution_count": 343,
   "id": "80becc53-8310-4fc1-9d36-03936439dc4c",
   "metadata": {},
   "outputs": [
    {
     "data": {
      "text/html": [
       "<div>\n",
       "<style scoped>\n",
       "    .dataframe tbody tr th:only-of-type {\n",
       "        vertical-align: middle;\n",
       "    }\n",
       "\n",
       "    .dataframe tbody tr th {\n",
       "        vertical-align: top;\n",
       "    }\n",
       "\n",
       "    .dataframe thead th {\n",
       "        text-align: right;\n",
       "    }\n",
       "</style>\n",
       "<table border=\"1\" class=\"dataframe\">\n",
       "  <thead>\n",
       "    <tr style=\"text-align: right;\">\n",
       "      <th></th>\n",
       "      <th>Airline</th>\n",
       "      <th>Aeroplane</th>\n",
       "      <th>Date</th>\n",
       "      <th>Departure_Time</th>\n",
       "      <th>Arrival_Time</th>\n",
       "      <th>Source</th>\n",
       "      <th>Destination</th>\n",
       "      <th>Stops</th>\n",
       "      <th>Duration</th>\n",
       "      <th>Price</th>\n",
       "    </tr>\n",
       "  </thead>\n",
       "  <tbody>\n",
       "    <tr>\n",
       "      <th>0</th>\n",
       "      <td>Vistara</td>\n",
       "      <td>UK-975</td>\n",
       "      <td>Fri, 1 Jul 2022</td>\n",
       "      <td>05:55</td>\n",
       "      <td>07:55</td>\n",
       "      <td>New Delhi</td>\n",
       "      <td>Mumbai</td>\n",
       "      <td>Non Stop</td>\n",
       "      <td>2h 00m</td>\n",
       "      <td>8578</td>\n",
       "    </tr>\n",
       "    <tr>\n",
       "      <th>1</th>\n",
       "      <td>Vistara</td>\n",
       "      <td>UK-927</td>\n",
       "      <td>Fri, 1 Jul 2022</td>\n",
       "      <td>09:30</td>\n",
       "      <td>11:35</td>\n",
       "      <td>New Delhi</td>\n",
       "      <td>Mumbai</td>\n",
       "      <td>Non Stop</td>\n",
       "      <td>2h 05m</td>\n",
       "      <td>8578</td>\n",
       "    </tr>\n",
       "    <tr>\n",
       "      <th>2</th>\n",
       "      <td>Vistara</td>\n",
       "      <td>UK-993</td>\n",
       "      <td>Fri, 1 Jul 2022</td>\n",
       "      <td>12:50</td>\n",
       "      <td>15:00</td>\n",
       "      <td>New Delhi</td>\n",
       "      <td>Mumbai</td>\n",
       "      <td>Non Stop</td>\n",
       "      <td>2h 10m</td>\n",
       "      <td>8578</td>\n",
       "    </tr>\n",
       "    <tr>\n",
       "      <th>3</th>\n",
       "      <td>Vistara</td>\n",
       "      <td>UK-951</td>\n",
       "      <td>Fri, 1 Jul 2022</td>\n",
       "      <td>14:20</td>\n",
       "      <td>16:30</td>\n",
       "      <td>New Delhi</td>\n",
       "      <td>Mumbai</td>\n",
       "      <td>Non Stop</td>\n",
       "      <td>2h 10m</td>\n",
       "      <td>8578</td>\n",
       "    </tr>\n",
       "    <tr>\n",
       "      <th>4</th>\n",
       "      <td>Vistara</td>\n",
       "      <td>UK-933</td>\n",
       "      <td>Fri, 1 Jul 2022</td>\n",
       "      <td>15:30</td>\n",
       "      <td>17:40</td>\n",
       "      <td>New Delhi</td>\n",
       "      <td>Mumbai</td>\n",
       "      <td>Non Stop</td>\n",
       "      <td>2h 10m</td>\n",
       "      <td>8578</td>\n",
       "    </tr>\n",
       "  </tbody>\n",
       "</table>\n",
       "</div>"
      ],
      "text/plain": [
       "   Airline Aeroplane             Date Departure_Time Arrival_Time     Source  \\\n",
       "0  Vistara    UK-975  Fri, 1 Jul 2022          05:55        07:55  New Delhi   \n",
       "1  Vistara    UK-927  Fri, 1 Jul 2022          09:30        11:35  New Delhi   \n",
       "2  Vistara    UK-993  Fri, 1 Jul 2022          12:50        15:00  New Delhi   \n",
       "3  Vistara    UK-951  Fri, 1 Jul 2022          14:20        16:30  New Delhi   \n",
       "4  Vistara    UK-933  Fri, 1 Jul 2022          15:30        17:40  New Delhi   \n",
       "\n",
       "  Destination     Stops Duration Price  \n",
       "0      Mumbai  Non Stop   2h 00m  8578  \n",
       "1      Mumbai  Non Stop   2h 05m  8578  \n",
       "2      Mumbai  Non Stop   2h 10m  8578  \n",
       "3      Mumbai  Non Stop   2h 10m  8578  \n",
       "4      Mumbai  Non Stop   2h 10m  8578  "
      ]
     },
     "execution_count": 343,
     "metadata": {},
     "output_type": "execute_result"
    }
   ],
   "source": [
    "Flight17=pd.DataFrame()\n",
    "Flight17[\"Airline\"]=Airlines\n",
    "Flight17[\"Aeroplane\"] =Aeroplane\n",
    "Flight17[\"Date\"]=Date\n",
    "Flight17[\"Departure_Time\"]=Dept_time\n",
    "Flight17[\"Arrival_Time\"]=Arrival_time\n",
    "Flight17[\"Source\"]=Source\n",
    "Flight17[\"Destination\"]=Destination\n",
    "Flight17[\"Stops\"]=Stops\n",
    "Flight17[\"Duration\"]=Duration\n",
    "Flight17[\"Price\"]=Price\n",
    "Flight17.head()"
   ]
  },
  {
   "cell_type": "code",
   "execution_count": 344,
   "id": "b046df32-43d6-412f-9a66-6a65f73efcab",
   "metadata": {},
   "outputs": [],
   "source": [
    "Flight17.to_csv('Flight_Price_dataset_17.csv')"
   ]
  },
  {
   "cell_type": "markdown",
   "id": "61e8d277-155f-4652-bbf0-575fab259474",
   "metadata": {},
   "source": [
    "- **Opening Premium Ecomnomy flights from New Dehli to Bombay on 1st July 2022**"
   ]
  },
  {
   "cell_type": "code",
   "execution_count": 361,
   "id": "b2573c63-1000-4d3d-8d0c-d7a8c5c68b2a",
   "metadata": {},
   "outputs": [],
   "source": [
    "url='https://flight.yatra.com/air-search-ui/dom2/trigger?ADT=1&CHD=0&INF=0&class=Special&destination=BOM&destinationCountry=IN&flexi=0&flight_depart_date=01%2F07%2F2022&hb=0&noOfSegments=1&non_stop=1&origin=DEL&originCountry=IN&type=O&unique=1425838576539&version=1.1&viewName=normal'"
   ]
  },
  {
   "cell_type": "code",
   "execution_count": 362,
   "id": "40c578fb-f6dd-4e10-846e-715613f51296",
   "metadata": {},
   "outputs": [],
   "source": [
    "Airlines = []\n",
    "Aeroplane = []\n",
    "Dept_time = []\n",
    "Arrival_time = []\n",
    "Source = []\n",
    "Destination = []\n",
    "Duration = []\n",
    "Stops = []\n",
    "Date = []\n",
    "Price = []"
   ]
  },
  {
   "cell_type": "code",
   "execution_count": 363,
   "id": "774b8bd2-65ec-48df-b414-3552d855ec60",
   "metadata": {},
   "outputs": [
    {
     "name": "stderr",
     "output_type": "stream",
     "text": [
      "100%|██████████| 50/50 [00:17<00:00,  2.91it/s]\n"
     ]
    }
   ],
   "source": [
    "from tqdm import tqdm\n",
    "for _ in tqdm (range(0,50)):\n",
    "    time.sleep(0.1)\n",
    "    driver.execute_script(\"window.scrollBy(0,2000)\",\"\")\n",
    "    time.sleep(0.2)\n",
    "    driver.execute_script(\"window.scrollBy(0,-500)\",\"\")"
   ]
  },
  {
   "cell_type": "code",
   "execution_count": 364,
   "id": "2bace243-5b19-4f68-bc49-cfe8cbb49631",
   "metadata": {},
   "outputs": [
    {
     "name": "stderr",
     "output_type": "stream",
     "text": [
      "100%|██████████| 13/13 [00:00<00:00, 67.05it/s]\n",
      "100%|██████████| 13/13 [00:00<00:00, 58.33it/s]\n",
      "100%|██████████| 13/13 [00:00<00:00, 55.12it/s]\n",
      "100%|██████████| 13/13 [00:00<00:00, 51.82it/s]\n",
      "100%|██████████| 13/13 [00:00<00:00, 47.13it/s]\n",
      "100%|██████████| 13/13 [00:00<00:00, 61.07it/s]\n",
      "100%|██████████| 13/13 [00:00<00:00, 53.31it/s]\n",
      "100%|██████████| 13/13 [00:00<00:00, 49.09it/s]\n"
     ]
    }
   ],
   "source": [
    "# Extracting Airlines Name Via Xpath\n",
    "airlines = driver.find_elements_by_xpath(\"//div[@class='fs-13 airline-name no-pad col-8']/span\")\n",
    "for i in airlines:\n",
    "    Airlines.append(i.text.replace(\"\\n\",\" \"))\n",
    "else :\n",
    "    pass\n",
    "\n",
    "# Extracting Aeroplane model  via xpath\n",
    "aeroplanes = driver.find_elements_by_xpath('//p[@class=\"normal fs-11 font-lightestgrey no-wrap fl-no\"]/span')\n",
    "for i in tqdm(aeroplanes):\n",
    "    Aeroplane.append(i.text) \n",
    "else:\n",
    "    pass\n",
    "\n",
    "# Extracting Departure Time of Filght via Xpath\n",
    "dept_times = driver.find_elements_by_xpath('//div[@class=\"i-b pr\"]')\n",
    "for i in tqdm(dept_times):\n",
    "    Dept_time.append(i.text)\n",
    "else :\n",
    "    pass\n",
    "\n",
    "# Extracting Arrival Time via xpath\n",
    "arrival = driver.find_elements_by_xpath('//p[@class=\"bold fs-15 mb-2 pr time\"]')\n",
    "for i in tqdm(arrival):\n",
    "    Arrival_time.append(i.text)\n",
    "else :\n",
    "    pass\n",
    "\n",
    "# Extracting Source of flight via Xpath\n",
    "source = driver.find_elements_by_xpath(\"//div[@class='i-b col-4 no-wrap text-right dtime col-3']/p\")\n",
    "for i in tqdm(source):\n",
    "    Source.append(i.text)\n",
    "else :\n",
    "    pass\n",
    "\n",
    "# Extracting Destination of Flights via Xpath\n",
    "destination = driver.find_elements_by_xpath('//div[@class=\"i-b pdd-0 text-left atime col-5\"]/p[2]')\n",
    "for i in tqdm(destination):\n",
    "    Destination.append(i.text)\n",
    "else:\n",
    "    pass\n",
    "\n",
    "# Extracting Duration of Flights via Xpath\n",
    "duration = driver.find_elements_by_xpath('//div[@class=\"stop-cont pl-13\"]/p')\n",
    "for i in tqdm(duration):\n",
    "    Duration.append(i.text)\n",
    "else:\n",
    "    pass\n",
    "\n",
    "# Extracting stop details via Xpath\n",
    "stop = driver.find_elements_by_xpath(\"//div[@class='stop-cont pl-13']/div/span\")\n",
    "for i in tqdm(stop):\n",
    "    Stops.append(i.text)\n",
    "else:\n",
    "    pass\n",
    "\n",
    "# Extracting Price of Flights via Xpath\n",
    "count = 0\n",
    "price = driver.find_elements_by_xpath('//div[@class=\"i-b tipsy fare-summary-tooltip fs-18\"]')\n",
    "for i in tqdm(price):\n",
    "    Price.append(i.text.replace(',',''))\n",
    "    count = count +1\n",
    "else:\n",
    "    count = count +1\n",
    "    pass"
   ]
  },
  {
   "cell_type": "code",
   "execution_count": 365,
   "id": "346c2860-3799-47bd-a039-7f40bdc2215e",
   "metadata": {},
   "outputs": [
    {
     "name": "stderr",
     "output_type": "stream",
     "text": [
      "100%|██████████| 13/13 [00:00<?, ?it/s]\n"
     ]
    }
   ],
   "source": [
    "# Clicking on Flights details element\n",
    "Button = driver.find_elements_by_xpath('//div[@class=\"link-color fs-12 cursor-pointer\"]/span')\n",
    "driver.execute_script(\"arguments[0].click();\", WebDriverWait(driver, 20).until(EC.element_to_be_clickable((By.XPATH,'//div[@class=\"link-color fs-12 cursor-pointer\"]/span'))))\n",
    "time.sleep(0.25)\n",
    "\n",
    "# Extracting Date of Flights via Xpath\n",
    "date = driver.find_element_by_xpath('//div[@class=\"bold fs-12 mb-5\"]')\n",
    "a = date.text\n",
    "for i in tqdm(range(count-1)):\n",
    "    Date.append(a)\n",
    "else:\n",
    "    pass"
   ]
  },
  {
   "cell_type": "code",
   "execution_count": 366,
   "id": "205d9ff3-0fe6-4fc5-bcd2-d322b72073c3",
   "metadata": {},
   "outputs": [
    {
     "data": {
      "text/html": [
       "<div>\n",
       "<style scoped>\n",
       "    .dataframe tbody tr th:only-of-type {\n",
       "        vertical-align: middle;\n",
       "    }\n",
       "\n",
       "    .dataframe tbody tr th {\n",
       "        vertical-align: top;\n",
       "    }\n",
       "\n",
       "    .dataframe thead th {\n",
       "        text-align: right;\n",
       "    }\n",
       "</style>\n",
       "<table border=\"1\" class=\"dataframe\">\n",
       "  <thead>\n",
       "    <tr style=\"text-align: right;\">\n",
       "      <th></th>\n",
       "      <th>Airline</th>\n",
       "      <th>Aeroplane</th>\n",
       "      <th>Date</th>\n",
       "      <th>Departure_Time</th>\n",
       "      <th>Arrival_Time</th>\n",
       "      <th>Source</th>\n",
       "      <th>Destination</th>\n",
       "      <th>Stops</th>\n",
       "      <th>Duration</th>\n",
       "      <th>Price</th>\n",
       "    </tr>\n",
       "  </thead>\n",
       "  <tbody>\n",
       "    <tr>\n",
       "      <th>0</th>\n",
       "      <td>Vistara Premium Economy</td>\n",
       "      <td>UK-975</td>\n",
       "      <td>Fri, 1 Jul 2022</td>\n",
       "      <td>05:55</td>\n",
       "      <td>07:55</td>\n",
       "      <td>New Delhi</td>\n",
       "      <td>Mumbai</td>\n",
       "      <td>Non Stop</td>\n",
       "      <td>2h 00m</td>\n",
       "      <td>10190</td>\n",
       "    </tr>\n",
       "    <tr>\n",
       "      <th>1</th>\n",
       "      <td>Vistara Premium Economy</td>\n",
       "      <td>UK-981</td>\n",
       "      <td>Fri, 1 Jul 2022</td>\n",
       "      <td>21:30</td>\n",
       "      <td>23:40</td>\n",
       "      <td>New Delhi</td>\n",
       "      <td>Mumbai</td>\n",
       "      <td>Non Stop</td>\n",
       "      <td>2h 10m</td>\n",
       "      <td>10190</td>\n",
       "    </tr>\n",
       "    <tr>\n",
       "      <th>2</th>\n",
       "      <td>Vistara Premium Economy</td>\n",
       "      <td>UK-927</td>\n",
       "      <td>Fri, 1 Jul 2022</td>\n",
       "      <td>09:30</td>\n",
       "      <td>11:35</td>\n",
       "      <td>New Delhi</td>\n",
       "      <td>Mumbai</td>\n",
       "      <td>Non Stop</td>\n",
       "      <td>2h 05m</td>\n",
       "      <td>11086</td>\n",
       "    </tr>\n",
       "    <tr>\n",
       "      <th>3</th>\n",
       "      <td>Vistara Premium Economy</td>\n",
       "      <td>UK-993</td>\n",
       "      <td>Fri, 1 Jul 2022</td>\n",
       "      <td>12:50</td>\n",
       "      <td>15:00</td>\n",
       "      <td>New Delhi</td>\n",
       "      <td>Mumbai</td>\n",
       "      <td>Non Stop</td>\n",
       "      <td>2h 10m</td>\n",
       "      <td>11086</td>\n",
       "    </tr>\n",
       "    <tr>\n",
       "      <th>4</th>\n",
       "      <td>Vistara Premium Economy</td>\n",
       "      <td>UK-985</td>\n",
       "      <td>Fri, 1 Jul 2022</td>\n",
       "      <td>19:45</td>\n",
       "      <td>21:55</td>\n",
       "      <td>New Delhi</td>\n",
       "      <td>Mumbai</td>\n",
       "      <td>Non Stop</td>\n",
       "      <td>2h 10m</td>\n",
       "      <td>11086</td>\n",
       "    </tr>\n",
       "  </tbody>\n",
       "</table>\n",
       "</div>"
      ],
      "text/plain": [
       "                   Airline Aeroplane             Date Departure_Time  \\\n",
       "0  Vistara Premium Economy    UK-975  Fri, 1 Jul 2022          05:55   \n",
       "1  Vistara Premium Economy    UK-981  Fri, 1 Jul 2022          21:30   \n",
       "2  Vistara Premium Economy    UK-927  Fri, 1 Jul 2022          09:30   \n",
       "3  Vistara Premium Economy    UK-993  Fri, 1 Jul 2022          12:50   \n",
       "4  Vistara Premium Economy    UK-985  Fri, 1 Jul 2022          19:45   \n",
       "\n",
       "  Arrival_Time     Source Destination     Stops Duration  Price  \n",
       "0        07:55  New Delhi      Mumbai  Non Stop   2h 00m  10190  \n",
       "1        23:40  New Delhi      Mumbai  Non Stop   2h 10m  10190  \n",
       "2        11:35  New Delhi      Mumbai  Non Stop   2h 05m  11086  \n",
       "3        15:00  New Delhi      Mumbai  Non Stop   2h 10m  11086  \n",
       "4        21:55  New Delhi      Mumbai  Non Stop   2h 10m  11086  "
      ]
     },
     "execution_count": 366,
     "metadata": {},
     "output_type": "execute_result"
    }
   ],
   "source": [
    "Flight17=pd.DataFrame()\n",
    "Flight17[\"Airline\"]=Airlines\n",
    "Flight17[\"Aeroplane\"] =Aeroplane\n",
    "Flight17[\"Date\"]=Date\n",
    "Flight17[\"Departure_Time\"]=Dept_time\n",
    "Flight17[\"Arrival_Time\"]=Arrival_time\n",
    "Flight17[\"Source\"]=Source\n",
    "Flight17[\"Destination\"]=Destination\n",
    "Flight17[\"Stops\"]=Stops\n",
    "Flight17[\"Duration\"]=Duration\n",
    "Flight17[\"Price\"]=Price\n",
    "Flight17.head()"
   ]
  },
  {
   "cell_type": "code",
   "execution_count": 367,
   "id": "e32ac848-bd1c-45a1-9599-e8d7d57dd1d3",
   "metadata": {},
   "outputs": [],
   "source": [
    "Flight17.to_csv('Flight_Price_dataset_17.csv')"
   ]
  },
  {
   "cell_type": "markdown",
   "id": "2a746e8a-816c-499b-9242-9a329aaae513",
   "metadata": {},
   "source": [
    "- **Opening Business flights from New Dehli to Bombay on 1st July 2022**"
   ]
  },
  {
   "cell_type": "code",
   "execution_count": 368,
   "id": "08f81045-88c4-429b-bdca-686d9cae092e",
   "metadata": {},
   "outputs": [],
   "source": [
    "url='https://flight.yatra.com/air-search-ui/dom2/trigger?ADT=1&CHD=0&INF=0&class=Business&destination=BOM&destinationCountry=IN&flexi=0&flight_depart_date=01%2F07%2F2022&hb=0&noOfSegments=1&non_stop=1&origin=DEL&originCountry=IN&type=O&unique=981223135705&version=1.1&viewName=normal'"
   ]
  },
  {
   "cell_type": "code",
   "execution_count": 369,
   "id": "b818641d-3fe4-41a1-b49b-8548ea3b340d",
   "metadata": {},
   "outputs": [],
   "source": [
    "Airlines = []\n",
    "Aeroplane = []\n",
    "Dept_time = []\n",
    "Arrival_time = []\n",
    "Source = []\n",
    "Destination = []\n",
    "Duration = []\n",
    "Stops = []\n",
    "Date = []\n",
    "Price = []"
   ]
  },
  {
   "cell_type": "code",
   "execution_count": 370,
   "id": "ebf5e5dc-4a26-45ff-957d-0f87bd6df23e",
   "metadata": {},
   "outputs": [
    {
     "name": "stderr",
     "output_type": "stream",
     "text": [
      "100%|██████████| 50/50 [00:16<00:00,  2.97it/s]\n"
     ]
    }
   ],
   "source": [
    "from tqdm import tqdm\n",
    "for _ in tqdm (range(0,50)):\n",
    "    time.sleep(0.1)\n",
    "    driver.execute_script(\"window.scrollBy(0,2000)\",\"\")\n",
    "    time.sleep(0.2)\n",
    "    driver.execute_script(\"window.scrollBy(0,-500)\",\"\")"
   ]
  },
  {
   "cell_type": "code",
   "execution_count": 371,
   "id": "a3e53987-29e3-419c-bfad-0481df6a8706",
   "metadata": {},
   "outputs": [
    {
     "name": "stderr",
     "output_type": "stream",
     "text": [
      "100%|██████████| 23/23 [00:00<00:00, 70.42it/s]\n",
      "100%|██████████| 23/23 [00:00<00:00, 56.07it/s]\n",
      "100%|██████████| 23/23 [00:00<00:00, 62.72it/s]\n",
      "100%|██████████| 23/23 [00:00<00:00, 56.23it/s]\n",
      "100%|██████████| 23/23 [00:00<00:00, 56.21it/s]\n",
      "100%|██████████| 23/23 [00:00<00:00, 66.75it/s]\n",
      "100%|██████████| 23/23 [00:00<00:00, 66.43it/s]\n",
      "100%|██████████| 23/23 [00:00<00:00, 63.04it/s]\n"
     ]
    }
   ],
   "source": [
    "# Extracting Airlines Name Via Xpath\n",
    "airlines = driver.find_elements_by_xpath(\"//div[@class='fs-13 airline-name no-pad col-8']/span\")\n",
    "for i in airlines:\n",
    "    Airlines.append(i.text.replace(\"\\n\",\" \"))\n",
    "else :\n",
    "    pass\n",
    "\n",
    "# Extracting Aeroplane model  via xpath\n",
    "aeroplanes = driver.find_elements_by_xpath('//p[@class=\"normal fs-11 font-lightestgrey no-wrap fl-no\"]/span')\n",
    "for i in tqdm(aeroplanes):\n",
    "    Aeroplane.append(i.text) \n",
    "else:\n",
    "    pass\n",
    "\n",
    "# Extracting Departure Time of Filght via Xpath\n",
    "dept_times = driver.find_elements_by_xpath('//div[@class=\"i-b pr\"]')\n",
    "for i in tqdm(dept_times):\n",
    "    Dept_time.append(i.text)\n",
    "else :\n",
    "    pass\n",
    "\n",
    "# Extracting Arrival Time via xpath\n",
    "arrival = driver.find_elements_by_xpath('//p[@class=\"bold fs-15 mb-2 pr time\"]')\n",
    "for i in tqdm(arrival):\n",
    "    Arrival_time.append(i.text)\n",
    "else :\n",
    "    pass\n",
    "\n",
    "# Extracting Source of flight via Xpath\n",
    "source = driver.find_elements_by_xpath(\"//div[@class='i-b col-4 no-wrap text-right dtime col-3']/p\")\n",
    "for i in tqdm(source):\n",
    "    Source.append(i.text)\n",
    "else :\n",
    "    pass\n",
    "\n",
    "# Extracting Destination of Flights via Xpath\n",
    "destination = driver.find_elements_by_xpath('//div[@class=\"i-b pdd-0 text-left atime col-5\"]/p[2]')\n",
    "for i in tqdm(destination):\n",
    "    Destination.append(i.text)\n",
    "else:\n",
    "    pass\n",
    "\n",
    "# Extracting Duration of Flights via Xpath\n",
    "duration = driver.find_elements_by_xpath('//div[@class=\"stop-cont pl-13\"]/p')\n",
    "for i in tqdm(duration):\n",
    "    Duration.append(i.text)\n",
    "else:\n",
    "    pass\n",
    "\n",
    "# Extracting stop details via Xpath\n",
    "stop = driver.find_elements_by_xpath(\"//div[@class='stop-cont pl-13']/div/span\")\n",
    "for i in tqdm(stop):\n",
    "    Stops.append(i.text)\n",
    "else:\n",
    "    pass\n",
    "\n",
    "# Extracting Price of Flights via Xpath\n",
    "count = 0\n",
    "price = driver.find_elements_by_xpath('//div[@class=\"i-b tipsy fare-summary-tooltip fs-18\"]')\n",
    "for i in tqdm(price):\n",
    "    Price.append(i.text.replace(',',''))\n",
    "    count = count +1\n",
    "else:\n",
    "    count = count +1\n",
    "    pass"
   ]
  },
  {
   "cell_type": "code",
   "execution_count": 372,
   "id": "710c6b26-1177-4739-8303-3785c9a277a3",
   "metadata": {},
   "outputs": [
    {
     "name": "stderr",
     "output_type": "stream",
     "text": [
      "100%|██████████| 23/23 [00:00<?, ?it/s]\n"
     ]
    }
   ],
   "source": [
    "# Clicking on Flights details element\n",
    "Button = driver.find_elements_by_xpath('//div[@class=\"link-color fs-12 cursor-pointer\"]/span')\n",
    "driver.execute_script(\"arguments[0].click();\", WebDriverWait(driver, 20).until(EC.element_to_be_clickable((By.XPATH,'//div[@class=\"link-color fs-12 cursor-pointer\"]/span'))))\n",
    "time.sleep(0.25)\n",
    "\n",
    "# Extracting Date of Flights via Xpath\n",
    "date = driver.find_element_by_xpath('//div[@class=\"bold fs-12 mb-5\"]')\n",
    "a = date.text\n",
    "for i in tqdm(range(count-1)):\n",
    "    Date.append(a)\n",
    "else:\n",
    "    pass"
   ]
  },
  {
   "cell_type": "code",
   "execution_count": 373,
   "id": "eaf6502c-e924-49bb-a951-0d3a08c9b17e",
   "metadata": {},
   "outputs": [
    {
     "data": {
      "text/plain": [
       "(23, 23, 23, 23, 23, 23, 23, 23, 23, 23)"
      ]
     },
     "execution_count": 373,
     "metadata": {},
     "output_type": "execute_result"
    }
   ],
   "source": [
    "len(Aeroplane), len(Airlines), len(Dept_time), len(Arrival_time), len(Source), len(Destination), len(Duration), len(Stops),len(Price), len(Date)"
   ]
  },
  {
   "cell_type": "code",
   "execution_count": 374,
   "id": "7fe80d61-0cee-428c-b216-e29c9512664d",
   "metadata": {},
   "outputs": [
    {
     "data": {
      "text/html": [
       "<div>\n",
       "<style scoped>\n",
       "    .dataframe tbody tr th:only-of-type {\n",
       "        vertical-align: middle;\n",
       "    }\n",
       "\n",
       "    .dataframe tbody tr th {\n",
       "        vertical-align: top;\n",
       "    }\n",
       "\n",
       "    .dataframe thead th {\n",
       "        text-align: right;\n",
       "    }\n",
       "</style>\n",
       "<table border=\"1\" class=\"dataframe\">\n",
       "  <thead>\n",
       "    <tr style=\"text-align: right;\">\n",
       "      <th></th>\n",
       "      <th>Airline</th>\n",
       "      <th>Aeroplane</th>\n",
       "      <th>Date</th>\n",
       "      <th>Departure_Time</th>\n",
       "      <th>Arrival_Time</th>\n",
       "      <th>Source</th>\n",
       "      <th>Destination</th>\n",
       "      <th>Stops</th>\n",
       "      <th>Duration</th>\n",
       "      <th>Price</th>\n",
       "    </tr>\n",
       "  </thead>\n",
       "  <tbody>\n",
       "    <tr>\n",
       "      <th>0</th>\n",
       "      <td>Vistara Business</td>\n",
       "      <td>UK-975</td>\n",
       "      <td>Fri, 1 Jul 2022</td>\n",
       "      <td>05:55</td>\n",
       "      <td>07:55</td>\n",
       "      <td>New Delhi</td>\n",
       "      <td>Mumbai</td>\n",
       "      <td>Non Stop</td>\n",
       "      <td>2h 00m</td>\n",
       "      <td>22152</td>\n",
       "    </tr>\n",
       "    <tr>\n",
       "      <th>1</th>\n",
       "      <td>Air India Business</td>\n",
       "      <td>AI-887</td>\n",
       "      <td>Fri, 1 Jul 2022</td>\n",
       "      <td>07:00</td>\n",
       "      <td>09:05</td>\n",
       "      <td>New Delhi</td>\n",
       "      <td>Mumbai</td>\n",
       "      <td>Non Stop</td>\n",
       "      <td>2h 05m</td>\n",
       "      <td>22152</td>\n",
       "    </tr>\n",
       "    <tr>\n",
       "      <th>2</th>\n",
       "      <td>Air India Business</td>\n",
       "      <td>AI-665</td>\n",
       "      <td>Fri, 1 Jul 2022</td>\n",
       "      <td>08:00</td>\n",
       "      <td>10:10</td>\n",
       "      <td>New Delhi</td>\n",
       "      <td>Mumbai</td>\n",
       "      <td>Non Stop</td>\n",
       "      <td>2h 10m</td>\n",
       "      <td>22152</td>\n",
       "    </tr>\n",
       "    <tr>\n",
       "      <th>3</th>\n",
       "      <td>Vistara Business</td>\n",
       "      <td>UK-993</td>\n",
       "      <td>Fri, 1 Jul 2022</td>\n",
       "      <td>12:50</td>\n",
       "      <td>15:00</td>\n",
       "      <td>New Delhi</td>\n",
       "      <td>Mumbai</td>\n",
       "      <td>Non Stop</td>\n",
       "      <td>2h 10m</td>\n",
       "      <td>22152</td>\n",
       "    </tr>\n",
       "    <tr>\n",
       "      <th>4</th>\n",
       "      <td>Vistara Business</td>\n",
       "      <td>UK-953</td>\n",
       "      <td>Fri, 1 Jul 2022</td>\n",
       "      <td>20:40</td>\n",
       "      <td>22:50</td>\n",
       "      <td>New Delhi</td>\n",
       "      <td>Mumbai</td>\n",
       "      <td>Non Stop</td>\n",
       "      <td>2h 10m</td>\n",
       "      <td>22152</td>\n",
       "    </tr>\n",
       "  </tbody>\n",
       "</table>\n",
       "</div>"
      ],
      "text/plain": [
       "              Airline Aeroplane             Date Departure_Time Arrival_Time  \\\n",
       "0    Vistara Business    UK-975  Fri, 1 Jul 2022          05:55        07:55   \n",
       "1  Air India Business    AI-887  Fri, 1 Jul 2022          07:00        09:05   \n",
       "2  Air India Business    AI-665  Fri, 1 Jul 2022          08:00        10:10   \n",
       "3    Vistara Business    UK-993  Fri, 1 Jul 2022          12:50        15:00   \n",
       "4    Vistara Business    UK-953  Fri, 1 Jul 2022          20:40        22:50   \n",
       "\n",
       "      Source Destination     Stops Duration  Price  \n",
       "0  New Delhi      Mumbai  Non Stop   2h 00m  22152  \n",
       "1  New Delhi      Mumbai  Non Stop   2h 05m  22152  \n",
       "2  New Delhi      Mumbai  Non Stop   2h 10m  22152  \n",
       "3  New Delhi      Mumbai  Non Stop   2h 10m  22152  \n",
       "4  New Delhi      Mumbai  Non Stop   2h 10m  22152  "
      ]
     },
     "execution_count": 374,
     "metadata": {},
     "output_type": "execute_result"
    }
   ],
   "source": [
    "Flight18=pd.DataFrame()\n",
    "Flight18[\"Airline\"]=Airlines\n",
    "Flight18[\"Aeroplane\"] =Aeroplane\n",
    "Flight18[\"Date\"]=Date\n",
    "Flight18[\"Departure_Time\"]=Dept_time\n",
    "Flight18[\"Arrival_Time\"]=Arrival_time\n",
    "Flight18[\"Source\"]=Source\n",
    "Flight18[\"Destination\"]=Destination\n",
    "Flight18[\"Stops\"]=Stops\n",
    "Flight18[\"Duration\"]=Duration\n",
    "Flight18[\"Price\"]=Price\n",
    "Flight18.head()"
   ]
  },
  {
   "cell_type": "markdown",
   "id": "721506d4-164f-4279-ac0c-3dd28ab4be1f",
   "metadata": {},
   "source": [
    "- **Opening Business flights from New Dehli to Bombay on 2nd July 2022**"
   ]
  },
  {
   "cell_type": "code",
   "execution_count": 378,
   "id": "b109f639-2b6f-48d2-959e-3d622c86c909",
   "metadata": {},
   "outputs": [],
   "source": [
    "url='https://flight.yatra.com/air-search-ui/dom2/trigger?ADT=1&CHD=0&INF=0&class=Business&destination=BOM&destinationCountry=IN&flexi=0&flight_depart_date=02%2F07%2F2022&hb=0&noOfSegments=1&non_stop=1&origin=DEL&originCountry=IN&type=O&unique=277642499412&version=1.1&viewName=normal'"
   ]
  },
  {
   "cell_type": "code",
   "execution_count": 377,
   "id": "acf79e75-2385-4bfe-8c94-0252c28562d2",
   "metadata": {},
   "outputs": [],
   "source": [
    "Airlines = []\n",
    "Aeroplane = []\n",
    "Dept_time = []\n",
    "Arrival_time = []\n",
    "Source = []\n",
    "Destination = []\n",
    "Duration = []\n",
    "Stops = []\n",
    "Date = []\n",
    "Price = []"
   ]
  },
  {
   "cell_type": "code",
   "execution_count": 379,
   "id": "fd03d368-a039-4184-96ce-9c86a81cfb29",
   "metadata": {},
   "outputs": [
    {
     "name": "stderr",
     "output_type": "stream",
     "text": [
      "100%|██████████| 50/50 [00:16<00:00,  2.95it/s]\n"
     ]
    }
   ],
   "source": [
    "from tqdm import tqdm\n",
    "for _ in tqdm (range(0,50)):\n",
    "    time.sleep(0.1)\n",
    "    driver.execute_script(\"window.scrollBy(0,2000)\",\"\")\n",
    "    time.sleep(0.2)\n",
    "    driver.execute_script(\"window.scrollBy(0,-500)\",\"\")"
   ]
  },
  {
   "cell_type": "code",
   "execution_count": 380,
   "id": "6d47fb49-41f0-43b3-9859-3ce467ec107b",
   "metadata": {},
   "outputs": [
    {
     "data": {
      "text/plain": [
       "23"
      ]
     },
     "execution_count": 380,
     "metadata": {},
     "output_type": "execute_result"
    }
   ],
   "source": [
    "flights=driver.find_elements_by_xpath('//div[@class=\"flight-det table full-width clearfix\"]')\n",
    "len(flights)"
   ]
  },
  {
   "cell_type": "code",
   "execution_count": 381,
   "id": "5ebec186-dc2a-4b7a-be7b-d50828a2a15a",
   "metadata": {},
   "outputs": [
    {
     "name": "stderr",
     "output_type": "stream",
     "text": [
      "100%|██████████| 23/23 [00:00<00:00, 57.11it/s]\n",
      "100%|██████████| 23/23 [00:00<00:00, 50.58it/s]\n",
      "100%|██████████| 23/23 [00:00<00:00, 51.26it/s]\n",
      "100%|██████████| 23/23 [00:00<00:00, 58.26it/s]\n",
      "100%|██████████| 23/23 [00:00<00:00, 55.73it/s]\n",
      "100%|██████████| 23/23 [00:00<00:00, 55.32it/s]\n",
      "100%|██████████| 23/23 [00:00<00:00, 43.26it/s]\n",
      "100%|██████████| 23/23 [00:00<00:00, 45.85it/s]\n"
     ]
    }
   ],
   "source": [
    "# Extracting Airlines Name Via Xpath\n",
    "airlines = driver.find_elements_by_xpath(\"//div[@class='fs-13 airline-name no-pad col-8']/span\")\n",
    "for i in airlines:\n",
    "    Airlines.append(i.text.replace(\"\\n\",\" \"))\n",
    "else :\n",
    "    pass\n",
    "\n",
    "# Extracting Aeroplane model  via xpath\n",
    "aeroplanes = driver.find_elements_by_xpath('//p[@class=\"normal fs-11 font-lightestgrey no-wrap fl-no\"]/span')\n",
    "for i in tqdm(aeroplanes):\n",
    "    Aeroplane.append(i.text) \n",
    "else:\n",
    "    pass\n",
    "\n",
    "# Extracting Departure Time of Filght via Xpath\n",
    "dept_times = driver.find_elements_by_xpath('//div[@class=\"i-b pr\"]')\n",
    "for i in tqdm(dept_times):\n",
    "    Dept_time.append(i.text)\n",
    "else :\n",
    "    pass\n",
    "\n",
    "# Extracting Arrival Time via xpath\n",
    "arrival = driver.find_elements_by_xpath('//p[@class=\"bold fs-15 mb-2 pr time\"]')\n",
    "for i in tqdm(arrival):\n",
    "    Arrival_time.append(i.text)\n",
    "else :\n",
    "    pass\n",
    "\n",
    "# Extracting Source of flight via Xpath\n",
    "source = driver.find_elements_by_xpath(\"//div[@class='i-b col-4 no-wrap text-right dtime col-3']/p\")\n",
    "for i in tqdm(source):\n",
    "    Source.append(i.text)\n",
    "else :\n",
    "    pass\n",
    "\n",
    "# Extracting Destination of Flights via Xpath\n",
    "destination = driver.find_elements_by_xpath('//div[@class=\"i-b pdd-0 text-left atime col-5\"]/p[2]')\n",
    "for i in tqdm(destination):\n",
    "    Destination.append(i.text)\n",
    "else:\n",
    "    pass\n",
    "\n",
    "# Extracting Duration of Flights via Xpath\n",
    "duration = driver.find_elements_by_xpath('//div[@class=\"stop-cont pl-13\"]/p')\n",
    "for i in tqdm(duration):\n",
    "    Duration.append(i.text)\n",
    "else:\n",
    "    pass\n",
    "\n",
    "# Extracting stop details via Xpath\n",
    "stop = driver.find_elements_by_xpath(\"//div[@class='stop-cont pl-13']/div/span\")\n",
    "for i in tqdm(stop):\n",
    "    Stops.append(i.text)\n",
    "else:\n",
    "    pass\n",
    "\n",
    "# Extracting Price of Flights via Xpath\n",
    "count = 0\n",
    "price = driver.find_elements_by_xpath('//div[@class=\"i-b tipsy fare-summary-tooltip fs-18\"]')\n",
    "for i in tqdm(price):\n",
    "    Price.append(i.text.replace(',',''))\n",
    "    count = count +1\n",
    "else:\n",
    "    count = count +1\n",
    "    pass"
   ]
  },
  {
   "cell_type": "code",
   "execution_count": 382,
   "id": "216fa86b-1c52-4d88-8728-95b61ba75262",
   "metadata": {},
   "outputs": [
    {
     "name": "stderr",
     "output_type": "stream",
     "text": [
      "100%|██████████| 23/23 [00:00<?, ?it/s]\n"
     ]
    }
   ],
   "source": [
    "# Clicking on Flights details element\n",
    "Button = driver.find_elements_by_xpath('//div[@class=\"link-color fs-12 cursor-pointer\"]/span')\n",
    "driver.execute_script(\"arguments[0].click();\", WebDriverWait(driver, 20).until(EC.element_to_be_clickable((By.XPATH,'//div[@class=\"link-color fs-12 cursor-pointer\"]/span'))))\n",
    "time.sleep(0.25)\n",
    "\n",
    "# Extracting Date of Flights via Xpath\n",
    "date = driver.find_element_by_xpath('//div[@class=\"bold fs-12 mb-5\"]')\n",
    "a = date.text\n",
    "for i in tqdm(range(count-1)):\n",
    "    Date.append(a)\n",
    "else:\n",
    "    pass"
   ]
  },
  {
   "cell_type": "code",
   "execution_count": 383,
   "id": "5bcad231-87b2-4dfe-8bb1-fb749274972d",
   "metadata": {},
   "outputs": [
    {
     "data": {
      "text/plain": [
       "(23, 23, 23, 23, 23, 23, 23, 23, 23, 23)"
      ]
     },
     "execution_count": 383,
     "metadata": {},
     "output_type": "execute_result"
    }
   ],
   "source": [
    "len(Aeroplane), len(Airlines), len(Dept_time), len(Arrival_time), len(Source), len(Destination), len(Duration), len(Stops),len(Price), len(Date)"
   ]
  },
  {
   "cell_type": "code",
   "execution_count": 384,
   "id": "38b86c67-c9a7-4ac2-a7be-cf94b27c4cc5",
   "metadata": {},
   "outputs": [
    {
     "data": {
      "text/html": [
       "<div>\n",
       "<style scoped>\n",
       "    .dataframe tbody tr th:only-of-type {\n",
       "        vertical-align: middle;\n",
       "    }\n",
       "\n",
       "    .dataframe tbody tr th {\n",
       "        vertical-align: top;\n",
       "    }\n",
       "\n",
       "    .dataframe thead th {\n",
       "        text-align: right;\n",
       "    }\n",
       "</style>\n",
       "<table border=\"1\" class=\"dataframe\">\n",
       "  <thead>\n",
       "    <tr style=\"text-align: right;\">\n",
       "      <th></th>\n",
       "      <th>Airline</th>\n",
       "      <th>Aeroplane</th>\n",
       "      <th>Date</th>\n",
       "      <th>Departure_Time</th>\n",
       "      <th>Arrival_Time</th>\n",
       "      <th>Source</th>\n",
       "      <th>Destination</th>\n",
       "      <th>Stops</th>\n",
       "      <th>Duration</th>\n",
       "      <th>Price</th>\n",
       "    </tr>\n",
       "  </thead>\n",
       "  <tbody>\n",
       "    <tr>\n",
       "      <th>0</th>\n",
       "      <td>Vistara Business</td>\n",
       "      <td>UK-975</td>\n",
       "      <td>Sat, 2 Jul 2022</td>\n",
       "      <td>05:55</td>\n",
       "      <td>07:55</td>\n",
       "      <td>New Delhi</td>\n",
       "      <td>Mumbai</td>\n",
       "      <td>Non Stop</td>\n",
       "      <td>2h 00m</td>\n",
       "      <td>22152</td>\n",
       "    </tr>\n",
       "    <tr>\n",
       "      <th>1</th>\n",
       "      <td>Vistara Business</td>\n",
       "      <td>UK-927</td>\n",
       "      <td>Sat, 2 Jul 2022</td>\n",
       "      <td>09:30</td>\n",
       "      <td>11:35</td>\n",
       "      <td>New Delhi</td>\n",
       "      <td>Mumbai</td>\n",
       "      <td>Non Stop</td>\n",
       "      <td>2h 05m</td>\n",
       "      <td>22152</td>\n",
       "    </tr>\n",
       "    <tr>\n",
       "      <th>2</th>\n",
       "      <td>Vistara Business</td>\n",
       "      <td>UK-993</td>\n",
       "      <td>Sat, 2 Jul 2022</td>\n",
       "      <td>12:50</td>\n",
       "      <td>15:00</td>\n",
       "      <td>New Delhi</td>\n",
       "      <td>Mumbai</td>\n",
       "      <td>Non Stop</td>\n",
       "      <td>2h 10m</td>\n",
       "      <td>22152</td>\n",
       "    </tr>\n",
       "    <tr>\n",
       "      <th>3</th>\n",
       "      <td>Vistara Business</td>\n",
       "      <td>UK-951</td>\n",
       "      <td>Sat, 2 Jul 2022</td>\n",
       "      <td>14:20</td>\n",
       "      <td>16:30</td>\n",
       "      <td>New Delhi</td>\n",
       "      <td>Mumbai</td>\n",
       "      <td>Non Stop</td>\n",
       "      <td>2h 10m</td>\n",
       "      <td>22152</td>\n",
       "    </tr>\n",
       "    <tr>\n",
       "      <th>4</th>\n",
       "      <td>Vistara Business</td>\n",
       "      <td>UK-933</td>\n",
       "      <td>Sat, 2 Jul 2022</td>\n",
       "      <td>15:30</td>\n",
       "      <td>17:40</td>\n",
       "      <td>New Delhi</td>\n",
       "      <td>Mumbai</td>\n",
       "      <td>Non Stop</td>\n",
       "      <td>2h 10m</td>\n",
       "      <td>22152</td>\n",
       "    </tr>\n",
       "  </tbody>\n",
       "</table>\n",
       "</div>"
      ],
      "text/plain": [
       "            Airline Aeroplane             Date Departure_Time Arrival_Time  \\\n",
       "0  Vistara Business    UK-975  Sat, 2 Jul 2022          05:55        07:55   \n",
       "1  Vistara Business    UK-927  Sat, 2 Jul 2022          09:30        11:35   \n",
       "2  Vistara Business    UK-993  Sat, 2 Jul 2022          12:50        15:00   \n",
       "3  Vistara Business    UK-951  Sat, 2 Jul 2022          14:20        16:30   \n",
       "4  Vistara Business    UK-933  Sat, 2 Jul 2022          15:30        17:40   \n",
       "\n",
       "      Source Destination     Stops Duration  Price  \n",
       "0  New Delhi      Mumbai  Non Stop   2h 00m  22152  \n",
       "1  New Delhi      Mumbai  Non Stop   2h 05m  22152  \n",
       "2  New Delhi      Mumbai  Non Stop   2h 10m  22152  \n",
       "3  New Delhi      Mumbai  Non Stop   2h 10m  22152  \n",
       "4  New Delhi      Mumbai  Non Stop   2h 10m  22152  "
      ]
     },
     "execution_count": 384,
     "metadata": {},
     "output_type": "execute_result"
    }
   ],
   "source": [
    "Flight19=pd.DataFrame()\n",
    "Flight19[\"Airline\"]=Airlines\n",
    "Flight19[\"Aeroplane\"] = Aeroplane\n",
    "Flight19[\"Date\"]=Date\n",
    "Flight19[\"Departure_Time\"]=Dept_time\n",
    "Flight19[\"Arrival_Time\"]=Arrival_time\n",
    "Flight19[\"Source\"]=Source\n",
    "Flight19[\"Destination\"]=Destination\n",
    "Flight19[\"Stops\"]=Stops\n",
    "Flight19[\"Duration\"]=Duration\n",
    "Flight19[\"Price\"]=Price\n",
    "Flight19.head()"
   ]
  },
  {
   "cell_type": "code",
   "execution_count": 385,
   "id": "466a52a5-c5b2-4e8d-b997-d5f264bb3418",
   "metadata": {},
   "outputs": [],
   "source": [
    "Flight19.to_csv('Flight_Price_dataset_19.csv')"
   ]
  },
  {
   "cell_type": "markdown",
   "id": "e869ae40-986c-4c63-aea6-03632c69fe79",
   "metadata": {},
   "source": [
    "- **Opening Economy flights from New Dehli to Bombay on 2nd July 2022**"
   ]
  },
  {
   "cell_type": "code",
   "execution_count": 386,
   "id": "c3cdefd8-7e45-404a-93e2-68c87ea6f656",
   "metadata": {},
   "outputs": [],
   "source": [
    "url='https://flight.yatra.com/air-search-ui/dom2/trigger?ADT=1&CHD=0&INF=0&class=Economy&destination=BOM&destinationCountry=IN&flexi=0&flight_depart_date=02%2F07%2F2022&hb=0&noOfSegments=1&non_stop=1&origin=DEL&originCountry=IN&type=O&unique=245949286080&version=1.1&viewName=normal'"
   ]
  },
  {
   "cell_type": "code",
   "execution_count": 394,
   "id": "9966563d-4234-42a7-bd94-d0dbf35bfa2a",
   "metadata": {},
   "outputs": [],
   "source": [
    "Airlines = []\n",
    "Aeroplane = []\n",
    "Dept_time = []\n",
    "Arrival_time = []\n",
    "Source = []\n",
    "Destination = []\n",
    "Duration = []\n",
    "Stops = []\n",
    "Date = []\n",
    "Price = []"
   ]
  },
  {
   "cell_type": "code",
   "execution_count": 388,
   "id": "efc1401e-335e-4483-a655-9bdd8b1fb973",
   "metadata": {},
   "outputs": [
    {
     "name": "stderr",
     "output_type": "stream",
     "text": [
      "100%|██████████| 50/50 [00:16<00:00,  3.06it/s]\n"
     ]
    }
   ],
   "source": [
    "from tqdm import tqdm\n",
    "for _ in tqdm (range(0,50)):\n",
    "    time.sleep(0.1)\n",
    "    driver.execute_script(\"window.scrollBy(0,2000)\",\"\")\n",
    "    time.sleep(0.2)\n",
    "    driver.execute_script(\"window.scrollBy(0,-500)\",\"\")"
   ]
  },
  {
   "cell_type": "code",
   "execution_count": 395,
   "id": "f7039bd2-21f9-4144-bf5e-35dfc07b2b6b",
   "metadata": {},
   "outputs": [
    {
     "data": {
      "text/plain": [
       "53"
      ]
     },
     "execution_count": 395,
     "metadata": {},
     "output_type": "execute_result"
    }
   ],
   "source": [
    "flights=driver.find_elements_by_xpath('//div[@class=\"flight-det table full-width clearfix\"]')\n",
    "len(flights)"
   ]
  },
  {
   "cell_type": "code",
   "execution_count": 396,
   "id": "de8d95fe-d35c-4c2e-9d11-409e9bab5850",
   "metadata": {},
   "outputs": [
    {
     "name": "stderr",
     "output_type": "stream",
     "text": [
      "100%|██████████| 53/53 [00:00<00:00, 55.53it/s]\n",
      "100%|██████████| 53/53 [00:00<00:00, 53.91it/s]\n",
      "100%|██████████| 53/53 [00:01<00:00, 51.64it/s]\n",
      "100%|██████████| 53/53 [00:01<00:00, 49.42it/s]\n",
      "100%|██████████| 53/53 [00:01<00:00, 50.22it/s]\n",
      "100%|██████████| 53/53 [00:01<00:00, 39.93it/s]\n",
      "100%|██████████| 53/53 [00:01<00:00, 50.99it/s]\n",
      "100%|██████████| 53/53 [00:01<00:00, 52.04it/s]\n"
     ]
    }
   ],
   "source": [
    "# Extracting Airlines Name Via Xpath\n",
    "airlines = driver.find_elements_by_xpath(\"//div[@class='fs-13 airline-name no-pad col-8']/span\")\n",
    "for i in airlines:\n",
    "    Airlines.append(i.text.replace(\"\\n\",\" \"))\n",
    "else :\n",
    "    pass\n",
    "\n",
    "# Extracting Aeroplane model  via xpath\n",
    "aeroplanes = driver.find_elements_by_xpath('//p[@class=\"normal fs-11 font-lightestgrey no-wrap fl-no\"]/span')\n",
    "for i in tqdm(aeroplanes):\n",
    "    Aeroplane.append(i.text) \n",
    "else:\n",
    "    pass\n",
    "\n",
    "# Extracting Departure Time of Filght via Xpath\n",
    "dept_times = driver.find_elements_by_xpath('//div[@class=\"i-b pr\"]')\n",
    "for i in tqdm(dept_times):\n",
    "    Dept_time.append(i.text)\n",
    "else :\n",
    "    pass\n",
    "\n",
    "# Extracting Arrival Time via xpath\n",
    "arrival = driver.find_elements_by_xpath('//p[@class=\"bold fs-15 mb-2 pr time\"]')\n",
    "for i in tqdm(arrival):\n",
    "    Arrival_time.append(i.text)\n",
    "else :\n",
    "    pass\n",
    "\n",
    "# Extracting Source of flight via Xpath\n",
    "source = driver.find_elements_by_xpath(\"//div[@class='i-b col-4 no-wrap text-right dtime col-3']/p\")\n",
    "for i in tqdm(source):\n",
    "    Source.append(i.text)\n",
    "else :\n",
    "    pass\n",
    "\n",
    "# Extracting Destination of Flights via Xpath\n",
    "destination = driver.find_elements_by_xpath('//div[@class=\"i-b pdd-0 text-left atime col-5\"]/p[2]')\n",
    "for i in tqdm(destination):\n",
    "    Destination.append(i.text)\n",
    "else:\n",
    "    pass\n",
    "\n",
    "# Extracting Duration of Flights via Xpath\n",
    "duration = driver.find_elements_by_xpath('//div[@class=\"stop-cont pl-13\"]/p')\n",
    "for i in tqdm(duration):\n",
    "    Duration.append(i.text)\n",
    "else:\n",
    "    pass\n",
    "\n",
    "# Extracting stop details via Xpath\n",
    "stop = driver.find_elements_by_xpath(\"//div[@class='stop-cont pl-13']/div/span\")\n",
    "for i in tqdm(stop):\n",
    "    Stops.append(i.text)\n",
    "else:\n",
    "    pass\n",
    "\n",
    "# Extracting Price of Flights via Xpath\n",
    "count = 0\n",
    "price = driver.find_elements_by_xpath('//div[@class=\"i-b tipsy fare-summary-tooltip fs-18\"]')\n",
    "for i in tqdm(price):\n",
    "    Price.append(i.text.replace(',',''))\n",
    "    count = count +1\n",
    "else:\n",
    "    count = count +1\n",
    "    pass"
   ]
  },
  {
   "cell_type": "code",
   "execution_count": 399,
   "id": "297c57f5-68de-4312-aa3b-17ae863a4210",
   "metadata": {},
   "outputs": [
    {
     "name": "stderr",
     "output_type": "stream",
     "text": [
      "100%|██████████| 53/53 [00:00<?, ?it/s]\n"
     ]
    }
   ],
   "source": [
    "# Clicking on Flights details element\n",
    "Button = driver.find_elements_by_xpath('//div[@class=\"link-color fs-12 cursor-pointer\"]/span')\n",
    "driver.execute_script(\"arguments[0].click();\", WebDriverWait(driver, 20).until(EC.element_to_be_clickable((By.XPATH,'//div[@class=\"link-color fs-12 cursor-pointer\"]/span'))))\n",
    "time.sleep(0.25)\n",
    "\n",
    "# Extracting Date of Flights via Xpath\n",
    "date = driver.find_element_by_xpath('//div[@class=\"bold fs-12 mb-5\"]')\n",
    "a = date.text\n",
    "for i in tqdm(range(count-1)):\n",
    "    Date.append(a)\n",
    "else:\n",
    "    pass"
   ]
  },
  {
   "cell_type": "code",
   "execution_count": 400,
   "id": "0523008e-a42c-4f5c-bcd0-0fa17891038e",
   "metadata": {},
   "outputs": [
    {
     "data": {
      "text/plain": [
       "(53, 53, 53, 53, 53, 53, 53, 53, 53, 53)"
      ]
     },
     "execution_count": 400,
     "metadata": {},
     "output_type": "execute_result"
    }
   ],
   "source": [
    "len(Aeroplane), len(Airlines), len(Dept_time), len(Arrival_time), len(Source), len(Destination), len(Duration), len(Stops),len(Price), len(Date)"
   ]
  },
  {
   "cell_type": "code",
   "execution_count": 401,
   "id": "6b36c268-b99a-4146-93a8-3a37a4499ced",
   "metadata": {},
   "outputs": [
    {
     "data": {
      "text/html": [
       "<div>\n",
       "<style scoped>\n",
       "    .dataframe tbody tr th:only-of-type {\n",
       "        vertical-align: middle;\n",
       "    }\n",
       "\n",
       "    .dataframe tbody tr th {\n",
       "        vertical-align: top;\n",
       "    }\n",
       "\n",
       "    .dataframe thead th {\n",
       "        text-align: right;\n",
       "    }\n",
       "</style>\n",
       "<table border=\"1\" class=\"dataframe\">\n",
       "  <thead>\n",
       "    <tr style=\"text-align: right;\">\n",
       "      <th></th>\n",
       "      <th>Airline</th>\n",
       "      <th>Aeroplane</th>\n",
       "      <th>Date</th>\n",
       "      <th>Departure_Time</th>\n",
       "      <th>Arrival_Time</th>\n",
       "      <th>Source</th>\n",
       "      <th>Destination</th>\n",
       "      <th>Stops</th>\n",
       "      <th>Duration</th>\n",
       "      <th>Price</th>\n",
       "    </tr>\n",
       "  </thead>\n",
       "  <tbody>\n",
       "    <tr>\n",
       "      <th>0</th>\n",
       "      <td>Vistara</td>\n",
       "      <td>UK-975</td>\n",
       "      <td>Sat, 2 Jul 2022</td>\n",
       "      <td>05:55</td>\n",
       "      <td>07:55</td>\n",
       "      <td>New Delhi</td>\n",
       "      <td>Mumbai</td>\n",
       "      <td>Non Stop</td>\n",
       "      <td>2h 00m</td>\n",
       "      <td>8578</td>\n",
       "    </tr>\n",
       "    <tr>\n",
       "      <th>1</th>\n",
       "      <td>Vistara</td>\n",
       "      <td>UK-927</td>\n",
       "      <td>Sat, 2 Jul 2022</td>\n",
       "      <td>09:30</td>\n",
       "      <td>11:35</td>\n",
       "      <td>New Delhi</td>\n",
       "      <td>Mumbai</td>\n",
       "      <td>Non Stop</td>\n",
       "      <td>2h 05m</td>\n",
       "      <td>8578</td>\n",
       "    </tr>\n",
       "    <tr>\n",
       "      <th>2</th>\n",
       "      <td>Vistara</td>\n",
       "      <td>UK-993</td>\n",
       "      <td>Sat, 2 Jul 2022</td>\n",
       "      <td>12:50</td>\n",
       "      <td>15:00</td>\n",
       "      <td>New Delhi</td>\n",
       "      <td>Mumbai</td>\n",
       "      <td>Non Stop</td>\n",
       "      <td>2h 10m</td>\n",
       "      <td>8578</td>\n",
       "    </tr>\n",
       "    <tr>\n",
       "      <th>3</th>\n",
       "      <td>Vistara</td>\n",
       "      <td>UK-951</td>\n",
       "      <td>Sat, 2 Jul 2022</td>\n",
       "      <td>14:20</td>\n",
       "      <td>16:30</td>\n",
       "      <td>New Delhi</td>\n",
       "      <td>Mumbai</td>\n",
       "      <td>Non Stop</td>\n",
       "      <td>2h 10m</td>\n",
       "      <td>8578</td>\n",
       "    </tr>\n",
       "    <tr>\n",
       "      <th>4</th>\n",
       "      <td>Vistara</td>\n",
       "      <td>UK-933</td>\n",
       "      <td>Sat, 2 Jul 2022</td>\n",
       "      <td>15:30</td>\n",
       "      <td>17:40</td>\n",
       "      <td>New Delhi</td>\n",
       "      <td>Mumbai</td>\n",
       "      <td>Non Stop</td>\n",
       "      <td>2h 10m</td>\n",
       "      <td>8578</td>\n",
       "    </tr>\n",
       "  </tbody>\n",
       "</table>\n",
       "</div>"
      ],
      "text/plain": [
       "   Airline Aeroplane             Date Departure_Time Arrival_Time     Source  \\\n",
       "0  Vistara    UK-975  Sat, 2 Jul 2022          05:55        07:55  New Delhi   \n",
       "1  Vistara    UK-927  Sat, 2 Jul 2022          09:30        11:35  New Delhi   \n",
       "2  Vistara    UK-993  Sat, 2 Jul 2022          12:50        15:00  New Delhi   \n",
       "3  Vistara    UK-951  Sat, 2 Jul 2022          14:20        16:30  New Delhi   \n",
       "4  Vistara    UK-933  Sat, 2 Jul 2022          15:30        17:40  New Delhi   \n",
       "\n",
       "  Destination     Stops Duration Price  \n",
       "0      Mumbai  Non Stop   2h 00m  8578  \n",
       "1      Mumbai  Non Stop   2h 05m  8578  \n",
       "2      Mumbai  Non Stop   2h 10m  8578  \n",
       "3      Mumbai  Non Stop   2h 10m  8578  \n",
       "4      Mumbai  Non Stop   2h 10m  8578  "
      ]
     },
     "execution_count": 401,
     "metadata": {},
     "output_type": "execute_result"
    }
   ],
   "source": [
    "Flight20=pd.DataFrame()\n",
    "Flight20[\"Airline\"]=Airlines\n",
    "Flight20[\"Aeroplane\"] =Aeroplane\n",
    "Flight20[\"Date\"]=Date\n",
    "Flight20[\"Departure_Time\"]=Dept_time\n",
    "Flight20[\"Arrival_Time\"]=Arrival_time\n",
    "Flight20[\"Source\"]=Source\n",
    "Flight20[\"Destination\"]=Destination\n",
    "Flight20[\"Stops\"]=Stops\n",
    "Flight20[\"Duration\"]=Duration\n",
    "Flight20[\"Price\"]=Price\n",
    "Flight20.head()"
   ]
  },
  {
   "cell_type": "code",
   "execution_count": 402,
   "id": "6c619d25-15fc-4045-9aab-b3c7079c1c46",
   "metadata": {},
   "outputs": [],
   "source": [
    "Flight20.to_csv('Flight_Price_dataset_20.csv')"
   ]
  },
  {
   "cell_type": "markdown",
   "id": "b0f218ac-a1bf-430c-b44b-6210510b97f3",
   "metadata": {},
   "source": [
    "- **Opening premium Economy flights from New Dehli to Bombay on 2nd July 2022**"
   ]
  },
  {
   "cell_type": "code",
   "execution_count": 457,
   "id": "981cfb2e-29d1-4277-bc51-2ca4f19fd454",
   "metadata": {},
   "outputs": [],
   "source": [
    "url='https://flight.yatra.com/air-search-ui/dom2/trigger?ADT=1&CHD=0&INF=0&class=Special&destination=BOM&destinationCountry=IN&flexi=0&flight_depart_date=02%2F07%2F2022&hb=0&noOfSegments=1&non_stop=1&origin=DEL&originCountry=IN&type=O&unique=1019279270953&version=1.1&viewName=normal'"
   ]
  },
  {
   "cell_type": "code",
   "execution_count": 458,
   "id": "058fa930-b987-4459-8e08-3a3f2bc81080",
   "metadata": {},
   "outputs": [],
   "source": [
    "Airlines = []\n",
    "Aeroplane = []\n",
    "Dept_time = []\n",
    "Arrival_time = []\n",
    "Source = []\n",
    "Destination = []\n",
    "Duration = []\n",
    "Stops = []\n",
    "Date = []\n",
    "Price = []"
   ]
  },
  {
   "cell_type": "code",
   "execution_count": 459,
   "id": "c1430e86-53c8-471e-ac9d-8dbfcb8f0aa2",
   "metadata": {},
   "outputs": [
    {
     "name": "stderr",
     "output_type": "stream",
     "text": [
      "100%|██████████| 50/50 [00:17<00:00,  2.91it/s]\n"
     ]
    }
   ],
   "source": [
    "from tqdm import tqdm\n",
    "for _ in tqdm (range(0,50)):\n",
    "    time.sleep(0.1)\n",
    "    driver.execute_script(\"window.scrollBy(0,2000)\",\"\")\n",
    "    time.sleep(0.2)\n",
    "    driver.execute_script(\"window.scrollBy(0,-500)\",\"\")"
   ]
  },
  {
   "cell_type": "code",
   "execution_count": 460,
   "id": "6765912a-666c-4ffe-8de7-175afd1ed7c5",
   "metadata": {},
   "outputs": [
    {
     "data": {
      "text/plain": [
       "60"
      ]
     },
     "execution_count": 460,
     "metadata": {},
     "output_type": "execute_result"
    }
   ],
   "source": [
    "flights=driver.find_elements_by_xpath('//div[@class=\"flight-det table full-width clearfix\"]')\n",
    "len(flights)"
   ]
  },
  {
   "cell_type": "code",
   "execution_count": 461,
   "id": "54c9dcf9-978c-4672-88bc-5378457d8d37",
   "metadata": {},
   "outputs": [
    {
     "name": "stderr",
     "output_type": "stream",
     "text": [
      "100%|██████████| 60/60 [00:01<00:00, 43.85it/s]\n",
      "100%|██████████| 60/60 [00:01<00:00, 48.54it/s]\n",
      "100%|██████████| 60/60 [00:01<00:00, 50.07it/s]\n",
      "100%|██████████| 60/60 [00:01<00:00, 55.59it/s]\n",
      "100%|██████████| 60/60 [00:01<00:00, 51.18it/s]\n",
      "100%|██████████| 60/60 [00:01<00:00, 44.44it/s]\n",
      "100%|██████████| 60/60 [00:01<00:00, 51.36it/s]\n",
      "100%|██████████| 60/60 [00:01<00:00, 52.07it/s]\n"
     ]
    }
   ],
   "source": [
    "# Extracting Airlines Name Via Xpath\n",
    "airlines = driver.find_elements_by_xpath(\"//div[@class='fs-13 airline-name no-pad col-8']/span\")\n",
    "for i in airlines:\n",
    "    Airlines.append(i.text.replace(\"\\n\",\" \"))\n",
    "else :\n",
    "    pass\n",
    "\n",
    "# Extracting Aeroplane model  via xpath\n",
    "aeroplanes = driver.find_elements_by_xpath('//p[@class=\"normal fs-11 font-lightestgrey no-wrap fl-no\"]/span')\n",
    "for i in tqdm(aeroplanes):\n",
    "    Aeroplane.append(i.text) \n",
    "else:\n",
    "    pass\n",
    "\n",
    "# Extracting Departure Time of Filght via Xpath\n",
    "dept_times = driver.find_elements_by_xpath('//div[@class=\"i-b pr\"]')\n",
    "for i in tqdm(dept_times):\n",
    "    Dept_time.append(i.text)\n",
    "else :\n",
    "    pass\n",
    "\n",
    "# Extracting Arrival Time via xpath\n",
    "arrival = driver.find_elements_by_xpath('//p[@class=\"bold fs-15 mb-2 pr time\"]')\n",
    "for i in tqdm(arrival):\n",
    "    Arrival_time.append(i.text)\n",
    "else :\n",
    "    pass\n",
    "\n",
    "# Extracting Source of flight via Xpath\n",
    "source = driver.find_elements_by_xpath(\"//div[@class='i-b col-4 no-wrap text-right dtime col-3']/p\")\n",
    "for i in tqdm(source):\n",
    "    Source.append(i.text)\n",
    "else :\n",
    "    pass\n",
    "\n",
    "# Extracting Destination of Flights via Xpath\n",
    "destination = driver.find_elements_by_xpath('//div[@class=\"i-b pdd-0 text-left atime col-5\"]/p[2]')\n",
    "for i in tqdm(destination):\n",
    "    Destination.append(i.text)\n",
    "else:\n",
    "    pass\n",
    "\n",
    "# Extracting Duration of Flights via Xpath\n",
    "duration = driver.find_elements_by_xpath('//div[@class=\"stop-cont pl-13\"]/p')\n",
    "for i in tqdm(duration):\n",
    "    Duration.append(i.text)\n",
    "else:\n",
    "    pass\n",
    "\n",
    "# Extracting stop details via Xpath\n",
    "stop = driver.find_elements_by_xpath(\"//div[@class='stop-cont pl-13']/div/span\")\n",
    "for i in tqdm(stop):\n",
    "    Stops.append(i.text)\n",
    "else:\n",
    "    pass\n",
    "\n",
    "# Extracting Price of Flights via Xpath\n",
    "count = 0\n",
    "price = driver.find_elements_by_xpath('//div[@class=\"i-b tipsy fare-summary-tooltip fs-18\"]')\n",
    "for i in tqdm(price):\n",
    "    Price.append(i.text.replace(',',''))\n",
    "    count = count +1\n",
    "else:\n",
    "    count = count +1\n",
    "    pass"
   ]
  },
  {
   "cell_type": "code",
   "execution_count": 462,
   "id": "3ed082bc-aea4-4012-bc97-83dd324ace84",
   "metadata": {},
   "outputs": [
    {
     "name": "stderr",
     "output_type": "stream",
     "text": [
      "100%|██████████| 60/60 [00:00<?, ?it/s]\n"
     ]
    }
   ],
   "source": [
    "# Clicking on Flights details element\n",
    "Button = driver.find_elements_by_xpath('//div[@class=\"link-color fs-12 cursor-pointer\"]/span')\n",
    "driver.execute_script(\"arguments[0].click();\", WebDriverWait(driver, 20).until(EC.element_to_be_clickable((By.XPATH,'//div[@class=\"link-color fs-12 cursor-pointer\"]/span'))))\n",
    "time.sleep(0.25)\n",
    "\n",
    "# Extracting Date of Flights via Xpath\n",
    "date = driver.find_element_by_xpath('//div[@class=\"bold fs-12 mb-5\"]')\n",
    "a = date.text\n",
    "for i in tqdm(range(count-1)):\n",
    "    Date.append(a)\n",
    "else:\n",
    "    pass"
   ]
  },
  {
   "cell_type": "code",
   "execution_count": 463,
   "id": "70b164e9-6db3-4a73-b31e-1bb3eed08ccd",
   "metadata": {},
   "outputs": [
    {
     "data": {
      "text/plain": [
       "(60, 60, 60, 60, 60, 60, 60, 60, 60, 60)"
      ]
     },
     "execution_count": 463,
     "metadata": {},
     "output_type": "execute_result"
    }
   ],
   "source": [
    "len(Aeroplane), len(Airlines), len(Dept_time), len(Arrival_time), len(Source), len(Destination), len(Duration), len(Stops),len(Price), len(Date)"
   ]
  },
  {
   "cell_type": "code",
   "execution_count": 465,
   "id": "a0102b34-7c0a-463f-8006-6523cda922b1",
   "metadata": {},
   "outputs": [
    {
     "data": {
      "text/html": [
       "<div>\n",
       "<style scoped>\n",
       "    .dataframe tbody tr th:only-of-type {\n",
       "        vertical-align: middle;\n",
       "    }\n",
       "\n",
       "    .dataframe tbody tr th {\n",
       "        vertical-align: top;\n",
       "    }\n",
       "\n",
       "    .dataframe thead th {\n",
       "        text-align: right;\n",
       "    }\n",
       "</style>\n",
       "<table border=\"1\" class=\"dataframe\">\n",
       "  <thead>\n",
       "    <tr style=\"text-align: right;\">\n",
       "      <th></th>\n",
       "      <th>Airline</th>\n",
       "      <th>Aeroplane</th>\n",
       "      <th>Date</th>\n",
       "      <th>Departure_Time</th>\n",
       "      <th>Arrival_Time</th>\n",
       "      <th>Source</th>\n",
       "      <th>Destination</th>\n",
       "      <th>Stops</th>\n",
       "      <th>Duration</th>\n",
       "      <th>Price</th>\n",
       "    </tr>\n",
       "  </thead>\n",
       "  <tbody>\n",
       "    <tr>\n",
       "      <th>0</th>\n",
       "      <td>Vistara Premium Economy</td>\n",
       "      <td>UK-975</td>\n",
       "      <td>Sat, 2 Jul 2022</td>\n",
       "      <td>05:55</td>\n",
       "      <td>07:55</td>\n",
       "      <td>New Delhi</td>\n",
       "      <td>Mumbai</td>\n",
       "      <td>Non Stop</td>\n",
       "      <td>2h 00m</td>\n",
       "      <td>10190</td>\n",
       "    </tr>\n",
       "    <tr>\n",
       "      <th>1</th>\n",
       "      <td>Vistara Premium Economy</td>\n",
       "      <td>UK-981</td>\n",
       "      <td>Sat, 2 Jul 2022</td>\n",
       "      <td>21:30</td>\n",
       "      <td>23:40</td>\n",
       "      <td>New Delhi</td>\n",
       "      <td>Mumbai</td>\n",
       "      <td>Non Stop</td>\n",
       "      <td>2h 10m</td>\n",
       "      <td>10190</td>\n",
       "    </tr>\n",
       "    <tr>\n",
       "      <th>2</th>\n",
       "      <td>Vistara Premium Economy</td>\n",
       "      <td>UK-929/918</td>\n",
       "      <td>Sat, 2 Jul 2022</td>\n",
       "      <td>21:20</td>\n",
       "      <td>06:15\\n+ 1 day</td>\n",
       "      <td>New Delhi</td>\n",
       "      <td>Mumbai</td>\n",
       "      <td>1 Stop</td>\n",
       "      <td>8h 55m</td>\n",
       "      <td>10336</td>\n",
       "    </tr>\n",
       "    <tr>\n",
       "      <th>3</th>\n",
       "      <td>Vistara Premium Economy</td>\n",
       "      <td>UK-929/936</td>\n",
       "      <td>Sat, 2 Jul 2022</td>\n",
       "      <td>21:20</td>\n",
       "      <td>09:40\\n+ 1 day</td>\n",
       "      <td>New Delhi</td>\n",
       "      <td>Mumbai</td>\n",
       "      <td>1 Stop</td>\n",
       "      <td>12h 20m</td>\n",
       "      <td>10336</td>\n",
       "    </tr>\n",
       "    <tr>\n",
       "      <th>4</th>\n",
       "      <td>Vistara Premium Economy</td>\n",
       "      <td>UK-929/956</td>\n",
       "      <td>Sat, 2 Jul 2022</td>\n",
       "      <td>21:20</td>\n",
       "      <td>23:05\\n+ 1 day</td>\n",
       "      <td>New Delhi</td>\n",
       "      <td>Mumbai</td>\n",
       "      <td>1 Stop</td>\n",
       "      <td>25h 45m</td>\n",
       "      <td>10336</td>\n",
       "    </tr>\n",
       "  </tbody>\n",
       "</table>\n",
       "</div>"
      ],
      "text/plain": [
       "                   Airline   Aeroplane             Date Departure_Time  \\\n",
       "0  Vistara Premium Economy      UK-975  Sat, 2 Jul 2022          05:55   \n",
       "1  Vistara Premium Economy      UK-981  Sat, 2 Jul 2022          21:30   \n",
       "2  Vistara Premium Economy  UK-929/918  Sat, 2 Jul 2022          21:20   \n",
       "3  Vistara Premium Economy  UK-929/936  Sat, 2 Jul 2022          21:20   \n",
       "4  Vistara Premium Economy  UK-929/956  Sat, 2 Jul 2022          21:20   \n",
       "\n",
       "     Arrival_Time     Source Destination     Stops Duration  Price  \n",
       "0           07:55  New Delhi      Mumbai  Non Stop   2h 00m  10190  \n",
       "1           23:40  New Delhi      Mumbai  Non Stop   2h 10m  10190  \n",
       "2  06:15\\n+ 1 day  New Delhi      Mumbai    1 Stop   8h 55m  10336  \n",
       "3  09:40\\n+ 1 day  New Delhi      Mumbai    1 Stop  12h 20m  10336  \n",
       "4  23:05\\n+ 1 day  New Delhi      Mumbai    1 Stop  25h 45m  10336  "
      ]
     },
     "execution_count": 465,
     "metadata": {},
     "output_type": "execute_result"
    }
   ],
   "source": [
    "Flight21=pd.DataFrame()\n",
    "Flight21[\"Airline\"]=Airlines\n",
    "Flight21[\"Aeroplane\"] =Aeroplane\n",
    "Flight21[\"Date\"]=Date\n",
    "Flight21[\"Departure_Time\"]=Dept_time\n",
    "Flight21[\"Arrival_Time\"]=Arrival_time\n",
    "Flight21[\"Source\"]=Source\n",
    "Flight21[\"Destination\"]=Destination\n",
    "Flight21[\"Stops\"]=Stops\n",
    "Flight21[\"Duration\"]=Duration\n",
    "Flight21[\"Price\"]=Price\n",
    "Flight21.head()"
   ]
  },
  {
   "cell_type": "code",
   "execution_count": 466,
   "id": "e0b245bb-6057-4ca0-9b51-c5429fd822ec",
   "metadata": {},
   "outputs": [],
   "source": [
    "Flight21.to_csv('Flight_Price_dataset_21.csv')"
   ]
  },
  {
   "cell_type": "markdown",
   "id": "72653024-7399-49b0-8e79-cea2d4970e1d",
   "metadata": {},
   "source": [
    "- **Opening Premium Ecomnomy flights from New Dehli to Bombay on 03rd July 2022**"
   ]
  },
  {
   "cell_type": "code",
   "execution_count": 449,
   "id": "410033d7-5596-4f0b-925f-6798f3e02557",
   "metadata": {},
   "outputs": [],
   "source": [
    "url='https://flight.yatra.com/air-search-ui/dom2/trigger?ADT=1&CHD=0&INF=0&class=Special&destination=BOM&destinationCountry=IN&flexi=0&flight_depart_date=03%2F07%2F2022&hb=0&noOfSegments=1&non_stop=1&origin=DEL&originCountry=IN&type=O&unique=1136064953945&version=1.1&viewName=normal'"
   ]
  },
  {
   "cell_type": "code",
   "execution_count": 450,
   "id": "aa57f93c-0325-44c6-8266-436ac4f811b6",
   "metadata": {
    "tags": []
   },
   "outputs": [],
   "source": [
    "Airlines = []\n",
    "Aeroplane = []\n",
    "Dept_time = []\n",
    "Arrival_time = []\n",
    "Source = []\n",
    "Destination = []\n",
    "Duration = []\n",
    "Stops = []\n",
    "Date = []\n",
    "Price = []"
   ]
  },
  {
   "cell_type": "code",
   "execution_count": 451,
   "id": "82d97458-3ca7-463d-8cb0-9079a9762675",
   "metadata": {},
   "outputs": [
    {
     "name": "stderr",
     "output_type": "stream",
     "text": [
      "100%|██████████| 50/50 [00:18<00:00,  2.77it/s]\n"
     ]
    }
   ],
   "source": [
    "from tqdm import tqdm\n",
    "for _ in tqdm (range(0,50)):\n",
    "    time.sleep(0.1)\n",
    "    driver.execute_script(\"window.scrollBy(0,2000)\",\"\")\n",
    "    time.sleep(0.2)\n",
    "    driver.execute_script(\"window.scrollBy(0,-500)\",\"\")"
   ]
  },
  {
   "cell_type": "code",
   "execution_count": 452,
   "id": "9c5e5ca8-e7fd-4f36-bece-8512a489dd02",
   "metadata": {},
   "outputs": [
    {
     "data": {
      "text/plain": [
       "60"
      ]
     },
     "execution_count": 452,
     "metadata": {},
     "output_type": "execute_result"
    }
   ],
   "source": [
    "flights=driver.find_elements_by_xpath('//div[@class=\"flight-det table full-width clearfix\"]')\n",
    "len(flights)"
   ]
  },
  {
   "cell_type": "code",
   "execution_count": 453,
   "id": "c26f1bb8-e42b-4371-9c13-69cace30369a",
   "metadata": {},
   "outputs": [
    {
     "name": "stderr",
     "output_type": "stream",
     "text": [
      "100%|██████████| 60/60 [00:01<00:00, 49.13it/s]\n",
      "100%|██████████| 60/60 [00:01<00:00, 45.66it/s]\n",
      "100%|██████████| 60/60 [00:01<00:00, 51.23it/s]\n",
      "100%|██████████| 60/60 [00:01<00:00, 50.28it/s]\n",
      "100%|██████████| 60/60 [00:01<00:00, 53.27it/s]\n",
      "100%|██████████| 60/60 [00:01<00:00, 57.36it/s]\n",
      "100%|██████████| 60/60 [00:01<00:00, 51.49it/s]\n",
      "100%|██████████| 60/60 [00:01<00:00, 50.20it/s]\n"
     ]
    }
   ],
   "source": [
    "# Extracting Airlines Name Via Xpath\n",
    "airlines = driver.find_elements_by_xpath(\"//div[@class='fs-13 airline-name no-pad col-8']/span\")\n",
    "for i in airlines:\n",
    "    Airlines.append(i.text.replace(\"\\n\",\" \"))\n",
    "else :\n",
    "    pass\n",
    "\n",
    "# Extracting Aeroplane model  via xpath\n",
    "aeroplanes = driver.find_elements_by_xpath('//p[@class=\"normal fs-11 font-lightestgrey no-wrap fl-no\"]/span')\n",
    "for i in tqdm(aeroplanes):\n",
    "    Aeroplane.append(i.text) \n",
    "else:\n",
    "    pass\n",
    "\n",
    "# Extracting Departure Time of Filght via Xpath\n",
    "dept_times = driver.find_elements_by_xpath('//div[@class=\"i-b pr\"]')\n",
    "for i in tqdm(dept_times):\n",
    "    Dept_time.append(i.text)\n",
    "else :\n",
    "    pass\n",
    "\n",
    "# Extracting Arrival Time via xpath\n",
    "arrival = driver.find_elements_by_xpath('//p[@class=\"bold fs-15 mb-2 pr time\"]')\n",
    "for i in tqdm(arrival):\n",
    "    Arrival_time.append(i.text)\n",
    "else :\n",
    "    pass\n",
    "\n",
    "# Extracting Source of flight via Xpath\n",
    "source = driver.find_elements_by_xpath(\"//div[@class='i-b col-4 no-wrap text-right dtime col-3']/p\")\n",
    "for i in tqdm(source):\n",
    "    Source.append(i.text)\n",
    "else :\n",
    "    pass\n",
    "\n",
    "# Extracting Destination of Flights via Xpath\n",
    "destination = driver.find_elements_by_xpath('//div[@class=\"i-b pdd-0 text-left atime col-5\"]/p[2]')\n",
    "for i in tqdm(destination):\n",
    "    Destination.append(i.text)\n",
    "else:\n",
    "    pass\n",
    "\n",
    "# Extracting Duration of Flights via Xpath\n",
    "duration = driver.find_elements_by_xpath('//div[@class=\"stop-cont pl-13\"]/p')\n",
    "for i in tqdm(duration):\n",
    "    Duration.append(i.text)\n",
    "else:\n",
    "    pass\n",
    "\n",
    "# Extracting stop details via Xpath\n",
    "stop = driver.find_elements_by_xpath(\"//div[@class='stop-cont pl-13']/div/span\")\n",
    "for i in tqdm(stop):\n",
    "    Stops.append(i.text)\n",
    "else:\n",
    "    pass\n",
    "\n",
    "# Extracting Price of Flights via Xpath\n",
    "count = 0\n",
    "price = driver.find_elements_by_xpath('//div[@class=\"i-b tipsy fare-summary-tooltip fs-18\"]')\n",
    "for i in tqdm(price):\n",
    "    Price.append(i.text.replace(',',''))\n",
    "    count = count +1\n",
    "else:\n",
    "    count = count +1\n",
    "    pass"
   ]
  },
  {
   "cell_type": "code",
   "execution_count": 454,
   "id": "94ef08ce-8039-4d29-bffc-9678d005a962",
   "metadata": {},
   "outputs": [
    {
     "name": "stderr",
     "output_type": "stream",
     "text": [
      "100%|██████████| 60/60 [00:00<?, ?it/s]\n"
     ]
    }
   ],
   "source": [
    "# Clicking on Flights details element\n",
    "Button = driver.find_elements_by_xpath('//div[@class=\"link-color fs-12 cursor-pointer\"]/span')\n",
    "driver.execute_script(\"arguments[0].click();\", WebDriverWait(driver, 20).until(EC.element_to_be_clickable((By.XPATH,'//div[@class=\"link-color fs-12 cursor-pointer\"]/span'))))\n",
    "time.sleep(0.25)\n",
    "\n",
    "# Extracting Date of Flights via Xpath\n",
    "date = driver.find_element_by_xpath('//div[@class=\"bold fs-12 mb-5\"]')\n",
    "a = date.text\n",
    "for i in tqdm(range(count-1)):\n",
    "    Date.append(a)\n",
    "else:\n",
    "    pass"
   ]
  },
  {
   "cell_type": "code",
   "execution_count": 455,
   "id": "1138a564-eb7a-467a-a838-a1491ff74332",
   "metadata": {},
   "outputs": [
    {
     "data": {
      "text/plain": [
       "(60, 60, 60, 60, 60, 60, 60, 60, 60, 60)"
      ]
     },
     "execution_count": 455,
     "metadata": {},
     "output_type": "execute_result"
    }
   ],
   "source": [
    "len(Aeroplane), len(Airlines), len(Dept_time), len(Arrival_time), len(Source), len(Destination), len(Duration), len(Stops),len(Price), len(Date)"
   ]
  },
  {
   "cell_type": "code",
   "execution_count": 456,
   "id": "490ed3dc-9fb5-4096-a6ec-9cbbb2fb1cb4",
   "metadata": {},
   "outputs": [
    {
     "data": {
      "text/html": [
       "<div>\n",
       "<style scoped>\n",
       "    .dataframe tbody tr th:only-of-type {\n",
       "        vertical-align: middle;\n",
       "    }\n",
       "\n",
       "    .dataframe tbody tr th {\n",
       "        vertical-align: top;\n",
       "    }\n",
       "\n",
       "    .dataframe thead th {\n",
       "        text-align: right;\n",
       "    }\n",
       "</style>\n",
       "<table border=\"1\" class=\"dataframe\">\n",
       "  <thead>\n",
       "    <tr style=\"text-align: right;\">\n",
       "      <th></th>\n",
       "      <th>Airline</th>\n",
       "      <th>Aeroplane</th>\n",
       "      <th>Date</th>\n",
       "      <th>Departure_Time</th>\n",
       "      <th>Arrival_Time</th>\n",
       "      <th>Source</th>\n",
       "      <th>Destination</th>\n",
       "      <th>Stops</th>\n",
       "      <th>Duration</th>\n",
       "      <th>Price</th>\n",
       "    </tr>\n",
       "  </thead>\n",
       "  <tbody>\n",
       "    <tr>\n",
       "      <th>0</th>\n",
       "      <td>Vistara Premium Economy</td>\n",
       "      <td>UK-981</td>\n",
       "      <td>Sun, 3 Jul 2022</td>\n",
       "      <td>21:30</td>\n",
       "      <td>23:40</td>\n",
       "      <td>New Delhi</td>\n",
       "      <td>Mumbai</td>\n",
       "      <td>Non Stop</td>\n",
       "      <td>2h 10m</td>\n",
       "      <td>10190</td>\n",
       "    </tr>\n",
       "    <tr>\n",
       "      <th>1</th>\n",
       "      <td>Vistara Premium Economy</td>\n",
       "      <td>UK-929/918</td>\n",
       "      <td>Sun, 3 Jul 2022</td>\n",
       "      <td>21:20</td>\n",
       "      <td>06:15\\n+ 1 day</td>\n",
       "      <td>New Delhi</td>\n",
       "      <td>Mumbai</td>\n",
       "      <td>1 Stop</td>\n",
       "      <td>8h 55m</td>\n",
       "      <td>10336</td>\n",
       "    </tr>\n",
       "    <tr>\n",
       "      <th>2</th>\n",
       "      <td>Vistara Premium Economy</td>\n",
       "      <td>UK-929/936</td>\n",
       "      <td>Sun, 3 Jul 2022</td>\n",
       "      <td>21:20</td>\n",
       "      <td>09:40\\n+ 1 day</td>\n",
       "      <td>New Delhi</td>\n",
       "      <td>Mumbai</td>\n",
       "      <td>1 Stop</td>\n",
       "      <td>12h 20m</td>\n",
       "      <td>10336</td>\n",
       "    </tr>\n",
       "    <tr>\n",
       "      <th>3</th>\n",
       "      <td>Vistara Premium Economy</td>\n",
       "      <td>UK-929/956</td>\n",
       "      <td>Sun, 3 Jul 2022</td>\n",
       "      <td>21:20</td>\n",
       "      <td>23:05\\n+ 1 day</td>\n",
       "      <td>New Delhi</td>\n",
       "      <td>Mumbai</td>\n",
       "      <td>1 Stop</td>\n",
       "      <td>25h 45m</td>\n",
       "      <td>10336</td>\n",
       "    </tr>\n",
       "    <tr>\n",
       "      <th>4</th>\n",
       "      <td>Vistara Premium Economy</td>\n",
       "      <td>UK-927</td>\n",
       "      <td>Sun, 3 Jul 2022</td>\n",
       "      <td>09:30</td>\n",
       "      <td>11:35</td>\n",
       "      <td>New Delhi</td>\n",
       "      <td>Mumbai</td>\n",
       "      <td>Non Stop</td>\n",
       "      <td>2h 05m</td>\n",
       "      <td>11086</td>\n",
       "    </tr>\n",
       "  </tbody>\n",
       "</table>\n",
       "</div>"
      ],
      "text/plain": [
       "                   Airline   Aeroplane             Date Departure_Time  \\\n",
       "0  Vistara Premium Economy      UK-981  Sun, 3 Jul 2022          21:30   \n",
       "1  Vistara Premium Economy  UK-929/918  Sun, 3 Jul 2022          21:20   \n",
       "2  Vistara Premium Economy  UK-929/936  Sun, 3 Jul 2022          21:20   \n",
       "3  Vistara Premium Economy  UK-929/956  Sun, 3 Jul 2022          21:20   \n",
       "4  Vistara Premium Economy      UK-927  Sun, 3 Jul 2022          09:30   \n",
       "\n",
       "     Arrival_Time     Source Destination     Stops Duration  Price  \n",
       "0           23:40  New Delhi      Mumbai  Non Stop   2h 10m  10190  \n",
       "1  06:15\\n+ 1 day  New Delhi      Mumbai    1 Stop   8h 55m  10336  \n",
       "2  09:40\\n+ 1 day  New Delhi      Mumbai    1 Stop  12h 20m  10336  \n",
       "3  23:05\\n+ 1 day  New Delhi      Mumbai    1 Stop  25h 45m  10336  \n",
       "4           11:35  New Delhi      Mumbai  Non Stop   2h 05m  11086  "
      ]
     },
     "execution_count": 456,
     "metadata": {},
     "output_type": "execute_result"
    }
   ],
   "source": [
    "Flight22=pd.DataFrame()\n",
    "Flight22[\"Airline\"]=Airlines\n",
    "Flight22[\"Aeroplane\"] =Aeroplane\n",
    "Flight22[\"Date\"]=Date\n",
    "Flight22[\"Departure_Time\"]=Dept_time\n",
    "Flight22[\"Arrival_Time\"]=Arrival_time\n",
    "Flight22[\"Source\"]=Source\n",
    "Flight22[\"Destination\"]=Destination\n",
    "Flight22[\"Stops\"]=Stops\n",
    "Flight22[\"Duration\"]=Duration\n",
    "Flight22[\"Price\"]=Price\n",
    "Flight22.head()"
   ]
  },
  {
   "cell_type": "code",
   "execution_count": 426,
   "id": "b3fa25d5-6e48-4333-b435-07a565d27458",
   "metadata": {},
   "outputs": [],
   "source": [
    "Flight22.to_csv('Flight_Price_dataset_22.csv')"
   ]
  },
  {
   "cell_type": "markdown",
   "id": "a3190b6c-372d-4c85-ab16-b4dc944c866b",
   "metadata": {},
   "source": [
    "- **Opening Ecomnomy flights from New Dehli to Bombay on 3rd July 2022**"
   ]
  },
  {
   "cell_type": "code",
   "execution_count": 427,
   "id": "0ab71ea5-607b-4fed-bb5c-05ae7e98c5ac",
   "metadata": {},
   "outputs": [],
   "source": [
    "url='https://flight.yatra.com/air-search-ui/dom2/trigger?ADT=1&CHD=0&INF=0&class=Economy&destination=BOM&destinationCountry=IN&flexi=0&flight_depart_date=03%2F07%2F2022&hb=0&noOfSegments=1&non_stop=1&origin=DEL&originCountry=IN&type=O&unique=817043772032&version=1.1&viewName=normal'"
   ]
  },
  {
   "cell_type": "code",
   "execution_count": 428,
   "id": "2b12fa92-1401-4898-97e2-28fc8f107c62",
   "metadata": {
    "tags": []
   },
   "outputs": [],
   "source": [
    "Airlines = []\n",
    "Aeroplane = []\n",
    "Dept_time = []\n",
    "Arrival_time = []\n",
    "Source = []\n",
    "Destination = []\n",
    "Duration = []\n",
    "Stops = []\n",
    "Date = []\n",
    "Price = []"
   ]
  },
  {
   "cell_type": "code",
   "execution_count": 429,
   "id": "2749b0f8-8c47-45a7-9439-6eb58235bc09",
   "metadata": {},
   "outputs": [
    {
     "name": "stderr",
     "output_type": "stream",
     "text": [
      "100%|██████████| 50/50 [00:17<00:00,  2.93it/s]\n"
     ]
    }
   ],
   "source": [
    "from tqdm import tqdm\n",
    "for _ in tqdm (range(0,50)):\n",
    "    time.sleep(0.1)\n",
    "    driver.execute_script(\"window.scrollBy(0,2000)\",\"\")\n",
    "    time.sleep(0.2)\n",
    "    driver.execute_script(\"window.scrollBy(0,-500)\",\"\")"
   ]
  },
  {
   "cell_type": "code",
   "execution_count": 430,
   "id": "24ae5ead-b854-4f0c-8265-9241b93fbf0c",
   "metadata": {},
   "outputs": [
    {
     "data": {
      "text/plain": [
       "53"
      ]
     },
     "execution_count": 430,
     "metadata": {},
     "output_type": "execute_result"
    }
   ],
   "source": [
    "flights=driver.find_elements_by_xpath('//div[@class=\"flight-det table full-width clearfix\"]')\n",
    "len(flights)"
   ]
  },
  {
   "cell_type": "code",
   "execution_count": 431,
   "id": "490d4201-8970-46b3-8ad0-25951ffa2971",
   "metadata": {},
   "outputs": [
    {
     "name": "stderr",
     "output_type": "stream",
     "text": [
      "100%|██████████| 53/53 [00:00<00:00, 56.96it/s]\n",
      "100%|██████████| 53/53 [00:01<00:00, 44.05it/s]\n",
      "100%|██████████| 53/53 [00:01<00:00, 49.15it/s]\n",
      "100%|██████████| 53/53 [00:00<00:00, 58.99it/s]\n",
      "100%|██████████| 53/53 [00:00<00:00, 56.00it/s]\n",
      "100%|██████████| 53/53 [00:00<00:00, 57.64it/s]\n",
      "100%|██████████| 53/53 [00:00<00:00, 59.45it/s]\n",
      "100%|██████████| 53/53 [00:00<00:00, 55.53it/s]\n"
     ]
    }
   ],
   "source": [
    "# Extracting Airlines Name Via Xpath\n",
    "airlines = driver.find_elements_by_xpath(\"//div[@class='fs-13 airline-name no-pad col-8']/span\")\n",
    "for i in airlines:\n",
    "    Airlines.append(i.text.replace(\"\\n\",\" \"))\n",
    "else :\n",
    "    pass\n",
    "\n",
    "# Extracting Aeroplane model  via xpath\n",
    "aeroplanes = driver.find_elements_by_xpath('//p[@class=\"normal fs-11 font-lightestgrey no-wrap fl-no\"]/span')\n",
    "for i in tqdm(aeroplanes):\n",
    "    Aeroplane.append(i.text) \n",
    "else:\n",
    "    pass\n",
    "\n",
    "# Extracting Departure Time of Filght via Xpath\n",
    "dept_times = driver.find_elements_by_xpath('//div[@class=\"i-b pr\"]')\n",
    "for i in tqdm(dept_times):\n",
    "    Dept_time.append(i.text)\n",
    "else :\n",
    "    pass\n",
    "\n",
    "# Extracting Arrival Time via xpath\n",
    "arrival = driver.find_elements_by_xpath('//p[@class=\"bold fs-15 mb-2 pr time\"]')\n",
    "for i in tqdm(arrival):\n",
    "    Arrival_time.append(i.text)\n",
    "else :\n",
    "    pass\n",
    "\n",
    "# Extracting Source of flight via Xpath\n",
    "source = driver.find_elements_by_xpath(\"//div[@class='i-b col-4 no-wrap text-right dtime col-3']/p\")\n",
    "for i in tqdm(source):\n",
    "    Source.append(i.text)\n",
    "else :\n",
    "    pass\n",
    "\n",
    "# Extracting Destination of Flights via Xpath\n",
    "destination = driver.find_elements_by_xpath('//div[@class=\"i-b pdd-0 text-left atime col-5\"]/p[2]')\n",
    "for i in tqdm(destination):\n",
    "    Destination.append(i.text)\n",
    "else:\n",
    "    pass\n",
    "\n",
    "# Extracting Duration of Flights via Xpath\n",
    "duration = driver.find_elements_by_xpath('//div[@class=\"stop-cont pl-13\"]/p')\n",
    "for i in tqdm(duration):\n",
    "    Duration.append(i.text)\n",
    "else:\n",
    "    pass\n",
    "\n",
    "# Extracting stop details via Xpath\n",
    "stop = driver.find_elements_by_xpath(\"//div[@class='stop-cont pl-13']/div/span\")\n",
    "for i in tqdm(stop):\n",
    "    Stops.append(i.text)\n",
    "else:\n",
    "    pass\n",
    "\n",
    "# Extracting Price of Flights via Xpath\n",
    "count = 0\n",
    "price = driver.find_elements_by_xpath('//div[@class=\"i-b tipsy fare-summary-tooltip fs-18\"]')\n",
    "for i in tqdm(price):\n",
    "    Price.append(i.text.replace(',',''))\n",
    "    count = count +1\n",
    "else:\n",
    "    count = count +1\n",
    "    pass"
   ]
  },
  {
   "cell_type": "code",
   "execution_count": 432,
   "id": "34bf12a0-2522-42ad-98aa-336c12d75e8b",
   "metadata": {},
   "outputs": [
    {
     "name": "stderr",
     "output_type": "stream",
     "text": [
      "100%|██████████| 53/53 [00:00<?, ?it/s]\n"
     ]
    }
   ],
   "source": [
    "# Clicking on Flights details element\n",
    "Button = driver.find_elements_by_xpath('//div[@class=\"link-color fs-12 cursor-pointer\"]/span')\n",
    "driver.execute_script(\"arguments[0].click();\", WebDriverWait(driver, 20).until(EC.element_to_be_clickable((By.XPATH,'//div[@class=\"link-color fs-12 cursor-pointer\"]/span'))))\n",
    "time.sleep(0.25)\n",
    "\n",
    "# Extracting Date of Flights via Xpath\n",
    "date = driver.find_element_by_xpath('//div[@class=\"bold fs-12 mb-5\"]')\n",
    "a = date.text\n",
    "for i in tqdm(range(count-1)):\n",
    "    Date.append(a)\n",
    "else:\n",
    "    pass"
   ]
  },
  {
   "cell_type": "code",
   "execution_count": 433,
   "id": "b37d023f-f6c1-405d-82a6-90dba112a7bd",
   "metadata": {},
   "outputs": [
    {
     "data": {
      "text/plain": [
       "(53, 53, 53, 53, 53, 53, 53, 53, 53, 53)"
      ]
     },
     "execution_count": 433,
     "metadata": {},
     "output_type": "execute_result"
    }
   ],
   "source": [
    "len(Aeroplane), len(Airlines), len(Dept_time), len(Arrival_time), len(Source), len(Destination), len(Duration), len(Stops),len(Price), len(Date)"
   ]
  },
  {
   "cell_type": "code",
   "execution_count": 434,
   "id": "708d7653-4421-4390-a295-b26ccaffb8b8",
   "metadata": {},
   "outputs": [
    {
     "data": {
      "text/html": [
       "<div>\n",
       "<style scoped>\n",
       "    .dataframe tbody tr th:only-of-type {\n",
       "        vertical-align: middle;\n",
       "    }\n",
       "\n",
       "    .dataframe tbody tr th {\n",
       "        vertical-align: top;\n",
       "    }\n",
       "\n",
       "    .dataframe thead th {\n",
       "        text-align: right;\n",
       "    }\n",
       "</style>\n",
       "<table border=\"1\" class=\"dataframe\">\n",
       "  <thead>\n",
       "    <tr style=\"text-align: right;\">\n",
       "      <th></th>\n",
       "      <th>Airline</th>\n",
       "      <th>Aeroplane</th>\n",
       "      <th>Date</th>\n",
       "      <th>Departure_Time</th>\n",
       "      <th>Arrival_Time</th>\n",
       "      <th>Source</th>\n",
       "      <th>Destination</th>\n",
       "      <th>Stops</th>\n",
       "      <th>Duration</th>\n",
       "      <th>Price</th>\n",
       "    </tr>\n",
       "  </thead>\n",
       "  <tbody>\n",
       "    <tr>\n",
       "      <th>0</th>\n",
       "      <td>Vistara</td>\n",
       "      <td>UK-927</td>\n",
       "      <td>Sun, 3 Jul 2022</td>\n",
       "      <td>09:30</td>\n",
       "      <td>11:35</td>\n",
       "      <td>New Delhi</td>\n",
       "      <td>Mumbai</td>\n",
       "      <td>Non Stop</td>\n",
       "      <td>2h 05m</td>\n",
       "      <td>8578</td>\n",
       "    </tr>\n",
       "    <tr>\n",
       "      <th>1</th>\n",
       "      <td>Vistara</td>\n",
       "      <td>UK-993</td>\n",
       "      <td>Sun, 3 Jul 2022</td>\n",
       "      <td>12:50</td>\n",
       "      <td>15:00</td>\n",
       "      <td>New Delhi</td>\n",
       "      <td>Mumbai</td>\n",
       "      <td>Non Stop</td>\n",
       "      <td>2h 10m</td>\n",
       "      <td>8578</td>\n",
       "    </tr>\n",
       "    <tr>\n",
       "      <th>2</th>\n",
       "      <td>Vistara</td>\n",
       "      <td>UK-951</td>\n",
       "      <td>Sun, 3 Jul 2022</td>\n",
       "      <td>14:20</td>\n",
       "      <td>16:30</td>\n",
       "      <td>New Delhi</td>\n",
       "      <td>Mumbai</td>\n",
       "      <td>Non Stop</td>\n",
       "      <td>2h 10m</td>\n",
       "      <td>8578</td>\n",
       "    </tr>\n",
       "    <tr>\n",
       "      <th>3</th>\n",
       "      <td>Vistara</td>\n",
       "      <td>UK-933</td>\n",
       "      <td>Sun, 3 Jul 2022</td>\n",
       "      <td>15:30</td>\n",
       "      <td>17:40</td>\n",
       "      <td>New Delhi</td>\n",
       "      <td>Mumbai</td>\n",
       "      <td>Non Stop</td>\n",
       "      <td>2h 10m</td>\n",
       "      <td>8578</td>\n",
       "    </tr>\n",
       "    <tr>\n",
       "      <th>4</th>\n",
       "      <td>Vistara</td>\n",
       "      <td>UK-985</td>\n",
       "      <td>Sun, 3 Jul 2022</td>\n",
       "      <td>19:45</td>\n",
       "      <td>21:55</td>\n",
       "      <td>New Delhi</td>\n",
       "      <td>Mumbai</td>\n",
       "      <td>Non Stop</td>\n",
       "      <td>2h 10m</td>\n",
       "      <td>8578</td>\n",
       "    </tr>\n",
       "  </tbody>\n",
       "</table>\n",
       "</div>"
      ],
      "text/plain": [
       "   Airline Aeroplane             Date Departure_Time Arrival_Time     Source  \\\n",
       "0  Vistara    UK-927  Sun, 3 Jul 2022          09:30        11:35  New Delhi   \n",
       "1  Vistara    UK-993  Sun, 3 Jul 2022          12:50        15:00  New Delhi   \n",
       "2  Vistara    UK-951  Sun, 3 Jul 2022          14:20        16:30  New Delhi   \n",
       "3  Vistara    UK-933  Sun, 3 Jul 2022          15:30        17:40  New Delhi   \n",
       "4  Vistara    UK-985  Sun, 3 Jul 2022          19:45        21:55  New Delhi   \n",
       "\n",
       "  Destination     Stops Duration Price  \n",
       "0      Mumbai  Non Stop   2h 05m  8578  \n",
       "1      Mumbai  Non Stop   2h 10m  8578  \n",
       "2      Mumbai  Non Stop   2h 10m  8578  \n",
       "3      Mumbai  Non Stop   2h 10m  8578  \n",
       "4      Mumbai  Non Stop   2h 10m  8578  "
      ]
     },
     "execution_count": 434,
     "metadata": {},
     "output_type": "execute_result"
    }
   ],
   "source": [
    "Flight23=pd.DataFrame()\n",
    "Flight23[\"Airline\"]=Airlines\n",
    "Flight23[\"Aeroplane\"] =Aeroplane\n",
    "Flight23[\"Date\"]=Date\n",
    "Flight23[\"Departure_Time\"]=Dept_time\n",
    "Flight23[\"Arrival_Time\"]=Arrival_time\n",
    "Flight23[\"Source\"]=Source\n",
    "Flight23[\"Destination\"]=Destination\n",
    "Flight23[\"Stops\"]=Stops\n",
    "Flight23[\"Duration\"]=Duration\n",
    "Flight23[\"Price\"]=Price\n",
    "Flight23.head()"
   ]
  },
  {
   "cell_type": "code",
   "execution_count": 435,
   "id": "5ee8697d-721f-43e8-920a-dc78a944acd0",
   "metadata": {},
   "outputs": [],
   "source": [
    "Flight23.to_csv('Flight_Price_dataset_23.csv')"
   ]
  },
  {
   "cell_type": "markdown",
   "id": "3902e7be-465a-4a8d-8747-82454b7aecaf",
   "metadata": {},
   "source": [
    "- **Opening Economy class from New Dehli to Bombay on 4th July 2022**"
   ]
  },
  {
   "cell_type": "code",
   "execution_count": 16,
   "id": "1b8bcd3d-183a-4e5f-bfe5-d848160ada1f",
   "metadata": {},
   "outputs": [],
   "source": [
    "url='https://flight.yatra.com/air-search-ui/dom2/trigger?ADT=1&CHD=0&INF=0&class=Business&destination=BOM&destinationCountry=IN&flexi=0&flight_depart_date=03%2F07%2F2022&hb=0&noOfSegments=1&origin=DEL&originCountry=IN&type=O&unique=390110606919&viewName=normal'"
   ]
  },
  {
   "cell_type": "code",
   "execution_count": 17,
   "id": "13d796d8-edb8-4716-bbe0-a50684e20e03",
   "metadata": {},
   "outputs": [],
   "source": [
    "Airlines = []\n",
    "Aeroplane = []\n",
    "Dept_time = []\n",
    "Arrival_time = []\n",
    "Source = []\n",
    "Destination = []\n",
    "Duration = []\n",
    "Stops = []\n",
    "Date = []\n",
    "Price = []"
   ]
  },
  {
   "cell_type": "code",
   "execution_count": 18,
   "id": "87d66195-3c53-40b6-a827-9c83b956cf04",
   "metadata": {},
   "outputs": [
    {
     "name": "stderr",
     "output_type": "stream",
     "text": [
      "100%|██████████| 50/50 [00:17<00:00,  2.83it/s]\n"
     ]
    }
   ],
   "source": [
    "from tqdm import tqdm\n",
    "for _ in tqdm (range(0,50)):\n",
    "    time.sleep(0.1)\n",
    "    driver.execute_script(\"window.scrollBy(0,2000)\",\"\")\n",
    "    time.sleep(0.2)\n",
    "    driver.execute_script(\"window.scrollBy(0,-500)\",\"\")"
   ]
  },
  {
   "cell_type": "code",
   "execution_count": 19,
   "id": "cb619ef8-3e1c-49c8-8a6a-9bead1b48299",
   "metadata": {},
   "outputs": [
    {
     "name": "stderr",
     "output_type": "stream",
     "text": [
      "100%|██████████| 50/50 [00:00<00:00, 50.26it/s]\n",
      "100%|██████████| 50/50 [00:00<00:00, 56.92it/s]\n",
      "100%|██████████| 50/50 [00:00<00:00, 51.54it/s]\n",
      "100%|██████████| 50/50 [00:00<00:00, 53.22it/s]\n",
      "100%|██████████| 50/50 [00:00<00:00, 54.03it/s]\n",
      "100%|██████████| 50/50 [00:00<00:00, 52.39it/s]\n",
      "100%|██████████| 50/50 [00:00<00:00, 52.94it/s]\n",
      "100%|██████████| 50/50 [00:01<00:00, 47.38it/s]\n"
     ]
    }
   ],
   "source": [
    "# Extracting Airlines Name Via Xpath\n",
    "airlines = driver.find_elements_by_xpath(\"//div[@class='fs-13 airline-name no-pad col-8']/span\")\n",
    "for i in airlines:\n",
    "    Airlines.append(i.text.replace(\"\\n\",\" \"))\n",
    "else :\n",
    "    pass\n",
    "\n",
    "# Extracting Aeroplane model  via xpath\n",
    "aeroplanes = driver.find_elements_by_xpath('//p[@class=\"normal fs-11 font-lightestgrey no-wrap fl-no\"]/span')\n",
    "for i in tqdm(aeroplanes):\n",
    "    Aeroplane.append(i.text) \n",
    "else:\n",
    "    pass\n",
    "\n",
    "# Extracting Departure Time of Filght via Xpath\n",
    "dept_times = driver.find_elements_by_xpath('//div[@class=\"i-b pr\"]')\n",
    "for i in tqdm(dept_times):\n",
    "    Dept_time.append(i.text)\n",
    "else :\n",
    "    pass\n",
    "\n",
    "# Extracting Arrival Time via xpath\n",
    "arrival = driver.find_elements_by_xpath('//p[@class=\"bold fs-15 mb-2 pr time\"]')\n",
    "for i in tqdm(arrival):\n",
    "    Arrival_time.append(i.text)\n",
    "else :\n",
    "    pass\n",
    "\n",
    "# Extracting Source of flight via Xpath\n",
    "source = driver.find_elements_by_xpath(\"//div[@class='i-b col-4 no-wrap text-right dtime col-3']/p\")\n",
    "for i in tqdm(source):\n",
    "    Source.append(i.text)\n",
    "else :\n",
    "    pass\n",
    "\n",
    "# Extracting Destination of Flights via Xpath\n",
    "destination = driver.find_elements_by_xpath('//div[@class=\"i-b pdd-0 text-left atime col-5\"]/p[2]')\n",
    "for i in tqdm(destination):\n",
    "    Destination.append(i.text)\n",
    "else:\n",
    "    pass\n",
    "\n",
    "# Extracting Duration of Flights via Xpath\n",
    "duration = driver.find_elements_by_xpath('//div[@class=\"stop-cont pl-13\"]/p')\n",
    "for i in tqdm(duration):\n",
    "    Duration.append(i.text)\n",
    "else:\n",
    "    pass\n",
    "\n",
    "# Extracting stop details via Xpath\n",
    "stop = driver.find_elements_by_xpath(\"//div[@class='stop-cont pl-13']/div/span\")\n",
    "for i in tqdm(stop):\n",
    "    Stops.append(i.text)\n",
    "else:\n",
    "    pass\n",
    "\n",
    "# Extracting Price of Flights via Xpath\n",
    "count = 0\n",
    "price = driver.find_elements_by_xpath('//div[@class=\"i-b tipsy fare-summary-tooltip fs-18\"]')\n",
    "for i in tqdm(price):\n",
    "    Price.append(i.text.replace(',',''))\n",
    "    count = count +1\n",
    "else:\n",
    "    count = count +1\n",
    "    pass"
   ]
  },
  {
   "cell_type": "code",
   "execution_count": 20,
   "id": "bfdf0291-c18d-4bbc-88af-7566d8bb845f",
   "metadata": {},
   "outputs": [
    {
     "name": "stderr",
     "output_type": "stream",
     "text": [
      "100%|██████████| 50/50 [00:00<00:00, 49872.82it/s]\n"
     ]
    }
   ],
   "source": [
    "# Clicking on Flights details element\n",
    "Button = driver.find_elements_by_xpath('//div[@class=\"link-color fs-12 cursor-pointer\"]/span')\n",
    "driver.execute_script(\"arguments[0].click();\", WebDriverWait(driver, 20).until(EC.element_to_be_clickable((By.XPATH,'//div[@class=\"link-color fs-12 cursor-pointer\"]/span'))))\n",
    "time.sleep(0.25)\n",
    "\n",
    "# Extracting Date of Flights via Xpath\n",
    "date = driver.find_element_by_xpath('//div[@class=\"bold fs-12 mb-5\"]')\n",
    "a = date.text\n",
    "for i in tqdm(range(count-1)):\n",
    "    Date.append(a)\n",
    "else:\n",
    "    pass"
   ]
  },
  {
   "cell_type": "code",
   "execution_count": 21,
   "id": "a2014c59-49db-45ce-9a94-a4f80ff2b9b4",
   "metadata": {},
   "outputs": [
    {
     "data": {
      "text/plain": [
       "(50, 50, 50, 50, 50, 50, 50, 50, 50, 50)"
      ]
     },
     "execution_count": 21,
     "metadata": {},
     "output_type": "execute_result"
    }
   ],
   "source": [
    "len(Aeroplane), len(Airlines), len(Dept_time), len(Arrival_time), len(Source), len(Destination), len(Duration), len(Stops),len(Price), len(Date)"
   ]
  },
  {
   "cell_type": "code",
   "execution_count": 22,
   "id": "5a59b2bd-4819-4e7d-829b-2aca84245e61",
   "metadata": {},
   "outputs": [
    {
     "data": {
      "text/html": [
       "<div>\n",
       "<style scoped>\n",
       "    .dataframe tbody tr th:only-of-type {\n",
       "        vertical-align: middle;\n",
       "    }\n",
       "\n",
       "    .dataframe tbody tr th {\n",
       "        vertical-align: top;\n",
       "    }\n",
       "\n",
       "    .dataframe thead th {\n",
       "        text-align: right;\n",
       "    }\n",
       "</style>\n",
       "<table border=\"1\" class=\"dataframe\">\n",
       "  <thead>\n",
       "    <tr style=\"text-align: right;\">\n",
       "      <th></th>\n",
       "      <th>Airline</th>\n",
       "      <th>Aeroplane</th>\n",
       "      <th>Date</th>\n",
       "      <th>Departure_Time</th>\n",
       "      <th>Arrival_Time</th>\n",
       "      <th>Source</th>\n",
       "      <th>Destination</th>\n",
       "      <th>Stops</th>\n",
       "      <th>Duration</th>\n",
       "      <th>Price</th>\n",
       "    </tr>\n",
       "  </thead>\n",
       "  <tbody>\n",
       "    <tr>\n",
       "      <th>0</th>\n",
       "      <td>SpiceJet</td>\n",
       "      <td>SG-8709</td>\n",
       "      <td>Mon, 4 Jul 2022</td>\n",
       "      <td>19:00</td>\n",
       "      <td>21:10</td>\n",
       "      <td>New Delhi</td>\n",
       "      <td>Mumbai</td>\n",
       "      <td>Non Stop</td>\n",
       "      <td>2h 10m</td>\n",
       "      <td>5896</td>\n",
       "    </tr>\n",
       "    <tr>\n",
       "      <th>1</th>\n",
       "      <td>SpiceJet</td>\n",
       "      <td>SG-8701</td>\n",
       "      <td>Mon, 4 Jul 2022</td>\n",
       "      <td>07:20</td>\n",
       "      <td>09:35</td>\n",
       "      <td>New Delhi</td>\n",
       "      <td>Mumbai</td>\n",
       "      <td>Non Stop</td>\n",
       "      <td>2h 15m</td>\n",
       "      <td>5896</td>\n",
       "    </tr>\n",
       "    <tr>\n",
       "      <th>2</th>\n",
       "      <td>SpiceJet</td>\n",
       "      <td>SG-8169</td>\n",
       "      <td>Mon, 4 Jul 2022</td>\n",
       "      <td>19:45</td>\n",
       "      <td>22:00</td>\n",
       "      <td>New Delhi</td>\n",
       "      <td>Mumbai</td>\n",
       "      <td>Non Stop</td>\n",
       "      <td>2h 15m</td>\n",
       "      <td>5896</td>\n",
       "    </tr>\n",
       "    <tr>\n",
       "      <th>3</th>\n",
       "      <td>SpiceJet</td>\n",
       "      <td>SG-711</td>\n",
       "      <td>Mon, 4 Jul 2022</td>\n",
       "      <td>21:40</td>\n",
       "      <td>23:55</td>\n",
       "      <td>New Delhi</td>\n",
       "      <td>Mumbai</td>\n",
       "      <td>Non Stop</td>\n",
       "      <td>2h 15m</td>\n",
       "      <td>5896</td>\n",
       "    </tr>\n",
       "    <tr>\n",
       "      <th>4</th>\n",
       "      <td>Vistara</td>\n",
       "      <td>UK-975</td>\n",
       "      <td>Mon, 4 Jul 2022</td>\n",
       "      <td>05:55</td>\n",
       "      <td>07:55</td>\n",
       "      <td>New Delhi</td>\n",
       "      <td>Mumbai</td>\n",
       "      <td>Non Stop</td>\n",
       "      <td>2h 00m</td>\n",
       "      <td>8578</td>\n",
       "    </tr>\n",
       "  </tbody>\n",
       "</table>\n",
       "</div>"
      ],
      "text/plain": [
       "    Airline Aeroplane             Date Departure_Time Arrival_Time     Source  \\\n",
       "0  SpiceJet   SG-8709  Mon, 4 Jul 2022          19:00        21:10  New Delhi   \n",
       "1  SpiceJet   SG-8701  Mon, 4 Jul 2022          07:20        09:35  New Delhi   \n",
       "2  SpiceJet   SG-8169  Mon, 4 Jul 2022          19:45        22:00  New Delhi   \n",
       "3  SpiceJet    SG-711  Mon, 4 Jul 2022          21:40        23:55  New Delhi   \n",
       "4   Vistara    UK-975  Mon, 4 Jul 2022          05:55        07:55  New Delhi   \n",
       "\n",
       "  Destination     Stops Duration Price  \n",
       "0      Mumbai  Non Stop   2h 10m  5896  \n",
       "1      Mumbai  Non Stop   2h 15m  5896  \n",
       "2      Mumbai  Non Stop   2h 15m  5896  \n",
       "3      Mumbai  Non Stop   2h 15m  5896  \n",
       "4      Mumbai  Non Stop   2h 00m  8578  "
      ]
     },
     "execution_count": 22,
     "metadata": {},
     "output_type": "execute_result"
    }
   ],
   "source": [
    "Flight23=pd.DataFrame()\n",
    "Flight23[\"Airline\"]=Airlines\n",
    "Flight23[\"Aeroplane\"] =Aeroplane\n",
    "Flight23[\"Date\"]=Date\n",
    "Flight23[\"Departure_Time\"]=Dept_time\n",
    "Flight23[\"Arrival_Time\"]=Arrival_time\n",
    "Flight23[\"Source\"]=Source\n",
    "Flight23[\"Destination\"]=Destination\n",
    "Flight23[\"Stops\"]=Stops\n",
    "Flight23[\"Duration\"]=Duration\n",
    "Flight23[\"Price\"]=Price\n",
    "Flight23.head()"
   ]
  },
  {
   "cell_type": "code",
   "execution_count": 23,
   "id": "7f2c1eb5-0e48-4bc1-a617-8d128f3bf855",
   "metadata": {},
   "outputs": [],
   "source": [
    "Flight23.to_csv('Flight_Price_dataset_23.csv')"
   ]
  },
  {
   "cell_type": "markdown",
   "id": "e37e9094-6f12-41f0-a03a-7c88a8ea416d",
   "metadata": {},
   "source": [
    "## Merging all CSV file into one file"
   ]
  },
  {
   "cell_type": "markdown",
   "id": "1ed46c99-a2f7-4c45-b87a-aa76e698264f",
   "metadata": {},
   "source": [
    "## saving extracted details into CSV file"
   ]
  },
  {
   "cell_type": "markdown",
   "id": "7617038b-1894-44ce-a340-d66afecfac34",
   "metadata": {},
   "source": [
    "> - **Opening Ecomnomy flights from New Dehli to Bombay on 4th July 2022**"
   ]
  },
  {
   "cell_type": "code",
   "execution_count": 3,
   "id": "d7d1dfb0-447c-4dde-b279-41fdb926ef68",
   "metadata": {},
   "outputs": [],
   "source": [
    "driver=webdriver.Chrome(r'C:\\chromedriver.exe')\n",
    "url= \"https://flight.yatra.com/air-search-ui/dom2/trigger?ADT=1&CHD=0&INF=0&destination=BOM&destinationCountry=IN&flexi=0&flight_depart_date=04%2F07%2F2022&hb=0&noOfSegments=1&non_stop=1&origin=DEL&originCountry=IN&type=O&unique=216858646396&viewName=normal\"\n",
    "driver.get(url)\n",
    "time.sleep(2)"
   ]
  },
  {
   "cell_type": "code",
   "execution_count": 4,
   "id": "442dc252-7d42-4705-a2d9-b67aca1d1227",
   "metadata": {},
   "outputs": [],
   "source": [
    "Airlines = []\n",
    "Aeroplane = []\n",
    "Dept_time = []\n",
    "Arrival_time = []\n",
    "Source = []\n",
    "Destination = []\n",
    "Duration = []\n",
    "Stops = []\n",
    "Date = []\n",
    "Price = []"
   ]
  },
  {
   "cell_type": "code",
   "execution_count": 5,
   "id": "804bd0bc-3dd3-4e79-8fe0-e5a4c30f3791",
   "metadata": {},
   "outputs": [
    {
     "name": "stderr",
     "output_type": "stream",
     "text": [
      "100%|██████████| 50/50 [00:33<00:00,  1.49it/s]\n"
     ]
    }
   ],
   "source": [
    "from tqdm import tqdm\n",
    "for _ in tqdm (range(0,50)):\n",
    "    time.sleep(0.1)\n",
    "    driver.execute_script(\"window.scrollBy(0,2000)\",\"\")\n",
    "    time.sleep(0.2)\n",
    "    driver.execute_script(\"window.scrollBy(0,-500)\",\"\")"
   ]
  },
  {
   "cell_type": "code",
   "execution_count": 8,
   "id": "d1dae8ba-5fb2-4dd3-aa32-a09381b8cc77",
   "metadata": {},
   "outputs": [
    {
     "data": {
      "text/plain": [
       "50"
      ]
     },
     "execution_count": 8,
     "metadata": {},
     "output_type": "execute_result"
    }
   ],
   "source": [
    "flights=driver.find_elements_by_xpath('//div[@class=\"flight-det table full-width clearfix\"]')\n",
    "len(flights)"
   ]
  },
  {
   "cell_type": "code",
   "execution_count": 9,
   "id": "962795b2-726a-4924-8c21-0c374dc0124a",
   "metadata": {},
   "outputs": [
    {
     "name": "stderr",
     "output_type": "stream",
     "text": [
      "100%|██████████| 50/50 [00:00<00:00, 53.28it/s]\n",
      "100%|██████████| 50/50 [00:01<00:00, 42.44it/s]\n",
      "100%|██████████| 50/50 [00:01<00:00, 43.39it/s]\n",
      "100%|██████████| 50/50 [00:00<00:00, 52.61it/s]\n",
      "100%|██████████| 50/50 [00:00<00:00, 51.42it/s]\n",
      "100%|██████████| 50/50 [00:00<00:00, 52.72it/s]\n",
      "100%|██████████| 50/50 [00:00<00:00, 52.51it/s]\n",
      "100%|██████████| 50/50 [00:01<00:00, 48.39it/s]\n"
     ]
    }
   ],
   "source": [
    "# Extracting Airlines Name Via Xpath\n",
    "airlines = driver.find_elements_by_xpath(\"//div[@class='fs-13 airline-name no-pad col-8']/span\")\n",
    "for i in airlines:\n",
    "    Airlines.append(i.text.replace(\"\\n\",\" \"))\n",
    "else :\n",
    "    pass\n",
    "\n",
    "# Extracting Aeroplane model  via xpath\n",
    "aeroplanes = driver.find_elements_by_xpath('//p[@class=\"normal fs-11 font-lightestgrey no-wrap fl-no\"]/span')\n",
    "for i in tqdm(aeroplanes):\n",
    "    Aeroplane.append(i.text) \n",
    "else:\n",
    "    pass\n",
    "\n",
    "# Extracting Departure Time of Filght via Xpath\n",
    "dept_times = driver.find_elements_by_xpath('//div[@class=\"i-b pr\"]')\n",
    "for i in tqdm(dept_times):\n",
    "    Dept_time.append(i.text)\n",
    "else :\n",
    "    pass\n",
    "\n",
    "# Extracting Arrival Time via xpath\n",
    "arrival = driver.find_elements_by_xpath('//p[@class=\"bold fs-15 mb-2 pr time\"]')\n",
    "for i in tqdm(arrival):\n",
    "    Arrival_time.append(i.text)\n",
    "else :\n",
    "    pass\n",
    "\n",
    "# Extracting Source of flight via Xpath\n",
    "source = driver.find_elements_by_xpath(\"//div[@class='i-b col-4 no-wrap text-right dtime col-3']/p\")\n",
    "for i in tqdm(source):\n",
    "    Source.append(i.text)\n",
    "else :\n",
    "    pass\n",
    "\n",
    "# Extracting Destination of Flights via Xpath\n",
    "destination = driver.find_elements_by_xpath('//div[@class=\"i-b pdd-0 text-left atime col-5\"]/p[2]')\n",
    "for i in tqdm(destination):\n",
    "    Destination.append(i.text)\n",
    "else:\n",
    "    pass\n",
    "\n",
    "# Extracting Duration of Flights via Xpath\n",
    "duration = driver.find_elements_by_xpath('//div[@class=\"stop-cont pl-13\"]/p')\n",
    "for i in tqdm(duration):\n",
    "    Duration.append(i.text)\n",
    "else:\n",
    "    pass\n",
    "\n",
    "# Extracting stop details via Xpath\n",
    "stop = driver.find_elements_by_xpath(\"//div[@class='stop-cont pl-13']/div/span\")\n",
    "for i in tqdm(stop):\n",
    "    Stops.append(i.text)\n",
    "else:\n",
    "    pass\n",
    "\n",
    "# Extracting Price of Flights via Xpath\n",
    "count = 0\n",
    "price = driver.find_elements_by_xpath('//div[@class=\"i-b tipsy fare-summary-tooltip fs-18\"]')\n",
    "for i in tqdm(price):\n",
    "    Price.append(i.text.replace(',',''))\n",
    "    count = count +1\n",
    "else:\n",
    "    count = count +1\n",
    "    pass"
   ]
  },
  {
   "cell_type": "code",
   "execution_count": 12,
   "id": "8691551d-6064-42a3-87fc-a8c6d9385403",
   "metadata": {},
   "outputs": [
    {
     "name": "stderr",
     "output_type": "stream",
     "text": [
      "100%|██████████| 50/50 [00:00<?, ?it/s]\n"
     ]
    }
   ],
   "source": [
    "# Clicking on Flights details element\n",
    "Button = driver.find_elements_by_xpath('//div[@class=\"link-color fs-12 cursor-pointer\"]/span')\n",
    "driver.execute_script(\"arguments[0].click();\", WebDriverWait(driver, 20).until(EC.element_to_be_clickable((By.XPATH,'//div[@class=\"link-color fs-12 cursor-pointer\"]/span'))))\n",
    "time.sleep(0.25)\n",
    "\n",
    "# Extracting Date of Flights via Xpath\n",
    "date = driver.find_element_by_xpath('//div[@class=\"bold fs-12 mb-5\"]')\n",
    "a = date.text\n",
    "for i in tqdm(range(count-1)):\n",
    "    Date.append(a)\n",
    "else:\n",
    "    pass"
   ]
  },
  {
   "cell_type": "code",
   "execution_count": 13,
   "id": "748ecbd2-715c-4d29-927a-92bbc7f1e7d8",
   "metadata": {},
   "outputs": [
    {
     "data": {
      "text/plain": [
       "(50, 50, 50, 50, 50, 50, 50, 50, 50, 50)"
      ]
     },
     "execution_count": 13,
     "metadata": {},
     "output_type": "execute_result"
    }
   ],
   "source": [
    "len(Aeroplane), len(Airlines), len(Dept_time), len(Arrival_time), len(Source), len(Destination), len(Duration), len(Stops),len(Price), len(Date)"
   ]
  },
  {
   "cell_type": "code",
   "execution_count": 14,
   "id": "3b5f1503-559a-477f-8626-2b9d2fd7ccd6",
   "metadata": {},
   "outputs": [
    {
     "data": {
      "text/html": [
       "<div>\n",
       "<style scoped>\n",
       "    .dataframe tbody tr th:only-of-type {\n",
       "        vertical-align: middle;\n",
       "    }\n",
       "\n",
       "    .dataframe tbody tr th {\n",
       "        vertical-align: top;\n",
       "    }\n",
       "\n",
       "    .dataframe thead th {\n",
       "        text-align: right;\n",
       "    }\n",
       "</style>\n",
       "<table border=\"1\" class=\"dataframe\">\n",
       "  <thead>\n",
       "    <tr style=\"text-align: right;\">\n",
       "      <th></th>\n",
       "      <th>Airline</th>\n",
       "      <th>Aeroplane</th>\n",
       "      <th>Date</th>\n",
       "      <th>Departure_Time</th>\n",
       "      <th>Arrival_Time</th>\n",
       "      <th>Source</th>\n",
       "      <th>Destination</th>\n",
       "      <th>Stops</th>\n",
       "      <th>Duration</th>\n",
       "      <th>Price</th>\n",
       "    </tr>\n",
       "  </thead>\n",
       "  <tbody>\n",
       "    <tr>\n",
       "      <th>0</th>\n",
       "      <td>SpiceJet</td>\n",
       "      <td>SG-8709</td>\n",
       "      <td>Mon, 4 Jul 2022</td>\n",
       "      <td>19:00</td>\n",
       "      <td>21:10</td>\n",
       "      <td>New Delhi</td>\n",
       "      <td>Mumbai</td>\n",
       "      <td>Non Stop</td>\n",
       "      <td>2h 10m</td>\n",
       "      <td>5896</td>\n",
       "    </tr>\n",
       "    <tr>\n",
       "      <th>1</th>\n",
       "      <td>SpiceJet</td>\n",
       "      <td>SG-8701</td>\n",
       "      <td>Mon, 4 Jul 2022</td>\n",
       "      <td>07:20</td>\n",
       "      <td>09:35</td>\n",
       "      <td>New Delhi</td>\n",
       "      <td>Mumbai</td>\n",
       "      <td>Non Stop</td>\n",
       "      <td>2h 15m</td>\n",
       "      <td>5896</td>\n",
       "    </tr>\n",
       "    <tr>\n",
       "      <th>2</th>\n",
       "      <td>SpiceJet</td>\n",
       "      <td>SG-8169</td>\n",
       "      <td>Mon, 4 Jul 2022</td>\n",
       "      <td>19:45</td>\n",
       "      <td>22:00</td>\n",
       "      <td>New Delhi</td>\n",
       "      <td>Mumbai</td>\n",
       "      <td>Non Stop</td>\n",
       "      <td>2h 15m</td>\n",
       "      <td>5896</td>\n",
       "    </tr>\n",
       "    <tr>\n",
       "      <th>3</th>\n",
       "      <td>SpiceJet</td>\n",
       "      <td>SG-711</td>\n",
       "      <td>Mon, 4 Jul 2022</td>\n",
       "      <td>21:40</td>\n",
       "      <td>23:55</td>\n",
       "      <td>New Delhi</td>\n",
       "      <td>Mumbai</td>\n",
       "      <td>Non Stop</td>\n",
       "      <td>2h 15m</td>\n",
       "      <td>5896</td>\n",
       "    </tr>\n",
       "    <tr>\n",
       "      <th>4</th>\n",
       "      <td>Vistara</td>\n",
       "      <td>UK-975</td>\n",
       "      <td>Mon, 4 Jul 2022</td>\n",
       "      <td>05:55</td>\n",
       "      <td>07:55</td>\n",
       "      <td>New Delhi</td>\n",
       "      <td>Mumbai</td>\n",
       "      <td>Non Stop</td>\n",
       "      <td>2h 00m</td>\n",
       "      <td>8578</td>\n",
       "    </tr>\n",
       "  </tbody>\n",
       "</table>\n",
       "</div>"
      ],
      "text/plain": [
       "    Airline Aeroplane             Date Departure_Time Arrival_Time     Source  \\\n",
       "0  SpiceJet   SG-8709  Mon, 4 Jul 2022          19:00        21:10  New Delhi   \n",
       "1  SpiceJet   SG-8701  Mon, 4 Jul 2022          07:20        09:35  New Delhi   \n",
       "2  SpiceJet   SG-8169  Mon, 4 Jul 2022          19:45        22:00  New Delhi   \n",
       "3  SpiceJet    SG-711  Mon, 4 Jul 2022          21:40        23:55  New Delhi   \n",
       "4   Vistara    UK-975  Mon, 4 Jul 2022          05:55        07:55  New Delhi   \n",
       "\n",
       "  Destination     Stops Duration Price  \n",
       "0      Mumbai  Non Stop   2h 10m  5896  \n",
       "1      Mumbai  Non Stop   2h 15m  5896  \n",
       "2      Mumbai  Non Stop   2h 15m  5896  \n",
       "3      Mumbai  Non Stop   2h 15m  5896  \n",
       "4      Mumbai  Non Stop   2h 00m  8578  "
      ]
     },
     "execution_count": 14,
     "metadata": {},
     "output_type": "execute_result"
    }
   ],
   "source": [
    "Flight24=pd.DataFrame()\n",
    "Flight24[\"Airline\"]=Airlines\n",
    "Flight24[\"Aeroplane\"] =Aeroplane\n",
    "Flight24[\"Date\"]=Date\n",
    "Flight24[\"Departure_Time\"]=Dept_time\n",
    "Flight24[\"Arrival_Time\"]=Arrival_time\n",
    "Flight24[\"Source\"]=Source\n",
    "Flight24[\"Destination\"]=Destination\n",
    "Flight24[\"Stops\"]=Stops\n",
    "Flight24[\"Duration\"]=Duration\n",
    "Flight24[\"Price\"]=Price\n",
    "Flight24.head()"
   ]
  },
  {
   "cell_type": "code",
   "execution_count": 15,
   "id": "ba14087e-9c79-4c00-a86d-7eaf09e28788",
   "metadata": {},
   "outputs": [],
   "source": [
    "Flight24.to_csv('Flight_Price_dataset_24.csv')"
   ]
  },
  {
   "cell_type": "markdown",
   "id": "07a6bb38-6936-4fe4-87d0-e36c55620bf2",
   "metadata": {},
   "source": [
    "- **Opening Premium Ecomnomy flights from New Dehli to Bombay on 04th July 2022**"
   ]
  },
  {
   "cell_type": "code",
   "execution_count": 24,
   "id": "ddea1a66-41ec-453a-86c7-07d0df4c3006",
   "metadata": {},
   "outputs": [],
   "source": [
    "url='https://flight.yatra.com/air-search-ui/dom2/trigger?ADT=1&CHD=0&INF=0&class=Special&destination=BOM&destinationCountry=IN&flexi=0&flight_depart_date=04%2F07%2F2022&hb=0&noOfSegments=1&non_stop=1&origin=DEL&originCountry=IN&type=O&unique=890356274439&version=1.1&viewName=normal'"
   ]
  },
  {
   "cell_type": "code",
   "execution_count": 25,
   "id": "a3d11271-9662-49d7-9625-3f45d4640f03",
   "metadata": {},
   "outputs": [],
   "source": [
    "Airlines = []\n",
    "Aeroplane = []\n",
    "Dept_time = []\n",
    "Arrival_time = []\n",
    "Source = []\n",
    "Destination = []\n",
    "Duration = []\n",
    "Stops = []\n",
    "Date = []\n",
    "Price = []"
   ]
  },
  {
   "cell_type": "code",
   "execution_count": 26,
   "id": "9e0fc80e-24e8-477d-98b5-d5072d41d1af",
   "metadata": {},
   "outputs": [
    {
     "name": "stderr",
     "output_type": "stream",
     "text": [
      "100%|██████████| 50/50 [00:17<00:00,  2.86it/s]\n"
     ]
    }
   ],
   "source": [
    "from tqdm import tqdm\n",
    "for _ in tqdm (range(0,50)):\n",
    "    time.sleep(0.1)\n",
    "    driver.execute_script(\"window.scrollBy(0,2000)\",\"\")\n",
    "    time.sleep(0.2)\n",
    "    driver.execute_script(\"window.scrollBy(0,-500)\",\"\")"
   ]
  },
  {
   "cell_type": "code",
   "execution_count": 27,
   "id": "387aa31c-cf30-4594-ab07-de920bd467b0",
   "metadata": {},
   "outputs": [
    {
     "data": {
      "text/plain": [
       "13"
      ]
     },
     "execution_count": 27,
     "metadata": {},
     "output_type": "execute_result"
    }
   ],
   "source": [
    "flights=driver.find_elements_by_xpath('//div[@class=\"flight-det table full-width clearfix\"]')\n",
    "len(flights)"
   ]
  },
  {
   "cell_type": "code",
   "execution_count": 28,
   "id": "0c51338e-1171-4647-b851-7ca66a3c6f73",
   "metadata": {},
   "outputs": [
    {
     "name": "stderr",
     "output_type": "stream",
     "text": [
      "100%|██████████| 13/13 [00:00<00:00, 56.04it/s]\n",
      "100%|██████████| 13/13 [00:00<00:00, 62.51it/s]\n",
      "100%|██████████| 13/13 [00:00<00:00, 60.19it/s]\n",
      "100%|██████████| 13/13 [00:00<00:00, 50.79it/s]\n",
      "100%|██████████| 13/13 [00:00<00:00, 60.19it/s]\n",
      "100%|██████████| 13/13 [00:00<00:00, 56.04it/s]\n",
      "100%|██████████| 13/13 [00:00<00:00, 58.04it/s]\n",
      "100%|██████████| 13/13 [00:00<00:00, 56.04it/s]\n"
     ]
    }
   ],
   "source": [
    "# Extracting Airlines Name Via Xpath\n",
    "airlines = driver.find_elements_by_xpath(\"//div[@class='fs-13 airline-name no-pad col-8']/span\")\n",
    "for i in airlines:\n",
    "    Airlines.append(i.text.replace(\"\\n\",\" \"))\n",
    "else :\n",
    "    pass\n",
    "\n",
    "# Extracting Aeroplane model  via xpath\n",
    "aeroplanes = driver.find_elements_by_xpath('//p[@class=\"normal fs-11 font-lightestgrey no-wrap fl-no\"]/span')\n",
    "for i in tqdm(aeroplanes):\n",
    "    Aeroplane.append(i.text) \n",
    "else:\n",
    "    pass\n",
    "\n",
    "# Extracting Departure Time of Filght via Xpath\n",
    "dept_times = driver.find_elements_by_xpath('//div[@class=\"i-b pr\"]')\n",
    "for i in tqdm(dept_times):\n",
    "    Dept_time.append(i.text)\n",
    "else :\n",
    "    pass\n",
    "\n",
    "# Extracting Arrival Time via xpath\n",
    "arrival = driver.find_elements_by_xpath('//p[@class=\"bold fs-15 mb-2 pr time\"]')\n",
    "for i in tqdm(arrival):\n",
    "    Arrival_time.append(i.text)\n",
    "else :\n",
    "    pass\n",
    "\n",
    "# Extracting Source of flight via Xpath\n",
    "source = driver.find_elements_by_xpath(\"//div[@class='i-b col-4 no-wrap text-right dtime col-3']/p\")\n",
    "for i in tqdm(source):\n",
    "    Source.append(i.text)\n",
    "else :\n",
    "    pass\n",
    "\n",
    "# Extracting Destination of Flights via Xpath\n",
    "destination = driver.find_elements_by_xpath('//div[@class=\"i-b pdd-0 text-left atime col-5\"]/p[2]')\n",
    "for i in tqdm(destination):\n",
    "    Destination.append(i.text)\n",
    "else:\n",
    "    pass\n",
    "\n",
    "# Extracting Duration of Flights via Xpath\n",
    "duration = driver.find_elements_by_xpath('//div[@class=\"stop-cont pl-13\"]/p')\n",
    "for i in tqdm(duration):\n",
    "    Duration.append(i.text)\n",
    "else:\n",
    "    pass\n",
    "\n",
    "# Extracting stop details via Xpath\n",
    "stop = driver.find_elements_by_xpath(\"//div[@class='stop-cont pl-13']/div/span\")\n",
    "for i in tqdm(stop):\n",
    "    Stops.append(i.text)\n",
    "else:\n",
    "    pass\n",
    "\n",
    "# Extracting Price of Flights via Xpath\n",
    "count = 0\n",
    "price = driver.find_elements_by_xpath('//div[@class=\"i-b tipsy fare-summary-tooltip fs-18\"]')\n",
    "for i in tqdm(price):\n",
    "    Price.append(i.text.replace(',',''))\n",
    "    count = count +1\n",
    "else:\n",
    "    count = count +1\n",
    "    pass"
   ]
  },
  {
   "cell_type": "code",
   "execution_count": 29,
   "id": "ffce175d-29e1-4270-ae75-83e34d104d93",
   "metadata": {},
   "outputs": [
    {
     "name": "stderr",
     "output_type": "stream",
     "text": [
      "100%|██████████| 13/13 [00:00<?, ?it/s]\n"
     ]
    }
   ],
   "source": [
    "# Clicking on Flights details element\n",
    "Button = driver.find_elements_by_xpath('//div[@class=\"link-color fs-12 cursor-pointer\"]/span')\n",
    "driver.execute_script(\"arguments[0].click();\", WebDriverWait(driver, 20).until(EC.element_to_be_clickable((By.XPATH,'//div[@class=\"link-color fs-12 cursor-pointer\"]/span'))))\n",
    "time.sleep(0.25)\n",
    "\n",
    "# Extracting Date of Flights via Xpath\n",
    "date = driver.find_element_by_xpath('//div[@class=\"bold fs-12 mb-5\"]')\n",
    "a = date.text\n",
    "for i in tqdm(range(count-1)):\n",
    "    Date.append(a)\n",
    "else:\n",
    "    pass"
   ]
  },
  {
   "cell_type": "code",
   "execution_count": 30,
   "id": "1b822fff-37ac-42c6-b425-f62fd8beb2d0",
   "metadata": {},
   "outputs": [
    {
     "data": {
      "text/plain": [
       "(13, 13, 13, 13, 13, 13, 13, 13, 13, 13)"
      ]
     },
     "execution_count": 30,
     "metadata": {},
     "output_type": "execute_result"
    }
   ],
   "source": [
    "len(Aeroplane), len(Airlines), len(Dept_time), len(Arrival_time), len(Source), len(Destination), len(Duration), len(Stops),len(Price), len(Date)"
   ]
  },
  {
   "cell_type": "code",
   "execution_count": 31,
   "id": "f666f967-8d9d-4f56-9a75-71a4e22d86c7",
   "metadata": {},
   "outputs": [
    {
     "data": {
      "text/html": [
       "<div>\n",
       "<style scoped>\n",
       "    .dataframe tbody tr th:only-of-type {\n",
       "        vertical-align: middle;\n",
       "    }\n",
       "\n",
       "    .dataframe tbody tr th {\n",
       "        vertical-align: top;\n",
       "    }\n",
       "\n",
       "    .dataframe thead th {\n",
       "        text-align: right;\n",
       "    }\n",
       "</style>\n",
       "<table border=\"1\" class=\"dataframe\">\n",
       "  <thead>\n",
       "    <tr style=\"text-align: right;\">\n",
       "      <th></th>\n",
       "      <th>Airline</th>\n",
       "      <th>Aeroplane</th>\n",
       "      <th>Date</th>\n",
       "      <th>Departure_Time</th>\n",
       "      <th>Arrival_Time</th>\n",
       "      <th>Source</th>\n",
       "      <th>Destination</th>\n",
       "      <th>Stops</th>\n",
       "      <th>Duration</th>\n",
       "      <th>Price</th>\n",
       "    </tr>\n",
       "  </thead>\n",
       "  <tbody>\n",
       "    <tr>\n",
       "      <th>0</th>\n",
       "      <td>Vistara Premium Economy</td>\n",
       "      <td>UK-975</td>\n",
       "      <td>Mon, 4 Jul 2022</td>\n",
       "      <td>05:55</td>\n",
       "      <td>07:55</td>\n",
       "      <td>New Delhi</td>\n",
       "      <td>Mumbai</td>\n",
       "      <td>Non Stop</td>\n",
       "      <td>2h 00m</td>\n",
       "      <td>10190</td>\n",
       "    </tr>\n",
       "    <tr>\n",
       "      <th>1</th>\n",
       "      <td>Vistara Premium Economy</td>\n",
       "      <td>UK-981</td>\n",
       "      <td>Mon, 4 Jul 2022</td>\n",
       "      <td>21:30</td>\n",
       "      <td>23:40</td>\n",
       "      <td>New Delhi</td>\n",
       "      <td>Mumbai</td>\n",
       "      <td>Non Stop</td>\n",
       "      <td>2h 10m</td>\n",
       "      <td>10190</td>\n",
       "    </tr>\n",
       "    <tr>\n",
       "      <th>2</th>\n",
       "      <td>Vistara Premium Economy</td>\n",
       "      <td>UK-927</td>\n",
       "      <td>Mon, 4 Jul 2022</td>\n",
       "      <td>09:30</td>\n",
       "      <td>11:35</td>\n",
       "      <td>New Delhi</td>\n",
       "      <td>Mumbai</td>\n",
       "      <td>Non Stop</td>\n",
       "      <td>2h 05m</td>\n",
       "      <td>11086</td>\n",
       "    </tr>\n",
       "    <tr>\n",
       "      <th>3</th>\n",
       "      <td>Vistara Premium Economy</td>\n",
       "      <td>UK-993</td>\n",
       "      <td>Mon, 4 Jul 2022</td>\n",
       "      <td>12:50</td>\n",
       "      <td>15:00</td>\n",
       "      <td>New Delhi</td>\n",
       "      <td>Mumbai</td>\n",
       "      <td>Non Stop</td>\n",
       "      <td>2h 10m</td>\n",
       "      <td>11086</td>\n",
       "    </tr>\n",
       "    <tr>\n",
       "      <th>4</th>\n",
       "      <td>Vistara Premium Economy</td>\n",
       "      <td>UK-933</td>\n",
       "      <td>Mon, 4 Jul 2022</td>\n",
       "      <td>15:30</td>\n",
       "      <td>17:40</td>\n",
       "      <td>New Delhi</td>\n",
       "      <td>Mumbai</td>\n",
       "      <td>Non Stop</td>\n",
       "      <td>2h 10m</td>\n",
       "      <td>11086</td>\n",
       "    </tr>\n",
       "  </tbody>\n",
       "</table>\n",
       "</div>"
      ],
      "text/plain": [
       "                   Airline Aeroplane             Date Departure_Time  \\\n",
       "0  Vistara Premium Economy    UK-975  Mon, 4 Jul 2022          05:55   \n",
       "1  Vistara Premium Economy    UK-981  Mon, 4 Jul 2022          21:30   \n",
       "2  Vistara Premium Economy    UK-927  Mon, 4 Jul 2022          09:30   \n",
       "3  Vistara Premium Economy    UK-993  Mon, 4 Jul 2022          12:50   \n",
       "4  Vistara Premium Economy    UK-933  Mon, 4 Jul 2022          15:30   \n",
       "\n",
       "  Arrival_Time     Source Destination     Stops Duration  Price  \n",
       "0        07:55  New Delhi      Mumbai  Non Stop   2h 00m  10190  \n",
       "1        23:40  New Delhi      Mumbai  Non Stop   2h 10m  10190  \n",
       "2        11:35  New Delhi      Mumbai  Non Stop   2h 05m  11086  \n",
       "3        15:00  New Delhi      Mumbai  Non Stop   2h 10m  11086  \n",
       "4        17:40  New Delhi      Mumbai  Non Stop   2h 10m  11086  "
      ]
     },
     "execution_count": 31,
     "metadata": {},
     "output_type": "execute_result"
    }
   ],
   "source": [
    "Flight25=pd.DataFrame()\n",
    "Flight25[\"Airline\"]=Airlines\n",
    "Flight25[\"Aeroplane\"] =Aeroplane\n",
    "Flight25[\"Date\"]=Date\n",
    "Flight25[\"Departure_Time\"]=Dept_time\n",
    "Flight25[\"Arrival_Time\"]=Arrival_time\n",
    "Flight25[\"Source\"]=Source\n",
    "Flight25[\"Destination\"]=Destination\n",
    "Flight25[\"Stops\"]=Stops\n",
    "Flight25[\"Duration\"]=Duration\n",
    "Flight25[\"Price\"]=Price\n",
    "Flight25.head()"
   ]
  },
  {
   "cell_type": "code",
   "execution_count": 32,
   "id": "b8ccb89b-5fa6-40eb-938b-f814fe3aa2f1",
   "metadata": {},
   "outputs": [],
   "source": [
    "Flight25.to_csv('Flight_Price_dataset_25.csv')"
   ]
  },
  {
   "cell_type": "markdown",
   "id": "5427c803-9abc-4019-93ea-880fea493aef",
   "metadata": {},
   "source": [
    "- **Opening Business flights from New Dehli to Bombay on 4th July 2022**"
   ]
  },
  {
   "cell_type": "code",
   "execution_count": 33,
   "id": "a0fd8750-a59a-4806-8867-f38e93ca712f",
   "metadata": {},
   "outputs": [],
   "source": [
    "url='https://flight.yatra.com/air-search-ui/dom2/trigger?ADT=1&CHD=0&INF=0&class=Business&destination=BOM&destinationCountry=IN&flexi=0&flight_depart_date=04%2F07%2F2022&hb=0&noOfSegments=1&non_stop=1&origin=DEL&originCountry=IN&type=O&unique=65128472978&version=1.1&viewName=normal'"
   ]
  },
  {
   "cell_type": "code",
   "execution_count": 34,
   "id": "20145f8e-42e7-4479-bd94-41abf884af54",
   "metadata": {
    "tags": []
   },
   "outputs": [],
   "source": [
    "Airlines = []\n",
    "Aeroplane = []\n",
    "Dept_time = []\n",
    "Arrival_time = []\n",
    "Source = []\n",
    "Destination = []\n",
    "Duration = []\n",
    "Stops = []\n",
    "Date = []\n",
    "Price = []"
   ]
  },
  {
   "cell_type": "code",
   "execution_count": 35,
   "id": "aa475189-8d09-4bb8-866b-e001cda80a36",
   "metadata": {},
   "outputs": [
    {
     "name": "stderr",
     "output_type": "stream",
     "text": [
      "100%|██████████| 50/50 [00:18<00:00,  2.72it/s]\n"
     ]
    }
   ],
   "source": [
    "from tqdm import tqdm\n",
    "for _ in tqdm (range(0,50)):\n",
    "    time.sleep(0.1)\n",
    "    driver.execute_script(\"window.scrollBy(0,2000)\",\"\")\n",
    "    time.sleep(0.2)\n",
    "    driver.execute_script(\"window.scrollBy(0,-500)\",\"\")"
   ]
  },
  {
   "cell_type": "code",
   "execution_count": 36,
   "id": "e8f46aec-7710-4cbb-8b9d-c756b35f70e8",
   "metadata": {},
   "outputs": [
    {
     "data": {
      "text/plain": [
       "23"
      ]
     },
     "execution_count": 36,
     "metadata": {},
     "output_type": "execute_result"
    }
   ],
   "source": [
    "flights=driver.find_elements_by_xpath('//div[@class=\"flight-det table full-width clearfix\"]')\n",
    "len(flights)"
   ]
  },
  {
   "cell_type": "code",
   "execution_count": 37,
   "id": "6a575f4c-0a12-4dea-9824-296d59b47d6e",
   "metadata": {},
   "outputs": [
    {
     "name": "stderr",
     "output_type": "stream",
     "text": [
      "100%|██████████| 23/23 [00:00<00:00, 42.70it/s]\n",
      "100%|██████████| 23/23 [00:00<00:00, 39.01it/s]\n",
      "100%|██████████| 23/23 [00:00<00:00, 48.25it/s]\n",
      "100%|██████████| 23/23 [00:00<00:00, 52.42it/s]\n",
      "100%|██████████| 23/23 [00:00<00:00, 37.00it/s]\n",
      "100%|██████████| 23/23 [00:00<00:00, 45.21it/s]\n",
      "100%|██████████| 23/23 [00:00<00:00, 45.57it/s]\n",
      "100%|██████████| 23/23 [00:00<00:00, 44.95it/s]\n"
     ]
    }
   ],
   "source": [
    "# Extracting Airlines Name Via Xpath\n",
    "airlines = driver.find_elements_by_xpath(\"//div[@class='fs-13 airline-name no-pad col-8']/span\")\n",
    "for i in airlines:\n",
    "    Airlines.append(i.text.replace(\"\\n\",\" \"))\n",
    "else :\n",
    "    pass\n",
    "\n",
    "# Extracting Aeroplane model  via xpath\n",
    "aeroplanes = driver.find_elements_by_xpath('//p[@class=\"normal fs-11 font-lightestgrey no-wrap fl-no\"]/span')\n",
    "for i in tqdm(aeroplanes):\n",
    "    Aeroplane.append(i.text) \n",
    "else:\n",
    "    pass\n",
    "\n",
    "# Extracting Departure Time of Filght via Xpath\n",
    "dept_times = driver.find_elements_by_xpath('//div[@class=\"i-b pr\"]')\n",
    "for i in tqdm(dept_times):\n",
    "    Dept_time.append(i.text)\n",
    "else :\n",
    "    pass\n",
    "\n",
    "# Extracting Arrival Time via xpath\n",
    "arrival = driver.find_elements_by_xpath('//p[@class=\"bold fs-15 mb-2 pr time\"]')\n",
    "for i in tqdm(arrival):\n",
    "    Arrival_time.append(i.text)\n",
    "else :\n",
    "    pass\n",
    "\n",
    "# Extracting Source of flight via Xpath\n",
    "source = driver.find_elements_by_xpath(\"//div[@class='i-b col-4 no-wrap text-right dtime col-3']/p\")\n",
    "for i in tqdm(source):\n",
    "    Source.append(i.text)\n",
    "else :\n",
    "    pass\n",
    "\n",
    "# Extracting Destination of Flights via Xpath\n",
    "destination = driver.find_elements_by_xpath('//div[@class=\"i-b pdd-0 text-left atime col-5\"]/p[2]')\n",
    "for i in tqdm(destination):\n",
    "    Destination.append(i.text)\n",
    "else:\n",
    "    pass\n",
    "\n",
    "# Extracting Duration of Flights via Xpath\n",
    "duration = driver.find_elements_by_xpath('//div[@class=\"stop-cont pl-13\"]/p')\n",
    "for i in tqdm(duration):\n",
    "    Duration.append(i.text)\n",
    "else:\n",
    "    pass\n",
    "\n",
    "# Extracting stop details via Xpath\n",
    "stop = driver.find_elements_by_xpath(\"//div[@class='stop-cont pl-13']/div/span\")\n",
    "for i in tqdm(stop):\n",
    "    Stops.append(i.text)\n",
    "else:\n",
    "    pass\n",
    "\n",
    "# Extracting Price of Flights via Xpath\n",
    "count = 0\n",
    "price = driver.find_elements_by_xpath('//div[@class=\"i-b tipsy fare-summary-tooltip fs-18\"]')\n",
    "for i in tqdm(price):\n",
    "    Price.append(i.text.replace(',',''))\n",
    "    count = count +1\n",
    "else:\n",
    "    count = count +1\n",
    "    pass"
   ]
  },
  {
   "cell_type": "code",
   "execution_count": 38,
   "id": "17d9f6a1-93b5-4e9f-9b7d-33635c8a54b4",
   "metadata": {},
   "outputs": [
    {
     "name": "stderr",
     "output_type": "stream",
     "text": [
      "100%|██████████| 23/23 [00:00<00:00, 23056.64it/s]\n"
     ]
    }
   ],
   "source": [
    "# Clicking on Flights details element\n",
    "Button = driver.find_elements_by_xpath('//div[@class=\"link-color fs-12 cursor-pointer\"]/span')\n",
    "driver.execute_script(\"arguments[0].click();\", WebDriverWait(driver, 20).until(EC.element_to_be_clickable((By.XPATH,'//div[@class=\"link-color fs-12 cursor-pointer\"]/span'))))\n",
    "time.sleep(0.25)\n",
    "\n",
    "# Extracting Date of Flights via Xpath\n",
    "date = driver.find_element_by_xpath('//div[@class=\"bold fs-12 mb-5\"]')\n",
    "a = date.text\n",
    "for i in tqdm(range(count-1)):\n",
    "    Date.append(a)\n",
    "else:\n",
    "    pass"
   ]
  },
  {
   "cell_type": "code",
   "execution_count": 39,
   "id": "06cadea9-8cab-428a-bef9-fa483dd22a8a",
   "metadata": {},
   "outputs": [
    {
     "data": {
      "text/plain": [
       "(23, 23, 23, 23, 23, 23, 23, 23, 23, 23)"
      ]
     },
     "execution_count": 39,
     "metadata": {},
     "output_type": "execute_result"
    }
   ],
   "source": [
    "len(Aeroplane), len(Airlines), len(Dept_time), len(Arrival_time), len(Source), len(Destination), len(Duration), len(Stops),len(Price), len(Date)"
   ]
  },
  {
   "cell_type": "code",
   "execution_count": 40,
   "id": "bc343ee9-881d-49bc-9883-f7d71a3c9a6d",
   "metadata": {},
   "outputs": [
    {
     "data": {
      "text/html": [
       "<div>\n",
       "<style scoped>\n",
       "    .dataframe tbody tr th:only-of-type {\n",
       "        vertical-align: middle;\n",
       "    }\n",
       "\n",
       "    .dataframe tbody tr th {\n",
       "        vertical-align: top;\n",
       "    }\n",
       "\n",
       "    .dataframe thead th {\n",
       "        text-align: right;\n",
       "    }\n",
       "</style>\n",
       "<table border=\"1\" class=\"dataframe\">\n",
       "  <thead>\n",
       "    <tr style=\"text-align: right;\">\n",
       "      <th></th>\n",
       "      <th>Airline</th>\n",
       "      <th>Aeroplane</th>\n",
       "      <th>Date</th>\n",
       "      <th>Departure_Time</th>\n",
       "      <th>Arrival_Time</th>\n",
       "      <th>Source</th>\n",
       "      <th>Destination</th>\n",
       "      <th>Stops</th>\n",
       "      <th>Duration</th>\n",
       "      <th>Price</th>\n",
       "    </tr>\n",
       "  </thead>\n",
       "  <tbody>\n",
       "    <tr>\n",
       "      <th>0</th>\n",
       "      <td>Vistara Business</td>\n",
       "      <td>UK-975</td>\n",
       "      <td>Mon, 4 Jul 2022</td>\n",
       "      <td>05:55</td>\n",
       "      <td>07:55</td>\n",
       "      <td>New Delhi</td>\n",
       "      <td>Mumbai</td>\n",
       "      <td>Non Stop</td>\n",
       "      <td>2h 00m</td>\n",
       "      <td>22152</td>\n",
       "    </tr>\n",
       "    <tr>\n",
       "      <th>1</th>\n",
       "      <td>Vistara Business</td>\n",
       "      <td>UK-927</td>\n",
       "      <td>Mon, 4 Jul 2022</td>\n",
       "      <td>09:30</td>\n",
       "      <td>11:35</td>\n",
       "      <td>New Delhi</td>\n",
       "      <td>Mumbai</td>\n",
       "      <td>Non Stop</td>\n",
       "      <td>2h 05m</td>\n",
       "      <td>22152</td>\n",
       "    </tr>\n",
       "    <tr>\n",
       "      <th>2</th>\n",
       "      <td>Vistara Business</td>\n",
       "      <td>UK-951</td>\n",
       "      <td>Mon, 4 Jul 2022</td>\n",
       "      <td>14:20</td>\n",
       "      <td>16:30</td>\n",
       "      <td>New Delhi</td>\n",
       "      <td>Mumbai</td>\n",
       "      <td>Non Stop</td>\n",
       "      <td>2h 10m</td>\n",
       "      <td>22152</td>\n",
       "    </tr>\n",
       "    <tr>\n",
       "      <th>3</th>\n",
       "      <td>Vistara Business</td>\n",
       "      <td>UK-933</td>\n",
       "      <td>Mon, 4 Jul 2022</td>\n",
       "      <td>15:30</td>\n",
       "      <td>17:40</td>\n",
       "      <td>New Delhi</td>\n",
       "      <td>Mumbai</td>\n",
       "      <td>Non Stop</td>\n",
       "      <td>2h 10m</td>\n",
       "      <td>22152</td>\n",
       "    </tr>\n",
       "    <tr>\n",
       "      <th>4</th>\n",
       "      <td>Vistara Business</td>\n",
       "      <td>UK-985</td>\n",
       "      <td>Mon, 4 Jul 2022</td>\n",
       "      <td>19:45</td>\n",
       "      <td>21:55</td>\n",
       "      <td>New Delhi</td>\n",
       "      <td>Mumbai</td>\n",
       "      <td>Non Stop</td>\n",
       "      <td>2h 10m</td>\n",
       "      <td>22152</td>\n",
       "    </tr>\n",
       "  </tbody>\n",
       "</table>\n",
       "</div>"
      ],
      "text/plain": [
       "            Airline Aeroplane             Date Departure_Time Arrival_Time  \\\n",
       "0  Vistara Business    UK-975  Mon, 4 Jul 2022          05:55        07:55   \n",
       "1  Vistara Business    UK-927  Mon, 4 Jul 2022          09:30        11:35   \n",
       "2  Vistara Business    UK-951  Mon, 4 Jul 2022          14:20        16:30   \n",
       "3  Vistara Business    UK-933  Mon, 4 Jul 2022          15:30        17:40   \n",
       "4  Vistara Business    UK-985  Mon, 4 Jul 2022          19:45        21:55   \n",
       "\n",
       "      Source Destination     Stops Duration  Price  \n",
       "0  New Delhi      Mumbai  Non Stop   2h 00m  22152  \n",
       "1  New Delhi      Mumbai  Non Stop   2h 05m  22152  \n",
       "2  New Delhi      Mumbai  Non Stop   2h 10m  22152  \n",
       "3  New Delhi      Mumbai  Non Stop   2h 10m  22152  \n",
       "4  New Delhi      Mumbai  Non Stop   2h 10m  22152  "
      ]
     },
     "execution_count": 40,
     "metadata": {},
     "output_type": "execute_result"
    }
   ],
   "source": [
    "Flight26=pd.DataFrame()\n",
    "Flight26[\"Airline\"]=Airlines\n",
    "Flight26[\"Aeroplane\"] =Aeroplane\n",
    "Flight26[\"Date\"]=Date\n",
    "Flight26[\"Departure_Time\"]=Dept_time\n",
    "Flight26[\"Arrival_Time\"]=Arrival_time\n",
    "Flight26[\"Source\"]=Source\n",
    "Flight26[\"Destination\"]=Destination\n",
    "Flight26[\"Stops\"]=Stops\n",
    "Flight26[\"Duration\"]=Duration\n",
    "Flight26[\"Price\"]=Price\n",
    "Flight26.head()"
   ]
  },
  {
   "cell_type": "code",
   "execution_count": 41,
   "id": "9f91f41b-b0da-46c8-8c8a-bb83d52bdfac",
   "metadata": {},
   "outputs": [],
   "source": [
    "Flight26.to_csv('Flight_Price_dataset_26.csv')"
   ]
  },
  {
   "cell_type": "markdown",
   "id": "e737972a-4b6c-46c2-a255-ebed526e55f6",
   "metadata": {},
   "source": [
    "- **Opening Business flights from New Dehli to Bombay on 4th July 2022**"
   ]
  },
  {
   "cell_type": "code",
   "execution_count": 14,
   "id": "ada4e98c-f4e5-4e11-a6df-f39d54e1269b",
   "metadata": {},
   "outputs": [],
   "source": [
    "url='https://flight.yatra.com/air-search-ui/dom2/trigger?ADT=1&CHD=0&INF=0&class=Business&destination=BOM&destinationCountry=IN&flexi=0&flight_depart_date=05%2F07%2F2022&hb=0&noOfSegments=1&origin=DEL&originCountry=IN&type=O&unique=246008319670&version=1.1&viewName=normal'"
   ]
  },
  {
   "cell_type": "code",
   "execution_count": 15,
   "id": "bf22bdc0-5213-46ae-9c17-1879e91a96c4",
   "metadata": {},
   "outputs": [
    {
     "name": "stderr",
     "output_type": "stream",
     "text": [
      "100%|██████████| 50/50 [00:16<00:00,  3.02it/s]\n"
     ]
    }
   ],
   "source": [
    "from tqdm import tqdm\n",
    "for _ in tqdm (range(0,50)):\n",
    "    time.sleep(0.1)\n",
    "    driver.execute_script(\"window.scrollBy(0,2000)\",\"\")\n",
    "    time.sleep(0.2)\n",
    "    driver.execute_script(\"window.scrollBy(0,-500)\",\"\")"
   ]
  },
  {
   "cell_type": "code",
   "execution_count": 16,
   "id": "63c4b8ec-5f84-4e0d-814f-67892888606a",
   "metadata": {
    "tags": []
   },
   "outputs": [],
   "source": [
    "Airlines = []\n",
    "Aeroplane = []\n",
    "Dept_time = []\n",
    "Arrival_time = []\n",
    "Source = []\n",
    "Destination = []\n",
    "Duration = []\n",
    "Stops = []\n",
    "Date = []\n",
    "Price = []"
   ]
  },
  {
   "cell_type": "code",
   "execution_count": 18,
   "id": "c29873c7-5835-4400-b979-be0a8167fb9f",
   "metadata": {},
   "outputs": [
    {
     "data": {
      "text/plain": [
       "69"
      ]
     },
     "execution_count": 18,
     "metadata": {},
     "output_type": "execute_result"
    }
   ],
   "source": [
    "flights=driver.find_elements_by_xpath('//div[@class=\"flight-det table full-width clearfix\"]')\n",
    "len(flights)"
   ]
  },
  {
   "cell_type": "code",
   "execution_count": 19,
   "id": "6f1b0bbd-34a9-4180-94a7-0db04c525c80",
   "metadata": {},
   "outputs": [
    {
     "name": "stderr",
     "output_type": "stream",
     "text": [
      "100%|██████████| 69/69 [00:01<00:00, 44.00it/s]\n",
      "100%|██████████| 69/69 [00:01<00:00, 43.53it/s]\n",
      "100%|██████████| 69/69 [00:01<00:00, 49.46it/s]\n",
      "100%|██████████| 69/69 [00:01<00:00, 50.58it/s]\n",
      "100%|██████████| 69/69 [00:01<00:00, 61.70it/s]\n",
      "100%|██████████| 69/69 [00:01<00:00, 59.78it/s]\n",
      "100%|██████████| 69/69 [00:01<00:00, 58.12it/s]\n",
      "100%|██████████| 69/69 [00:01<00:00, 49.39it/s]\n"
     ]
    }
   ],
   "source": [
    "# Extracting Airlines Name Via Xpath\n",
    "airlines = driver.find_elements_by_xpath(\"//div[@class='fs-13 airline-name no-pad col-8']/span\")\n",
    "for i in airlines:\n",
    "    Airlines.append(i.text.replace(\"\\n\",\" \"))\n",
    "else :\n",
    "    pass\n",
    "\n",
    "# Extracting Aeroplane model  via xpath\n",
    "aeroplanes = driver.find_elements_by_xpath('//p[@class=\"normal fs-11 font-lightestgrey no-wrap fl-no\"]/span')\n",
    "for i in tqdm(aeroplanes):\n",
    "    Aeroplane.append(i.text) \n",
    "else:\n",
    "    pass\n",
    "\n",
    "# Extracting Departure Time of Filght via Xpath\n",
    "dept_times = driver.find_elements_by_xpath('//div[@class=\"i-b pr\"]')\n",
    "for i in tqdm(dept_times):\n",
    "    Dept_time.append(i.text)\n",
    "else :\n",
    "    pass\n",
    "\n",
    "# Extracting Arrival Time via xpath\n",
    "arrival = driver.find_elements_by_xpath('//p[@class=\"bold fs-15 mb-2 pr time\"]')\n",
    "for i in tqdm(arrival):\n",
    "    Arrival_time.append(i.text)\n",
    "else :\n",
    "    pass\n",
    "\n",
    "# Extracting Source of flight via Xpath\n",
    "source = driver.find_elements_by_xpath(\"//div[@class='i-b col-4 no-wrap text-right dtime col-3']/p\")\n",
    "for i in tqdm(source):\n",
    "    Source.append(i.text)\n",
    "else :\n",
    "    pass\n",
    "\n",
    "# Extracting Destination of Flights via Xpath\n",
    "destination = driver.find_elements_by_xpath('//div[@class=\"i-b pdd-0 text-left atime col-5\"]/p[2]')\n",
    "for i in tqdm(destination):\n",
    "    Destination.append(i.text)\n",
    "else:\n",
    "    pass\n",
    "\n",
    "# Extracting Duration of Flights via Xpath\n",
    "duration = driver.find_elements_by_xpath('//div[@class=\"stop-cont pl-13\"]/p')\n",
    "for i in tqdm(duration):\n",
    "    Duration.append(i.text)\n",
    "else:\n",
    "    pass\n",
    "\n",
    "# Extracting stop details via Xpath\n",
    "stop = driver.find_elements_by_xpath(\"//div[@class='stop-cont pl-13']/div/span\")\n",
    "for i in tqdm(stop):\n",
    "    Stops.append(i.text)\n",
    "else:\n",
    "    pass\n",
    "\n",
    "# Extracting Price of Flights via Xpath\n",
    "count = 0\n",
    "price = driver.find_elements_by_xpath('//div[@class=\"i-b tipsy fare-summary-tooltip fs-18\"]')\n",
    "for i in tqdm(price):\n",
    "    Price.append(i.text.replace(',',''))\n",
    "    count = count +1\n",
    "else:\n",
    "    count = count +1\n",
    "    pass"
   ]
  },
  {
   "cell_type": "code",
   "execution_count": 20,
   "id": "7eb0f98c-dd49-4a3a-8c81-53cef814007c",
   "metadata": {},
   "outputs": [
    {
     "name": "stderr",
     "output_type": "stream",
     "text": [
      "100%|██████████| 69/69 [00:00<?, ?it/s]\n"
     ]
    }
   ],
   "source": [
    "# Clicking on Flights details element\n",
    "Button = driver.find_elements_by_xpath('//div[@class=\"link-color fs-12 cursor-pointer\"]/span')\n",
    "driver.execute_script(\"arguments[0].click();\", WebDriverWait(driver, 20).until(EC.element_to_be_clickable((By.XPATH,'//div[@class=\"link-color fs-12 cursor-pointer\"]/span'))))\n",
    "time.sleep(0.25)\n",
    "\n",
    "# Extracting Date of Flights via Xpath\n",
    "date = driver.find_element_by_xpath('//div[@class=\"bold fs-12 mb-5\"]')\n",
    "a = date.text\n",
    "for i in tqdm(range(count-1)):\n",
    "    Date.append(a)\n",
    "else:\n",
    "    pass"
   ]
  },
  {
   "cell_type": "code",
   "execution_count": 21,
   "id": "f0e50c13-316a-45d1-a812-fc323f659ee9",
   "metadata": {},
   "outputs": [
    {
     "data": {
      "text/plain": [
       "(69, 69, 69, 69, 69, 69, 69, 69, 69, 69)"
      ]
     },
     "execution_count": 21,
     "metadata": {},
     "output_type": "execute_result"
    }
   ],
   "source": [
    "len(Aeroplane), len(Airlines), len(Dept_time), len(Arrival_time), len(Source), len(Destination), len(Duration), len(Stops),len(Price), len(Date)"
   ]
  },
  {
   "cell_type": "code",
   "execution_count": 22,
   "id": "9389c549-cdce-4126-8ae5-765b7d21a64e",
   "metadata": {},
   "outputs": [
    {
     "data": {
      "text/html": [
       "<div>\n",
       "<style scoped>\n",
       "    .dataframe tbody tr th:only-of-type {\n",
       "        vertical-align: middle;\n",
       "    }\n",
       "\n",
       "    .dataframe tbody tr th {\n",
       "        vertical-align: top;\n",
       "    }\n",
       "\n",
       "    .dataframe thead th {\n",
       "        text-align: right;\n",
       "    }\n",
       "</style>\n",
       "<table border=\"1\" class=\"dataframe\">\n",
       "  <thead>\n",
       "    <tr style=\"text-align: right;\">\n",
       "      <th></th>\n",
       "      <th>Airline</th>\n",
       "      <th>Aeroplane</th>\n",
       "      <th>Date</th>\n",
       "      <th>Departure_Time</th>\n",
       "      <th>Arrival_Time</th>\n",
       "      <th>Source</th>\n",
       "      <th>Destination</th>\n",
       "      <th>Stops</th>\n",
       "      <th>Duration</th>\n",
       "      <th>Price</th>\n",
       "    </tr>\n",
       "  </thead>\n",
       "  <tbody>\n",
       "    <tr>\n",
       "      <th>0</th>\n",
       "      <td>Vistara Business</td>\n",
       "      <td>UK-975</td>\n",
       "      <td>Tue, 5 Jul 2022</td>\n",
       "      <td>05:55</td>\n",
       "      <td>07:55</td>\n",
       "      <td>New Delhi</td>\n",
       "      <td>Mumbai</td>\n",
       "      <td>Non Stop</td>\n",
       "      <td>2h 00m</td>\n",
       "      <td>22152</td>\n",
       "    </tr>\n",
       "    <tr>\n",
       "      <th>1</th>\n",
       "      <td>Air India Business</td>\n",
       "      <td>AI-665</td>\n",
       "      <td>Tue, 5 Jul 2022</td>\n",
       "      <td>08:00</td>\n",
       "      <td>10:10</td>\n",
       "      <td>New Delhi</td>\n",
       "      <td>Mumbai</td>\n",
       "      <td>Non Stop</td>\n",
       "      <td>2h 10m</td>\n",
       "      <td>22152</td>\n",
       "    </tr>\n",
       "    <tr>\n",
       "      <th>2</th>\n",
       "      <td>Vistara Business</td>\n",
       "      <td>UK-993</td>\n",
       "      <td>Tue, 5 Jul 2022</td>\n",
       "      <td>12:50</td>\n",
       "      <td>15:00</td>\n",
       "      <td>New Delhi</td>\n",
       "      <td>Mumbai</td>\n",
       "      <td>Non Stop</td>\n",
       "      <td>2h 10m</td>\n",
       "      <td>22152</td>\n",
       "    </tr>\n",
       "    <tr>\n",
       "      <th>3</th>\n",
       "      <td>Vistara Business</td>\n",
       "      <td>UK-951</td>\n",
       "      <td>Tue, 5 Jul 2022</td>\n",
       "      <td>14:20</td>\n",
       "      <td>16:30</td>\n",
       "      <td>New Delhi</td>\n",
       "      <td>Mumbai</td>\n",
       "      <td>Non Stop</td>\n",
       "      <td>2h 10m</td>\n",
       "      <td>22152</td>\n",
       "    </tr>\n",
       "    <tr>\n",
       "      <th>4</th>\n",
       "      <td>Air India Business</td>\n",
       "      <td>AI-805</td>\n",
       "      <td>Tue, 5 Jul 2022</td>\n",
       "      <td>20:00</td>\n",
       "      <td>22:10</td>\n",
       "      <td>New Delhi</td>\n",
       "      <td>Mumbai</td>\n",
       "      <td>Non Stop</td>\n",
       "      <td>2h 10m</td>\n",
       "      <td>22152</td>\n",
       "    </tr>\n",
       "  </tbody>\n",
       "</table>\n",
       "</div>"
      ],
      "text/plain": [
       "              Airline Aeroplane             Date Departure_Time Arrival_Time  \\\n",
       "0    Vistara Business    UK-975  Tue, 5 Jul 2022          05:55        07:55   \n",
       "1  Air India Business    AI-665  Tue, 5 Jul 2022          08:00        10:10   \n",
       "2    Vistara Business    UK-993  Tue, 5 Jul 2022          12:50        15:00   \n",
       "3    Vistara Business    UK-951  Tue, 5 Jul 2022          14:20        16:30   \n",
       "4  Air India Business    AI-805  Tue, 5 Jul 2022          20:00        22:10   \n",
       "\n",
       "      Source Destination     Stops Duration  Price  \n",
       "0  New Delhi      Mumbai  Non Stop   2h 00m  22152  \n",
       "1  New Delhi      Mumbai  Non Stop   2h 10m  22152  \n",
       "2  New Delhi      Mumbai  Non Stop   2h 10m  22152  \n",
       "3  New Delhi      Mumbai  Non Stop   2h 10m  22152  \n",
       "4  New Delhi      Mumbai  Non Stop   2h 10m  22152  "
      ]
     },
     "execution_count": 22,
     "metadata": {},
     "output_type": "execute_result"
    }
   ],
   "source": [
    "Flight28=pd.DataFrame()\n",
    "Flight28[\"Airline\"]=Airlines\n",
    "Flight28[\"Aeroplane\"] =Aeroplane\n",
    "Flight28[\"Date\"]=Date\n",
    "Flight28[\"Departure_Time\"]=Dept_time\n",
    "Flight28[\"Arrival_Time\"]=Arrival_time\n",
    "Flight28[\"Source\"]=Source\n",
    "Flight28[\"Destination\"]=Destination\n",
    "Flight28[\"Stops\"]=Stops\n",
    "Flight28[\"Duration\"]=Duration\n",
    "Flight28[\"Price\"]=Price\n",
    "Flight28.head()"
   ]
  },
  {
   "cell_type": "code",
   "execution_count": 23,
   "id": "d108993f-e932-43ef-a742-1ba5caabeb39",
   "metadata": {
    "tags": []
   },
   "outputs": [],
   "source": [
    "Flight28.to_csv('Flight_Price_dataset_27.csv')"
   ]
  },
  {
   "cell_type": "code",
   "execution_count": 24,
   "id": "f2c35156-86a4-4623-9254-786e5fa1185d",
   "metadata": {},
   "outputs": [],
   "source": [
    "url='https://flight.yatra.com/air-search-ui/dom2/trigger?ADT=1&CHD=0&INF=0&class=Special&destination=BOM&destinationCountry=IN&flexi=0&flight_depart_date=05%2F07%2F2022&hb=0&noOfSegments=1&origin=DEL&originCountry=IN&type=O&unique=27877400111&version=1.1&viewName=normal'"
   ]
  },
  {
   "cell_type": "code",
   "execution_count": 25,
   "id": "47f47eb8-e262-4ba1-863f-9fc49ca7ef01",
   "metadata": {
    "tags": []
   },
   "outputs": [],
   "source": [
    "Airlines = []\n",
    "Aeroplane = []\n",
    "Dept_time = []\n",
    "Arrival_time = []\n",
    "Source = []\n",
    "Destination = []\n",
    "Duration = []\n",
    "Stops = []\n",
    "Date = []\n",
    "Price = []"
   ]
  },
  {
   "cell_type": "code",
   "execution_count": 26,
   "id": "d50302db-41e8-4f0b-86da-00797d867f03",
   "metadata": {},
   "outputs": [
    {
     "name": "stderr",
     "output_type": "stream",
     "text": [
      "100%|██████████| 50/50 [00:17<00:00,  2.78it/s]\n"
     ]
    }
   ],
   "source": [
    "from tqdm import tqdm\n",
    "for _ in tqdm (range(0,50)):\n",
    "    time.sleep(0.1)\n",
    "    driver.execute_script(\"window.scrollBy(0,2000)\",\"\")\n",
    "    time.sleep(0.2)\n",
    "    driver.execute_script(\"window.scrollBy(0,-500)\",\"\")"
   ]
  },
  {
   "cell_type": "code",
   "execution_count": 27,
   "id": "918bf789-3102-4bbd-9836-9a41e338dfba",
   "metadata": {},
   "outputs": [
    {
     "data": {
      "text/plain": [
       "60"
      ]
     },
     "execution_count": 27,
     "metadata": {},
     "output_type": "execute_result"
    }
   ],
   "source": [
    "flights=driver.find_elements_by_xpath('//div[@class=\"flight-det table full-width clearfix\"]')\n",
    "len(flights)"
   ]
  },
  {
   "cell_type": "code",
   "execution_count": 28,
   "id": "d417cb56-e0d7-4d3f-8f66-cafc08feb007",
   "metadata": {},
   "outputs": [
    {
     "name": "stderr",
     "output_type": "stream",
     "text": [
      "100%|██████████| 60/60 [00:01<00:00, 43.25it/s]\n",
      "100%|██████████| 60/60 [00:01<00:00, 50.75it/s]\n",
      "100%|██████████| 60/60 [00:01<00:00, 39.73it/s]\n",
      "100%|██████████| 60/60 [00:01<00:00, 49.05it/s]\n",
      "100%|██████████| 60/60 [00:01<00:00, 52.30it/s]\n",
      "100%|██████████| 60/60 [00:01<00:00, 53.99it/s]\n",
      "100%|██████████| 60/60 [00:01<00:00, 59.44it/s]\n",
      "100%|██████████| 60/60 [00:01<00:00, 54.83it/s]\n"
     ]
    }
   ],
   "source": [
    "# Extracting Airlines Name Via Xpath\n",
    "airlines = driver.find_elements_by_xpath(\"//div[@class='fs-13 airline-name no-pad col-8']/span\")\n",
    "for i in airlines:\n",
    "    Airlines.append(i.text.replace(\"\\n\",\" \"))\n",
    "else :\n",
    "    pass\n",
    "\n",
    "# Extracting Aeroplane model  via xpath\n",
    "aeroplanes = driver.find_elements_by_xpath('//p[@class=\"normal fs-11 font-lightestgrey no-wrap fl-no\"]/span')\n",
    "for i in tqdm(aeroplanes):\n",
    "    Aeroplane.append(i.text) \n",
    "else:\n",
    "    pass\n",
    "\n",
    "# Extracting Departure Time of Filght via Xpath\n",
    "dept_times = driver.find_elements_by_xpath('//div[@class=\"i-b pr\"]')\n",
    "for i in tqdm(dept_times):\n",
    "    Dept_time.append(i.text)\n",
    "else :\n",
    "    pass\n",
    "\n",
    "# Extracting Arrival Time via xpath\n",
    "arrival = driver.find_elements_by_xpath('//p[@class=\"bold fs-15 mb-2 pr time\"]')\n",
    "for i in tqdm(arrival):\n",
    "    Arrival_time.append(i.text)\n",
    "else :\n",
    "    pass\n",
    "\n",
    "# Extracting Source of flight via Xpath\n",
    "source = driver.find_elements_by_xpath(\"//div[@class='i-b col-4 no-wrap text-right dtime col-3']/p\")\n",
    "for i in tqdm(source):\n",
    "    Source.append(i.text)\n",
    "else :\n",
    "    pass\n",
    "\n",
    "# Extracting Destination of Flights via Xpath\n",
    "destination = driver.find_elements_by_xpath('//div[@class=\"i-b pdd-0 text-left atime col-5\"]/p[2]')\n",
    "for i in tqdm(destination):\n",
    "    Destination.append(i.text)\n",
    "else:\n",
    "    pass\n",
    "\n",
    "# Extracting Duration of Flights via Xpath\n",
    "duration = driver.find_elements_by_xpath('//div[@class=\"stop-cont pl-13\"]/p')\n",
    "for i in tqdm(duration):\n",
    "    Duration.append(i.text)\n",
    "else:\n",
    "    pass\n",
    "\n",
    "# Extracting stop details via Xpath\n",
    "stop = driver.find_elements_by_xpath(\"//div[@class='stop-cont pl-13']/div/span\")\n",
    "for i in tqdm(stop):\n",
    "    Stops.append(i.text)\n",
    "else:\n",
    "    pass\n",
    "\n",
    "# Extracting Price of Flights via Xpath\n",
    "count = 0\n",
    "price = driver.find_elements_by_xpath('//div[@class=\"i-b tipsy fare-summary-tooltip fs-18\"]')\n",
    "for i in tqdm(price):\n",
    "    Price.append(i.text.replace(',',''))\n",
    "    count = count +1\n",
    "else:\n",
    "    count = count +1\n",
    "    pass"
   ]
  },
  {
   "cell_type": "code",
   "execution_count": 29,
   "id": "c015cca5-1f8c-4045-b706-d7d089a56c61",
   "metadata": {},
   "outputs": [
    {
     "name": "stderr",
     "output_type": "stream",
     "text": [
      "100%|██████████| 60/60 [00:00<?, ?it/s]\n"
     ]
    }
   ],
   "source": [
    "# Clicking on Flights details element\n",
    "Button = driver.find_elements_by_xpath('//div[@class=\"link-color fs-12 cursor-pointer\"]/span')\n",
    "driver.execute_script(\"arguments[0].click();\", WebDriverWait(driver, 20).until(EC.element_to_be_clickable((By.XPATH,'//div[@class=\"link-color fs-12 cursor-pointer\"]/span'))))\n",
    "time.sleep(0.25)\n",
    "\n",
    "# Extracting Date of Flights via Xpath\n",
    "date = driver.find_element_by_xpath('//div[@class=\"bold fs-12 mb-5\"]')\n",
    "a = date.text\n",
    "for i in tqdm(range(count-1)):\n",
    "    Date.append(a)\n",
    "else:\n",
    "    pass"
   ]
  },
  {
   "cell_type": "code",
   "execution_count": 30,
   "id": "d3b45d13-9928-4536-804d-79ff13fc9614",
   "metadata": {},
   "outputs": [
    {
     "data": {
      "text/plain": [
       "(60, 60, 60, 60, 60, 60, 60, 60, 60, 60)"
      ]
     },
     "execution_count": 30,
     "metadata": {},
     "output_type": "execute_result"
    }
   ],
   "source": [
    "len(Aeroplane), len(Airlines), len(Dept_time), len(Arrival_time), len(Source), len(Destination), len(Duration), len(Stops),len(Price), len(Date)"
   ]
  },
  {
   "cell_type": "code",
   "execution_count": 31,
   "id": "2f3c0609-c487-4023-9019-5428dc58c55b",
   "metadata": {},
   "outputs": [
    {
     "data": {
      "text/html": [
       "<div>\n",
       "<style scoped>\n",
       "    .dataframe tbody tr th:only-of-type {\n",
       "        vertical-align: middle;\n",
       "    }\n",
       "\n",
       "    .dataframe tbody tr th {\n",
       "        vertical-align: top;\n",
       "    }\n",
       "\n",
       "    .dataframe thead th {\n",
       "        text-align: right;\n",
       "    }\n",
       "</style>\n",
       "<table border=\"1\" class=\"dataframe\">\n",
       "  <thead>\n",
       "    <tr style=\"text-align: right;\">\n",
       "      <th></th>\n",
       "      <th>Airline</th>\n",
       "      <th>Aeroplane</th>\n",
       "      <th>Date</th>\n",
       "      <th>Departure_Time</th>\n",
       "      <th>Arrival_Time</th>\n",
       "      <th>Source</th>\n",
       "      <th>Destination</th>\n",
       "      <th>Stops</th>\n",
       "      <th>Duration</th>\n",
       "      <th>Price</th>\n",
       "    </tr>\n",
       "  </thead>\n",
       "  <tbody>\n",
       "    <tr>\n",
       "      <th>0</th>\n",
       "      <td>Vistara Premium Economy</td>\n",
       "      <td>UK-975</td>\n",
       "      <td>Tue, 5 Jul 2022</td>\n",
       "      <td>05:55</td>\n",
       "      <td>07:55</td>\n",
       "      <td>New Delhi</td>\n",
       "      <td>Mumbai</td>\n",
       "      <td>Non Stop</td>\n",
       "      <td>2h 00m</td>\n",
       "      <td>10190</td>\n",
       "    </tr>\n",
       "    <tr>\n",
       "      <th>1</th>\n",
       "      <td>Vistara Premium Economy</td>\n",
       "      <td>UK-981</td>\n",
       "      <td>Tue, 5 Jul 2022</td>\n",
       "      <td>21:30</td>\n",
       "      <td>23:40</td>\n",
       "      <td>New Delhi</td>\n",
       "      <td>Mumbai</td>\n",
       "      <td>Non Stop</td>\n",
       "      <td>2h 10m</td>\n",
       "      <td>10190</td>\n",
       "    </tr>\n",
       "    <tr>\n",
       "      <th>2</th>\n",
       "      <td>Vistara Premium Economy</td>\n",
       "      <td>UK-929/918</td>\n",
       "      <td>Tue, 5 Jul 2022</td>\n",
       "      <td>21:20</td>\n",
       "      <td>06:15\\n+ 1 day</td>\n",
       "      <td>New Delhi</td>\n",
       "      <td>Mumbai</td>\n",
       "      <td>1 Stop</td>\n",
       "      <td>8h 55m</td>\n",
       "      <td>10336</td>\n",
       "    </tr>\n",
       "    <tr>\n",
       "      <th>3</th>\n",
       "      <td>Vistara Premium Economy</td>\n",
       "      <td>UK-929/956</td>\n",
       "      <td>Tue, 5 Jul 2022</td>\n",
       "      <td>21:20</td>\n",
       "      <td>23:05\\n+ 1 day</td>\n",
       "      <td>New Delhi</td>\n",
       "      <td>Mumbai</td>\n",
       "      <td>1 Stop</td>\n",
       "      <td>25h 45m</td>\n",
       "      <td>10336</td>\n",
       "    </tr>\n",
       "    <tr>\n",
       "      <th>4</th>\n",
       "      <td>Vistara Premium Economy</td>\n",
       "      <td>UK-927</td>\n",
       "      <td>Tue, 5 Jul 2022</td>\n",
       "      <td>09:30</td>\n",
       "      <td>11:35</td>\n",
       "      <td>New Delhi</td>\n",
       "      <td>Mumbai</td>\n",
       "      <td>Non Stop</td>\n",
       "      <td>2h 05m</td>\n",
       "      <td>11086</td>\n",
       "    </tr>\n",
       "  </tbody>\n",
       "</table>\n",
       "</div>"
      ],
      "text/plain": [
       "                   Airline   Aeroplane             Date Departure_Time  \\\n",
       "0  Vistara Premium Economy      UK-975  Tue, 5 Jul 2022          05:55   \n",
       "1  Vistara Premium Economy      UK-981  Tue, 5 Jul 2022          21:30   \n",
       "2  Vistara Premium Economy  UK-929/918  Tue, 5 Jul 2022          21:20   \n",
       "3  Vistara Premium Economy  UK-929/956  Tue, 5 Jul 2022          21:20   \n",
       "4  Vistara Premium Economy      UK-927  Tue, 5 Jul 2022          09:30   \n",
       "\n",
       "     Arrival_Time     Source Destination     Stops Duration  Price  \n",
       "0           07:55  New Delhi      Mumbai  Non Stop   2h 00m  10190  \n",
       "1           23:40  New Delhi      Mumbai  Non Stop   2h 10m  10190  \n",
       "2  06:15\\n+ 1 day  New Delhi      Mumbai    1 Stop   8h 55m  10336  \n",
       "3  23:05\\n+ 1 day  New Delhi      Mumbai    1 Stop  25h 45m  10336  \n",
       "4           11:35  New Delhi      Mumbai  Non Stop   2h 05m  11086  "
      ]
     },
     "execution_count": 31,
     "metadata": {},
     "output_type": "execute_result"
    }
   ],
   "source": [
    "Flight29=pd.DataFrame()\n",
    "Flight29[\"Airline\"]=Airlines\n",
    "Flight29[\"Aeroplane\"] =Aeroplane\n",
    "Flight29[\"Date\"]=Date\n",
    "Flight29[\"Departure_Time\"]=Dept_time\n",
    "Flight29[\"Arrival_Time\"]=Arrival_time\n",
    "Flight29[\"Source\"]=Source\n",
    "Flight29[\"Destination\"]=Destination\n",
    "Flight29[\"Stops\"]=Stops\n",
    "Flight29[\"Duration\"]=Duration\n",
    "Flight29[\"Price\"]=Price\n",
    "Flight29.head()"
   ]
  },
  {
   "cell_type": "code",
   "execution_count": 32,
   "id": "c875e162-6e2c-452f-9d83-679bfd93ebc3",
   "metadata": {
    "tags": []
   },
   "outputs": [],
   "source": [
    "Flight29.to_csv('Flight_Price_dataset_29.csv')"
   ]
  },
  {
   "cell_type": "code",
   "execution_count": null,
   "id": "4d383754-8e40-4af7-a4cc-fa89e0365ae6",
   "metadata": {},
   "outputs": [],
   "source": []
  },
  {
   "cell_type": "code",
   "execution_count": 34,
   "id": "c60e0239-4495-45ee-b89c-2fb357790699",
   "metadata": {},
   "outputs": [],
   "source": [
    "url='https://flight.yatra.com/air-search-ui/dom2/trigger?ADT=1&CHD=0&INF=0&class=Special&destination=BOM&destinationCountry=IN&flexi=0&flight_depart_date=27%2F06%2F2022&hb=0&noOfSegments=1&origin=DEL&originCountry=IN&type=O&unique=1600668706419&version=1.1&viewName=normal'"
   ]
  },
  {
   "cell_type": "code",
   "execution_count": 35,
   "id": "54f2f453-928e-4c71-b9d0-209346fb74c8",
   "metadata": {
    "tags": []
   },
   "outputs": [],
   "source": [
    "Airlines = []\n",
    "Aeroplane = []\n",
    "Dept_time = []\n",
    "Arrival_time = []\n",
    "Source = []\n",
    "Destination = []\n",
    "Duration = []\n",
    "Stops = []\n",
    "Date = []\n",
    "Price = []"
   ]
  },
  {
   "cell_type": "code",
   "execution_count": 36,
   "id": "39a359b1-0864-4583-8bbf-b3546ebb312d",
   "metadata": {},
   "outputs": [
    {
     "name": "stderr",
     "output_type": "stream",
     "text": [
      "100%|██████████| 50/50 [00:17<00:00,  2.92it/s]\n"
     ]
    }
   ],
   "source": [
    "from tqdm import tqdm\n",
    "for _ in tqdm (range(0,50)):\n",
    "    time.sleep(0.1)\n",
    "    driver.execute_script(\"window.scrollBy(0,2000)\",\"\")\n",
    "    time.sleep(0.2)\n",
    "    driver.execute_script(\"window.scrollBy(0,-500)\",\"\")"
   ]
  },
  {
   "cell_type": "code",
   "execution_count": 37,
   "id": "ce4c482d-bbd7-4035-b3a5-38eaf9815a38",
   "metadata": {},
   "outputs": [
    {
     "data": {
      "text/plain": [
       "60"
      ]
     },
     "execution_count": 37,
     "metadata": {},
     "output_type": "execute_result"
    }
   ],
   "source": [
    "flights=driver.find_elements_by_xpath('//div[@class=\"flight-det table full-width clearfix\"]')\n",
    "len(flights)"
   ]
  },
  {
   "cell_type": "code",
   "execution_count": 38,
   "id": "f5fa72e1-1b66-4b8e-9450-eb816c16de8d",
   "metadata": {},
   "outputs": [
    {
     "name": "stderr",
     "output_type": "stream",
     "text": [
      "100%|██████████| 60/60 [00:01<00:00, 52.66it/s]\n",
      "100%|██████████| 60/60 [00:01<00:00, 52.34it/s]\n",
      "100%|██████████| 60/60 [00:01<00:00, 33.06it/s]\n",
      "100%|██████████| 60/60 [00:01<00:00, 47.12it/s]\n",
      "100%|██████████| 60/60 [00:01<00:00, 50.66it/s]\n",
      "100%|██████████| 60/60 [00:01<00:00, 52.62it/s]\n",
      "100%|██████████| 60/60 [00:01<00:00, 58.74it/s]\n",
      "100%|██████████| 60/60 [00:01<00:00, 54.88it/s]\n"
     ]
    }
   ],
   "source": [
    "# Extracting Airlines Name Via Xpath\n",
    "airlines = driver.find_elements_by_xpath(\"//div[@class='fs-13 airline-name no-pad col-8']/span\")\n",
    "for i in airlines:\n",
    "    Airlines.append(i.text.replace(\"\\n\",\" \"))\n",
    "else :\n",
    "    pass\n",
    "\n",
    "# Extracting Aeroplane model  via xpath\n",
    "aeroplanes = driver.find_elements_by_xpath('//p[@class=\"normal fs-11 font-lightestgrey no-wrap fl-no\"]/span')\n",
    "for i in tqdm(aeroplanes):\n",
    "    Aeroplane.append(i.text) \n",
    "else:\n",
    "    pass\n",
    "\n",
    "# Extracting Departure Time of Filght via Xpath\n",
    "dept_times = driver.find_elements_by_xpath('//div[@class=\"i-b pr\"]')\n",
    "for i in tqdm(dept_times):\n",
    "    Dept_time.append(i.text)\n",
    "else :\n",
    "    pass\n",
    "\n",
    "# Extracting Arrival Time via xpath\n",
    "arrival = driver.find_elements_by_xpath('//p[@class=\"bold fs-15 mb-2 pr time\"]')\n",
    "for i in tqdm(arrival):\n",
    "    Arrival_time.append(i.text)\n",
    "else :\n",
    "    pass\n",
    "\n",
    "# Extracting Source of flight via Xpath\n",
    "source = driver.find_elements_by_xpath(\"//div[@class='i-b col-4 no-wrap text-right dtime col-3']/p\")\n",
    "for i in tqdm(source):\n",
    "    Source.append(i.text)\n",
    "else :\n",
    "    pass\n",
    "\n",
    "# Extracting Destination of Flights via Xpath\n",
    "destination = driver.find_elements_by_xpath('//div[@class=\"i-b pdd-0 text-left atime col-5\"]/p[2]')\n",
    "for i in tqdm(destination):\n",
    "    Destination.append(i.text)\n",
    "else:\n",
    "    pass\n",
    "\n",
    "# Extracting Duration of Flights via Xpath\n",
    "duration = driver.find_elements_by_xpath('//div[@class=\"stop-cont pl-13\"]/p')\n",
    "for i in tqdm(duration):\n",
    "    Duration.append(i.text)\n",
    "else:\n",
    "    pass\n",
    "\n",
    "# Extracting stop details via Xpath\n",
    "stop = driver.find_elements_by_xpath(\"//div[@class='stop-cont pl-13']/div/span\")\n",
    "for i in tqdm(stop):\n",
    "    Stops.append(i.text)\n",
    "else:\n",
    "    pass\n",
    "\n",
    "# Extracting Price of Flights via Xpath\n",
    "count = 0\n",
    "price = driver.find_elements_by_xpath('//div[@class=\"i-b tipsy fare-summary-tooltip fs-18\"]')\n",
    "for i in tqdm(price):\n",
    "    Price.append(i.text.replace(',',''))\n",
    "    count = count +1\n",
    "else:\n",
    "    count = count +1\n",
    "    pass"
   ]
  },
  {
   "cell_type": "code",
   "execution_count": 39,
   "id": "650eefaf-91fc-497a-acc0-6715cda4018d",
   "metadata": {},
   "outputs": [
    {
     "name": "stderr",
     "output_type": "stream",
     "text": [
      "100%|██████████| 60/60 [00:00<?, ?it/s]\n"
     ]
    }
   ],
   "source": [
    "# Clicking on Flights details element\n",
    "Button = driver.find_elements_by_xpath('//div[@class=\"link-color fs-12 cursor-pointer\"]/span')\n",
    "driver.execute_script(\"arguments[0].click();\", WebDriverWait(driver, 20).until(EC.element_to_be_clickable((By.XPATH,'//div[@class=\"link-color fs-12 cursor-pointer\"]/span'))))\n",
    "time.sleep(0.25)\n",
    "\n",
    "# Extracting Date of Flights via Xpath\n",
    "date = driver.find_element_by_xpath('//div[@class=\"bold fs-12 mb-5\"]')\n",
    "a = date.text\n",
    "for i in tqdm(range(count-1)):\n",
    "    Date.append(a)\n",
    "else:\n",
    "    pass"
   ]
  },
  {
   "cell_type": "code",
   "execution_count": 40,
   "id": "26de6516-8b39-47e9-a45d-021bbd6f16d4",
   "metadata": {},
   "outputs": [
    {
     "data": {
      "text/plain": [
       "(60, 60, 60, 60, 60, 60, 60, 60, 60, 60)"
      ]
     },
     "execution_count": 40,
     "metadata": {},
     "output_type": "execute_result"
    }
   ],
   "source": [
    "len(Aeroplane), len(Airlines), len(Dept_time), len(Arrival_time), len(Source), len(Destination), len(Duration), len(Stops),len(Price), len(Date)"
   ]
  },
  {
   "cell_type": "code",
   "execution_count": 41,
   "id": "eaa9c186-9d32-4588-a7e5-8311233d91a9",
   "metadata": {},
   "outputs": [
    {
     "data": {
      "text/html": [
       "<div>\n",
       "<style scoped>\n",
       "    .dataframe tbody tr th:only-of-type {\n",
       "        vertical-align: middle;\n",
       "    }\n",
       "\n",
       "    .dataframe tbody tr th {\n",
       "        vertical-align: top;\n",
       "    }\n",
       "\n",
       "    .dataframe thead th {\n",
       "        text-align: right;\n",
       "    }\n",
       "</style>\n",
       "<table border=\"1\" class=\"dataframe\">\n",
       "  <thead>\n",
       "    <tr style=\"text-align: right;\">\n",
       "      <th></th>\n",
       "      <th>Airline</th>\n",
       "      <th>Aeroplane</th>\n",
       "      <th>Date</th>\n",
       "      <th>Departure_Time</th>\n",
       "      <th>Arrival_Time</th>\n",
       "      <th>Source</th>\n",
       "      <th>Destination</th>\n",
       "      <th>Stops</th>\n",
       "      <th>Duration</th>\n",
       "      <th>Price</th>\n",
       "    </tr>\n",
       "  </thead>\n",
       "  <tbody>\n",
       "    <tr>\n",
       "      <th>0</th>\n",
       "      <td>Vistara Premium Economy</td>\n",
       "      <td>UK-929/918</td>\n",
       "      <td>Mon, 27 Jun 2022</td>\n",
       "      <td>21:20</td>\n",
       "      <td>06:15\\n+ 1 day</td>\n",
       "      <td>New Delhi</td>\n",
       "      <td>Mumbai</td>\n",
       "      <td>1 Stop</td>\n",
       "      <td>8h 55m</td>\n",
       "      <td>10336</td>\n",
       "    </tr>\n",
       "    <tr>\n",
       "      <th>1</th>\n",
       "      <td>Vistara Premium Economy</td>\n",
       "      <td>UK-929/936</td>\n",
       "      <td>Mon, 27 Jun 2022</td>\n",
       "      <td>21:20</td>\n",
       "      <td>09:40\\n+ 1 day</td>\n",
       "      <td>New Delhi</td>\n",
       "      <td>Mumbai</td>\n",
       "      <td>1 Stop</td>\n",
       "      <td>12h 20m</td>\n",
       "      <td>10336</td>\n",
       "    </tr>\n",
       "    <tr>\n",
       "      <th>2</th>\n",
       "      <td>Vistara Premium Economy</td>\n",
       "      <td>UK-929/956</td>\n",
       "      <td>Mon, 27 Jun 2022</td>\n",
       "      <td>21:20</td>\n",
       "      <td>23:05\\n+ 1 day</td>\n",
       "      <td>New Delhi</td>\n",
       "      <td>Mumbai</td>\n",
       "      <td>1 Stop</td>\n",
       "      <td>25h 45m</td>\n",
       "      <td>10336</td>\n",
       "    </tr>\n",
       "    <tr>\n",
       "      <th>3</th>\n",
       "      <td>Vistara Premium Economy</td>\n",
       "      <td>UK-927</td>\n",
       "      <td>Mon, 27 Jun 2022</td>\n",
       "      <td>09:30</td>\n",
       "      <td>11:35</td>\n",
       "      <td>New Delhi</td>\n",
       "      <td>Mumbai</td>\n",
       "      <td>Non Stop</td>\n",
       "      <td>2h 05m</td>\n",
       "      <td>11086</td>\n",
       "    </tr>\n",
       "    <tr>\n",
       "      <th>4</th>\n",
       "      <td>Vistara Premium Economy</td>\n",
       "      <td>UK-933</td>\n",
       "      <td>Mon, 27 Jun 2022</td>\n",
       "      <td>15:30</td>\n",
       "      <td>17:40</td>\n",
       "      <td>New Delhi</td>\n",
       "      <td>Mumbai</td>\n",
       "      <td>Non Stop</td>\n",
       "      <td>2h 10m</td>\n",
       "      <td>11086</td>\n",
       "    </tr>\n",
       "  </tbody>\n",
       "</table>\n",
       "</div>"
      ],
      "text/plain": [
       "                   Airline   Aeroplane              Date Departure_Time  \\\n",
       "0  Vistara Premium Economy  UK-929/918  Mon, 27 Jun 2022          21:20   \n",
       "1  Vistara Premium Economy  UK-929/936  Mon, 27 Jun 2022          21:20   \n",
       "2  Vistara Premium Economy  UK-929/956  Mon, 27 Jun 2022          21:20   \n",
       "3  Vistara Premium Economy      UK-927  Mon, 27 Jun 2022          09:30   \n",
       "4  Vistara Premium Economy      UK-933  Mon, 27 Jun 2022          15:30   \n",
       "\n",
       "     Arrival_Time     Source Destination     Stops Duration  Price  \n",
       "0  06:15\\n+ 1 day  New Delhi      Mumbai    1 Stop   8h 55m  10336  \n",
       "1  09:40\\n+ 1 day  New Delhi      Mumbai    1 Stop  12h 20m  10336  \n",
       "2  23:05\\n+ 1 day  New Delhi      Mumbai    1 Stop  25h 45m  10336  \n",
       "3           11:35  New Delhi      Mumbai  Non Stop   2h 05m  11086  \n",
       "4           17:40  New Delhi      Mumbai  Non Stop   2h 10m  11086  "
      ]
     },
     "execution_count": 41,
     "metadata": {},
     "output_type": "execute_result"
    }
   ],
   "source": [
    "Flight30=pd.DataFrame()\n",
    "Flight30[\"Airline\"]=Airlines\n",
    "Flight30[\"Aeroplane\"] =Aeroplane\n",
    "Flight30[\"Date\"]=Date\n",
    "Flight30[\"Departure_Time\"]=Dept_time\n",
    "Flight30[\"Arrival_Time\"]=Arrival_time\n",
    "Flight30[\"Source\"]=Source\n",
    "Flight30[\"Destination\"]=Destination\n",
    "Flight30[\"Stops\"]=Stops\n",
    "Flight30[\"Duration\"]=Duration\n",
    "Flight30[\"Price\"]=Price\n",
    "Flight30.head()"
   ]
  },
  {
   "cell_type": "code",
   "execution_count": 43,
   "id": "c1a451ee-ab5d-4fcd-b8fc-7be1a4029e69",
   "metadata": {
    "tags": []
   },
   "outputs": [],
   "source": [
    "Flight30.to_csv('Flight_Price_dataset_30.csv')"
   ]
  },
  {
   "cell_type": "markdown",
   "id": "f3407573-0936-4ef8-8547-fdc0d2edece0",
   "metadata": {},
   "source": [
    "- **Opening Premium Economy flights from New Dehli to Bombay on 26th June 2022**"
   ]
  },
  {
   "cell_type": "code",
   "execution_count": 54,
   "id": "a47d446f-cb9e-4542-994c-c6c6fad6bd72",
   "metadata": {},
   "outputs": [],
   "source": [
    "url='https://flight.yatra.com/air-search-ui/dom2/trigger?ADT=1&CHD=0&INF=0&class=Special&destination=BOM&destinationCountry=IN&flexi=0&flight_depart_date=26%2F06%2F2022&hb=0&noOfSegments=1&origin=DEL&originCountry=IN&type=O&unique=176295879651&version=1.1&viewName=normal'"
   ]
  },
  {
   "cell_type": "code",
   "execution_count": 55,
   "id": "f952211a-19ff-41d3-a6c8-4c11a5893198",
   "metadata": {
    "tags": []
   },
   "outputs": [],
   "source": [
    "Airlines = []\n",
    "Aeroplane = []\n",
    "Dept_time = []\n",
    "Arrival_time = []\n",
    "Source = []\n",
    "Destination = []\n",
    "Duration = []\n",
    "Stops = []\n",
    "Date = []\n",
    "Price = []"
   ]
  },
  {
   "cell_type": "code",
   "execution_count": 56,
   "id": "6d864e6d-adbb-4a8a-aa7c-371e5bb36af5",
   "metadata": {},
   "outputs": [
    {
     "name": "stderr",
     "output_type": "stream",
     "text": [
      "100%|██████████| 50/50 [00:16<00:00,  2.98it/s]\n"
     ]
    }
   ],
   "source": [
    "from tqdm import tqdm\n",
    "for _ in tqdm (range(0,50)):\n",
    "    time.sleep(0.1)\n",
    "    driver.execute_script(\"window.scrollBy(0,2000)\",\"\")\n",
    "    time.sleep(0.2)\n",
    "    driver.execute_script(\"window.scrollBy(0,-500)\",\"\")"
   ]
  },
  {
   "cell_type": "code",
   "execution_count": 57,
   "id": "c11e3d5c-817c-473e-b726-ca53f492149f",
   "metadata": {},
   "outputs": [
    {
     "data": {
      "text/plain": [
       "60"
      ]
     },
     "execution_count": 57,
     "metadata": {},
     "output_type": "execute_result"
    }
   ],
   "source": [
    "flights=driver.find_elements_by_xpath('//div[@class=\"flight-det table full-width clearfix\"]')\n",
    "len(flights)"
   ]
  },
  {
   "cell_type": "code",
   "execution_count": 58,
   "id": "6b0e5b1b-e489-4685-b781-4ef1ac390b02",
   "metadata": {},
   "outputs": [
    {
     "name": "stderr",
     "output_type": "stream",
     "text": [
      "100%|██████████| 60/60 [00:01<00:00, 54.19it/s]\n",
      "100%|██████████| 60/60 [00:01<00:00, 51.89it/s]\n",
      "100%|██████████| 60/60 [00:01<00:00, 50.45it/s]\n",
      "100%|██████████| 60/60 [00:01<00:00, 53.70it/s]\n",
      "100%|██████████| 60/60 [00:01<00:00, 51.36it/s]\n",
      "100%|██████████| 60/60 [00:01<00:00, 52.25it/s]\n",
      "100%|██████████| 60/60 [00:01<00:00, 55.03it/s]\n",
      "100%|██████████| 60/60 [00:01<00:00, 51.31it/s]\n"
     ]
    }
   ],
   "source": [
    "# Extracting Airlines Name Via Xpath\n",
    "airlines = driver.find_elements_by_xpath(\"//div[@class='fs-13 airline-name no-pad col-8']/span\")\n",
    "for i in airlines:\n",
    "    Airlines.append(i.text.replace(\"\\n\",\" \"))\n",
    "else :\n",
    "    pass\n",
    "\n",
    "# Extracting Aeroplane model  via xpath\n",
    "aeroplanes = driver.find_elements_by_xpath('//p[@class=\"normal fs-11 font-lightestgrey no-wrap fl-no\"]/span')\n",
    "for i in tqdm(aeroplanes):\n",
    "    Aeroplane.append(i.text) \n",
    "else:\n",
    "    pass\n",
    "\n",
    "# Extracting Departure Time of Filght via Xpath\n",
    "dept_times = driver.find_elements_by_xpath('//div[@class=\"i-b pr\"]')\n",
    "for i in tqdm(dept_times):\n",
    "    Dept_time.append(i.text)\n",
    "else :\n",
    "    pass\n",
    "\n",
    "# Extracting Arrival Time via xpath\n",
    "arrival = driver.find_elements_by_xpath('//p[@class=\"bold fs-15 mb-2 pr time\"]')\n",
    "for i in tqdm(arrival):\n",
    "    Arrival_time.append(i.text)\n",
    "else :\n",
    "    pass\n",
    "\n",
    "# Extracting Source of flight via Xpath\n",
    "source = driver.find_elements_by_xpath(\"//div[@class='i-b col-4 no-wrap text-right dtime col-3']/p\")\n",
    "for i in tqdm(source):\n",
    "    Source.append(i.text)\n",
    "else :\n",
    "    pass\n",
    "\n",
    "# Extracting Destination of Flights via Xpath\n",
    "destination = driver.find_elements_by_xpath('//div[@class=\"i-b pdd-0 text-left atime col-5\"]/p[2]')\n",
    "for i in tqdm(destination):\n",
    "    Destination.append(i.text)\n",
    "else:\n",
    "    pass\n",
    "\n",
    "# Extracting Duration of Flights via Xpath\n",
    "duration = driver.find_elements_by_xpath('//div[@class=\"stop-cont pl-13\"]/p')\n",
    "for i in tqdm(duration):\n",
    "    Duration.append(i.text)\n",
    "else:\n",
    "    pass\n",
    "\n",
    "# Extracting stop details via Xpath\n",
    "stop = driver.find_elements_by_xpath(\"//div[@class='stop-cont pl-13']/div/span\")\n",
    "for i in tqdm(stop):\n",
    "    Stops.append(i.text)\n",
    "else:\n",
    "    pass\n",
    "\n",
    "# Extracting Price of Flights via Xpath\n",
    "count = 0\n",
    "price = driver.find_elements_by_xpath('//div[@class=\"i-b tipsy fare-summary-tooltip fs-18\"]')\n",
    "for i in tqdm(price):\n",
    "    Price.append(i.text.replace(',',''))\n",
    "    count = count +1\n",
    "else:\n",
    "    count = count +1\n",
    "    pass"
   ]
  },
  {
   "cell_type": "code",
   "execution_count": 59,
   "id": "5926caef-298f-4a29-95ee-2eeb23ca16b1",
   "metadata": {},
   "outputs": [
    {
     "name": "stderr",
     "output_type": "stream",
     "text": [
      "100%|██████████| 60/60 [00:00<?, ?it/s]\n"
     ]
    }
   ],
   "source": [
    "# Clicking on Flights details element\n",
    "Button = driver.find_elements_by_xpath('//div[@class=\"link-color fs-12 cursor-pointer\"]/span')\n",
    "driver.execute_script(\"arguments[0].click();\", WebDriverWait(driver, 20).until(EC.element_to_be_clickable((By.XPATH,'//div[@class=\"link-color fs-12 cursor-pointer\"]/span'))))\n",
    "time.sleep(0.25)\n",
    "\n",
    "# Extracting Date of Flights via Xpath\n",
    "date = driver.find_element_by_xpath('//div[@class=\"bold fs-12 mb-5\"]')\n",
    "a = date.text\n",
    "for i in tqdm(range(count-1)):\n",
    "    Date.append(a)\n",
    "else:\n",
    "    pass"
   ]
  },
  {
   "cell_type": "code",
   "execution_count": 60,
   "id": "a195a9fb-5161-4051-b476-55a148ae691c",
   "metadata": {},
   "outputs": [
    {
     "data": {
      "text/plain": [
       "(60, 60, 60, 60, 60, 60, 60, 60, 60, 60)"
      ]
     },
     "execution_count": 60,
     "metadata": {},
     "output_type": "execute_result"
    }
   ],
   "source": [
    "len(Aeroplane), len(Airlines), len(Dept_time), len(Arrival_time), len(Source), len(Destination), len(Duration), len(Stops),len(Price), len(Date)"
   ]
  },
  {
   "cell_type": "code",
   "execution_count": 61,
   "id": "e41aa0b2-46af-4ad6-be48-da8f76130462",
   "metadata": {},
   "outputs": [
    {
     "data": {
      "text/html": [
       "<div>\n",
       "<style scoped>\n",
       "    .dataframe tbody tr th:only-of-type {\n",
       "        vertical-align: middle;\n",
       "    }\n",
       "\n",
       "    .dataframe tbody tr th {\n",
       "        vertical-align: top;\n",
       "    }\n",
       "\n",
       "    .dataframe thead th {\n",
       "        text-align: right;\n",
       "    }\n",
       "</style>\n",
       "<table border=\"1\" class=\"dataframe\">\n",
       "  <thead>\n",
       "    <tr style=\"text-align: right;\">\n",
       "      <th></th>\n",
       "      <th>Airline</th>\n",
       "      <th>Aeroplane</th>\n",
       "      <th>Date</th>\n",
       "      <th>Departure_Time</th>\n",
       "      <th>Arrival_Time</th>\n",
       "      <th>Source</th>\n",
       "      <th>Destination</th>\n",
       "      <th>Stops</th>\n",
       "      <th>Duration</th>\n",
       "      <th>Price</th>\n",
       "    </tr>\n",
       "  </thead>\n",
       "  <tbody>\n",
       "    <tr>\n",
       "      <th>0</th>\n",
       "      <td>Vistara Premium Economy</td>\n",
       "      <td>UK-959/956</td>\n",
       "      <td>Sun, 26 Jun 2022</td>\n",
       "      <td>06:30</td>\n",
       "      <td>23:05</td>\n",
       "      <td>New Delhi</td>\n",
       "      <td>Mumbai</td>\n",
       "      <td>1 Stop</td>\n",
       "      <td>16h 35m</td>\n",
       "      <td>10336</td>\n",
       "    </tr>\n",
       "    <tr>\n",
       "      <th>1</th>\n",
       "      <td>Vistara Premium Economy</td>\n",
       "      <td>UK-959/918</td>\n",
       "      <td>Sun, 26 Jun 2022</td>\n",
       "      <td>06:30</td>\n",
       "      <td>06:15\\n+ 1 day</td>\n",
       "      <td>New Delhi</td>\n",
       "      <td>Mumbai</td>\n",
       "      <td>1 Stop</td>\n",
       "      <td>23h 45m</td>\n",
       "      <td>10336</td>\n",
       "    </tr>\n",
       "    <tr>\n",
       "      <th>2</th>\n",
       "      <td>Vistara Premium Economy</td>\n",
       "      <td>UK-933</td>\n",
       "      <td>Sun, 26 Jun 2022</td>\n",
       "      <td>15:30</td>\n",
       "      <td>17:40</td>\n",
       "      <td>New Delhi</td>\n",
       "      <td>Mumbai</td>\n",
       "      <td>Non Stop</td>\n",
       "      <td>2h 10m</td>\n",
       "      <td>11086</td>\n",
       "    </tr>\n",
       "    <tr>\n",
       "      <th>3</th>\n",
       "      <td>Vistara Premium Economy</td>\n",
       "      <td>UK-941</td>\n",
       "      <td>Sun, 26 Jun 2022</td>\n",
       "      <td>16:55</td>\n",
       "      <td>19:05</td>\n",
       "      <td>New Delhi</td>\n",
       "      <td>Mumbai</td>\n",
       "      <td>Non Stop</td>\n",
       "      <td>2h 10m</td>\n",
       "      <td>11086</td>\n",
       "    </tr>\n",
       "    <tr>\n",
       "      <th>4</th>\n",
       "      <td>Vistara Premium Economy</td>\n",
       "      <td>UK-943</td>\n",
       "      <td>Sun, 26 Jun 2022</td>\n",
       "      <td>07:30</td>\n",
       "      <td>09:45</td>\n",
       "      <td>New Delhi</td>\n",
       "      <td>Mumbai</td>\n",
       "      <td>Non Stop</td>\n",
       "      <td>2h 15m</td>\n",
       "      <td>11086</td>\n",
       "    </tr>\n",
       "  </tbody>\n",
       "</table>\n",
       "</div>"
      ],
      "text/plain": [
       "                   Airline   Aeroplane              Date Departure_Time  \\\n",
       "0  Vistara Premium Economy  UK-959/956  Sun, 26 Jun 2022          06:30   \n",
       "1  Vistara Premium Economy  UK-959/918  Sun, 26 Jun 2022          06:30   \n",
       "2  Vistara Premium Economy      UK-933  Sun, 26 Jun 2022          15:30   \n",
       "3  Vistara Premium Economy      UK-941  Sun, 26 Jun 2022          16:55   \n",
       "4  Vistara Premium Economy      UK-943  Sun, 26 Jun 2022          07:30   \n",
       "\n",
       "     Arrival_Time     Source Destination     Stops Duration  Price  \n",
       "0           23:05  New Delhi      Mumbai    1 Stop  16h 35m  10336  \n",
       "1  06:15\\n+ 1 day  New Delhi      Mumbai    1 Stop  23h 45m  10336  \n",
       "2           17:40  New Delhi      Mumbai  Non Stop   2h 10m  11086  \n",
       "3           19:05  New Delhi      Mumbai  Non Stop   2h 10m  11086  \n",
       "4           09:45  New Delhi      Mumbai  Non Stop   2h 15m  11086  "
      ]
     },
     "execution_count": 61,
     "metadata": {},
     "output_type": "execute_result"
    }
   ],
   "source": [
    "Flight31=pd.DataFrame()\n",
    "Flight31[\"Airline\"]=Airlines\n",
    "Flight31[\"Aeroplane\"] =Aeroplane\n",
    "Flight31[\"Date\"]=Date\n",
    "Flight31[\"Departure_Time\"]=Dept_time\n",
    "Flight31[\"Arrival_Time\"]=Arrival_time\n",
    "Flight31[\"Source\"]=Source\n",
    "Flight31[\"Destination\"]=Destination\n",
    "Flight31[\"Stops\"]=Stops\n",
    "Flight31[\"Duration\"]=Duration\n",
    "Flight31[\"Price\"]=Price\n",
    "Flight31.head()"
   ]
  },
  {
   "cell_type": "code",
   "execution_count": 62,
   "id": "6d3f1faa-b280-432a-8694-c2113efedc26",
   "metadata": {
    "tags": []
   },
   "outputs": [],
   "source": [
    "Flight31.to_csv('Flight_Price_dataset_31.csv')"
   ]
  },
  {
   "cell_type": "markdown",
   "id": "0eda9c8a-6441-4c0d-999a-3411a9621830",
   "metadata": {},
   "source": [
    "## Premium Economy flights from Delhi to Mumbai for 28th June 2022"
   ]
  },
  {
   "cell_type": "code",
   "execution_count": 63,
   "id": "0674f7e7-91c0-4d1e-b919-41b0c6d33487",
   "metadata": {},
   "outputs": [],
   "source": [
    "url='https://flight.yatra.com/air-search-ui/dom2/trigger?ADT=1&CHD=0&INF=0&class=Special&destination=BOM&destinationCountry=IN&flexi=0&flight_depart_date=28%2F06%2F2022&hb=0&noOfSegments=1&origin=DEL&originCountry=IN&type=O&unique=1294836542502&version=1.1&viewName=normal'"
   ]
  },
  {
   "cell_type": "code",
   "execution_count": 64,
   "id": "e6cd8d5d-0d48-4c6c-a6d9-e46534ad8a58",
   "metadata": {
    "tags": []
   },
   "outputs": [],
   "source": [
    "Airlines = []\n",
    "Aeroplane = []\n",
    "Dept_time = []\n",
    "Arrival_time = []\n",
    "Source = []\n",
    "Destination = []\n",
    "Duration = []\n",
    "Stops = []\n",
    "Date = []\n",
    "Price = []"
   ]
  },
  {
   "cell_type": "code",
   "execution_count": 65,
   "id": "8c722081-224b-4884-9370-259ac7d28eb3",
   "metadata": {},
   "outputs": [
    {
     "name": "stderr",
     "output_type": "stream",
     "text": [
      "100%|██████████| 50/50 [00:17<00:00,  2.86it/s]\n"
     ]
    }
   ],
   "source": [
    "from tqdm import tqdm\n",
    "for _ in tqdm (range(0,50)):\n",
    "    time.sleep(0.1)\n",
    "    driver.execute_script(\"window.scrollBy(0,2000)\",\"\")\n",
    "    time.sleep(0.2)\n",
    "    driver.execute_script(\"window.scrollBy(0,-500)\",\"\")"
   ]
  },
  {
   "cell_type": "code",
   "execution_count": 66,
   "id": "9c9f7460-c9cd-4569-aff5-c7de9c8a4516",
   "metadata": {},
   "outputs": [
    {
     "data": {
      "text/plain": [
       "60"
      ]
     },
     "execution_count": 66,
     "metadata": {},
     "output_type": "execute_result"
    }
   ],
   "source": [
    "flights=driver.find_elements_by_xpath('//div[@class=\"flight-det table full-width clearfix\"]')\n",
    "len(flights)"
   ]
  },
  {
   "cell_type": "code",
   "execution_count": 67,
   "id": "eac3aac5-6128-4a40-931d-741b625f3de7",
   "metadata": {},
   "outputs": [
    {
     "name": "stderr",
     "output_type": "stream",
     "text": [
      "100%|██████████| 60/60 [00:00<00:00, 60.95it/s]\n",
      "100%|██████████| 60/60 [00:01<00:00, 54.83it/s]\n",
      "100%|██████████| 60/60 [00:01<00:00, 34.62it/s]\n",
      "100%|██████████| 60/60 [00:01<00:00, 37.38it/s]\n",
      "100%|██████████| 60/60 [00:01<00:00, 53.84it/s]\n",
      "100%|██████████| 60/60 [00:00<00:00, 60.10it/s]\n",
      "100%|██████████| 60/60 [00:01<00:00, 59.68it/s]\n",
      "100%|██████████| 60/60 [00:01<00:00, 56.53it/s]\n"
     ]
    }
   ],
   "source": [
    "# Extracting Airlines Name Via Xpath\n",
    "airlines = driver.find_elements_by_xpath(\"//div[@class='fs-13 airline-name no-pad col-8']/span\")\n",
    "for i in airlines:\n",
    "    Airlines.append(i.text.replace(\"\\n\",\" \"))\n",
    "else :\n",
    "    pass\n",
    "\n",
    "# Extracting Aeroplane model  via xpath\n",
    "aeroplanes = driver.find_elements_by_xpath('//p[@class=\"normal fs-11 font-lightestgrey no-wrap fl-no\"]/span')\n",
    "for i in tqdm(aeroplanes):\n",
    "    Aeroplane.append(i.text) \n",
    "else:\n",
    "    pass\n",
    "\n",
    "# Extracting Departure Time of Filght via Xpath\n",
    "dept_times = driver.find_elements_by_xpath('//div[@class=\"i-b pr\"]')\n",
    "for i in tqdm(dept_times):\n",
    "    Dept_time.append(i.text)\n",
    "else :\n",
    "    pass\n",
    "\n",
    "# Extracting Arrival Time via xpath\n",
    "arrival = driver.find_elements_by_xpath('//p[@class=\"bold fs-15 mb-2 pr time\"]')\n",
    "for i in tqdm(arrival):\n",
    "    Arrival_time.append(i.text)\n",
    "else :\n",
    "    pass\n",
    "\n",
    "# Extracting Source of flight via Xpath\n",
    "source = driver.find_elements_by_xpath(\"//div[@class='i-b col-4 no-wrap text-right dtime col-3']/p\")\n",
    "for i in tqdm(source):\n",
    "    Source.append(i.text)\n",
    "else :\n",
    "    pass\n",
    "\n",
    "# Extracting Destination of Flights via Xpath\n",
    "destination = driver.find_elements_by_xpath('//div[@class=\"i-b pdd-0 text-left atime col-5\"]/p[2]')\n",
    "for i in tqdm(destination):\n",
    "    Destination.append(i.text)\n",
    "else:\n",
    "    pass\n",
    "\n",
    "# Extracting Duration of Flights via Xpath\n",
    "duration = driver.find_elements_by_xpath('//div[@class=\"stop-cont pl-13\"]/p')\n",
    "for i in tqdm(duration):\n",
    "    Duration.append(i.text)\n",
    "else:\n",
    "    pass\n",
    "\n",
    "# Extracting stop details via Xpath\n",
    "stop = driver.find_elements_by_xpath(\"//div[@class='stop-cont pl-13']/div/span\")\n",
    "for i in tqdm(stop):\n",
    "    Stops.append(i.text)\n",
    "else:\n",
    "    pass\n",
    "\n",
    "# Extracting Price of Flights via Xpath\n",
    "count = 0\n",
    "price = driver.find_elements_by_xpath('//div[@class=\"i-b tipsy fare-summary-tooltip fs-18\"]')\n",
    "for i in tqdm(price):\n",
    "    Price.append(i.text.replace(',',''))\n",
    "    count = count +1\n",
    "else:\n",
    "    count = count +1\n",
    "    pass"
   ]
  },
  {
   "cell_type": "code",
   "execution_count": 68,
   "id": "6e345303-190f-4b97-aa86-a20c7bc9ef48",
   "metadata": {
    "tags": []
   },
   "outputs": [
    {
     "name": "stderr",
     "output_type": "stream",
     "text": [
      "100%|██████████| 60/60 [00:00<?, ?it/s]\n"
     ]
    }
   ],
   "source": [
    "# Clicking on Flights details element\n",
    "Button = driver.find_elements_by_xpath('//div[@class=\"link-color fs-12 cursor-pointer\"]/span')\n",
    "driver.execute_script(\"arguments[0].click();\", WebDriverWait(driver, 20).until(EC.element_to_be_clickable((By.XPATH,'//div[@class=\"link-color fs-12 cursor-pointer\"]/span'))))\n",
    "time.sleep(0.25)\n",
    "\n",
    "# Extracting Date of Flights via Xpath\n",
    "date = driver.find_element_by_xpath('//div[@class=\"bold fs-12 mb-5\"]')\n",
    "a = date.text\n",
    "for i in tqdm(range(count-1)):\n",
    "    Date.append(a)\n",
    "else:\n",
    "    pass"
   ]
  },
  {
   "cell_type": "code",
   "execution_count": 69,
   "id": "f17ce22f-7a27-435e-aabf-71f523c29713",
   "metadata": {},
   "outputs": [
    {
     "data": {
      "text/plain": [
       "(60, 60, 60, 60, 60, 60, 60, 60, 60, 60)"
      ]
     },
     "execution_count": 69,
     "metadata": {},
     "output_type": "execute_result"
    }
   ],
   "source": [
    "len(Aeroplane), len(Airlines), len(Dept_time), len(Arrival_time), len(Source), len(Destination), len(Duration), len(Stops),len(Price), len(Date)"
   ]
  },
  {
   "cell_type": "code",
   "execution_count": 70,
   "id": "78997fd7-e1a3-4d6c-8b0b-e7658c26a18e",
   "metadata": {},
   "outputs": [
    {
     "data": {
      "text/html": [
       "<div>\n",
       "<style scoped>\n",
       "    .dataframe tbody tr th:only-of-type {\n",
       "        vertical-align: middle;\n",
       "    }\n",
       "\n",
       "    .dataframe tbody tr th {\n",
       "        vertical-align: top;\n",
       "    }\n",
       "\n",
       "    .dataframe thead th {\n",
       "        text-align: right;\n",
       "    }\n",
       "</style>\n",
       "<table border=\"1\" class=\"dataframe\">\n",
       "  <thead>\n",
       "    <tr style=\"text-align: right;\">\n",
       "      <th></th>\n",
       "      <th>Airline</th>\n",
       "      <th>Aeroplane</th>\n",
       "      <th>Date</th>\n",
       "      <th>Departure_Time</th>\n",
       "      <th>Arrival_Time</th>\n",
       "      <th>Source</th>\n",
       "      <th>Destination</th>\n",
       "      <th>Stops</th>\n",
       "      <th>Duration</th>\n",
       "      <th>Price</th>\n",
       "    </tr>\n",
       "  </thead>\n",
       "  <tbody>\n",
       "    <tr>\n",
       "      <th>0</th>\n",
       "      <td>Vistara Premium Economy</td>\n",
       "      <td>UK-975</td>\n",
       "      <td>Tue, 28 Jun 2022</td>\n",
       "      <td>05:55</td>\n",
       "      <td>07:55</td>\n",
       "      <td>New Delhi</td>\n",
       "      <td>Mumbai</td>\n",
       "      <td>Non Stop</td>\n",
       "      <td>2h 00m</td>\n",
       "      <td>10190</td>\n",
       "    </tr>\n",
       "    <tr>\n",
       "      <th>1</th>\n",
       "      <td>Vistara Premium Economy</td>\n",
       "      <td>UK-929/918</td>\n",
       "      <td>Tue, 28 Jun 2022</td>\n",
       "      <td>21:20</td>\n",
       "      <td>06:15\\n+ 1 day</td>\n",
       "      <td>New Delhi</td>\n",
       "      <td>Mumbai</td>\n",
       "      <td>1 Stop</td>\n",
       "      <td>8h 55m</td>\n",
       "      <td>10336</td>\n",
       "    </tr>\n",
       "    <tr>\n",
       "      <th>2</th>\n",
       "      <td>Vistara Premium Economy</td>\n",
       "      <td>UK-929/936</td>\n",
       "      <td>Tue, 28 Jun 2022</td>\n",
       "      <td>21:20</td>\n",
       "      <td>09:40\\n+ 1 day</td>\n",
       "      <td>New Delhi</td>\n",
       "      <td>Mumbai</td>\n",
       "      <td>1 Stop</td>\n",
       "      <td>12h 20m</td>\n",
       "      <td>10336</td>\n",
       "    </tr>\n",
       "    <tr>\n",
       "      <th>3</th>\n",
       "      <td>Vistara Premium Economy</td>\n",
       "      <td>UK-959/956</td>\n",
       "      <td>Tue, 28 Jun 2022</td>\n",
       "      <td>06:30</td>\n",
       "      <td>23:05</td>\n",
       "      <td>New Delhi</td>\n",
       "      <td>Mumbai</td>\n",
       "      <td>1 Stop</td>\n",
       "      <td>16h 35m</td>\n",
       "      <td>10336</td>\n",
       "    </tr>\n",
       "    <tr>\n",
       "      <th>4</th>\n",
       "      <td>Vistara Premium Economy</td>\n",
       "      <td>UK-959/918</td>\n",
       "      <td>Tue, 28 Jun 2022</td>\n",
       "      <td>06:30</td>\n",
       "      <td>06:15\\n+ 1 day</td>\n",
       "      <td>New Delhi</td>\n",
       "      <td>Mumbai</td>\n",
       "      <td>1 Stop</td>\n",
       "      <td>23h 45m</td>\n",
       "      <td>10336</td>\n",
       "    </tr>\n",
       "  </tbody>\n",
       "</table>\n",
       "</div>"
      ],
      "text/plain": [
       "                   Airline   Aeroplane              Date Departure_Time  \\\n",
       "0  Vistara Premium Economy      UK-975  Tue, 28 Jun 2022          05:55   \n",
       "1  Vistara Premium Economy  UK-929/918  Tue, 28 Jun 2022          21:20   \n",
       "2  Vistara Premium Economy  UK-929/936  Tue, 28 Jun 2022          21:20   \n",
       "3  Vistara Premium Economy  UK-959/956  Tue, 28 Jun 2022          06:30   \n",
       "4  Vistara Premium Economy  UK-959/918  Tue, 28 Jun 2022          06:30   \n",
       "\n",
       "     Arrival_Time     Source Destination     Stops Duration  Price  \n",
       "0           07:55  New Delhi      Mumbai  Non Stop   2h 00m  10190  \n",
       "1  06:15\\n+ 1 day  New Delhi      Mumbai    1 Stop   8h 55m  10336  \n",
       "2  09:40\\n+ 1 day  New Delhi      Mumbai    1 Stop  12h 20m  10336  \n",
       "3           23:05  New Delhi      Mumbai    1 Stop  16h 35m  10336  \n",
       "4  06:15\\n+ 1 day  New Delhi      Mumbai    1 Stop  23h 45m  10336  "
      ]
     },
     "execution_count": 70,
     "metadata": {},
     "output_type": "execute_result"
    }
   ],
   "source": [
    "Flight32=pd.DataFrame()\n",
    "Flight32[\"Airline\"]=Airlines\n",
    "Flight32[\"Aeroplane\"] =Aeroplane\n",
    "Flight32[\"Date\"]=Date\n",
    "Flight32[\"Departure_Time\"]=Dept_time\n",
    "Flight32[\"Arrival_Time\"]=Arrival_time\n",
    "Flight32[\"Source\"]=Source\n",
    "Flight32[\"Destination\"]=Destination\n",
    "Flight32[\"Stops\"]=Stops\n",
    "Flight32[\"Duration\"]=Duration\n",
    "Flight32[\"Price\"]=Price\n",
    "Flight32.head()"
   ]
  },
  {
   "cell_type": "code",
   "execution_count": 71,
   "id": "30afaa2f-985c-462e-a05b-8a9b2751715a",
   "metadata": {
    "tags": []
   },
   "outputs": [],
   "source": [
    "Flight32.to_csv('Flight_Price_dataset_32.csv')"
   ]
  },
  {
   "cell_type": "markdown",
   "id": "c268fbf6-959f-43da-adf7-b2611a700e11",
   "metadata": {},
   "source": [
    "#### Premium Economy flights from delhi Mumbai for 5th July 2022"
   ]
  },
  {
   "cell_type": "code",
   "execution_count": 72,
   "id": "e8f8dbaf-48b8-41c5-8348-5bfa54067559",
   "metadata": {},
   "outputs": [],
   "source": [
    "url='https://flight.yatra.com/air-search-ui/dom2/trigger?ADT=1&CHD=0&INF=0&class=Special&destination=BOM&destinationCountry=IN&flexi=0&flight_depart_date=05%2F07%2F2022&hb=0&noOfSegments=1&origin=DEL&originCountry=IN&type=O&unique=870975956989&version=1.1&viewName=normal'"
   ]
  },
  {
   "cell_type": "code",
   "execution_count": 73,
   "id": "0d0913d3-adc8-4ce5-8f2c-3ee0505d43b0",
   "metadata": {
    "tags": []
   },
   "outputs": [],
   "source": [
    "Airlines = []\n",
    "Aeroplane = []\n",
    "Dept_time = []\n",
    "Arrival_time = []\n",
    "Source = []\n",
    "Destination = []\n",
    "Duration = []\n",
    "Stops = []\n",
    "Date = []\n",
    "Price = []"
   ]
  },
  {
   "cell_type": "code",
   "execution_count": 74,
   "id": "ebf25ff2-93f1-42b0-b19d-b3cb13cc3410",
   "metadata": {},
   "outputs": [
    {
     "name": "stderr",
     "output_type": "stream",
     "text": [
      "100%|██████████| 50/50 [00:16<00:00,  3.00it/s]\n"
     ]
    }
   ],
   "source": [
    "from tqdm import tqdm\n",
    "for _ in tqdm (range(0,50)):\n",
    "    time.sleep(0.1)\n",
    "    driver.execute_script(\"window.scrollBy(0,2000)\",\"\")\n",
    "    time.sleep(0.2)\n",
    "    driver.execute_script(\"window.scrollBy(0,-500)\",\"\")"
   ]
  },
  {
   "cell_type": "code",
   "execution_count": 75,
   "id": "ae637ec5-a180-4d0f-aaae-db483ffe902b",
   "metadata": {},
   "outputs": [
    {
     "data": {
      "text/plain": [
       "60"
      ]
     },
     "execution_count": 75,
     "metadata": {},
     "output_type": "execute_result"
    }
   ],
   "source": [
    "flights=driver.find_elements_by_xpath('//div[@class=\"flight-det table full-width clearfix\"]')\n",
    "len(flights)"
   ]
  },
  {
   "cell_type": "code",
   "execution_count": 76,
   "id": "2bad1cea-c1f0-4b9a-95a4-0d7d40b69aff",
   "metadata": {},
   "outputs": [
    {
     "name": "stderr",
     "output_type": "stream",
     "text": [
      "100%|██████████| 60/60 [00:01<00:00, 51.58it/s]\n",
      "100%|██████████| 60/60 [00:01<00:00, 37.36it/s]\n",
      "100%|██████████| 60/60 [00:01<00:00, 45.14it/s]\n",
      "100%|██████████| 60/60 [00:01<00:00, 51.71it/s]\n",
      "100%|██████████| 60/60 [00:01<00:00, 54.83it/s]\n",
      "100%|██████████| 60/60 [00:01<00:00, 57.62it/s]\n",
      "100%|██████████| 60/60 [00:01<00:00, 55.80it/s]\n",
      "100%|██████████| 60/60 [00:01<00:00, 48.50it/s]\n"
     ]
    }
   ],
   "source": [
    "# Extracting Airlines Name Via Xpath\n",
    "airlines = driver.find_elements_by_xpath(\"//div[@class='fs-13 airline-name no-pad col-8']/span\")\n",
    "for i in airlines:\n",
    "    Airlines.append(i.text.replace(\"\\n\",\" \"))\n",
    "else :\n",
    "    pass\n",
    "\n",
    "# Extracting Aeroplane model  via xpath\n",
    "aeroplanes = driver.find_elements_by_xpath('//p[@class=\"normal fs-11 font-lightestgrey no-wrap fl-no\"]/span')\n",
    "for i in tqdm(aeroplanes):\n",
    "    Aeroplane.append(i.text) \n",
    "else:\n",
    "    pass\n",
    "\n",
    "# Extracting Departure Time of Filght via Xpath\n",
    "dept_times = driver.find_elements_by_xpath('//div[@class=\"i-b pr\"]')\n",
    "for i in tqdm(dept_times):\n",
    "    Dept_time.append(i.text)\n",
    "else :\n",
    "    pass\n",
    "\n",
    "# Extracting Arrival Time via xpath\n",
    "arrival = driver.find_elements_by_xpath('//p[@class=\"bold fs-15 mb-2 pr time\"]')\n",
    "for i in tqdm(arrival):\n",
    "    Arrival_time.append(i.text)\n",
    "else :\n",
    "    pass\n",
    "\n",
    "# Extracting Source of flight via Xpath\n",
    "source = driver.find_elements_by_xpath(\"//div[@class='i-b col-4 no-wrap text-right dtime col-3']/p\")\n",
    "for i in tqdm(source):\n",
    "    Source.append(i.text)\n",
    "else :\n",
    "    pass\n",
    "\n",
    "# Extracting Destination of Flights via Xpath\n",
    "destination = driver.find_elements_by_xpath('//div[@class=\"i-b pdd-0 text-left atime col-5\"]/p[2]')\n",
    "for i in tqdm(destination):\n",
    "    Destination.append(i.text)\n",
    "else:\n",
    "    pass\n",
    "\n",
    "# Extracting Duration of Flights via Xpath\n",
    "duration = driver.find_elements_by_xpath('//div[@class=\"stop-cont pl-13\"]/p')\n",
    "for i in tqdm(duration):\n",
    "    Duration.append(i.text)\n",
    "else:\n",
    "    pass\n",
    "\n",
    "# Extracting stop details via Xpath\n",
    "stop = driver.find_elements_by_xpath(\"//div[@class='stop-cont pl-13']/div/span\")\n",
    "for i in tqdm(stop):\n",
    "    Stops.append(i.text)\n",
    "else:\n",
    "    pass\n",
    "\n",
    "# Extracting Price of Flights via Xpath\n",
    "count = 0\n",
    "price = driver.find_elements_by_xpath('//div[@class=\"i-b tipsy fare-summary-tooltip fs-18\"]')\n",
    "for i in tqdm(price):\n",
    "    Price.append(i.text.replace(',',''))\n",
    "    count = count +1\n",
    "else:\n",
    "    count = count +1\n",
    "    pass"
   ]
  },
  {
   "cell_type": "code",
   "execution_count": 77,
   "id": "3deb9519-6d3e-401e-8538-ab35ab1c7ec6",
   "metadata": {},
   "outputs": [
    {
     "name": "stderr",
     "output_type": "stream",
     "text": [
      "100%|██████████| 60/60 [00:00<?, ?it/s]\n"
     ]
    }
   ],
   "source": [
    "# Clicking on Flights details element\n",
    "Button = driver.find_elements_by_xpath('//div[@class=\"link-color fs-12 cursor-pointer\"]/span')\n",
    "driver.execute_script(\"arguments[0].click();\", WebDriverWait(driver, 20).until(EC.element_to_be_clickable((By.XPATH,'//div[@class=\"link-color fs-12 cursor-pointer\"]/span'))))\n",
    "time.sleep(0.25)\n",
    "\n",
    "# Extracting Date of Flights via Xpath\n",
    "date = driver.find_element_by_xpath('//div[@class=\"bold fs-12 mb-5\"]')\n",
    "a = date.text\n",
    "for i in tqdm(range(count-1)):\n",
    "    Date.append(a)\n",
    "else:\n",
    "    pass"
   ]
  },
  {
   "cell_type": "code",
   "execution_count": 78,
   "id": "310a5023-2f73-4026-ab70-175dad2879a9",
   "metadata": {},
   "outputs": [
    {
     "data": {
      "text/plain": [
       "(60, 60, 60, 60, 60, 60, 60, 60, 60, 60)"
      ]
     },
     "execution_count": 78,
     "metadata": {},
     "output_type": "execute_result"
    }
   ],
   "source": [
    "len(Aeroplane), len(Airlines), len(Dept_time), len(Arrival_time), len(Source), len(Destination), len(Duration), len(Stops),len(Price), len(Date)"
   ]
  },
  {
   "cell_type": "code",
   "execution_count": 79,
   "id": "4c011fa9-55d1-41ad-b21b-dbe4d71d8af0",
   "metadata": {},
   "outputs": [
    {
     "data": {
      "text/html": [
       "<div>\n",
       "<style scoped>\n",
       "    .dataframe tbody tr th:only-of-type {\n",
       "        vertical-align: middle;\n",
       "    }\n",
       "\n",
       "    .dataframe tbody tr th {\n",
       "        vertical-align: top;\n",
       "    }\n",
       "\n",
       "    .dataframe thead th {\n",
       "        text-align: right;\n",
       "    }\n",
       "</style>\n",
       "<table border=\"1\" class=\"dataframe\">\n",
       "  <thead>\n",
       "    <tr style=\"text-align: right;\">\n",
       "      <th></th>\n",
       "      <th>Airline</th>\n",
       "      <th>Aeroplane</th>\n",
       "      <th>Date</th>\n",
       "      <th>Departure_Time</th>\n",
       "      <th>Arrival_Time</th>\n",
       "      <th>Source</th>\n",
       "      <th>Destination</th>\n",
       "      <th>Stops</th>\n",
       "      <th>Duration</th>\n",
       "      <th>Price</th>\n",
       "    </tr>\n",
       "  </thead>\n",
       "  <tbody>\n",
       "    <tr>\n",
       "      <th>0</th>\n",
       "      <td>Vistara Premium Economy</td>\n",
       "      <td>UK-975</td>\n",
       "      <td>Tue, 5 Jul 2022</td>\n",
       "      <td>05:55</td>\n",
       "      <td>07:55</td>\n",
       "      <td>New Delhi</td>\n",
       "      <td>Mumbai</td>\n",
       "      <td>Non Stop</td>\n",
       "      <td>2h 00m</td>\n",
       "      <td>10190</td>\n",
       "    </tr>\n",
       "    <tr>\n",
       "      <th>1</th>\n",
       "      <td>Vistara Premium Economy</td>\n",
       "      <td>UK-981</td>\n",
       "      <td>Tue, 5 Jul 2022</td>\n",
       "      <td>21:30</td>\n",
       "      <td>23:40</td>\n",
       "      <td>New Delhi</td>\n",
       "      <td>Mumbai</td>\n",
       "      <td>Non Stop</td>\n",
       "      <td>2h 10m</td>\n",
       "      <td>10190</td>\n",
       "    </tr>\n",
       "    <tr>\n",
       "      <th>2</th>\n",
       "      <td>Vistara Premium Economy</td>\n",
       "      <td>UK-929/918</td>\n",
       "      <td>Tue, 5 Jul 2022</td>\n",
       "      <td>21:20</td>\n",
       "      <td>06:15\\n+ 1 day</td>\n",
       "      <td>New Delhi</td>\n",
       "      <td>Mumbai</td>\n",
       "      <td>1 Stop</td>\n",
       "      <td>8h 55m</td>\n",
       "      <td>10336</td>\n",
       "    </tr>\n",
       "    <tr>\n",
       "      <th>3</th>\n",
       "      <td>Vistara Premium Economy</td>\n",
       "      <td>UK-929/956</td>\n",
       "      <td>Tue, 5 Jul 2022</td>\n",
       "      <td>21:20</td>\n",
       "      <td>23:05\\n+ 1 day</td>\n",
       "      <td>New Delhi</td>\n",
       "      <td>Mumbai</td>\n",
       "      <td>1 Stop</td>\n",
       "      <td>25h 45m</td>\n",
       "      <td>10336</td>\n",
       "    </tr>\n",
       "    <tr>\n",
       "      <th>4</th>\n",
       "      <td>Vistara Premium Economy</td>\n",
       "      <td>UK-927</td>\n",
       "      <td>Tue, 5 Jul 2022</td>\n",
       "      <td>09:30</td>\n",
       "      <td>11:35</td>\n",
       "      <td>New Delhi</td>\n",
       "      <td>Mumbai</td>\n",
       "      <td>Non Stop</td>\n",
       "      <td>2h 05m</td>\n",
       "      <td>11086</td>\n",
       "    </tr>\n",
       "  </tbody>\n",
       "</table>\n",
       "</div>"
      ],
      "text/plain": [
       "                   Airline   Aeroplane             Date Departure_Time  \\\n",
       "0  Vistara Premium Economy      UK-975  Tue, 5 Jul 2022          05:55   \n",
       "1  Vistara Premium Economy      UK-981  Tue, 5 Jul 2022          21:30   \n",
       "2  Vistara Premium Economy  UK-929/918  Tue, 5 Jul 2022          21:20   \n",
       "3  Vistara Premium Economy  UK-929/956  Tue, 5 Jul 2022          21:20   \n",
       "4  Vistara Premium Economy      UK-927  Tue, 5 Jul 2022          09:30   \n",
       "\n",
       "     Arrival_Time     Source Destination     Stops Duration  Price  \n",
       "0           07:55  New Delhi      Mumbai  Non Stop   2h 00m  10190  \n",
       "1           23:40  New Delhi      Mumbai  Non Stop   2h 10m  10190  \n",
       "2  06:15\\n+ 1 day  New Delhi      Mumbai    1 Stop   8h 55m  10336  \n",
       "3  23:05\\n+ 1 day  New Delhi      Mumbai    1 Stop  25h 45m  10336  \n",
       "4           11:35  New Delhi      Mumbai  Non Stop   2h 05m  11086  "
      ]
     },
     "execution_count": 79,
     "metadata": {},
     "output_type": "execute_result"
    }
   ],
   "source": [
    "Flight33=pd.DataFrame()\n",
    "Flight33[\"Airline\"]=Airlines\n",
    "Flight33[\"Aeroplane\"] =Aeroplane\n",
    "Flight33[\"Date\"]=Date\n",
    "Flight33[\"Departure_Time\"]=Dept_time\n",
    "Flight33[\"Arrival_Time\"]=Arrival_time\n",
    "Flight33[\"Source\"]=Source\n",
    "Flight33[\"Destination\"]=Destination\n",
    "Flight33[\"Stops\"]=Stops\n",
    "Flight33[\"Duration\"]=Duration\n",
    "Flight33[\"Price\"]=Price\n",
    "Flight33.head()"
   ]
  },
  {
   "cell_type": "code",
   "execution_count": 80,
   "id": "bf404748-6ef7-4b52-910d-afc218ac7be2",
   "metadata": {
    "tags": []
   },
   "outputs": [],
   "source": [
    "Flight33.to_csv('Flight_Price_dataset_33.csv')"
   ]
  },
  {
   "cell_type": "markdown",
   "id": "65172328-9be2-4d49-bf54-253629fa1629",
   "metadata": {},
   "source": [
    "- **Opening Economy flights from New Dehli to Bombay on 30th June 2022**"
   ]
  },
  {
   "cell_type": "code",
   "execution_count": 81,
   "id": "1be52f60-31c3-4bc7-8baa-15c0e78b9847",
   "metadata": {},
   "outputs": [],
   "source": [
    "url='https://flight.yatra.com/air-search-ui/dom2/trigger?ADT=1&CHD=0&INF=0&class=Economy&destination=BOM&destinationCountry=IN&flexi=0&flight_depart_date=30%2F06%2F2022&hb=0&noOfSegments=1&origin=DEL&originCountry=IN&type=O&unique=372366092677&version=1.1&viewName=normal'"
   ]
  },
  {
   "cell_type": "code",
   "execution_count": 82,
   "id": "fed4e887-4169-4a2a-a502-112b1347d784",
   "metadata": {
    "tags": []
   },
   "outputs": [],
   "source": [
    "Airlines = []\n",
    "Aeroplane = []\n",
    "Dept_time = []\n",
    "Arrival_time = []\n",
    "Source = []\n",
    "Destination = []\n",
    "Duration = []\n",
    "Stops = []\n",
    "Date = []\n",
    "Price = []"
   ]
  },
  {
   "cell_type": "code",
   "execution_count": 83,
   "id": "0a2cea5a-8a9c-4b86-a4dd-8ae819252134",
   "metadata": {},
   "outputs": [
    {
     "name": "stderr",
     "output_type": "stream",
     "text": [
      "100%|██████████| 50/50 [00:17<00:00,  2.92it/s]\n"
     ]
    }
   ],
   "source": [
    "from tqdm import tqdm\n",
    "for _ in tqdm (range(0,50)):\n",
    "    time.sleep(0.1)\n",
    "    driver.execute_script(\"window.scrollBy(0,2000)\",\"\")\n",
    "    time.sleep(0.2)\n",
    "    driver.execute_script(\"window.scrollBy(0,-500)\",\"\")"
   ]
  },
  {
   "cell_type": "code",
   "execution_count": 84,
   "id": "4913c1fe-4b80-4ed5-9433-edcddb1251b0",
   "metadata": {},
   "outputs": [
    {
     "data": {
      "text/plain": [
       "163"
      ]
     },
     "execution_count": 84,
     "metadata": {},
     "output_type": "execute_result"
    }
   ],
   "source": [
    "flights=driver.find_elements_by_xpath('//div[@class=\"flight-det table full-width clearfix\"]')\n",
    "len(flights)"
   ]
  },
  {
   "cell_type": "code",
   "execution_count": 85,
   "id": "cb3c8c0f-547e-4513-afde-ab2ede0e1541",
   "metadata": {},
   "outputs": [
    {
     "name": "stderr",
     "output_type": "stream",
     "text": [
      "100%|██████████| 163/163 [00:03<00:00, 42.67it/s]\n",
      "100%|██████████| 163/163 [00:02<00:00, 58.25it/s]\n",
      "100%|██████████| 163/163 [00:02<00:00, 58.19it/s]\n",
      "100%|██████████| 163/163 [00:03<00:00, 48.34it/s]\n",
      "100%|██████████| 163/163 [00:03<00:00, 44.39it/s]\n",
      "100%|██████████| 163/163 [00:03<00:00, 49.47it/s]\n",
      "100%|██████████| 163/163 [00:02<00:00, 58.82it/s]\n",
      "100%|██████████| 163/163 [00:03<00:00, 51.32it/s]\n"
     ]
    }
   ],
   "source": [
    "# Extracting Airlines Name Via Xpath\n",
    "airlines = driver.find_elements_by_xpath(\"//div[@class='fs-13 airline-name no-pad col-8']/span\")\n",
    "for i in airlines:\n",
    "    Airlines.append(i.text.replace(\"\\n\",\" \"))\n",
    "else :\n",
    "    pass\n",
    "\n",
    "# Extracting Aeroplane model  via xpath\n",
    "aeroplanes = driver.find_elements_by_xpath('//p[@class=\"normal fs-11 font-lightestgrey no-wrap fl-no\"]/span')\n",
    "for i in tqdm(aeroplanes):\n",
    "    Aeroplane.append(i.text) \n",
    "else:\n",
    "    pass\n",
    "\n",
    "# Extracting Departure Time of Filght via Xpath\n",
    "dept_times = driver.find_elements_by_xpath('//div[@class=\"i-b pr\"]')\n",
    "for i in tqdm(dept_times):\n",
    "    Dept_time.append(i.text)\n",
    "else :\n",
    "    pass\n",
    "\n",
    "# Extracting Arrival Time via xpath\n",
    "arrival = driver.find_elements_by_xpath('//p[@class=\"bold fs-15 mb-2 pr time\"]')\n",
    "for i in tqdm(arrival):\n",
    "    Arrival_time.append(i.text)\n",
    "else :\n",
    "    pass\n",
    "\n",
    "# Extracting Source of flight via Xpath\n",
    "source = driver.find_elements_by_xpath(\"//div[@class='i-b col-4 no-wrap text-right dtime col-3']/p\")\n",
    "for i in tqdm(source):\n",
    "    Source.append(i.text)\n",
    "else :\n",
    "    pass\n",
    "\n",
    "# Extracting Destination of Flights via Xpath\n",
    "destination = driver.find_elements_by_xpath('//div[@class=\"i-b pdd-0 text-left atime col-5\"]/p[2]')\n",
    "for i in tqdm(destination):\n",
    "    Destination.append(i.text)\n",
    "else:\n",
    "    pass\n",
    "\n",
    "# Extracting Duration of Flights via Xpath\n",
    "duration = driver.find_elements_by_xpath('//div[@class=\"stop-cont pl-13\"]/p')\n",
    "for i in tqdm(duration):\n",
    "    Duration.append(i.text)\n",
    "else:\n",
    "    pass\n",
    "\n",
    "# Extracting stop details via Xpath\n",
    "stop = driver.find_elements_by_xpath(\"//div[@class='stop-cont pl-13']/div/span\")\n",
    "for i in tqdm(stop):\n",
    "    Stops.append(i.text)\n",
    "else:\n",
    "    pass\n",
    "\n",
    "# Extracting Price of Flights via Xpath\n",
    "count = 0\n",
    "price = driver.find_elements_by_xpath('//div[@class=\"i-b tipsy fare-summary-tooltip fs-18\"]')\n",
    "for i in tqdm(price):\n",
    "    Price.append(i.text.replace(',',''))\n",
    "    count = count +1\n",
    "else:\n",
    "    count = count +1\n",
    "    pass"
   ]
  },
  {
   "cell_type": "code",
   "execution_count": 86,
   "id": "f6c03d14-6023-4e06-887e-53310b87fc94",
   "metadata": {},
   "outputs": [
    {
     "name": "stderr",
     "output_type": "stream",
     "text": [
      "100%|██████████| 163/163 [00:00<?, ?it/s]\n"
     ]
    }
   ],
   "source": [
    "# Clicking on Flights details element\n",
    "Button = driver.find_elements_by_xpath('//div[@class=\"link-color fs-12 cursor-pointer\"]/span')\n",
    "driver.execute_script(\"arguments[0].click();\", WebDriverWait(driver, 20).until(EC.element_to_be_clickable((By.XPATH,'//div[@class=\"link-color fs-12 cursor-pointer\"]/span'))))\n",
    "time.sleep(0.25)\n",
    "\n",
    "# Extracting Date of Flights via Xpath\n",
    "date = driver.find_element_by_xpath('//div[@class=\"bold fs-12 mb-5\"]')\n",
    "a = date.text\n",
    "for i in tqdm(range(count-1)):\n",
    "    Date.append(a)\n",
    "else:\n",
    "    pass"
   ]
  },
  {
   "cell_type": "code",
   "execution_count": 87,
   "id": "bd06a851-4272-44f1-b345-abfb7fdcbb1a",
   "metadata": {},
   "outputs": [
    {
     "data": {
      "text/plain": [
       "(163, 163, 163, 163, 163, 163, 163, 163, 163, 163)"
      ]
     },
     "execution_count": 87,
     "metadata": {},
     "output_type": "execute_result"
    }
   ],
   "source": [
    "len(Aeroplane), len(Airlines), len(Dept_time), len(Arrival_time), len(Source), len(Destination), len(Duration), len(Stops),len(Price), len(Date)"
   ]
  },
  {
   "cell_type": "code",
   "execution_count": 88,
   "id": "db3082bc-df8b-4637-832c-97c2b43a5f67",
   "metadata": {},
   "outputs": [
    {
     "data": {
      "text/html": [
       "<div>\n",
       "<style scoped>\n",
       "    .dataframe tbody tr th:only-of-type {\n",
       "        vertical-align: middle;\n",
       "    }\n",
       "\n",
       "    .dataframe tbody tr th {\n",
       "        vertical-align: top;\n",
       "    }\n",
       "\n",
       "    .dataframe thead th {\n",
       "        text-align: right;\n",
       "    }\n",
       "</style>\n",
       "<table border=\"1\" class=\"dataframe\">\n",
       "  <thead>\n",
       "    <tr style=\"text-align: right;\">\n",
       "      <th></th>\n",
       "      <th>Airline</th>\n",
       "      <th>Aeroplane</th>\n",
       "      <th>Date</th>\n",
       "      <th>Departure_Time</th>\n",
       "      <th>Arrival_Time</th>\n",
       "      <th>Source</th>\n",
       "      <th>Destination</th>\n",
       "      <th>Stops</th>\n",
       "      <th>Duration</th>\n",
       "      <th>Price</th>\n",
       "    </tr>\n",
       "  </thead>\n",
       "  <tbody>\n",
       "    <tr>\n",
       "      <th>0</th>\n",
       "      <td>Go First</td>\n",
       "      <td>G8-2501</td>\n",
       "      <td>Thu, 30 Jun 2022</td>\n",
       "      <td>02:40</td>\n",
       "      <td>04:50</td>\n",
       "      <td>New Delhi</td>\n",
       "      <td>Mumbai</td>\n",
       "      <td>Non Stop</td>\n",
       "      <td>2h 10m</td>\n",
       "      <td>8576</td>\n",
       "    </tr>\n",
       "    <tr>\n",
       "      <th>1</th>\n",
       "      <td>Go First</td>\n",
       "      <td>G8-336</td>\n",
       "      <td>Thu, 30 Jun 2022</td>\n",
       "      <td>14:00</td>\n",
       "      <td>16:10</td>\n",
       "      <td>New Delhi</td>\n",
       "      <td>Mumbai</td>\n",
       "      <td>Non Stop</td>\n",
       "      <td>2h 10m</td>\n",
       "      <td>8576</td>\n",
       "    </tr>\n",
       "    <tr>\n",
       "      <th>2</th>\n",
       "      <td>Go First</td>\n",
       "      <td>G8-346</td>\n",
       "      <td>Thu, 30 Jun 2022</td>\n",
       "      <td>18:30</td>\n",
       "      <td>20:40</td>\n",
       "      <td>New Delhi</td>\n",
       "      <td>Mumbai</td>\n",
       "      <td>Non Stop</td>\n",
       "      <td>2h 10m</td>\n",
       "      <td>8576</td>\n",
       "    </tr>\n",
       "    <tr>\n",
       "      <th>3</th>\n",
       "      <td>Go First</td>\n",
       "      <td>G8-334</td>\n",
       "      <td>Thu, 30 Jun 2022</td>\n",
       "      <td>07:00</td>\n",
       "      <td>09:15</td>\n",
       "      <td>New Delhi</td>\n",
       "      <td>Mumbai</td>\n",
       "      <td>Non Stop</td>\n",
       "      <td>2h 15m</td>\n",
       "      <td>8576</td>\n",
       "    </tr>\n",
       "    <tr>\n",
       "      <th>4</th>\n",
       "      <td>Go First</td>\n",
       "      <td>G8-338</td>\n",
       "      <td>Thu, 30 Jun 2022</td>\n",
       "      <td>10:55</td>\n",
       "      <td>13:10</td>\n",
       "      <td>New Delhi</td>\n",
       "      <td>Mumbai</td>\n",
       "      <td>Non Stop</td>\n",
       "      <td>2h 15m</td>\n",
       "      <td>8576</td>\n",
       "    </tr>\n",
       "  </tbody>\n",
       "</table>\n",
       "</div>"
      ],
      "text/plain": [
       "    Airline Aeroplane              Date Departure_Time Arrival_Time  \\\n",
       "0  Go First   G8-2501  Thu, 30 Jun 2022          02:40        04:50   \n",
       "1  Go First    G8-336  Thu, 30 Jun 2022          14:00        16:10   \n",
       "2  Go First    G8-346  Thu, 30 Jun 2022          18:30        20:40   \n",
       "3  Go First    G8-334  Thu, 30 Jun 2022          07:00        09:15   \n",
       "4  Go First    G8-338  Thu, 30 Jun 2022          10:55        13:10   \n",
       "\n",
       "      Source Destination     Stops Duration Price  \n",
       "0  New Delhi      Mumbai  Non Stop   2h 10m  8576  \n",
       "1  New Delhi      Mumbai  Non Stop   2h 10m  8576  \n",
       "2  New Delhi      Mumbai  Non Stop   2h 10m  8576  \n",
       "3  New Delhi      Mumbai  Non Stop   2h 15m  8576  \n",
       "4  New Delhi      Mumbai  Non Stop   2h 15m  8576  "
      ]
     },
     "execution_count": 88,
     "metadata": {},
     "output_type": "execute_result"
    }
   ],
   "source": [
    "Flight34=pd.DataFrame()\n",
    "Flight34[\"Airline\"]=Airlines\n",
    "Flight34[\"Aeroplane\"] =Aeroplane\n",
    "Flight34[\"Date\"]=Date\n",
    "Flight34[\"Departure_Time\"]=Dept_time\n",
    "Flight34[\"Arrival_Time\"]=Arrival_time\n",
    "Flight34[\"Source\"]=Source\n",
    "Flight34[\"Destination\"]=Destination\n",
    "Flight34[\"Stops\"]=Stops\n",
    "Flight34[\"Duration\"]=Duration\n",
    "Flight34[\"Price\"]=Price\n",
    "Flight34.head()"
   ]
  },
  {
   "cell_type": "code",
   "execution_count": 89,
   "id": "7fa751d7-b1b5-472b-9dfb-2c7598a6000e",
   "metadata": {
    "tags": []
   },
   "outputs": [],
   "source": [
    "Flight34.to_csv('Flight_Price_dataset_34.csv')"
   ]
  },
  {
   "cell_type": "markdown",
   "id": "e5f40121-52bc-4284-8ab3-4240ca8b93b4",
   "metadata": {},
   "source": [
    "## Opening Economy flights from Delhi to Mumbai for 5th July 2022"
   ]
  },
  {
   "cell_type": "code",
   "execution_count": 90,
   "id": "ce500d20-7441-4f1b-bf57-34096addad64",
   "metadata": {},
   "outputs": [],
   "source": [
    "url='https://flight.yatra.com/air-search-ui/dom2/trigger?ADT=1&CHD=0&INF=0&class=Economy&destination=BOM&destinationCountry=IN&flexi=0&flight_depart_date=05%2F07%2F2022&hb=0&noOfSegments=1&origin=DEL&originCountry=IN&type=O&unique=963266628001&version=1.1&viewName=normal'"
   ]
  },
  {
   "cell_type": "code",
   "execution_count": 91,
   "id": "c1012ffe-24ed-4b55-baff-341c5d5c4be2",
   "metadata": {
    "tags": []
   },
   "outputs": [],
   "source": [
    "Airlines = []\n",
    "Aeroplane = []\n",
    "Dept_time = []\n",
    "Arrival_time = []\n",
    "Source = []\n",
    "Destination = []\n",
    "Duration = []\n",
    "Stops = []\n",
    "Date = []\n",
    "Price = []"
   ]
  },
  {
   "cell_type": "code",
   "execution_count": 92,
   "id": "3c05ee44-5f9f-4858-8de8-54858cd74e7a",
   "metadata": {},
   "outputs": [
    {
     "name": "stderr",
     "output_type": "stream",
     "text": [
      "100%|██████████| 50/50 [00:17<00:00,  2.91it/s]\n"
     ]
    }
   ],
   "source": [
    "from tqdm import tqdm\n",
    "for _ in tqdm (range(0,50)):\n",
    "    time.sleep(0.1)\n",
    "    driver.execute_script(\"window.scrollBy(0,2000)\",\"\")\n",
    "    time.sleep(0.2)\n",
    "    driver.execute_script(\"window.scrollBy(0,-500)\",\"\")"
   ]
  },
  {
   "cell_type": "code",
   "execution_count": 93,
   "id": "cdb4c0e4-e849-4171-bf37-b452b979847a",
   "metadata": {},
   "outputs": [
    {
     "data": {
      "text/plain": [
       "174"
      ]
     },
     "execution_count": 93,
     "metadata": {},
     "output_type": "execute_result"
    }
   ],
   "source": [
    "flights=driver.find_elements_by_xpath('//div[@class=\"flight-det table full-width clearfix\"]')\n",
    "len(flights)"
   ]
  },
  {
   "cell_type": "code",
   "execution_count": 94,
   "id": "cff48421-54e3-4c08-892a-8b3d97338d08",
   "metadata": {},
   "outputs": [
    {
     "name": "stderr",
     "output_type": "stream",
     "text": [
      "100%|██████████| 174/174 [00:04<00:00, 42.95it/s]\n",
      "100%|██████████| 174/174 [00:03<00:00, 48.51it/s]\n",
      "100%|██████████| 174/174 [00:03<00:00, 52.00it/s]\n",
      "100%|██████████| 174/174 [00:03<00:00, 54.24it/s]\n",
      "100%|██████████| 174/174 [00:03<00:00, 52.00it/s]\n",
      "100%|██████████| 174/174 [00:03<00:00, 48.73it/s]\n",
      "100%|██████████| 174/174 [00:03<00:00, 46.87it/s]\n",
      "100%|██████████| 174/174 [00:03<00:00, 46.87it/s]\n"
     ]
    }
   ],
   "source": [
    "# Extracting Airlines Name Via Xpath\n",
    "airlines = driver.find_elements_by_xpath(\"//div[@class='fs-13 airline-name no-pad col-8']/span\")\n",
    "for i in airlines:\n",
    "    Airlines.append(i.text.replace(\"\\n\",\" \"))\n",
    "else :\n",
    "    pass\n",
    "\n",
    "# Extracting Aeroplane model  via xpath\n",
    "aeroplanes = driver.find_elements_by_xpath('//p[@class=\"normal fs-11 font-lightestgrey no-wrap fl-no\"]/span')\n",
    "for i in tqdm(aeroplanes):\n",
    "    Aeroplane.append(i.text) \n",
    "else:\n",
    "    pass\n",
    "\n",
    "# Extracting Departure Time of Filght via Xpath\n",
    "dept_times = driver.find_elements_by_xpath('//div[@class=\"i-b pr\"]')\n",
    "for i in tqdm(dept_times):\n",
    "    Dept_time.append(i.text)\n",
    "else :\n",
    "    pass\n",
    "\n",
    "# Extracting Arrival Time via xpath\n",
    "arrival = driver.find_elements_by_xpath('//p[@class=\"bold fs-15 mb-2 pr time\"]')\n",
    "for i in tqdm(arrival):\n",
    "    Arrival_time.append(i.text)\n",
    "else :\n",
    "    pass\n",
    "\n",
    "# Extracting Source of flight via Xpath\n",
    "source = driver.find_elements_by_xpath(\"//div[@class='i-b col-4 no-wrap text-right dtime col-3']/p\")\n",
    "for i in tqdm(source):\n",
    "    Source.append(i.text)\n",
    "else :\n",
    "    pass\n",
    "\n",
    "# Extracting Destination of Flights via Xpath\n",
    "destination = driver.find_elements_by_xpath('//div[@class=\"i-b pdd-0 text-left atime col-5\"]/p[2]')\n",
    "for i in tqdm(destination):\n",
    "    Destination.append(i.text)\n",
    "else:\n",
    "    pass\n",
    "\n",
    "# Extracting Duration of Flights via Xpath\n",
    "duration = driver.find_elements_by_xpath('//div[@class=\"stop-cont pl-13\"]/p')\n",
    "for i in tqdm(duration):\n",
    "    Duration.append(i.text)\n",
    "else:\n",
    "    pass\n",
    "\n",
    "# Extracting stop details via Xpath\n",
    "stop = driver.find_elements_by_xpath(\"//div[@class='stop-cont pl-13']/div/span\")\n",
    "for i in tqdm(stop):\n",
    "    Stops.append(i.text)\n",
    "else:\n",
    "    pass\n",
    "\n",
    "# Extracting Price of Flights via Xpath\n",
    "count = 0\n",
    "price = driver.find_elements_by_xpath('//div[@class=\"i-b tipsy fare-summary-tooltip fs-18\"]')\n",
    "for i in tqdm(price):\n",
    "    Price.append(i.text.replace(',',''))\n",
    "    count = count +1\n",
    "else:\n",
    "    count = count +1\n",
    "    pass"
   ]
  },
  {
   "cell_type": "code",
   "execution_count": 95,
   "id": "310de8f3-320e-4115-9655-ee3e20003dbd",
   "metadata": {
    "tags": []
   },
   "outputs": [
    {
     "name": "stderr",
     "output_type": "stream",
     "text": [
      "100%|██████████| 174/174 [00:00<00:00, 174178.73it/s]\n"
     ]
    }
   ],
   "source": [
    "# Clicking on Flights details element\n",
    "Button = driver.find_elements_by_xpath('//div[@class=\"link-color fs-12 cursor-pointer\"]/span')\n",
    "driver.execute_script(\"arguments[0].click();\", WebDriverWait(driver, 20).until(EC.element_to_be_clickable((By.XPATH,'//div[@class=\"link-color fs-12 cursor-pointer\"]/span'))))\n",
    "time.sleep(0.25)\n",
    "\n",
    "# Extracting Date of Flights via Xpath\n",
    "date = driver.find_element_by_xpath('//div[@class=\"bold fs-12 mb-5\"]')\n",
    "a = date.text\n",
    "for i in tqdm(range(count-1)):\n",
    "    Date.append(a)\n",
    "else:\n",
    "    pass"
   ]
  },
  {
   "cell_type": "code",
   "execution_count": 97,
   "id": "22f48560-b363-4eac-8f1b-15800af0fb33",
   "metadata": {},
   "outputs": [
    {
     "data": {
      "text/plain": [
       "(174, 174, 174, 174, 174, 174, 174, 174, 174, 174)"
      ]
     },
     "execution_count": 97,
     "metadata": {},
     "output_type": "execute_result"
    }
   ],
   "source": [
    "len(Aeroplane), len(Airlines), len(Dept_time), len(Arrival_time), len(Source), len(Destination), len(Duration), len(Stops),len(Price), len(Date)"
   ]
  },
  {
   "cell_type": "code",
   "execution_count": 99,
   "id": "811c2982-230d-41c1-88d8-d544922b611f",
   "metadata": {},
   "outputs": [
    {
     "data": {
      "text/html": [
       "<div>\n",
       "<style scoped>\n",
       "    .dataframe tbody tr th:only-of-type {\n",
       "        vertical-align: middle;\n",
       "    }\n",
       "\n",
       "    .dataframe tbody tr th {\n",
       "        vertical-align: top;\n",
       "    }\n",
       "\n",
       "    .dataframe thead th {\n",
       "        text-align: right;\n",
       "    }\n",
       "</style>\n",
       "<table border=\"1\" class=\"dataframe\">\n",
       "  <thead>\n",
       "    <tr style=\"text-align: right;\">\n",
       "      <th></th>\n",
       "      <th>Airline</th>\n",
       "      <th>Aeroplane</th>\n",
       "      <th>Date</th>\n",
       "      <th>Departure_Time</th>\n",
       "      <th>Arrival_Time</th>\n",
       "      <th>Source</th>\n",
       "      <th>Destination</th>\n",
       "      <th>Stops</th>\n",
       "      <th>Duration</th>\n",
       "      <th>Price</th>\n",
       "    </tr>\n",
       "  </thead>\n",
       "  <tbody>\n",
       "    <tr>\n",
       "      <th>0</th>\n",
       "      <td>Go First</td>\n",
       "      <td>G8-334</td>\n",
       "      <td>Tue, 5 Jul 2022</td>\n",
       "      <td>08:00</td>\n",
       "      <td>10:10</td>\n",
       "      <td>New Delhi</td>\n",
       "      <td>Mumbai</td>\n",
       "      <td>Non Stop</td>\n",
       "      <td>2h 10m</td>\n",
       "      <td>8576</td>\n",
       "    </tr>\n",
       "    <tr>\n",
       "      <th>1</th>\n",
       "      <td>Go First</td>\n",
       "      <td>G8-323</td>\n",
       "      <td>Tue, 5 Jul 2022</td>\n",
       "      <td>18:20</td>\n",
       "      <td>20:35</td>\n",
       "      <td>New Delhi</td>\n",
       "      <td>Mumbai</td>\n",
       "      <td>Non Stop</td>\n",
       "      <td>2h 15m</td>\n",
       "      <td>8576</td>\n",
       "    </tr>\n",
       "    <tr>\n",
       "      <th>2</th>\n",
       "      <td>Go First</td>\n",
       "      <td>G8-346</td>\n",
       "      <td>Tue, 5 Jul 2022</td>\n",
       "      <td>19:45</td>\n",
       "      <td>22:00</td>\n",
       "      <td>New Delhi</td>\n",
       "      <td>Mumbai</td>\n",
       "      <td>Non Stop</td>\n",
       "      <td>2h 15m</td>\n",
       "      <td>8576</td>\n",
       "    </tr>\n",
       "    <tr>\n",
       "      <th>3</th>\n",
       "      <td>Go First</td>\n",
       "      <td>G8-354</td>\n",
       "      <td>Tue, 5 Jul 2022</td>\n",
       "      <td>22:45</td>\n",
       "      <td>01:00\\n+ 1 day</td>\n",
       "      <td>New Delhi</td>\n",
       "      <td>Mumbai</td>\n",
       "      <td>Non Stop</td>\n",
       "      <td>2h 15m</td>\n",
       "      <td>8576</td>\n",
       "    </tr>\n",
       "    <tr>\n",
       "      <th>4</th>\n",
       "      <td>Go First</td>\n",
       "      <td>G8-330</td>\n",
       "      <td>Tue, 5 Jul 2022</td>\n",
       "      <td>20:50</td>\n",
       "      <td>23:20</td>\n",
       "      <td>New Delhi</td>\n",
       "      <td>Mumbai</td>\n",
       "      <td>Non Stop</td>\n",
       "      <td>2h 30m</td>\n",
       "      <td>8576</td>\n",
       "    </tr>\n",
       "  </tbody>\n",
       "</table>\n",
       "</div>"
      ],
      "text/plain": [
       "    Airline Aeroplane             Date Departure_Time    Arrival_Time  \\\n",
       "0  Go First    G8-334  Tue, 5 Jul 2022          08:00           10:10   \n",
       "1  Go First    G8-323  Tue, 5 Jul 2022          18:20           20:35   \n",
       "2  Go First    G8-346  Tue, 5 Jul 2022          19:45           22:00   \n",
       "3  Go First    G8-354  Tue, 5 Jul 2022          22:45  01:00\\n+ 1 day   \n",
       "4  Go First    G8-330  Tue, 5 Jul 2022          20:50           23:20   \n",
       "\n",
       "      Source Destination     Stops Duration Price  \n",
       "0  New Delhi      Mumbai  Non Stop   2h 10m  8576  \n",
       "1  New Delhi      Mumbai  Non Stop   2h 15m  8576  \n",
       "2  New Delhi      Mumbai  Non Stop   2h 15m  8576  \n",
       "3  New Delhi      Mumbai  Non Stop   2h 15m  8576  \n",
       "4  New Delhi      Mumbai  Non Stop   2h 30m  8576  "
      ]
     },
     "execution_count": 99,
     "metadata": {},
     "output_type": "execute_result"
    }
   ],
   "source": [
    "Flight35=pd.DataFrame()\n",
    "Flight35[\"Airline\"]=Airlines\n",
    "Flight35[\"Aeroplane\"] =Aeroplane\n",
    "Flight35[\"Date\"]=Date\n",
    "Flight35[\"Departure_Time\"]=Dept_time\n",
    "Flight35[\"Arrival_Time\"]=Arrival_time\n",
    "Flight35[\"Source\"]=Source\n",
    "Flight35[\"Destination\"]=Destination\n",
    "Flight35[\"Stops\"]=Stops\n",
    "Flight35[\"Duration\"]=Duration\n",
    "Flight35[\"Price\"]=Price\n",
    "Flight35.head()"
   ]
  },
  {
   "cell_type": "code",
   "execution_count": 100,
   "id": "46b17924-2706-4d81-a72d-7c004e40db83",
   "metadata": {
    "tags": []
   },
   "outputs": [],
   "source": [
    "Flight35.to_csv('Flight_Price_dataset_35.csv')"
   ]
  },
  {
   "cell_type": "markdown",
   "id": "95c126c6-4888-41ca-adb3-901df72c3b56",
   "metadata": {},
   "source": [
    "#### Opening Business Class flights from delhi Mumbai for 3rd July 2022"
   ]
  },
  {
   "cell_type": "code",
   "execution_count": 101,
   "id": "3b45e87c-29b4-47c2-9811-f276ae3eb87d",
   "metadata": {},
   "outputs": [],
   "source": [
    "url='https://flight.yatra.com/air-search-ui/dom2/trigger?ADT=1&CHD=0&INF=0&class=Business&destination=BOM&destinationCountry=IN&flexi=0&flight_depart_date=03%2F07%2F2022&hb=0&noOfSegments=1&origin=DEL&originCountry=IN&type=O&unique=1172847881267&version=1.1&viewName=normal'"
   ]
  },
  {
   "cell_type": "code",
   "execution_count": 102,
   "id": "a3cce0c6-20eb-446a-9a72-a773d43fe587",
   "metadata": {
    "tags": []
   },
   "outputs": [],
   "source": [
    "Airlines = []\n",
    "Aeroplane = []\n",
    "Dept_time = []\n",
    "Arrival_time = []\n",
    "Source = []\n",
    "Destination = []\n",
    "Duration = []\n",
    "Stops = []\n",
    "Date = []\n",
    "Price = []"
   ]
  },
  {
   "cell_type": "code",
   "execution_count": 103,
   "id": "7ec154e6-79d4-4709-a815-73ee79593454",
   "metadata": {},
   "outputs": [
    {
     "name": "stderr",
     "output_type": "stream",
     "text": [
      "100%|██████████| 50/50 [00:18<00:00,  2.73it/s]\n"
     ]
    }
   ],
   "source": [
    "from tqdm import tqdm\n",
    "for _ in tqdm (range(0,50)):\n",
    "    time.sleep(0.1)\n",
    "    driver.execute_script(\"window.scrollBy(0,2000)\",\"\")\n",
    "    time.sleep(0.2)\n",
    "    driver.execute_script(\"window.scrollBy(0,-500)\",\"\")"
   ]
  },
  {
   "cell_type": "code",
   "execution_count": 104,
   "id": "fee8cb37-88bc-41d5-afea-342d5460f257",
   "metadata": {},
   "outputs": [
    {
     "data": {
      "text/plain": [
       "71"
      ]
     },
     "execution_count": 104,
     "metadata": {},
     "output_type": "execute_result"
    }
   ],
   "source": [
    "flights=driver.find_elements_by_xpath('//div[@class=\"flight-det table full-width clearfix\"]')\n",
    "len(flights)"
   ]
  },
  {
   "cell_type": "code",
   "execution_count": 105,
   "id": "77aa2160-8b92-45a2-bafa-7609384cfbae",
   "metadata": {},
   "outputs": [
    {
     "name": "stderr",
     "output_type": "stream",
     "text": [
      "100%|██████████| 71/71 [00:01<00:00, 60.51it/s]\n",
      "100%|██████████| 71/71 [00:01<00:00, 54.27it/s]\n",
      "100%|██████████| 71/71 [00:01<00:00, 50.46it/s]\n",
      "100%|██████████| 71/71 [00:01<00:00, 41.26it/s]\n",
      "100%|██████████| 71/71 [00:01<00:00, 48.76it/s]\n",
      "100%|██████████| 71/71 [00:01<00:00, 53.58it/s]\n",
      "100%|██████████| 71/71 [00:01<00:00, 58.47it/s]\n",
      "100%|██████████| 71/71 [00:01<00:00, 55.46it/s]\n"
     ]
    }
   ],
   "source": [
    "# Extracting Airlines Name Via Xpath\n",
    "airlines = driver.find_elements_by_xpath(\"//div[@class='fs-13 airline-name no-pad col-8']/span\")\n",
    "for i in airlines:\n",
    "    Airlines.append(i.text.replace(\"\\n\",\" \"))\n",
    "else :\n",
    "    pass\n",
    "\n",
    "# Extracting Aeroplane model  via xpath\n",
    "aeroplanes = driver.find_elements_by_xpath('//p[@class=\"normal fs-11 font-lightestgrey no-wrap fl-no\"]/span')\n",
    "for i in tqdm(aeroplanes):\n",
    "    Aeroplane.append(i.text) \n",
    "else:\n",
    "    pass\n",
    "\n",
    "# Extracting Departure Time of Filght via Xpath\n",
    "dept_times = driver.find_elements_by_xpath('//div[@class=\"i-b pr\"]')\n",
    "for i in tqdm(dept_times):\n",
    "    Dept_time.append(i.text)\n",
    "else :\n",
    "    pass\n",
    "\n",
    "# Extracting Arrival Time via xpath\n",
    "arrival = driver.find_elements_by_xpath('//p[@class=\"bold fs-15 mb-2 pr time\"]')\n",
    "for i in tqdm(arrival):\n",
    "    Arrival_time.append(i.text)\n",
    "else :\n",
    "    pass\n",
    "\n",
    "# Extracting Source of flight via Xpath\n",
    "source = driver.find_elements_by_xpath(\"//div[@class='i-b col-4 no-wrap text-right dtime col-3']/p\")\n",
    "for i in tqdm(source):\n",
    "    Source.append(i.text)\n",
    "else :\n",
    "    pass\n",
    "\n",
    "# Extracting Destination of Flights via Xpath\n",
    "destination = driver.find_elements_by_xpath('//div[@class=\"i-b pdd-0 text-left atime col-5\"]/p[2]')\n",
    "for i in tqdm(destination):\n",
    "    Destination.append(i.text)\n",
    "else:\n",
    "    pass\n",
    "\n",
    "# Extracting Duration of Flights via Xpath\n",
    "duration = driver.find_elements_by_xpath('//div[@class=\"stop-cont pl-13\"]/p')\n",
    "for i in tqdm(duration):\n",
    "    Duration.append(i.text)\n",
    "else:\n",
    "    pass\n",
    "\n",
    "# Extracting stop details via Xpath\n",
    "stop = driver.find_elements_by_xpath(\"//div[@class='stop-cont pl-13']/div/span\")\n",
    "for i in tqdm(stop):\n",
    "    Stops.append(i.text)\n",
    "else:\n",
    "    pass\n",
    "\n",
    "# Extracting Price of Flights via Xpath\n",
    "count = 0\n",
    "price = driver.find_elements_by_xpath('//div[@class=\"i-b tipsy fare-summary-tooltip fs-18\"]')\n",
    "for i in tqdm(price):\n",
    "    Price.append(i.text.replace(',',''))\n",
    "    count = count +1\n",
    "else:\n",
    "    count = count +1\n",
    "    pass"
   ]
  },
  {
   "cell_type": "code",
   "execution_count": 106,
   "id": "66f0b607-93bf-4787-b7bc-e520b48554df",
   "metadata": {},
   "outputs": [
    {
     "name": "stderr",
     "output_type": "stream",
     "text": [
      "100%|██████████| 71/71 [00:00<00:00, 71089.90it/s]\n"
     ]
    }
   ],
   "source": [
    "# Clicking on Flights details element\n",
    "Button = driver.find_elements_by_xpath('//div[@class=\"link-color fs-12 cursor-pointer\"]/span')\n",
    "driver.execute_script(\"arguments[0].click();\", WebDriverWait(driver, 20).until(EC.element_to_be_clickable((By.XPATH,'//div[@class=\"link-color fs-12 cursor-pointer\"]/span'))))\n",
    "time.sleep(0.25)\n",
    "\n",
    "# Extracting Date of Flights via Xpath\n",
    "date = driver.find_element_by_xpath('//div[@class=\"bold fs-12 mb-5\"]')\n",
    "a = date.text\n",
    "for i in tqdm(range(count-1)):\n",
    "    Date.append(a)\n",
    "else:\n",
    "    pass"
   ]
  },
  {
   "cell_type": "code",
   "execution_count": 107,
   "id": "dc347a22-31b1-424b-8173-506ed822f567",
   "metadata": {},
   "outputs": [
    {
     "data": {
      "text/plain": [
       "(71, 71, 71, 71, 71, 71, 71, 71, 71, 71)"
      ]
     },
     "execution_count": 107,
     "metadata": {},
     "output_type": "execute_result"
    }
   ],
   "source": [
    "len(Aeroplane), len(Airlines), len(Dept_time), len(Arrival_time), len(Source), len(Destination), len(Duration), len(Stops),len(Price), len(Date)"
   ]
  },
  {
   "cell_type": "code",
   "execution_count": 108,
   "id": "61d2b558-02c4-48b7-99ef-4f60f29e9f74",
   "metadata": {},
   "outputs": [
    {
     "data": {
      "text/html": [
       "<div>\n",
       "<style scoped>\n",
       "    .dataframe tbody tr th:only-of-type {\n",
       "        vertical-align: middle;\n",
       "    }\n",
       "\n",
       "    .dataframe tbody tr th {\n",
       "        vertical-align: top;\n",
       "    }\n",
       "\n",
       "    .dataframe thead th {\n",
       "        text-align: right;\n",
       "    }\n",
       "</style>\n",
       "<table border=\"1\" class=\"dataframe\">\n",
       "  <thead>\n",
       "    <tr style=\"text-align: right;\">\n",
       "      <th></th>\n",
       "      <th>Airline</th>\n",
       "      <th>Aeroplane</th>\n",
       "      <th>Date</th>\n",
       "      <th>Departure_Time</th>\n",
       "      <th>Arrival_Time</th>\n",
       "      <th>Source</th>\n",
       "      <th>Destination</th>\n",
       "      <th>Stops</th>\n",
       "      <th>Duration</th>\n",
       "      <th>Price</th>\n",
       "    </tr>\n",
       "  </thead>\n",
       "  <tbody>\n",
       "    <tr>\n",
       "      <th>0</th>\n",
       "      <td>Vistara Business</td>\n",
       "      <td>UK-927</td>\n",
       "      <td>Sun, 3 Jul 2022</td>\n",
       "      <td>09:30</td>\n",
       "      <td>11:35</td>\n",
       "      <td>New Delhi</td>\n",
       "      <td>Mumbai</td>\n",
       "      <td>Non Stop</td>\n",
       "      <td>2h 05m</td>\n",
       "      <td>22152</td>\n",
       "    </tr>\n",
       "    <tr>\n",
       "      <th>1</th>\n",
       "      <td>Vistara Business</td>\n",
       "      <td>UK-993</td>\n",
       "      <td>Sun, 3 Jul 2022</td>\n",
       "      <td>12:50</td>\n",
       "      <td>15:00</td>\n",
       "      <td>New Delhi</td>\n",
       "      <td>Mumbai</td>\n",
       "      <td>Non Stop</td>\n",
       "      <td>2h 10m</td>\n",
       "      <td>22152</td>\n",
       "    </tr>\n",
       "    <tr>\n",
       "      <th>2</th>\n",
       "      <td>Vistara Business</td>\n",
       "      <td>UK-951</td>\n",
       "      <td>Sun, 3 Jul 2022</td>\n",
       "      <td>14:20</td>\n",
       "      <td>16:30</td>\n",
       "      <td>New Delhi</td>\n",
       "      <td>Mumbai</td>\n",
       "      <td>Non Stop</td>\n",
       "      <td>2h 10m</td>\n",
       "      <td>22152</td>\n",
       "    </tr>\n",
       "    <tr>\n",
       "      <th>3</th>\n",
       "      <td>Vistara Business</td>\n",
       "      <td>UK-933</td>\n",
       "      <td>Sun, 3 Jul 2022</td>\n",
       "      <td>15:30</td>\n",
       "      <td>17:40</td>\n",
       "      <td>New Delhi</td>\n",
       "      <td>Mumbai</td>\n",
       "      <td>Non Stop</td>\n",
       "      <td>2h 10m</td>\n",
       "      <td>22152</td>\n",
       "    </tr>\n",
       "    <tr>\n",
       "      <th>4</th>\n",
       "      <td>Vistara Business</td>\n",
       "      <td>UK-985</td>\n",
       "      <td>Sun, 3 Jul 2022</td>\n",
       "      <td>19:45</td>\n",
       "      <td>21:55</td>\n",
       "      <td>New Delhi</td>\n",
       "      <td>Mumbai</td>\n",
       "      <td>Non Stop</td>\n",
       "      <td>2h 10m</td>\n",
       "      <td>22152</td>\n",
       "    </tr>\n",
       "  </tbody>\n",
       "</table>\n",
       "</div>"
      ],
      "text/plain": [
       "            Airline Aeroplane             Date Departure_Time Arrival_Time  \\\n",
       "0  Vistara Business    UK-927  Sun, 3 Jul 2022          09:30        11:35   \n",
       "1  Vistara Business    UK-993  Sun, 3 Jul 2022          12:50        15:00   \n",
       "2  Vistara Business    UK-951  Sun, 3 Jul 2022          14:20        16:30   \n",
       "3  Vistara Business    UK-933  Sun, 3 Jul 2022          15:30        17:40   \n",
       "4  Vistara Business    UK-985  Sun, 3 Jul 2022          19:45        21:55   \n",
       "\n",
       "      Source Destination     Stops Duration  Price  \n",
       "0  New Delhi      Mumbai  Non Stop   2h 05m  22152  \n",
       "1  New Delhi      Mumbai  Non Stop   2h 10m  22152  \n",
       "2  New Delhi      Mumbai  Non Stop   2h 10m  22152  \n",
       "3  New Delhi      Mumbai  Non Stop   2h 10m  22152  \n",
       "4  New Delhi      Mumbai  Non Stop   2h 10m  22152  "
      ]
     },
     "execution_count": 108,
     "metadata": {},
     "output_type": "execute_result"
    }
   ],
   "source": [
    "Flight36=pd.DataFrame()\n",
    "Flight36[\"Airline\"]=Airlines\n",
    "Flight36[\"Aeroplane\"] =Aeroplane\n",
    "Flight36[\"Date\"]=Date\n",
    "Flight36[\"Departure_Time\"]=Dept_time\n",
    "Flight36[\"Arrival_Time\"]=Arrival_time\n",
    "Flight36[\"Source\"]=Source\n",
    "Flight36[\"Destination\"]=Destination\n",
    "Flight36[\"Stops\"]=Stops\n",
    "Flight36[\"Duration\"]=Duration\n",
    "Flight36[\"Price\"]=Price\n",
    "Flight36.head()"
   ]
  },
  {
   "cell_type": "code",
   "execution_count": 109,
   "id": "9b459c56-ad09-4375-8b4c-8e00bf5a8bd3",
   "metadata": {
    "tags": []
   },
   "outputs": [],
   "source": [
    "Flight36.to_csv('Flight_Price_dataset_36.csv')"
   ]
  },
  {
   "cell_type": "markdown",
   "id": "9113a16a-5490-4df0-aa76-eec2ffb5d509",
   "metadata": {},
   "source": [
    "#### Opening Business Class flights from delhi Mumbai for 29th June 2022"
   ]
  },
  {
   "cell_type": "code",
   "execution_count": 110,
   "id": "c8e5b9bc-5cee-4438-9e0e-53d1f3c04927",
   "metadata": {},
   "outputs": [],
   "source": [
    "url='https://flight.yatra.com/air-search-ui/dom2/trigger?ADT=1&CHD=0&INF=0&class=Business&destination=BOM&destinationCountry=IN&flexi=0&flight_depart_date=29%2F06%2F2022&hb=0&noOfSegments=1&origin=DEL&originCountry=IN&type=O&unique=1248526306902&version=1.1&viewName=normal'"
   ]
  },
  {
   "cell_type": "code",
   "execution_count": 111,
   "id": "7b34255a-577f-4636-9712-9601a1bf4c4e",
   "metadata": {
    "tags": []
   },
   "outputs": [],
   "source": [
    "Airlines = []\n",
    "Aeroplane = []\n",
    "Dept_time = []\n",
    "Arrival_time = []\n",
    "Source = []\n",
    "Destination = []\n",
    "Duration = []\n",
    "Stops = []\n",
    "Date = []\n",
    "Price = []"
   ]
  },
  {
   "cell_type": "code",
   "execution_count": 112,
   "id": "c0d67845-5973-4bab-bc12-fab61b247572",
   "metadata": {},
   "outputs": [
    {
     "name": "stderr",
     "output_type": "stream",
     "text": [
      "100%|██████████| 50/50 [00:19<00:00,  2.59it/s]\n"
     ]
    }
   ],
   "source": [
    "from tqdm import tqdm\n",
    "for _ in tqdm (range(0,50)):\n",
    "    time.sleep(0.1)\n",
    "    driver.execute_script(\"window.scrollBy(0,2000)\",\"\")\n",
    "    time.sleep(0.2)\n",
    "    driver.execute_script(\"window.scrollBy(0,-500)\",\"\")"
   ]
  },
  {
   "cell_type": "code",
   "execution_count": 113,
   "id": "7feabb07-dfb6-4e37-8d09-6cf93f8a6028",
   "metadata": {},
   "outputs": [
    {
     "data": {
      "text/plain": [
       "68"
      ]
     },
     "execution_count": 113,
     "metadata": {},
     "output_type": "execute_result"
    }
   ],
   "source": [
    "flights=driver.find_elements_by_xpath('//div[@class=\"flight-det table full-width clearfix\"]')\n",
    "len(flights)"
   ]
  },
  {
   "cell_type": "code",
   "execution_count": 114,
   "id": "465a7b33-894a-485c-8b95-59e2db5c8fc4",
   "metadata": {},
   "outputs": [
    {
     "name": "stderr",
     "output_type": "stream",
     "text": [
      "100%|██████████| 68/68 [00:01<00:00, 54.83it/s]\n",
      "100%|██████████| 68/68 [00:01<00:00, 40.24it/s]\n",
      "100%|██████████| 68/68 [00:01<00:00, 44.85it/s]\n",
      "100%|██████████| 68/68 [00:01<00:00, 40.70it/s]\n",
      "100%|██████████| 68/68 [00:01<00:00, 51.24it/s]\n",
      "100%|██████████| 68/68 [00:01<00:00, 57.76it/s]\n",
      "100%|██████████| 68/68 [00:01<00:00, 60.64it/s]\n",
      "100%|██████████| 68/68 [00:01<00:00, 50.78it/s]\n"
     ]
    }
   ],
   "source": [
    "# Extracting Airlines Name Via Xpath\n",
    "airlines = driver.find_elements_by_xpath(\"//div[@class='fs-13 airline-name no-pad col-8']/span\")\n",
    "for i in airlines:\n",
    "    Airlines.append(i.text.replace(\"\\n\",\" \"))\n",
    "else :\n",
    "    pass\n",
    "\n",
    "# Extracting Aeroplane model  via xpath\n",
    "aeroplanes = driver.find_elements_by_xpath('//p[@class=\"normal fs-11 font-lightestgrey no-wrap fl-no\"]/span')\n",
    "for i in tqdm(aeroplanes):\n",
    "    Aeroplane.append(i.text) \n",
    "else:\n",
    "    pass\n",
    "\n",
    "# Extracting Departure Time of Filght via Xpath\n",
    "dept_times = driver.find_elements_by_xpath('//div[@class=\"i-b pr\"]')\n",
    "for i in tqdm(dept_times):\n",
    "    Dept_time.append(i.text)\n",
    "else :\n",
    "    pass\n",
    "\n",
    "# Extracting Arrival Time via xpath\n",
    "arrival = driver.find_elements_by_xpath('//p[@class=\"bold fs-15 mb-2 pr time\"]')\n",
    "for i in tqdm(arrival):\n",
    "    Arrival_time.append(i.text)\n",
    "else :\n",
    "    pass\n",
    "\n",
    "# Extracting Source of flight via Xpath\n",
    "source = driver.find_elements_by_xpath(\"//div[@class='i-b col-4 no-wrap text-right dtime col-3']/p\")\n",
    "for i in tqdm(source):\n",
    "    Source.append(i.text)\n",
    "else :\n",
    "    pass\n",
    "\n",
    "# Extracting Destination of Flights via Xpath\n",
    "destination = driver.find_elements_by_xpath('//div[@class=\"i-b pdd-0 text-left atime col-5\"]/p[2]')\n",
    "for i in tqdm(destination):\n",
    "    Destination.append(i.text)\n",
    "else:\n",
    "    pass\n",
    "\n",
    "# Extracting Duration of Flights via Xpath\n",
    "duration = driver.find_elements_by_xpath('//div[@class=\"stop-cont pl-13\"]/p')\n",
    "for i in tqdm(duration):\n",
    "    Duration.append(i.text)\n",
    "else:\n",
    "    pass\n",
    "\n",
    "# Extracting stop details via Xpath\n",
    "stop = driver.find_elements_by_xpath(\"//div[@class='stop-cont pl-13']/div/span\")\n",
    "for i in tqdm(stop):\n",
    "    Stops.append(i.text)\n",
    "else:\n",
    "    pass\n",
    "\n",
    "# Extracting Price of Flights via Xpath\n",
    "count = 0\n",
    "price = driver.find_elements_by_xpath('//div[@class=\"i-b tipsy fare-summary-tooltip fs-18\"]')\n",
    "for i in tqdm(price):\n",
    "    Price.append(i.text.replace(',',''))\n",
    "    count = count +1\n",
    "else:\n",
    "    count = count +1\n",
    "    pass"
   ]
  },
  {
   "cell_type": "code",
   "execution_count": 115,
   "id": "ad8efb5a-0f32-4c00-b088-41f5cd4d5ae5",
   "metadata": {},
   "outputs": [
    {
     "name": "stderr",
     "output_type": "stream",
     "text": [
      "100%|██████████| 68/68 [00:00<00:00, 68086.10it/s]\n"
     ]
    }
   ],
   "source": [
    "# Clicking on Flights details element\n",
    "Button = driver.find_elements_by_xpath('//div[@class=\"link-color fs-12 cursor-pointer\"]/span')\n",
    "driver.execute_script(\"arguments[0].click();\", WebDriverWait(driver, 20).until(EC.element_to_be_clickable((By.XPATH,'//div[@class=\"link-color fs-12 cursor-pointer\"]/span'))))\n",
    "time.sleep(0.25)\n",
    "\n",
    "# Extracting Date of Flights via Xpath\n",
    "date = driver.find_element_by_xpath('//div[@class=\"bold fs-12 mb-5\"]')\n",
    "a = date.text\n",
    "for i in tqdm(range(count-1)):\n",
    "    Date.append(a)\n",
    "else:\n",
    "    pass"
   ]
  },
  {
   "cell_type": "code",
   "execution_count": 116,
   "id": "4c332f9b-bfe0-4f3d-b654-ccba8e5f622b",
   "metadata": {},
   "outputs": [
    {
     "data": {
      "text/plain": [
       "(68, 68, 68, 68, 68, 68, 68, 68, 68, 68)"
      ]
     },
     "execution_count": 116,
     "metadata": {},
     "output_type": "execute_result"
    }
   ],
   "source": [
    "len(Aeroplane), len(Airlines), len(Dept_time), len(Arrival_time), len(Source), len(Destination), len(Duration), len(Stops),len(Price), len(Date)"
   ]
  },
  {
   "cell_type": "code",
   "execution_count": 117,
   "id": "f4454e5a-5504-46b2-a043-c3f76e170bdf",
   "metadata": {},
   "outputs": [
    {
     "data": {
      "text/html": [
       "<div>\n",
       "<style scoped>\n",
       "    .dataframe tbody tr th:only-of-type {\n",
       "        vertical-align: middle;\n",
       "    }\n",
       "\n",
       "    .dataframe tbody tr th {\n",
       "        vertical-align: top;\n",
       "    }\n",
       "\n",
       "    .dataframe thead th {\n",
       "        text-align: right;\n",
       "    }\n",
       "</style>\n",
       "<table border=\"1\" class=\"dataframe\">\n",
       "  <thead>\n",
       "    <tr style=\"text-align: right;\">\n",
       "      <th></th>\n",
       "      <th>Airline</th>\n",
       "      <th>Aeroplane</th>\n",
       "      <th>Date</th>\n",
       "      <th>Departure_Time</th>\n",
       "      <th>Arrival_Time</th>\n",
       "      <th>Source</th>\n",
       "      <th>Destination</th>\n",
       "      <th>Stops</th>\n",
       "      <th>Duration</th>\n",
       "      <th>Price</th>\n",
       "    </tr>\n",
       "  </thead>\n",
       "  <tbody>\n",
       "    <tr>\n",
       "      <th>0</th>\n",
       "      <td>Vistara Business</td>\n",
       "      <td>UK-981</td>\n",
       "      <td>Wed, 29 Jun 2022</td>\n",
       "      <td>21:30</td>\n",
       "      <td>23:30</td>\n",
       "      <td>New Delhi</td>\n",
       "      <td>Mumbai</td>\n",
       "      <td>Non Stop</td>\n",
       "      <td>2h 00m</td>\n",
       "      <td>22152</td>\n",
       "    </tr>\n",
       "    <tr>\n",
       "      <th>1</th>\n",
       "      <td>Air India Business</td>\n",
       "      <td>AI-887</td>\n",
       "      <td>Wed, 29 Jun 2022</td>\n",
       "      <td>07:00</td>\n",
       "      <td>09:05</td>\n",
       "      <td>New Delhi</td>\n",
       "      <td>Mumbai</td>\n",
       "      <td>Non Stop</td>\n",
       "      <td>2h 05m</td>\n",
       "      <td>22152</td>\n",
       "    </tr>\n",
       "    <tr>\n",
       "      <th>2</th>\n",
       "      <td>Air India Business</td>\n",
       "      <td>AI-665</td>\n",
       "      <td>Wed, 29 Jun 2022</td>\n",
       "      <td>08:00</td>\n",
       "      <td>10:10</td>\n",
       "      <td>New Delhi</td>\n",
       "      <td>Mumbai</td>\n",
       "      <td>Non Stop</td>\n",
       "      <td>2h 10m</td>\n",
       "      <td>22152</td>\n",
       "    </tr>\n",
       "    <tr>\n",
       "      <th>3</th>\n",
       "      <td>Vistara Business</td>\n",
       "      <td>UK-993</td>\n",
       "      <td>Wed, 29 Jun 2022</td>\n",
       "      <td>12:50</td>\n",
       "      <td>15:00</td>\n",
       "      <td>New Delhi</td>\n",
       "      <td>Mumbai</td>\n",
       "      <td>Non Stop</td>\n",
       "      <td>2h 10m</td>\n",
       "      <td>22152</td>\n",
       "    </tr>\n",
       "    <tr>\n",
       "      <th>4</th>\n",
       "      <td>Vistara Business</td>\n",
       "      <td>UK-951</td>\n",
       "      <td>Wed, 29 Jun 2022</td>\n",
       "      <td>14:20</td>\n",
       "      <td>16:30</td>\n",
       "      <td>New Delhi</td>\n",
       "      <td>Mumbai</td>\n",
       "      <td>Non Stop</td>\n",
       "      <td>2h 10m</td>\n",
       "      <td>22152</td>\n",
       "    </tr>\n",
       "  </tbody>\n",
       "</table>\n",
       "</div>"
      ],
      "text/plain": [
       "              Airline Aeroplane              Date Departure_Time Arrival_Time  \\\n",
       "0    Vistara Business    UK-981  Wed, 29 Jun 2022          21:30        23:30   \n",
       "1  Air India Business    AI-887  Wed, 29 Jun 2022          07:00        09:05   \n",
       "2  Air India Business    AI-665  Wed, 29 Jun 2022          08:00        10:10   \n",
       "3    Vistara Business    UK-993  Wed, 29 Jun 2022          12:50        15:00   \n",
       "4    Vistara Business    UK-951  Wed, 29 Jun 2022          14:20        16:30   \n",
       "\n",
       "      Source Destination     Stops Duration  Price  \n",
       "0  New Delhi      Mumbai  Non Stop   2h 00m  22152  \n",
       "1  New Delhi      Mumbai  Non Stop   2h 05m  22152  \n",
       "2  New Delhi      Mumbai  Non Stop   2h 10m  22152  \n",
       "3  New Delhi      Mumbai  Non Stop   2h 10m  22152  \n",
       "4  New Delhi      Mumbai  Non Stop   2h 10m  22152  "
      ]
     },
     "execution_count": 117,
     "metadata": {},
     "output_type": "execute_result"
    }
   ],
   "source": [
    "Flight37=pd.DataFrame()\n",
    "Flight37[\"Airline\"]=Airlines\n",
    "Flight37[\"Aeroplane\"] =Aeroplane\n",
    "Flight37[\"Date\"]=Date\n",
    "Flight37[\"Departure_Time\"]=Dept_time\n",
    "Flight37[\"Arrival_Time\"]=Arrival_time\n",
    "Flight37[\"Source\"]=Source\n",
    "Flight37[\"Destination\"]=Destination\n",
    "Flight37[\"Stops\"]=Stops\n",
    "Flight37[\"Duration\"]=Duration\n",
    "Flight37[\"Price\"]=Price\n",
    "Flight37.head()"
   ]
  },
  {
   "cell_type": "code",
   "execution_count": 118,
   "id": "bb398c43-3cf1-4802-a018-6604eb04e7a7",
   "metadata": {
    "tags": []
   },
   "outputs": [],
   "source": [
    "Flight37.to_csv('Flight_Price_dataset_37.csv')"
   ]
  },
  {
   "cell_type": "markdown",
   "id": "7595ebec-7f15-42a7-afe5-ba1d2407cd8c",
   "metadata": {},
   "source": [
    "## Merging all CSV File into one file"
   ]
  },
  {
   "cell_type": "code",
   "execution_count": 121,
   "id": "4c06c5d6-c280-45c7-b118-3bdc25414a7f",
   "metadata": {},
   "outputs": [
    {
     "name": "stdout",
     "output_type": "stream",
     "text": [
      "Flight CSV after joining all CSV files at a particular location...\n",
      "      Unnamed: 0                  Airline   Aeroplane              Date  \\\n",
      "0              0                  Vistara      UK-981  Tue, 21 Jun 2022   \n",
      "1              1                  Vistara      UK-993  Tue, 21 Jun 2022   \n",
      "2              2                  Vistara      UK-951  Tue, 21 Jun 2022   \n",
      "3              3                  Vistara      UK-933  Tue, 21 Jun 2022   \n",
      "4              4                  Vistara      UK-985  Tue, 21 Jun 2022   \n",
      "...          ...                      ...         ...               ...   \n",
      "2666          55  Vistara Premium Economy  UK-811/854  Wed, 29 Jun 2022   \n",
      "2667          56  Vistara Premium Economy  UK-801/866  Wed, 29 Jun 2022   \n",
      "2668          57  Vistara Premium Economy  UK-859/876  Wed, 29 Jun 2022   \n",
      "2669          58  Vistara Premium Economy  UK-829/876  Wed, 29 Jun 2022   \n",
      "2670          59  Vistara Premium Economy  UK-643/648  Wed, 29 Jun 2022   \n",
      "\n",
      "     Departure_Time Arrival_Time     Source Destination     Stops Duration  \\\n",
      "0             21:30        23:30  New Delhi      Mumbai  Non Stop   2h 00m   \n",
      "1             12:50        15:00  New Delhi      Mumbai  Non Stop   2h 10m   \n",
      "2             14:20        16:30  New Delhi      Mumbai  Non Stop   2h 10m   \n",
      "3             15:30        17:40  New Delhi      Mumbai  Non Stop   2h 10m   \n",
      "4             19:45        21:55  New Delhi      Mumbai  Non Stop   2h 10m   \n",
      "...             ...          ...        ...         ...       ...      ...   \n",
      "2666          06:15        20:15  New Delhi      Mumbai    1 Stop  14h 00m   \n",
      "2667          09:05        23:25  New Delhi      Mumbai    1 Stop  14h 20m   \n",
      "2668          10:25        23:00  New Delhi      Mumbai    1 Stop  12h 35m   \n",
      "2669          07:20        23:00  New Delhi      Mumbai    1 Stop  15h 40m   \n",
      "2670          14:10        19:00  New Delhi      Mumbai    1 Stop   4h 50m   \n",
      "\n",
      "      Price  \n",
      "0      8578  \n",
      "1      8578  \n",
      "2      8578  \n",
      "3      8578  \n",
      "4      8578  \n",
      "...     ...  \n",
      "2666  18590  \n",
      "2667  18590  \n",
      "2668  19318  \n",
      "2669  19318  \n",
      "2670  27326  \n",
      "\n",
      "[2671 rows x 11 columns]\n"
     ]
    }
   ],
   "source": [
    "import pandas as pd\n",
    "import glob\n",
    "import os\n",
    "\n",
    "# setting the path for joining multiple files\n",
    "files = os.path.join(\"C:\\\\Users\\DataLab\\FlipRobo Project\\Flight price Prrediction\\Flight_Price_dataset_*\")\n",
    "\n",
    "# list of merged files returned\n",
    "files = glob.glob(files)\n",
    "\n",
    "print(\"Flight CSV after joining all CSV files at a particular location...\");\n",
    "\n",
    "# joining files with concat and read_csv\n",
    "df = pd.concat(map(pd.read_csv, files), ignore_index=True)\n",
    "print(df)"
   ]
  },
  {
   "cell_type": "markdown",
   "id": "1a371f6c-f5c5-498f-b08c-931ab7a3bdc0",
   "metadata": {},
   "source": [
    "## saving extracted details into CSV file"
   ]
  },
  {
   "cell_type": "code",
   "execution_count": 122,
   "id": "e9c6926d-a657-4114-895f-dddfea50914f",
   "metadata": {},
   "outputs": [],
   "source": [
    "df.to_csv('Flight_dataset_Price.csv')"
   ]
  },
  {
   "cell_type": "code",
   "execution_count": 124,
   "id": "1e5e5b6a-fd67-471e-8865-f405ec9d394a",
   "metadata": {},
   "outputs": [
    {
     "data": {
      "text/plain": [
       "(2671, 11)"
      ]
     },
     "execution_count": 124,
     "metadata": {},
     "output_type": "execute_result"
    }
   ],
   "source": [
    "df.shape"
   ]
  },
  {
   "cell_type": "markdown",
   "id": "99562e9a-75d9-4772-acf0-1bed9a0730fd",
   "metadata": {},
   "source": [
    "## Summary of Webscrapping "
   ]
  },
  {
   "cell_type": "markdown",
   "id": "38d4bc3d-dbb3-41b7-90b7-dffc0e1ce827",
   "metadata": {},
   "source": [
    "- Here we have scarp the flight dataset from Yatra.com website using webdriver tool of selenium.\n",
    "- Here from 21st June 2022 to 5th July 2022 from Economy Class , Premium  Economy Class  and Business class\n",
    "- Almost 2671 records are collected for 11 No. of Features\n"
   ]
  },
  {
   "cell_type": "code",
   "execution_count": null,
   "id": "cee6e061-4b9d-4462-9fb6-df8ffec0eb1a",
   "metadata": {},
   "outputs": [],
   "source": []
  }
 ],
 "metadata": {
  "kernelspec": {
   "display_name": "Python 3",
   "language": "python",
   "name": "python3"
  },
  "language_info": {
   "codemirror_mode": {
    "name": "ipython",
    "version": 3
   },
   "file_extension": ".py",
   "mimetype": "text/x-python",
   "name": "python",
   "nbconvert_exporter": "python",
   "pygments_lexer": "ipython3",
   "version": "3.8.8"
  },
  "widgets": {
   "application/vnd.jupyter.widget-state+json": {
    "state": {},
    "version_major": 2,
    "version_minor": 0
   }
  }
 },
 "nbformat": 4,
 "nbformat_minor": 5
}
